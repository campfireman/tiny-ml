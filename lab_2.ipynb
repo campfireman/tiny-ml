{
  "cells": [
    {
      "cell_type": "markdown",
      "metadata": {
        "id": "MzHYKcWEHTGu"
      },
      "source": [
        "<table class=\"tfo-notebook-buttons\" align=\"left\">\n",
        "  <td>\n",
        "    <a target=\"_blank\" href=\"https://colab.research.google.com/github/ds-kiel/TinyML-Labs/blob/WS24-25/Lab2.ipynb\"><img src=\"https://www.tensorflow.org/images/colab_logo_32px.png\" />Run in Google Colab</a>\n",
        "  </td>\n",
        "  <td>\n",
        "    <a target=\"_blank\" href=\"https://github.com/ds-kiel/TinyML-Labs/blob/WS24-25/Lab2.ipynb\"><img src=\"https://www.tensorflow.org/images/GitHub-Mark-32px.png\" />View source on GitHub</a>\n",
        "  </td>\n",
        "  <td>\n",
        "    <a href=\"https://raw.githubusercontent.com/ds-kiel/TinyML-Labs/WS24-25/Lab2.ipynb\" download><img src=\"https://www.tensorflow.org/images/download_logo_32px.png\" />Download notebook</a>\n",
        "  </td>\n",
        "</table>"
      ]
    },
    {
      "cell_type": "markdown",
      "metadata": {
        "id": "OvrMU-DIHePo"
      },
      "source": [
        "# Quantization and On-Device Execution (Lab 2 & 3)\n",
        "\n",
        "In the first lab you looked at the first part of the pipeline from data to executing models on low-power devices. You explored how to preprocess data and train neural networks with Edge Impulse. In this lab we continue the pipeline and you will explore how to [convert](https://ai.google.dev/edge/litert/models/convert_tf) a model to a [LiteRT](https://ai.google.dev/edge/litert) model, how to [quantize](https://ai.google.dev/edge/litert/models/post_training_integer_quant) [a model](https://www.tensorflow.org/model_optimization/guide/quantization/post_training), how to use [quantization-aware training](https://www.tensorflow.org/model_optimization/guide/quantization/training) and finally how to deploy the model and use the model with a microcontroller. **Come back to these documents in case you get stuck**.\n",
        "\n",
        "You will explore the full pipeline from data to device using Tensorflow. You will train a model and convert, deploy, and execute it on a microcontroller, specifically the [Arduino Nano 33 BLE Sense](https://store.arduino.cc/products/arduino-tiny-machine-learning-kit).\n",
        "\n",
        "This file is for both labs 2 and 3. Lab 2 is about generating a model in TF and quanizizing it. Lab 3 is then about the deployment.\n",
        "\n",
        "## Environment\n",
        "\n",
        "The instructions for this lab come as a [Jupyter Notebook](https://jupyter.org/). You can run it locally in your own Python environment, but we recommend you to use [Google Colab](https://colab.research.google.com) to save your compute ressources, have an instantly working python environment, and allow for easy collaboration. If your decide to use your local computer, take a look at Python virtual environments to avoid messing with your usual Python environment.\n",
        "\n",
        "## What do you need to hand in?\n",
        "\n",
        "Please complete the tasks by (a) completing the coding tasks and (b) answer the questions (please write a few lines directly in the notebook after the **Answer:** element). Thus, this Jupyter Notebook is intended as a document that you use both for working on the lab as well as for answering the questions. Once completed with lab 2 (or lab 3) let the teacher know. Be ready to demonstrate your results and show your code & answers to the tasks."
      ]
    },
    {
      "cell_type": "markdown",
      "metadata": {
        "id": "AA7veEy6jbjE"
      },
      "source": [
        "# Lab 2: Quantization"
      ]
    },
    {
      "cell_type": "markdown",
      "metadata": {
        "id": "p2d8yFY1GUX1"
      },
      "source": [
        "## Setup"
      ]
    },
    {
      "cell_type": "code",
      "execution_count": 65,
      "metadata": {
        "id": "fOJvKcsUGWH1"
      },
      "outputs": [
        {
          "name": "stdout",
          "output_type": "stream",
          "text": [
            "zsh:1: 2.3 not found\n"
          ]
        }
      ],
      "source": [
        "# If you have not done so already, install the following dependencies (if you are in a local envoronment, you might need to install some more)\n",
        "!python -m pip install tensorflow>=2.3 matplotlib seaborn cbor2"
      ]
    },
    {
      "cell_type": "markdown",
      "metadata": {
        "id": "eTICd15rGZGx"
      },
      "source": [
        "### Imports"
      ]
    },
    {
      "cell_type": "code",
      "execution_count": 1,
      "metadata": {
        "colab": {
          "base_uri": "https://localhost:8080/"
        },
        "id": "y7yRUuJUGaq-",
        "outputId": "0c0aa9f6-a481-4355-fb8c-08786e3db057"
      },
      "outputs": [],
      "source": [
        "import numpy as np\n",
        "import pandas as pd\n",
        "import os\n",
        "import cbor2\n",
        "\n",
        "import tensorflow as tf\n",
        "from tensorflow import keras\n",
        "from keras.models import Sequential, Model\n",
        "from keras.layers import Conv1D, MaxPooling1D, Dense, Flatten, Dropout, BatchNormalization, ReLU, Add, Input, SeparableConv1D\n",
        "from keras.callbacks import EarlyStopping\n",
        "\n",
        "from sklearn.model_selection import train_test_split\n",
        "from sklearn.metrics import confusion_matrix\n",
        "#import edgeimpulse as ei\n",
        "\n",
        "import matplotlib.pyplot as plt\n",
        "import seaborn as sns\n",
        "\n",
        "#disable this if you are not using Google Colab\n",
        "#from google.colab import drive\n",
        "#drive.mount('/content/drive')"
      ]
    },
    {
      "cell_type": "markdown",
      "metadata": {
        "id": "yhIKkymAGfqu"
      },
      "source": [
        "### Helper Functions"
      ]
    },
    {
      "cell_type": "code",
      "execution_count": 2,
      "metadata": {
        "id": "WRxTHnJcGk0a"
      },
      "outputs": [],
      "source": [
        "def plot_training_history(history, model_name):\n",
        "    fig, (ax1, ax2) = plt.subplots(1, 2)\n",
        "    fig.suptitle(f'Model {model_name}')\n",
        "    fig.set_figwidth(15)\n",
        "\n",
        "    ax1.plot(range(1, len(history.history['accuracy'])+1), history.history['accuracy'])\n",
        "    ax1.plot(range(1, len(history.history['val_accuracy'])+1), history.history['val_accuracy'])\n",
        "    ax1.set_title('Model accuracy')\n",
        "    ax1.set(xlabel='epoch', ylabel='accuracy')\n",
        "    ax1.legend(['training', 'validation'], loc='best')\n",
        "\n",
        "    ax2.plot(range(1, len(history.history['loss'])+1), history.history['loss'])\n",
        "    ax2.plot(range(1, len(history.history['val_loss'])+1), history.history['val_loss'])\n",
        "    ax2.set_title('Model loss')\n",
        "    ax2.set(xlabel='epoch', ylabel='loss')\n",
        "    ax2.legend(['training', 'validation'], loc='best')\n",
        "    plt.show()"
      ]
    },
    {
      "cell_type": "markdown",
      "metadata": {
        "id": "mp9j7urCG-6E"
      },
      "source": [
        "## Edge Impulse Dataset"
      ]
    },
    {
      "cell_type": "markdown",
      "metadata": {
        "id": "jZUVTQ2TIA10"
      },
      "source": [
        "### Prepare the data\n",
        "\n",
        "---\n",
        "**Task 1:** Navigate to the *Data acquisition* page in your Edge Impulse project of lab 1 and export the data.\n",
        "\n",
        "**Task 2:** Import the data with the code below.\n",
        "\n",
        "---"
      ]
    },
    {
      "cell_type": "code",
      "execution_count": 3,
      "metadata": {
        "colab": {
          "base_uri": "https://localhost:8080/",
          "height": 326
        },
        "id": "xz7Y0_obhUJp",
        "outputId": "925f0a61-c4dc-4f6e-89fc-36c86c70e5e9"
      },
      "outputs": [
        {
          "name": "stdout",
          "output_type": "stream",
          "text": [
            "[[[ 2.55401468e+00 -3.70383000e+00  1.19147444e+01]\n",
            "  [ 2.73956537e+00 -2.82934785e+00  1.19500589e+01]\n",
            "  [ 2.82276392e+00 -1.98000479e+00  1.19105549e+01]\n",
            "  ...\n",
            "  [-1.79565127e-03  5.26784229e+00  9.22426033e+00]\n",
            "  [-3.11844766e-01  6.33864880e+00  8.92797852e+00]\n",
            "  [-4.33949053e-01  6.91026449e+00  8.32523823e+00]]\n",
            "\n",
            " [[ 2.12245989e+00  2.37804079e+00  9.91678333e+00]\n",
            "  [ 1.93990195e+00  2.22720623e+00  9.78929234e+00]\n",
            "  [ 1.77470195e+00  2.06918883e+00  9.84974575e+00]\n",
            "  ...\n",
            "  [-5.03380895e-01  8.56824970e+00  7.78594398e+00]\n",
            "  [-7.46392369e-01  9.14166069e+00  8.54789829e+00]\n",
            "  [-7.20654726e-01  9.13447762e+00  8.15046120e+00]]\n",
            "\n",
            " [[ 8.55927110e-01  8.31865406e+00  7.84759474e+00]\n",
            "  [ 5.81790984e-01  8.10556984e+00  7.37952805e+00]\n",
            "  [ 4.11204129e-01  7.85417891e+00  7.42202520e+00]\n",
            "  ...\n",
            "  [ 5.32709882e-02  1.06440220e+01  7.79372501e+00]\n",
            "  [ 5.53659141e-01  1.20512142e+01  8.17799473e+00]\n",
            "  [ 6.90128624e-01  1.25851212e+01  8.35277081e+00]]\n",
            "\n",
            " ...\n",
            "\n",
            " [[-2.53246689e+00  1.08936179e+00  7.76858616e+00]\n",
            "  [-2.53246689e+00  1.55024564e+00  8.25520706e+00]\n",
            "  [-1.32339501e+00  2.57975245e+00  9.11652184e+00]\n",
            "  ...\n",
            "  [-7.75481939e+00  1.84533095e+00  1.00736036e+01]\n",
            "  [-6.76481676e+00  1.77111065e+00  9.49300957e+00]\n",
            "  [-6.39072275e+00  1.56161809e+00  8.87889671e+00]]\n",
            "\n",
            " [[ 8.34977865e-01  2.01053095e+00  1.02352123e+01]\n",
            "  [ 1.41018486e+00  2.44926834e+00  1.03076372e+01]\n",
            "  [ 2.32776260e+00  2.62404513e+00  1.02603512e+01]\n",
            "  ...\n",
            "  [-1.61848032e+00  2.81737685e+00  1.10875483e+01]\n",
            "  [ 1.97521634e-02  3.25372005e+00  1.21290255e+01]\n",
            "  [ 1.28329206e+00  3.20104766e+00  1.27778549e+01]]\n",
            "\n",
            " [[ 9.41519833e+00  3.70083737e+00  1.25527992e+01]\n",
            "  [ 9.91438961e+00  3.48416209e+00  1.23103867e+01]\n",
            "  [ 1.00005808e+01  3.35307956e+00  1.14400940e+01]\n",
            "  ...\n",
            "  [-1.35032976e+00  1.47422969e+00  9.78809547e+00]\n",
            "  [ 1.19650233e+00  2.13921928e+00  1.03621054e+01]\n",
            "  [ 1.50954413e+00  3.27047944e+00  1.06003284e+01]]]\n"
          ]
        }
      ],
      "source": [
        "labels = ['idle', 'circle', 'left-right', 'up-down'] # Change this to your labels if needed\n",
        "num_classes = len(labels)\n",
        "\n",
        "data_path = './data/' # Change this to the path of your downloaded folder\n",
        "\n",
        "# Select the window size and stride you used in Edge Impulse\n",
        "window_size_ms = 2000\n",
        "window_stride_ms = 100\n",
        "\n",
        "\n",
        "# Function to create windows from the data\n",
        "def create_windows(df, window_size_ms, window_stride_ms, label):\n",
        "    window_size = int(window_size_ms / 10)\n",
        "    window_stride = int(window_stride_ms / 10)\n",
        "    windows = []\n",
        "    windows_labels = []\n",
        "    for i in range(0, len(df) - window_size, window_stride):\n",
        "        windows.append(df.iloc[i:i+window_size].values)\n",
        "        windows_labels.append(label)\n",
        "    return np.array(windows),windows_labels\n",
        "\n",
        "# Load the data from the files\n",
        "def load_data(data_path, folder):\n",
        "    data = np.zeros((1, int(window_size_ms / 10), 3))\n",
        "    data_labels = []\n",
        "    for file in os.listdir(data_path+folder):\n",
        "        if file.endswith('.cbor'):\n",
        "            label = file.split('.')[0].strip()\n",
        "            with open(data_path+folder+'/'+file, 'rb') as f_obj:\n",
        "                data_file = cbor2.load(f_obj)\n",
        "                df = pd.DataFrame(data_file['payload']['values'], columns=[item['name'] for item in data_file['payload']['sensors']])\n",
        "                df = df.drop(columns=['gyrX', 'gyrY', 'gyrZ', 'magX', 'magY', 'magZ'])\n",
        "\n",
        "                window_data, window_labels = create_windows(df, window_size_ms, window_stride_ms, labels.index(label))\n",
        "                data = np.concatenate((data, window_data), axis=0)\n",
        "                data_labels += window_labels\n",
        "\n",
        "    data = np.delete(data, 0, axis=0)\n",
        "    return data, data_labels\n",
        "\n",
        "\n",
        "x_train, y_train = load_data(data_path, 'training')\n",
        "x_test, y_test = load_data(data_path, 'testing')\n",
        "\n",
        "y_train = keras.utils.to_categorical(y_train, num_classes)\n",
        "y_test = keras.utils.to_categorical(y_test, num_classes)\n",
        "\n",
        "print(x_train)"
      ]
    },
    {
      "cell_type": "markdown",
      "metadata": {
        "id": "BNDgID5nhUJp"
      },
      "source": [
        "---\n",
        "**Task 3 (optional):** Perform scaling on your data if you like to. *Please note: You have to do the same scaling later in your Arduino program.*\n",
        "\n",
        "---"
      ]
    },
    {
      "cell_type": "code",
      "execution_count": 69,
      "metadata": {
        "id": "702a_0RZhUJp"
      },
      "outputs": [],
      "source": [
        "# perform your scaling here"
      ]
    },
    {
      "cell_type": "markdown",
      "metadata": {
        "id": "yt8W5N0UIHtY"
      },
      "source": [
        "### Build the model\n",
        "\n",
        "---\n",
        "**Task 4:** Add your best model from lab 1, that uses a raw data preprocessing block.\n",
        "\n",
        "---"
      ]
    },
    {
      "cell_type": "code",
      "execution_count": 65,
      "metadata": {
        "id": "eWq43Tx6HxN1"
      },
      "outputs": [],
      "source": [
        "# Build model\n",
        "\n",
        "def bottleneck_block(x, filters, dilation_rate):\n",
        "    # 1×1 “pointwise” compression\n",
        "    y = Conv1D(filters//4, kernel_size=1, activation='relu')(x)\n",
        "    # Dilated convolution\n",
        "    y = Conv1D(filters//4, kernel_size=5, dilation_rate=dilation_rate,\n",
        "               padding='same', activation='relu')(y)\n",
        "    # Restore channels\n",
        "    y = Conv1D(filters, kernel_size=1, activation='relu')(y)\n",
        "    return y\n",
        "\n",
        "def residual_block(x, filters):\n",
        "    shortcut = x\n",
        "    y = Conv1D(filters,  kernel_size=3, padding='same')(x)\n",
        "    y = BatchNormalization()(y)\n",
        "    y = ReLU()(y)\n",
        "    y = Conv1D(filters, kernel_size=3, padding='same')(y)\n",
        "    y = BatchNormalization()(y)\n",
        "    # Add skip connection\n",
        "    out = Add()([shortcut, y])\n",
        "    return ReLU()(out)\n",
        "\n",
        "def build_model(summary=True):\n",
        "    inp = Input(shape=(200,3))\n",
        "\n",
        "    # Initial separable conv\n",
        "    x = SeparableConv1D(8, 5, activation='relu', padding='same')(inp)\n",
        "    x = BatchNormalization()(x)\n",
        "    x = MaxPooling1D(2)(x)\n",
        "\n",
        "    # Bottleneck + dilated conv\n",
        "    x = bottleneck_block(x, filters=16, dilation_rate=2)\n",
        "    x = BatchNormalization()(x)\n",
        "    x = MaxPooling1D(2)(x)\n",
        "\n",
        "    # Residual refinement\n",
        "    x = residual_block(x, filters=16)\n",
        "    x = MaxPooling1D(2)(x)\n",
        "\n",
        "    # Classifier head\n",
        "    x = Flatten()(x)\n",
        "    x = Dense(16, activation='relu', \n",
        "            kernel_regularizer=tf.keras.regularizers.l2(1e-4))(x)\n",
        "    x = Dropout(0.3)(x)\n",
        "    out = Dense(num_classes, activation='softmax', name='y_pred')(x)\n",
        "\n",
        "    model = Model(inputs=inp, outputs=out)\n",
        "\n",
        "    # model = Sequential([\n",
        "    #     Conv1D(16, kernel_size=5, activation='relu', input_shape=(200,3)),\n",
        "    #     BatchNormalization(),\n",
        "    #     MaxPooling1D(pool_size=2),\n",
        "\n",
        "    #     Conv1D(32, kernel_size=5, activation='relu'),\n",
        "    #     BatchNormalization(),\n",
        "    #     MaxPooling1D(pool_size=2),\n",
        "\n",
        "    #     Flatten(),\n",
        "\n",
        "    #     Dense(32, activation='relu', kernel_regularizer=tf.keras.regularizers.l2(1e-4)),\n",
        "    #     Dropout(0.3),\n",
        "\n",
        "    #     Dense(num_classes, activation='softmax', name='y_pred')\n",
        "    # ])\n",
        "\n",
        "    # model = Sequential([\n",
        "    #     Input(shape=(200, 3)),\n",
        "    #     Dense(32, activation='relu', kernel_regularizer=tf.keras.regularizers.l2(1e-4)),\n",
        "    #     MaxPooling1D(pool_size=2),\n",
        "    #     Dense(16, activation='relu', kernel_regularizer=tf.keras.regularizers.l2(1e-4)),\n",
        "    #     Dropout(0.3),\n",
        "    #     Flatten(),\n",
        "    #     Dense(num_classes, activation='softmax', name='y_pred')\n",
        "    # ])\n",
        "\n",
        "\n",
        "    # Compile model\n",
        "    model.compile(\n",
        "        optimizer='adam',\n",
        "        loss='categorical_crossentropy',\n",
        "        metrics=['accuracy']\n",
        "    )\n",
        "\n",
        "    if summary:\n",
        "        model.summary()\n",
        "\n",
        "    return model"
      ]
    },
    {
      "cell_type": "code",
      "execution_count": 66,
      "metadata": {
        "id": "sSs127krIdEc"
      },
      "outputs": [
        {
          "data": {
            "text/html": [
              "<pre style=\"white-space:pre;overflow-x:auto;line-height:normal;font-family:Menlo,'DejaVu Sans Mono',consolas,'Courier New',monospace\"><span style=\"font-weight: bold\">Model: \"functional\"</span>\n",
              "</pre>\n"
            ],
            "text/plain": [
              "\u001b[1mModel: \"functional\"\u001b[0m\n"
            ]
          },
          "metadata": {},
          "output_type": "display_data"
        },
        {
          "data": {
            "text/html": [
              "<pre style=\"white-space:pre;overflow-x:auto;line-height:normal;font-family:Menlo,'DejaVu Sans Mono',consolas,'Courier New',monospace\">┏━━━━━━━━━━━━━━━━━━━━━┳━━━━━━━━━━━━━━━━━━━┳━━━━━━━━━━━━┳━━━━━━━━━━━━━━━━━━━┓\n",
              "┃<span style=\"font-weight: bold\"> Layer (type)        </span>┃<span style=\"font-weight: bold\"> Output Shape      </span>┃<span style=\"font-weight: bold\">    Param # </span>┃<span style=\"font-weight: bold\"> Connected to      </span>┃\n",
              "┡━━━━━━━━━━━━━━━━━━━━━╇━━━━━━━━━━━━━━━━━━━╇━━━━━━━━━━━━╇━━━━━━━━━━━━━━━━━━━┩\n",
              "│ input_layer         │ (<span style=\"color: #00d7ff; text-decoration-color: #00d7ff\">None</span>, <span style=\"color: #00af00; text-decoration-color: #00af00\">200</span>, <span style=\"color: #00af00; text-decoration-color: #00af00\">3</span>)    │          <span style=\"color: #00af00; text-decoration-color: #00af00\">0</span> │ -                 │\n",
              "│ (<span style=\"color: #0087ff; text-decoration-color: #0087ff\">InputLayer</span>)        │                   │            │                   │\n",
              "├─────────────────────┼───────────────────┼────────────┼───────────────────┤\n",
              "│ separable_conv1d    │ (<span style=\"color: #00d7ff; text-decoration-color: #00d7ff\">None</span>, <span style=\"color: #00af00; text-decoration-color: #00af00\">200</span>, <span style=\"color: #00af00; text-decoration-color: #00af00\">8</span>)    │         <span style=\"color: #00af00; text-decoration-color: #00af00\">47</span> │ input_layer[<span style=\"color: #00af00; text-decoration-color: #00af00\">0</span>][<span style=\"color: #00af00; text-decoration-color: #00af00\">0</span>] │\n",
              "│ (<span style=\"color: #0087ff; text-decoration-color: #0087ff\">SeparableConv1D</span>)   │                   │            │                   │\n",
              "├─────────────────────┼───────────────────┼────────────┼───────────────────┤\n",
              "│ batch_normalization │ (<span style=\"color: #00d7ff; text-decoration-color: #00d7ff\">None</span>, <span style=\"color: #00af00; text-decoration-color: #00af00\">200</span>, <span style=\"color: #00af00; text-decoration-color: #00af00\">8</span>)    │         <span style=\"color: #00af00; text-decoration-color: #00af00\">32</span> │ separable_conv1d… │\n",
              "│ (<span style=\"color: #0087ff; text-decoration-color: #0087ff\">BatchNormalizatio…</span> │                   │            │                   │\n",
              "├─────────────────────┼───────────────────┼────────────┼───────────────────┤\n",
              "│ max_pooling1d       │ (<span style=\"color: #00d7ff; text-decoration-color: #00d7ff\">None</span>, <span style=\"color: #00af00; text-decoration-color: #00af00\">100</span>, <span style=\"color: #00af00; text-decoration-color: #00af00\">8</span>)    │          <span style=\"color: #00af00; text-decoration-color: #00af00\">0</span> │ batch_normalizat… │\n",
              "│ (<span style=\"color: #0087ff; text-decoration-color: #0087ff\">MaxPooling1D</span>)      │                   │            │                   │\n",
              "├─────────────────────┼───────────────────┼────────────┼───────────────────┤\n",
              "│ conv1d (<span style=\"color: #0087ff; text-decoration-color: #0087ff\">Conv1D</span>)     │ (<span style=\"color: #00d7ff; text-decoration-color: #00d7ff\">None</span>, <span style=\"color: #00af00; text-decoration-color: #00af00\">100</span>, <span style=\"color: #00af00; text-decoration-color: #00af00\">4</span>)    │         <span style=\"color: #00af00; text-decoration-color: #00af00\">36</span> │ max_pooling1d[<span style=\"color: #00af00; text-decoration-color: #00af00\">0</span>]… │\n",
              "├─────────────────────┼───────────────────┼────────────┼───────────────────┤\n",
              "│ conv1d_1 (<span style=\"color: #0087ff; text-decoration-color: #0087ff\">Conv1D</span>)   │ (<span style=\"color: #00d7ff; text-decoration-color: #00d7ff\">None</span>, <span style=\"color: #00af00; text-decoration-color: #00af00\">100</span>, <span style=\"color: #00af00; text-decoration-color: #00af00\">4</span>)    │         <span style=\"color: #00af00; text-decoration-color: #00af00\">84</span> │ conv1d[<span style=\"color: #00af00; text-decoration-color: #00af00\">0</span>][<span style=\"color: #00af00; text-decoration-color: #00af00\">0</span>]      │\n",
              "├─────────────────────┼───────────────────┼────────────┼───────────────────┤\n",
              "│ conv1d_2 (<span style=\"color: #0087ff; text-decoration-color: #0087ff\">Conv1D</span>)   │ (<span style=\"color: #00d7ff; text-decoration-color: #00d7ff\">None</span>, <span style=\"color: #00af00; text-decoration-color: #00af00\">100</span>, <span style=\"color: #00af00; text-decoration-color: #00af00\">16</span>)   │         <span style=\"color: #00af00; text-decoration-color: #00af00\">80</span> │ conv1d_1[<span style=\"color: #00af00; text-decoration-color: #00af00\">0</span>][<span style=\"color: #00af00; text-decoration-color: #00af00\">0</span>]    │\n",
              "├─────────────────────┼───────────────────┼────────────┼───────────────────┤\n",
              "│ batch_normalizatio… │ (<span style=\"color: #00d7ff; text-decoration-color: #00d7ff\">None</span>, <span style=\"color: #00af00; text-decoration-color: #00af00\">100</span>, <span style=\"color: #00af00; text-decoration-color: #00af00\">16</span>)   │         <span style=\"color: #00af00; text-decoration-color: #00af00\">64</span> │ conv1d_2[<span style=\"color: #00af00; text-decoration-color: #00af00\">0</span>][<span style=\"color: #00af00; text-decoration-color: #00af00\">0</span>]    │\n",
              "│ (<span style=\"color: #0087ff; text-decoration-color: #0087ff\">BatchNormalizatio…</span> │                   │            │                   │\n",
              "├─────────────────────┼───────────────────┼────────────┼───────────────────┤\n",
              "│ max_pooling1d_1     │ (<span style=\"color: #00d7ff; text-decoration-color: #00d7ff\">None</span>, <span style=\"color: #00af00; text-decoration-color: #00af00\">50</span>, <span style=\"color: #00af00; text-decoration-color: #00af00\">16</span>)    │          <span style=\"color: #00af00; text-decoration-color: #00af00\">0</span> │ batch_normalizat… │\n",
              "│ (<span style=\"color: #0087ff; text-decoration-color: #0087ff\">MaxPooling1D</span>)      │                   │            │                   │\n",
              "├─────────────────────┼───────────────────┼────────────┼───────────────────┤\n",
              "│ conv1d_3 (<span style=\"color: #0087ff; text-decoration-color: #0087ff\">Conv1D</span>)   │ (<span style=\"color: #00d7ff; text-decoration-color: #00d7ff\">None</span>, <span style=\"color: #00af00; text-decoration-color: #00af00\">50</span>, <span style=\"color: #00af00; text-decoration-color: #00af00\">16</span>)    │        <span style=\"color: #00af00; text-decoration-color: #00af00\">784</span> │ max_pooling1d_1[<span style=\"color: #00af00; text-decoration-color: #00af00\">…</span> │\n",
              "├─────────────────────┼───────────────────┼────────────┼───────────────────┤\n",
              "│ batch_normalizatio… │ (<span style=\"color: #00d7ff; text-decoration-color: #00d7ff\">None</span>, <span style=\"color: #00af00; text-decoration-color: #00af00\">50</span>, <span style=\"color: #00af00; text-decoration-color: #00af00\">16</span>)    │         <span style=\"color: #00af00; text-decoration-color: #00af00\">64</span> │ conv1d_3[<span style=\"color: #00af00; text-decoration-color: #00af00\">0</span>][<span style=\"color: #00af00; text-decoration-color: #00af00\">0</span>]    │\n",
              "│ (<span style=\"color: #0087ff; text-decoration-color: #0087ff\">BatchNormalizatio…</span> │                   │            │                   │\n",
              "├─────────────────────┼───────────────────┼────────────┼───────────────────┤\n",
              "│ re_lu (<span style=\"color: #0087ff; text-decoration-color: #0087ff\">ReLU</span>)        │ (<span style=\"color: #00d7ff; text-decoration-color: #00d7ff\">None</span>, <span style=\"color: #00af00; text-decoration-color: #00af00\">50</span>, <span style=\"color: #00af00; text-decoration-color: #00af00\">16</span>)    │          <span style=\"color: #00af00; text-decoration-color: #00af00\">0</span> │ batch_normalizat… │\n",
              "├─────────────────────┼───────────────────┼────────────┼───────────────────┤\n",
              "│ conv1d_4 (<span style=\"color: #0087ff; text-decoration-color: #0087ff\">Conv1D</span>)   │ (<span style=\"color: #00d7ff; text-decoration-color: #00d7ff\">None</span>, <span style=\"color: #00af00; text-decoration-color: #00af00\">50</span>, <span style=\"color: #00af00; text-decoration-color: #00af00\">16</span>)    │        <span style=\"color: #00af00; text-decoration-color: #00af00\">784</span> │ re_lu[<span style=\"color: #00af00; text-decoration-color: #00af00\">0</span>][<span style=\"color: #00af00; text-decoration-color: #00af00\">0</span>]       │\n",
              "├─────────────────────┼───────────────────┼────────────┼───────────────────┤\n",
              "│ batch_normalizatio… │ (<span style=\"color: #00d7ff; text-decoration-color: #00d7ff\">None</span>, <span style=\"color: #00af00; text-decoration-color: #00af00\">50</span>, <span style=\"color: #00af00; text-decoration-color: #00af00\">16</span>)    │         <span style=\"color: #00af00; text-decoration-color: #00af00\">64</span> │ conv1d_4[<span style=\"color: #00af00; text-decoration-color: #00af00\">0</span>][<span style=\"color: #00af00; text-decoration-color: #00af00\">0</span>]    │\n",
              "│ (<span style=\"color: #0087ff; text-decoration-color: #0087ff\">BatchNormalizatio…</span> │                   │            │                   │\n",
              "├─────────────────────┼───────────────────┼────────────┼───────────────────┤\n",
              "│ add (<span style=\"color: #0087ff; text-decoration-color: #0087ff\">Add</span>)           │ (<span style=\"color: #00d7ff; text-decoration-color: #00d7ff\">None</span>, <span style=\"color: #00af00; text-decoration-color: #00af00\">50</span>, <span style=\"color: #00af00; text-decoration-color: #00af00\">16</span>)    │          <span style=\"color: #00af00; text-decoration-color: #00af00\">0</span> │ max_pooling1d_1[<span style=\"color: #00af00; text-decoration-color: #00af00\">…</span> │\n",
              "│                     │                   │            │ batch_normalizat… │\n",
              "├─────────────────────┼───────────────────┼────────────┼───────────────────┤\n",
              "│ re_lu_1 (<span style=\"color: #0087ff; text-decoration-color: #0087ff\">ReLU</span>)      │ (<span style=\"color: #00d7ff; text-decoration-color: #00d7ff\">None</span>, <span style=\"color: #00af00; text-decoration-color: #00af00\">50</span>, <span style=\"color: #00af00; text-decoration-color: #00af00\">16</span>)    │          <span style=\"color: #00af00; text-decoration-color: #00af00\">0</span> │ add[<span style=\"color: #00af00; text-decoration-color: #00af00\">0</span>][<span style=\"color: #00af00; text-decoration-color: #00af00\">0</span>]         │\n",
              "├─────────────────────┼───────────────────┼────────────┼───────────────────┤\n",
              "│ max_pooling1d_2     │ (<span style=\"color: #00d7ff; text-decoration-color: #00d7ff\">None</span>, <span style=\"color: #00af00; text-decoration-color: #00af00\">25</span>, <span style=\"color: #00af00; text-decoration-color: #00af00\">16</span>)    │          <span style=\"color: #00af00; text-decoration-color: #00af00\">0</span> │ re_lu_1[<span style=\"color: #00af00; text-decoration-color: #00af00\">0</span>][<span style=\"color: #00af00; text-decoration-color: #00af00\">0</span>]     │\n",
              "│ (<span style=\"color: #0087ff; text-decoration-color: #0087ff\">MaxPooling1D</span>)      │                   │            │                   │\n",
              "├─────────────────────┼───────────────────┼────────────┼───────────────────┤\n",
              "│ flatten (<span style=\"color: #0087ff; text-decoration-color: #0087ff\">Flatten</span>)   │ (<span style=\"color: #00d7ff; text-decoration-color: #00d7ff\">None</span>, <span style=\"color: #00af00; text-decoration-color: #00af00\">400</span>)       │          <span style=\"color: #00af00; text-decoration-color: #00af00\">0</span> │ max_pooling1d_2[<span style=\"color: #00af00; text-decoration-color: #00af00\">…</span> │\n",
              "├─────────────────────┼───────────────────┼────────────┼───────────────────┤\n",
              "│ dense (<span style=\"color: #0087ff; text-decoration-color: #0087ff\">Dense</span>)       │ (<span style=\"color: #00d7ff; text-decoration-color: #00d7ff\">None</span>, <span style=\"color: #00af00; text-decoration-color: #00af00\">16</span>)        │      <span style=\"color: #00af00; text-decoration-color: #00af00\">6,416</span> │ flatten[<span style=\"color: #00af00; text-decoration-color: #00af00\">0</span>][<span style=\"color: #00af00; text-decoration-color: #00af00\">0</span>]     │\n",
              "├─────────────────────┼───────────────────┼────────────┼───────────────────┤\n",
              "│ dropout (<span style=\"color: #0087ff; text-decoration-color: #0087ff\">Dropout</span>)   │ (<span style=\"color: #00d7ff; text-decoration-color: #00d7ff\">None</span>, <span style=\"color: #00af00; text-decoration-color: #00af00\">16</span>)        │          <span style=\"color: #00af00; text-decoration-color: #00af00\">0</span> │ dense[<span style=\"color: #00af00; text-decoration-color: #00af00\">0</span>][<span style=\"color: #00af00; text-decoration-color: #00af00\">0</span>]       │\n",
              "├─────────────────────┼───────────────────┼────────────┼───────────────────┤\n",
              "│ y_pred (<span style=\"color: #0087ff; text-decoration-color: #0087ff\">Dense</span>)      │ (<span style=\"color: #00d7ff; text-decoration-color: #00d7ff\">None</span>, <span style=\"color: #00af00; text-decoration-color: #00af00\">4</span>)         │         <span style=\"color: #00af00; text-decoration-color: #00af00\">68</span> │ dropout[<span style=\"color: #00af00; text-decoration-color: #00af00\">0</span>][<span style=\"color: #00af00; text-decoration-color: #00af00\">0</span>]     │\n",
              "└─────────────────────┴───────────────────┴────────────┴───────────────────┘\n",
              "</pre>\n"
            ],
            "text/plain": [
              "┏━━━━━━━━━━━━━━━━━━━━━┳━━━━━━━━━━━━━━━━━━━┳━━━━━━━━━━━━┳━━━━━━━━━━━━━━━━━━━┓\n",
              "┃\u001b[1m \u001b[0m\u001b[1mLayer (type)       \u001b[0m\u001b[1m \u001b[0m┃\u001b[1m \u001b[0m\u001b[1mOutput Shape     \u001b[0m\u001b[1m \u001b[0m┃\u001b[1m \u001b[0m\u001b[1m   Param #\u001b[0m\u001b[1m \u001b[0m┃\u001b[1m \u001b[0m\u001b[1mConnected to     \u001b[0m\u001b[1m \u001b[0m┃\n",
              "┡━━━━━━━━━━━━━━━━━━━━━╇━━━━━━━━━━━━━━━━━━━╇━━━━━━━━━━━━╇━━━━━━━━━━━━━━━━━━━┩\n",
              "│ input_layer         │ (\u001b[38;5;45mNone\u001b[0m, \u001b[38;5;34m200\u001b[0m, \u001b[38;5;34m3\u001b[0m)    │          \u001b[38;5;34m0\u001b[0m │ -                 │\n",
              "│ (\u001b[38;5;33mInputLayer\u001b[0m)        │                   │            │                   │\n",
              "├─────────────────────┼───────────────────┼────────────┼───────────────────┤\n",
              "│ separable_conv1d    │ (\u001b[38;5;45mNone\u001b[0m, \u001b[38;5;34m200\u001b[0m, \u001b[38;5;34m8\u001b[0m)    │         \u001b[38;5;34m47\u001b[0m │ input_layer[\u001b[38;5;34m0\u001b[0m][\u001b[38;5;34m0\u001b[0m] │\n",
              "│ (\u001b[38;5;33mSeparableConv1D\u001b[0m)   │                   │            │                   │\n",
              "├─────────────────────┼───────────────────┼────────────┼───────────────────┤\n",
              "│ batch_normalization │ (\u001b[38;5;45mNone\u001b[0m, \u001b[38;5;34m200\u001b[0m, \u001b[38;5;34m8\u001b[0m)    │         \u001b[38;5;34m32\u001b[0m │ separable_conv1d… │\n",
              "│ (\u001b[38;5;33mBatchNormalizatio…\u001b[0m │                   │            │                   │\n",
              "├─────────────────────┼───────────────────┼────────────┼───────────────────┤\n",
              "│ max_pooling1d       │ (\u001b[38;5;45mNone\u001b[0m, \u001b[38;5;34m100\u001b[0m, \u001b[38;5;34m8\u001b[0m)    │          \u001b[38;5;34m0\u001b[0m │ batch_normalizat… │\n",
              "│ (\u001b[38;5;33mMaxPooling1D\u001b[0m)      │                   │            │                   │\n",
              "├─────────────────────┼───────────────────┼────────────┼───────────────────┤\n",
              "│ conv1d (\u001b[38;5;33mConv1D\u001b[0m)     │ (\u001b[38;5;45mNone\u001b[0m, \u001b[38;5;34m100\u001b[0m, \u001b[38;5;34m4\u001b[0m)    │         \u001b[38;5;34m36\u001b[0m │ max_pooling1d[\u001b[38;5;34m0\u001b[0m]… │\n",
              "├─────────────────────┼───────────────────┼────────────┼───────────────────┤\n",
              "│ conv1d_1 (\u001b[38;5;33mConv1D\u001b[0m)   │ (\u001b[38;5;45mNone\u001b[0m, \u001b[38;5;34m100\u001b[0m, \u001b[38;5;34m4\u001b[0m)    │         \u001b[38;5;34m84\u001b[0m │ conv1d[\u001b[38;5;34m0\u001b[0m][\u001b[38;5;34m0\u001b[0m]      │\n",
              "├─────────────────────┼───────────────────┼────────────┼───────────────────┤\n",
              "│ conv1d_2 (\u001b[38;5;33mConv1D\u001b[0m)   │ (\u001b[38;5;45mNone\u001b[0m, \u001b[38;5;34m100\u001b[0m, \u001b[38;5;34m16\u001b[0m)   │         \u001b[38;5;34m80\u001b[0m │ conv1d_1[\u001b[38;5;34m0\u001b[0m][\u001b[38;5;34m0\u001b[0m]    │\n",
              "├─────────────────────┼───────────────────┼────────────┼───────────────────┤\n",
              "│ batch_normalizatio… │ (\u001b[38;5;45mNone\u001b[0m, \u001b[38;5;34m100\u001b[0m, \u001b[38;5;34m16\u001b[0m)   │         \u001b[38;5;34m64\u001b[0m │ conv1d_2[\u001b[38;5;34m0\u001b[0m][\u001b[38;5;34m0\u001b[0m]    │\n",
              "│ (\u001b[38;5;33mBatchNormalizatio…\u001b[0m │                   │            │                   │\n",
              "├─────────────────────┼───────────────────┼────────────┼───────────────────┤\n",
              "│ max_pooling1d_1     │ (\u001b[38;5;45mNone\u001b[0m, \u001b[38;5;34m50\u001b[0m, \u001b[38;5;34m16\u001b[0m)    │          \u001b[38;5;34m0\u001b[0m │ batch_normalizat… │\n",
              "│ (\u001b[38;5;33mMaxPooling1D\u001b[0m)      │                   │            │                   │\n",
              "├─────────────────────┼───────────────────┼────────────┼───────────────────┤\n",
              "│ conv1d_3 (\u001b[38;5;33mConv1D\u001b[0m)   │ (\u001b[38;5;45mNone\u001b[0m, \u001b[38;5;34m50\u001b[0m, \u001b[38;5;34m16\u001b[0m)    │        \u001b[38;5;34m784\u001b[0m │ max_pooling1d_1[\u001b[38;5;34m…\u001b[0m │\n",
              "├─────────────────────┼───────────────────┼────────────┼───────────────────┤\n",
              "│ batch_normalizatio… │ (\u001b[38;5;45mNone\u001b[0m, \u001b[38;5;34m50\u001b[0m, \u001b[38;5;34m16\u001b[0m)    │         \u001b[38;5;34m64\u001b[0m │ conv1d_3[\u001b[38;5;34m0\u001b[0m][\u001b[38;5;34m0\u001b[0m]    │\n",
              "│ (\u001b[38;5;33mBatchNormalizatio…\u001b[0m │                   │            │                   │\n",
              "├─────────────────────┼───────────────────┼────────────┼───────────────────┤\n",
              "│ re_lu (\u001b[38;5;33mReLU\u001b[0m)        │ (\u001b[38;5;45mNone\u001b[0m, \u001b[38;5;34m50\u001b[0m, \u001b[38;5;34m16\u001b[0m)    │          \u001b[38;5;34m0\u001b[0m │ batch_normalizat… │\n",
              "├─────────────────────┼───────────────────┼────────────┼───────────────────┤\n",
              "│ conv1d_4 (\u001b[38;5;33mConv1D\u001b[0m)   │ (\u001b[38;5;45mNone\u001b[0m, \u001b[38;5;34m50\u001b[0m, \u001b[38;5;34m16\u001b[0m)    │        \u001b[38;5;34m784\u001b[0m │ re_lu[\u001b[38;5;34m0\u001b[0m][\u001b[38;5;34m0\u001b[0m]       │\n",
              "├─────────────────────┼───────────────────┼────────────┼───────────────────┤\n",
              "│ batch_normalizatio… │ (\u001b[38;5;45mNone\u001b[0m, \u001b[38;5;34m50\u001b[0m, \u001b[38;5;34m16\u001b[0m)    │         \u001b[38;5;34m64\u001b[0m │ conv1d_4[\u001b[38;5;34m0\u001b[0m][\u001b[38;5;34m0\u001b[0m]    │\n",
              "│ (\u001b[38;5;33mBatchNormalizatio…\u001b[0m │                   │            │                   │\n",
              "├─────────────────────┼───────────────────┼────────────┼───────────────────┤\n",
              "│ add (\u001b[38;5;33mAdd\u001b[0m)           │ (\u001b[38;5;45mNone\u001b[0m, \u001b[38;5;34m50\u001b[0m, \u001b[38;5;34m16\u001b[0m)    │          \u001b[38;5;34m0\u001b[0m │ max_pooling1d_1[\u001b[38;5;34m…\u001b[0m │\n",
              "│                     │                   │            │ batch_normalizat… │\n",
              "├─────────────────────┼───────────────────┼────────────┼───────────────────┤\n",
              "│ re_lu_1 (\u001b[38;5;33mReLU\u001b[0m)      │ (\u001b[38;5;45mNone\u001b[0m, \u001b[38;5;34m50\u001b[0m, \u001b[38;5;34m16\u001b[0m)    │          \u001b[38;5;34m0\u001b[0m │ add[\u001b[38;5;34m0\u001b[0m][\u001b[38;5;34m0\u001b[0m]         │\n",
              "├─────────────────────┼───────────────────┼────────────┼───────────────────┤\n",
              "│ max_pooling1d_2     │ (\u001b[38;5;45mNone\u001b[0m, \u001b[38;5;34m25\u001b[0m, \u001b[38;5;34m16\u001b[0m)    │          \u001b[38;5;34m0\u001b[0m │ re_lu_1[\u001b[38;5;34m0\u001b[0m][\u001b[38;5;34m0\u001b[0m]     │\n",
              "│ (\u001b[38;5;33mMaxPooling1D\u001b[0m)      │                   │            │                   │\n",
              "├─────────────────────┼───────────────────┼────────────┼───────────────────┤\n",
              "│ flatten (\u001b[38;5;33mFlatten\u001b[0m)   │ (\u001b[38;5;45mNone\u001b[0m, \u001b[38;5;34m400\u001b[0m)       │          \u001b[38;5;34m0\u001b[0m │ max_pooling1d_2[\u001b[38;5;34m…\u001b[0m │\n",
              "├─────────────────────┼───────────────────┼────────────┼───────────────────┤\n",
              "│ dense (\u001b[38;5;33mDense\u001b[0m)       │ (\u001b[38;5;45mNone\u001b[0m, \u001b[38;5;34m16\u001b[0m)        │      \u001b[38;5;34m6,416\u001b[0m │ flatten[\u001b[38;5;34m0\u001b[0m][\u001b[38;5;34m0\u001b[0m]     │\n",
              "├─────────────────────┼───────────────────┼────────────┼───────────────────┤\n",
              "│ dropout (\u001b[38;5;33mDropout\u001b[0m)   │ (\u001b[38;5;45mNone\u001b[0m, \u001b[38;5;34m16\u001b[0m)        │          \u001b[38;5;34m0\u001b[0m │ dense[\u001b[38;5;34m0\u001b[0m][\u001b[38;5;34m0\u001b[0m]       │\n",
              "├─────────────────────┼───────────────────┼────────────┼───────────────────┤\n",
              "│ y_pred (\u001b[38;5;33mDense\u001b[0m)      │ (\u001b[38;5;45mNone\u001b[0m, \u001b[38;5;34m4\u001b[0m)         │         \u001b[38;5;34m68\u001b[0m │ dropout[\u001b[38;5;34m0\u001b[0m][\u001b[38;5;34m0\u001b[0m]     │\n",
              "└─────────────────────┴───────────────────┴────────────┴───────────────────┘\n"
            ]
          },
          "metadata": {},
          "output_type": "display_data"
        },
        {
          "data": {
            "text/html": [
              "<pre style=\"white-space:pre;overflow-x:auto;line-height:normal;font-family:Menlo,'DejaVu Sans Mono',consolas,'Courier New',monospace\"><span style=\"font-weight: bold\"> Total params: </span><span style=\"color: #00af00; text-decoration-color: #00af00\">8,523</span> (33.29 KB)\n",
              "</pre>\n"
            ],
            "text/plain": [
              "\u001b[1m Total params: \u001b[0m\u001b[38;5;34m8,523\u001b[0m (33.29 KB)\n"
            ]
          },
          "metadata": {},
          "output_type": "display_data"
        },
        {
          "data": {
            "text/html": [
              "<pre style=\"white-space:pre;overflow-x:auto;line-height:normal;font-family:Menlo,'DejaVu Sans Mono',consolas,'Courier New',monospace\"><span style=\"font-weight: bold\"> Trainable params: </span><span style=\"color: #00af00; text-decoration-color: #00af00\">8,411</span> (32.86 KB)\n",
              "</pre>\n"
            ],
            "text/plain": [
              "\u001b[1m Trainable params: \u001b[0m\u001b[38;5;34m8,411\u001b[0m (32.86 KB)\n"
            ]
          },
          "metadata": {},
          "output_type": "display_data"
        },
        {
          "data": {
            "text/html": [
              "<pre style=\"white-space:pre;overflow-x:auto;line-height:normal;font-family:Menlo,'DejaVu Sans Mono',consolas,'Courier New',monospace\"><span style=\"font-weight: bold\"> Non-trainable params: </span><span style=\"color: #00af00; text-decoration-color: #00af00\">112</span> (448.00 B)\n",
              "</pre>\n"
            ],
            "text/plain": [
              "\u001b[1m Non-trainable params: \u001b[0m\u001b[38;5;34m112\u001b[0m (448.00 B)\n"
            ]
          },
          "metadata": {},
          "output_type": "display_data"
        }
      ],
      "source": [
        "model = build_model()"
      ]
    },
    {
      "cell_type": "markdown",
      "metadata": {
        "id": "t1n_O2a6I0ee"
      },
      "source": [
        "### Train the model\n",
        "\n",
        "So far, you manually explored how many epochs are necessary to successfully train the model. However, Tensorflow gives you an option to automate this called [early stopping](https://keras.io/api/callbacks/early_stopping/). See also [here](https://machinelearningmastery.com/how-to-stop-training-deep-neural-networks-at-the-right-time-using-early-stopping/) and [here](https://towardsdatascience.com/a-practical-introduction-to-early-stopping-in-machine-learning-550ac88bc8fd).\n",
        "\n",
        "---\n",
        "**Task 7:** Use an early stopping callback in your fitting function to find the optimal number of epochs. Use reasonable configurations. How many epochs does it train for?\n",
        "\n",
        "**Answer:**\n",
        "\n",
        "\n",
        "- monitor=\"val_loss\" -> \"val_loss is the value of cost function for your cross-validation data and loss is the value of cost function for your training data\" [source](https://datascience.stackexchange.com/a/25269)\n",
        "- patience=10 -> jiggles some times up and down, want to continue after that to use the given training epochs more\n",
        "- min_delta=0.01 -> force some minimum improvment\n",
        "- mode='min' -> val_loss needs to be minimized\n",
        "- restore_best_weights=True -> want to restore the weights that gave the best val_loss\n",
        "\n",
        "\n",
        "\n",
        "---"
      ]
    },
    {
      "cell_type": "code",
      "execution_count": 67,
      "metadata": {
        "id": "aCrSiGBcI2ot"
      },
      "outputs": [
        {
          "name": "stdout",
          "output_type": "stream",
          "text": [
            "Epoch 1/50\n",
            "\u001b[1m37/37\u001b[0m \u001b[32m━━━━━━━━━━━━━━━━━━━━\u001b[0m\u001b[37m\u001b[0m \u001b[1m5s\u001b[0m 48ms/step - accuracy: 0.3561 - loss: 2.0002 - val_accuracy: 0.4565 - val_loss: 1.3079\n",
            "Epoch 2/50\n",
            "\u001b[1m37/37\u001b[0m \u001b[32m━━━━━━━━━━━━━━━━━━━━\u001b[0m\u001b[37m\u001b[0m \u001b[1m1s\u001b[0m 31ms/step - accuracy: 0.4963 - loss: 1.6456 - val_accuracy: 0.5609 - val_loss: 1.1768\n",
            "Epoch 3/50\n",
            "\u001b[1m37/37\u001b[0m \u001b[32m━━━━━━━━━━━━━━━━━━━━\u001b[0m\u001b[37m\u001b[0m \u001b[1m1s\u001b[0m 30ms/step - accuracy: 0.5157 - loss: 1.3811 - val_accuracy: 0.5745 - val_loss: 1.1786\n",
            "Epoch 4/50\n",
            "\u001b[1m37/37\u001b[0m \u001b[32m━━━━━━━━━━━━━━━━━━━━\u001b[0m\u001b[37m\u001b[0m \u001b[1m1s\u001b[0m 30ms/step - accuracy: 0.5819 - loss: 1.1579 - val_accuracy: 0.5783 - val_loss: 1.1439\n",
            "Epoch 5/50\n",
            "\u001b[1m37/37\u001b[0m \u001b[32m━━━━━━━━━━━━━━━━━━━━\u001b[0m\u001b[37m\u001b[0m \u001b[1m1s\u001b[0m 30ms/step - accuracy: 0.6408 - loss: 0.9886 - val_accuracy: 0.3849 - val_loss: 1.1538\n",
            "Epoch 6/50\n",
            "\u001b[1m37/37\u001b[0m \u001b[32m━━━━━━━━━━━━━━━━━━━━\u001b[0m\u001b[37m\u001b[0m \u001b[1m1s\u001b[0m 31ms/step - accuracy: 0.7219 - loss: 0.7670 - val_accuracy: 0.5861 - val_loss: 1.0199\n",
            "Epoch 7/50\n",
            "\u001b[1m37/37\u001b[0m \u001b[32m━━━━━━━━━━━━━━━━━━━━\u001b[0m\u001b[37m\u001b[0m \u001b[1m1s\u001b[0m 30ms/step - accuracy: 0.7952 - loss: 0.6066 - val_accuracy: 0.5242 - val_loss: 1.0617\n",
            "Epoch 8/50\n",
            "\u001b[1m37/37\u001b[0m \u001b[32m━━━━━━━━━━━━━━━━━━━━\u001b[0m\u001b[37m\u001b[0m \u001b[1m1s\u001b[0m 30ms/step - accuracy: 0.8409 - loss: 0.4599 - val_accuracy: 0.5280 - val_loss: 0.9182\n",
            "Epoch 9/50\n",
            "\u001b[1m37/37\u001b[0m \u001b[32m━━━━━━━━━━━━━━━━━━━━\u001b[0m\u001b[37m\u001b[0m \u001b[1m1s\u001b[0m 30ms/step - accuracy: 0.8876 - loss: 0.3440 - val_accuracy: 0.6209 - val_loss: 0.9892\n",
            "Epoch 10/50\n",
            "\u001b[1m37/37\u001b[0m \u001b[32m━━━━━━━━━━━━━━━━━━━━\u001b[0m\u001b[37m\u001b[0m \u001b[1m1s\u001b[0m 30ms/step - accuracy: 0.9211 - loss: 0.2525 - val_accuracy: 0.5899 - val_loss: 0.9047\n",
            "Epoch 11/50\n",
            "\u001b[1m37/37\u001b[0m \u001b[32m━━━━━━━━━━━━━━━━━━━━\u001b[0m\u001b[37m\u001b[0m \u001b[1m1s\u001b[0m 30ms/step - accuracy: 0.9446 - loss: 0.1967 - val_accuracy: 0.6190 - val_loss: 0.8157\n",
            "Epoch 12/50\n",
            "\u001b[1m37/37\u001b[0m \u001b[32m━━━━━━━━━━━━━━━━━━━━\u001b[0m\u001b[37m\u001b[0m \u001b[1m1s\u001b[0m 30ms/step - accuracy: 0.9555 - loss: 0.1402 - val_accuracy: 0.6190 - val_loss: 0.9402\n",
            "Epoch 13/50\n",
            "\u001b[1m37/37\u001b[0m \u001b[32m━━━━━━━━━━━━━━━━━━━━\u001b[0m\u001b[37m\u001b[0m \u001b[1m1s\u001b[0m 30ms/step - accuracy: 0.9638 - loss: 0.1143 - val_accuracy: 0.6054 - val_loss: 1.1735\n",
            "Epoch 14/50\n",
            "\u001b[1m37/37\u001b[0m \u001b[32m━━━━━━━━━━━━━━━━━━━━\u001b[0m\u001b[37m\u001b[0m \u001b[1m1s\u001b[0m 32ms/step - accuracy: 0.9588 - loss: 0.1163 - val_accuracy: 1.0000 - val_loss: 0.0684\n",
            "Epoch 15/50\n",
            "\u001b[1m37/37\u001b[0m \u001b[32m━━━━━━━━━━━━━━━━━━━━\u001b[0m\u001b[37m\u001b[0m \u001b[1m1s\u001b[0m 30ms/step - accuracy: 0.9766 - loss: 0.0829 - val_accuracy: 0.9420 - val_loss: 0.1241\n",
            "Epoch 16/50\n",
            "\u001b[1m37/37\u001b[0m \u001b[32m━━━━━━━━━━━━━━━━━━━━\u001b[0m\u001b[37m\u001b[0m \u001b[1m1s\u001b[0m 30ms/step - accuracy: 0.9798 - loss: 0.0645 - val_accuracy: 0.9981 - val_loss: 0.0348\n",
            "Epoch 17/50\n",
            "\u001b[1m37/37\u001b[0m \u001b[32m━━━━━━━━━━━━━━━━━━━━\u001b[0m\u001b[37m\u001b[0m \u001b[1m1s\u001b[0m 30ms/step - accuracy: 0.9839 - loss: 0.0640 - val_accuracy: 0.9729 - val_loss: 0.0650\n",
            "Epoch 18/50\n",
            "\u001b[1m37/37\u001b[0m \u001b[32m━━━━━━━━━━━━━━━━━━━━\u001b[0m\u001b[37m\u001b[0m \u001b[1m1s\u001b[0m 30ms/step - accuracy: 0.9883 - loss: 0.0505 - val_accuracy: 0.9304 - val_loss: 0.1367\n",
            "Epoch 19/50\n",
            "\u001b[1m37/37\u001b[0m \u001b[32m━━━━━━━━━━━━━━━━━━━━\u001b[0m\u001b[37m\u001b[0m \u001b[1m1s\u001b[0m 30ms/step - accuracy: 0.9863 - loss: 0.0418 - val_accuracy: 0.9497 - val_loss: 0.0930\n",
            "Epoch 20/50\n",
            "\u001b[1m37/37\u001b[0m \u001b[32m━━━━━━━━━━━━━━━━━━━━\u001b[0m\u001b[37m\u001b[0m \u001b[1m1s\u001b[0m 30ms/step - accuracy: 0.9831 - loss: 0.0615 - val_accuracy: 0.7737 - val_loss: 0.2124\n",
            "Epoch 21/50\n",
            "\u001b[1m37/37\u001b[0m \u001b[32m━━━━━━━━━━━━━━━━━━━━\u001b[0m\u001b[37m\u001b[0m \u001b[1m1s\u001b[0m 31ms/step - accuracy: 0.9760 - loss: 0.0794 - val_accuracy: 0.9768 - val_loss: 0.0479\n",
            "Epoch 22/50\n",
            "\u001b[1m37/37\u001b[0m \u001b[32m━━━━━━━━━━━━━━━━━━━━\u001b[0m\u001b[37m\u001b[0m \u001b[1m1s\u001b[0m 30ms/step - accuracy: 0.9777 - loss: 0.0673 - val_accuracy: 0.9923 - val_loss: 0.0574\n",
            "Epoch 23/50\n",
            "\u001b[1m37/37\u001b[0m \u001b[32m━━━━━━━━━━━━━━━━━━━━\u001b[0m\u001b[37m\u001b[0m \u001b[1m1s\u001b[0m 31ms/step - accuracy: 0.9829 - loss: 0.0532 - val_accuracy: 1.0000 - val_loss: 0.0192\n",
            "Epoch 24/50\n",
            "\u001b[1m37/37\u001b[0m \u001b[32m━━━━━━━━━━━━━━━━━━━━\u001b[0m\u001b[37m\u001b[0m \u001b[1m1s\u001b[0m 30ms/step - accuracy: 0.9876 - loss: 0.0423 - val_accuracy: 0.9903 - val_loss: 0.0369\n",
            "Epoch 25/50\n",
            "\u001b[1m37/37\u001b[0m \u001b[32m━━━━━━━━━━━━━━━━━━━━\u001b[0m\u001b[37m\u001b[0m \u001b[1m1s\u001b[0m 30ms/step - accuracy: 0.9900 - loss: 0.0365 - val_accuracy: 0.9961 - val_loss: 0.0319\n",
            "Epoch 26/50\n",
            "\u001b[1m37/37\u001b[0m \u001b[32m━━━━━━━━━━━━━━━━━━━━\u001b[0m\u001b[37m\u001b[0m \u001b[1m1s\u001b[0m 30ms/step - accuracy: 0.9918 - loss: 0.0351 - val_accuracy: 0.9865 - val_loss: 0.0371\n",
            "Epoch 27/50\n",
            "\u001b[1m37/37\u001b[0m \u001b[32m━━━━━━━━━━━━━━━━━━━━\u001b[0m\u001b[37m\u001b[0m \u001b[1m1s\u001b[0m 30ms/step - accuracy: 0.9931 - loss: 0.0276 - val_accuracy: 1.0000 - val_loss: 0.0090\n",
            "Epoch 28/50\n",
            "\u001b[1m37/37\u001b[0m \u001b[32m━━━━━━━━━━━━━━━━━━━━\u001b[0m\u001b[37m\u001b[0m \u001b[1m1s\u001b[0m 31ms/step - accuracy: 0.9880 - loss: 0.0375 - val_accuracy: 0.9942 - val_loss: 0.0343\n",
            "Epoch 29/50\n",
            "\u001b[1m37/37\u001b[0m \u001b[32m━━━━━━━━━━━━━━━━━━━━\u001b[0m\u001b[37m\u001b[0m \u001b[1m1s\u001b[0m 30ms/step - accuracy: 0.9948 - loss: 0.0254 - val_accuracy: 0.9981 - val_loss: 0.0138\n",
            "Epoch 30/50\n",
            "\u001b[1m37/37\u001b[0m \u001b[32m━━━━━━━━━━━━━━━━━━━━\u001b[0m\u001b[37m\u001b[0m \u001b[1m1s\u001b[0m 30ms/step - accuracy: 0.9916 - loss: 0.0275 - val_accuracy: 0.9574 - val_loss: 0.0722\n",
            "Epoch 31/50\n",
            "\u001b[1m37/37\u001b[0m \u001b[32m━━━━━━━━━━━━━━━━━━━━\u001b[0m\u001b[37m\u001b[0m \u001b[1m1s\u001b[0m 30ms/step - accuracy: 0.9944 - loss: 0.0237 - val_accuracy: 0.9981 - val_loss: 0.0187\n",
            "Epoch 32/50\n",
            "\u001b[1m37/37\u001b[0m \u001b[32m━━━━━━━━━━━━━━━━━━━━\u001b[0m\u001b[37m\u001b[0m \u001b[1m1s\u001b[0m 30ms/step - accuracy: 0.9891 - loss: 0.0353 - val_accuracy: 0.9942 - val_loss: 0.0377\n",
            "Epoch 33/50\n",
            "\u001b[1m37/37\u001b[0m \u001b[32m━━━━━━━━━━━━━━━━━━━━\u001b[0m\u001b[37m\u001b[0m \u001b[1m1s\u001b[0m 30ms/step - accuracy: 0.9926 - loss: 0.0316 - val_accuracy: 0.9884 - val_loss: 0.0380\n",
            "Epoch 34/50\n",
            "\u001b[1m37/37\u001b[0m \u001b[32m━━━━━━━━━━━━━━━━━━━━\u001b[0m\u001b[37m\u001b[0m \u001b[1m1s\u001b[0m 31ms/step - accuracy: 0.9948 - loss: 0.0218 - val_accuracy: 0.9923 - val_loss: 0.0286\n",
            "Epoch 35/50\n",
            "\u001b[1m37/37\u001b[0m \u001b[32m━━━━━━━━━━━━━━━━━━━━\u001b[0m\u001b[37m\u001b[0m \u001b[1m1s\u001b[0m 30ms/step - accuracy: 0.9954 - loss: 0.0212 - val_accuracy: 0.9207 - val_loss: 0.1880\n",
            "Epoch 36/50\n",
            "\u001b[1m37/37\u001b[0m \u001b[32m━━━━━━━━━━━━━━━━━━━━\u001b[0m\u001b[37m\u001b[0m \u001b[1m1s\u001b[0m 30ms/step - accuracy: 0.9968 - loss: 0.0169 - val_accuracy: 1.0000 - val_loss: 0.0071\n",
            "Epoch 37/50\n",
            "\u001b[1m37/37\u001b[0m \u001b[32m━━━━━━━━━━━━━━━━━━━━\u001b[0m\u001b[37m\u001b[0m \u001b[1m1s\u001b[0m 30ms/step - accuracy: 0.9955 - loss: 0.0209 - val_accuracy: 0.9981 - val_loss: 0.0152\n",
            "Epoch 38/50\n",
            "\u001b[1m37/37\u001b[0m \u001b[32m━━━━━━━━━━━━━━━━━━━━\u001b[0m\u001b[37m\u001b[0m \u001b[1m1s\u001b[0m 30ms/step - accuracy: 0.9978 - loss: 0.0150 - val_accuracy: 1.0000 - val_loss: 0.0067\n",
            "Epoch 39/50\n",
            "\u001b[1m37/37\u001b[0m \u001b[32m━━━━━━━━━━━━━━━━━━━━\u001b[0m\u001b[37m\u001b[0m \u001b[1m1s\u001b[0m 30ms/step - accuracy: 0.9960 - loss: 0.0156 - val_accuracy: 0.9981 - val_loss: 0.0126\n",
            "Epoch 40/50\n",
            "\u001b[1m37/37\u001b[0m \u001b[32m━━━━━━━━━━━━━━━━━━━━\u001b[0m\u001b[37m\u001b[0m \u001b[1m1s\u001b[0m 31ms/step - accuracy: 0.9968 - loss: 0.0154 - val_accuracy: 0.9923 - val_loss: 0.0334\n",
            "Epoch 41/50\n",
            "\u001b[1m37/37\u001b[0m \u001b[32m━━━━━━━━━━━━━━━━━━━━\u001b[0m\u001b[37m\u001b[0m \u001b[1m1s\u001b[0m 30ms/step - accuracy: 0.9951 - loss: 0.0186 - val_accuracy: 0.9884 - val_loss: 0.0351\n",
            "Epoch 42/50\n",
            "\u001b[1m37/37\u001b[0m \u001b[32m━━━━━━━━━━━━━━━━━━━━\u001b[0m\u001b[37m\u001b[0m \u001b[1m1s\u001b[0m 30ms/step - accuracy: 0.9941 - loss: 0.0265 - val_accuracy: 1.0000 - val_loss: 0.0066\n",
            "Epoch 43/50\n",
            "\u001b[1m37/37\u001b[0m \u001b[32m━━━━━━━━━━━━━━━━━━━━\u001b[0m\u001b[37m\u001b[0m \u001b[1m1s\u001b[0m 30ms/step - accuracy: 0.9930 - loss: 0.0242 - val_accuracy: 1.0000 - val_loss: 0.0060\n",
            "Epoch 44/50\n",
            "\u001b[1m37/37\u001b[0m \u001b[32m━━━━━━━━━━━━━━━━━━━━\u001b[0m\u001b[37m\u001b[0m \u001b[1m1s\u001b[0m 30ms/step - accuracy: 0.9971 - loss: 0.0137 - val_accuracy: 0.8956 - val_loss: 0.2173\n",
            "Epoch 45/50\n",
            "\u001b[1m37/37\u001b[0m \u001b[32m━━━━━━━━━━━━━━━━━━━━\u001b[0m\u001b[37m\u001b[0m \u001b[1m1s\u001b[0m 30ms/step - accuracy: 0.9411 - loss: 0.2271 - val_accuracy: 0.9265 - val_loss: 0.2180\n",
            "Epoch 46/50\n",
            "\u001b[1m37/37\u001b[0m \u001b[32m━━━━━━━━━━━━━━━━━━━━\u001b[0m\u001b[37m\u001b[0m \u001b[1m1s\u001b[0m 31ms/step - accuracy: 0.9933 - loss: 0.0304 - val_accuracy: 0.9729 - val_loss: 0.0633\n",
            "Epoch 47/50\n",
            "\u001b[1m37/37\u001b[0m \u001b[32m━━━━━━━━━━━━━━━━━━━━\u001b[0m\u001b[37m\u001b[0m \u001b[1m1s\u001b[0m 30ms/step - accuracy: 0.9960 - loss: 0.0236 - val_accuracy: 0.9961 - val_loss: 0.0160\n",
            "Epoch 48/50\n",
            "\u001b[1m37/37\u001b[0m \u001b[32m━━━━━━━━━━━━━━━━━━━━\u001b[0m\u001b[37m\u001b[0m \u001b[1m1s\u001b[0m 30ms/step - accuracy: 0.9973 - loss: 0.0141 - val_accuracy: 1.0000 - val_loss: 0.0114\n",
            "Epoch 49/50\n",
            "\u001b[1m37/37\u001b[0m \u001b[32m━━━━━━━━━━━━━━━━━━━━\u001b[0m\u001b[37m\u001b[0m \u001b[1m1s\u001b[0m 30ms/step - accuracy: 0.9973 - loss: 0.0165 - val_accuracy: 0.9981 - val_loss: 0.0211\n",
            "Epoch 50/50\n",
            "\u001b[1m37/37\u001b[0m \u001b[32m━━━━━━━━━━━━━━━━━━━━\u001b[0m\u001b[37m\u001b[0m \u001b[1m1s\u001b[0m 30ms/step - accuracy: 0.9970 - loss: 0.0165 - val_accuracy: 1.0000 - val_loss: 0.0157\n"
          ]
        },
        {
          "data": {
            "image/png": "[encoded data removed]",
            "text/plain": [
              "<Figure size 1500x480 with 2 Axes>"
            ]
          },
          "metadata": {},
          "output_type": "display_data"
        }
      ],
      "source": [
        "\n",
        "early_stopping_cb = EarlyStopping(\n",
        "    monitor=\"val_loss\",\n",
        "    patience=10,\n",
        "    # min_delta=0.01,\n",
        "    mode='min',\n",
        "    restore_best_weights=True\n",
        ")\n",
        "callbacks=[early_stopping_cb, ]\n",
        "# callbacks=[]\n",
        "\n",
        "num_epochs = 50\n",
        "history = model.fit(x_train, y_train, batch_size=128, epochs=num_epochs, validation_split=0.1, callbacks=callbacks)\n",
        "plot_training_history(history, 1)"
      ]
    },
    {
      "cell_type": "markdown",
      "metadata": {
        "id": "mUTfe6NthUJq"
      },
      "source": [
        "### Evaluate the Model\n",
        "\n"
      ]
    },
    {
      "cell_type": "code",
      "execution_count": 68,
      "metadata": {
        "id": "BkPvoY5UhUJq"
      },
      "outputs": [
        {
          "name": "stdout",
          "output_type": "stream",
          "text": [
            "\u001b[1m41/41\u001b[0m \u001b[32m━━━━━━━━━━━━━━━━━━━━\u001b[0m\u001b[37m\u001b[0m \u001b[1m1s\u001b[0m 12ms/step - accuracy: 0.9711 - loss: 0.1653\n",
            "Test loss: 0.18589191138744354\n",
            "Test accuracy: 0.9690402746200562\n",
            "\u001b[1m41/41\u001b[0m \u001b[32m━━━━━━━━━━━━━━━━━━━━\u001b[0m\u001b[37m\u001b[0m \u001b[1m0s\u001b[0m 7ms/step\n"
          ]
        },
        {
          "data": {
            "image/png": "[encoded data removed]",
            "text/plain": [
              "<Figure size 400x400 with 1 Axes>"
            ]
          },
          "metadata": {},
          "output_type": "display_data"
        }
      ],
      "source": [
        "score_model = model.evaluate(x_test, y_test) #, verbose=0)\n",
        "print(\"Test loss:\", score_model[0])\n",
        "print(\"Test accuracy:\", score_model[1])\n",
        "\n",
        "cm = confusion_matrix(np.argmax(y_test,axis=1), np.argmax(model.predict(x_test),axis=1))\n",
        "# print(cm)\n",
        "\n",
        "cm = cm.astype('float') / cm.sum(axis=1)[:, np.newaxis]\n",
        "\n",
        "cm = pd.DataFrame(cm, index = labels,\n",
        "                  columns = labels)\n",
        "\n",
        "plt.figure(figsize = (4,4))\n",
        "ax = sns.heatmap(cm*100,\n",
        "           annot=True,\n",
        "           fmt='.1f',\n",
        "           cmap=\"Blues\",\n",
        "           cbar=False,\n",
        "              )\n",
        "ax.set_ylabel(\"True Class\", fontdict= {'fontweight':'bold'})\n",
        "ax.set_xlabel(\"Predicted Class\", fontdict= {'fontweight':'bold'})\n",
        "\n",
        "plt.show()"
      ]
    },
    {
      "cell_type": "markdown",
      "metadata": {
        "id": "iYEf43GMhUJq"
      },
      "source": [
        "---\n",
        "**Task 8:** How does the accuracy of your model compare to the accuracy you achieved with Edge Impulse?\n",
        "\n",
        "There seem to be some issues with the random initialization. The same model performed much better on EdgeImpulse. Started multiple runs to achieve similar result.\n",
        "\n",
        "![CNN+Dense Large Validation](./lab2_validation_cnn_dense_large_2.png)\n",
        "\n",
        "![CNN+Dense Large Validation](./edge_impulse_cnn_dense_large.png)\n",
        "\n",
        "Therefore, we introduced a more advanced architecture.\n",
        "\n",
        "![Advanced Architecture Validation](./lab2_validation_advanced_large.png)\n",
        "\n",
        "![Advanced Architecture Edge Impulse](./edge_impulse_advanced_architecture_large.png)\n",
        "\n",
        "---"
      ]
    },
    {
      "cell_type": "markdown",
      "metadata": {
        "id": "4RWXZSAPhUJr"
      },
      "source": [
        "### Save Model\n",
        "\n",
        "To come back to a model to continue working on it, it might be useful to save it. We can use the `model.save()` [Function](https://www.tensorflow.org/guide/keras/serialization_and_saving) that exports a TensorFlow model object to SavedModel format.\n",
        "\n",
        "If you use Google Colab, you can find the saved model as a `.keras`-file on the left under `Files/`."
      ]
    },
    {
      "cell_type": "code",
      "execution_count": 83,
      "metadata": {
        "id": "9x-PrlqqhUJr"
      },
      "outputs": [],
      "source": [
        "from datetime import datetime\n",
        "\n",
        "export_base_path = f'./models/{datetime.now().strftime('%Y-%m-%d_%H-%M-%S')}_advanced_small'\n",
        "# model.save(f\"{export_base_path}.keras\")"
      ]
    },
    {
      "cell_type": "markdown",
      "metadata": {
        "id": "aBFHbzyDhUJr"
      },
      "source": [
        "### Model Quantization\n",
        "\n",
        "Your microcontroller cannot use the Tensoflow model directly. Instead there is [LiteRT](https://ai.google.dev/edge/litert) for deploying models on mobile and edge devices.\n",
        "\n",
        "---\n",
        "**Task 9:** Load your model and convert it with LiteRT and save the model to a `.tflite`-file. (HINT: Check out [this](https://github.com/tensorflow/tflite-micro/tree/main/tensorflow/lite/micro/examples/hello_world) *Hello World* example and [these instructions](https://ai.google.dev/edge/litert/models/convert_tf).)\n",
        "\n",
        "**Task 10:** Create a second LiteRT conversion that uses [optimizations](https://ai.google.dev/edge/api/tflite/python/tf/lite/Optimize) and enforce integer-only weights.\n",
        "(Maybe a helpful [resource](https://ai.google.dev/edge/litert/models/post_training_quantization).)\n",
        "\n",
        "**Task 11:** Evaluate all converted models and compare them to the Tensorflow model they are based on regarding profiled memory usage and accuracy. Use plots.\n",
        "\n",
        "```[bash]\n",
        "ls -lh models/\n",
        "-rw-r--r--@ 1 ture  staff   485K Apr 27 17:39 2025-04-27_17-39-12_advanced_architecture.keras\n",
        "-rw-r--r--@ 1 ture  staff   143K May  6 22:21 2025-05-06_21-16-36_advanced_architecture-basic.tflite\n",
        "-rw-r--r--@ 1 ture  staff    51K May  6 22:21 2025-05-06_21-16-36_advanced_architecture-optimized.tflite\n",
        "-rw-r--r--@ 1 ture  staff    51K May  6 22:21 2025-05-06_21-16-36_advanced_architecture-quantized.tflite\n",
        "```\n",
        "\n",
        "Therefore, the quantized and optimized model has ~60% reduction in size compared to the base tflite model and a 89% size reduction to the orignial model.\n",
        "\n",
        "```\n",
        "=== ORIGINAL MODEL ===\n",
        "1292/1292 ━━━━━━━━━━━━━━━━━━━━ 3s 3ms/step\n",
        "Model accuracy: 0.9729\n",
        "Estimated RAM usage: N/A for Keras model\n",
        "\n",
        "=== BASIC MODEL ===\n",
        "Model accuracy: 0.9837\n",
        "Estimated RAM usage (tensor buffers only): 375.41 KB\n",
        "\n",
        "=== OPTIMIZED MODEL ===\n",
        "Model accuracy: 0.9837\n",
        "Estimated RAM usage (tensor buffers only): 282.41 KB\n",
        "\n",
        "=== QUANTIZED MODEL ===\n",
        "Model accuracy: 0.9226\n",
        "Estimated RAM usage (tensor buffers only): 96.78 KB\n",
        "```\n",
        "\n",
        "Quite curiosly this accuracy drop disappeared after retraining the model:\n",
        "\n",
        "```\n",
        "=== ORIGINAL MODEL ===\n",
        "1292/1292 ━━━━━━━━━━━━━━━━━━━━ 4s 3ms/step\n",
        "Model accuracy: 0.9930\n",
        "Estimated RAM usage: N/A for Keras model\n",
        "\n",
        "=== BASIC MODEL ===\n",
        "Model accuracy: 0.9837\n",
        "Estimated RAM usage (tensor buffers only): 375.41 KB\n",
        "\n",
        "=== OPTIMIZED MODEL ===\n",
        "Model accuracy: 0.9837\n",
        "Estimated RAM usage (tensor buffers only): 282.41 KB\n",
        "\n",
        "=== QUANTIZED MODEL ===\n",
        "Model accuracy: 0.9861\n",
        "Estimated RAM usage (tensor buffers only): 96.78 KB\n",
        "```\n",
        "\n",
        "**Task 12:** Explain your findings from the previous task. Why is there such a difference in performance and in memory usage?\n",
        "\n",
        "**Answer:**\n",
        "\n",
        "\n",
        "---"
      ]
    },
    {
      "cell_type": "code",
      "execution_count": 75,
      "metadata": {
        "id": "9l09V3-HhUJr"
      },
      "outputs": [
        {
          "data": {
            "text/html": [
              "<pre style=\"white-space:pre;overflow-x:auto;line-height:normal;font-family:Menlo,'DejaVu Sans Mono',consolas,'Courier New',monospace\"><span style=\"font-weight: bold\">Model: \"functional\"</span>\n",
              "</pre>\n"
            ],
            "text/plain": [
              "\u001b[1mModel: \"functional\"\u001b[0m\n"
            ]
          },
          "metadata": {},
          "output_type": "display_data"
        },
        {
          "data": {
            "text/html": [
              "<pre style=\"white-space:pre;overflow-x:auto;line-height:normal;font-family:Menlo,'DejaVu Sans Mono',consolas,'Courier New',monospace\">┏━━━━━━━━━━━━━━━━━━━━━┳━━━━━━━━━━━━━━━━━━━┳━━━━━━━━━━━━┳━━━━━━━━━━━━━━━━━━━┓\n",
              "┃<span style=\"font-weight: bold\"> Layer (type)        </span>┃<span style=\"font-weight: bold\"> Output Shape      </span>┃<span style=\"font-weight: bold\">    Param # </span>┃<span style=\"font-weight: bold\"> Connected to      </span>┃\n",
              "┡━━━━━━━━━━━━━━━━━━━━━╇━━━━━━━━━━━━━━━━━━━╇━━━━━━━━━━━━╇━━━━━━━━━━━━━━━━━━━┩\n",
              "│ input_layer         │ (<span style=\"color: #00d7ff; text-decoration-color: #00d7ff\">None</span>, <span style=\"color: #00af00; text-decoration-color: #00af00\">200</span>, <span style=\"color: #00af00; text-decoration-color: #00af00\">3</span>)    │          <span style=\"color: #00af00; text-decoration-color: #00af00\">0</span> │ -                 │\n",
              "│ (<span style=\"color: #0087ff; text-decoration-color: #0087ff\">InputLayer</span>)        │                   │            │                   │\n",
              "├─────────────────────┼───────────────────┼────────────┼───────────────────┤\n",
              "│ separable_conv1d    │ (<span style=\"color: #00d7ff; text-decoration-color: #00d7ff\">None</span>, <span style=\"color: #00af00; text-decoration-color: #00af00\">200</span>, <span style=\"color: #00af00; text-decoration-color: #00af00\">8</span>)    │         <span style=\"color: #00af00; text-decoration-color: #00af00\">47</span> │ input_layer[<span style=\"color: #00af00; text-decoration-color: #00af00\">0</span>][<span style=\"color: #00af00; text-decoration-color: #00af00\">0</span>] │\n",
              "│ (<span style=\"color: #0087ff; text-decoration-color: #0087ff\">SeparableConv1D</span>)   │                   │            │                   │\n",
              "├─────────────────────┼───────────────────┼────────────┼───────────────────┤\n",
              "│ batch_normalization │ (<span style=\"color: #00d7ff; text-decoration-color: #00d7ff\">None</span>, <span style=\"color: #00af00; text-decoration-color: #00af00\">200</span>, <span style=\"color: #00af00; text-decoration-color: #00af00\">8</span>)    │         <span style=\"color: #00af00; text-decoration-color: #00af00\">32</span> │ separable_conv1d… │\n",
              "│ (<span style=\"color: #0087ff; text-decoration-color: #0087ff\">BatchNormalizatio…</span> │                   │            │                   │\n",
              "├─────────────────────┼───────────────────┼────────────┼───────────────────┤\n",
              "│ max_pooling1d       │ (<span style=\"color: #00d7ff; text-decoration-color: #00d7ff\">None</span>, <span style=\"color: #00af00; text-decoration-color: #00af00\">100</span>, <span style=\"color: #00af00; text-decoration-color: #00af00\">8</span>)    │          <span style=\"color: #00af00; text-decoration-color: #00af00\">0</span> │ batch_normalizat… │\n",
              "│ (<span style=\"color: #0087ff; text-decoration-color: #0087ff\">MaxPooling1D</span>)      │                   │            │                   │\n",
              "├─────────────────────┼───────────────────┼────────────┼───────────────────┤\n",
              "│ conv1d (<span style=\"color: #0087ff; text-decoration-color: #0087ff\">Conv1D</span>)     │ (<span style=\"color: #00d7ff; text-decoration-color: #00d7ff\">None</span>, <span style=\"color: #00af00; text-decoration-color: #00af00\">100</span>, <span style=\"color: #00af00; text-decoration-color: #00af00\">4</span>)    │         <span style=\"color: #00af00; text-decoration-color: #00af00\">36</span> │ max_pooling1d[<span style=\"color: #00af00; text-decoration-color: #00af00\">0</span>]… │\n",
              "├─────────────────────┼───────────────────┼────────────┼───────────────────┤\n",
              "│ conv1d_1 (<span style=\"color: #0087ff; text-decoration-color: #0087ff\">Conv1D</span>)   │ (<span style=\"color: #00d7ff; text-decoration-color: #00d7ff\">None</span>, <span style=\"color: #00af00; text-decoration-color: #00af00\">100</span>, <span style=\"color: #00af00; text-decoration-color: #00af00\">4</span>)    │         <span style=\"color: #00af00; text-decoration-color: #00af00\">84</span> │ conv1d[<span style=\"color: #00af00; text-decoration-color: #00af00\">0</span>][<span style=\"color: #00af00; text-decoration-color: #00af00\">0</span>]      │\n",
              "├─────────────────────┼───────────────────┼────────────┼───────────────────┤\n",
              "│ conv1d_2 (<span style=\"color: #0087ff; text-decoration-color: #0087ff\">Conv1D</span>)   │ (<span style=\"color: #00d7ff; text-decoration-color: #00d7ff\">None</span>, <span style=\"color: #00af00; text-decoration-color: #00af00\">100</span>, <span style=\"color: #00af00; text-decoration-color: #00af00\">16</span>)   │         <span style=\"color: #00af00; text-decoration-color: #00af00\">80</span> │ conv1d_1[<span style=\"color: #00af00; text-decoration-color: #00af00\">0</span>][<span style=\"color: #00af00; text-decoration-color: #00af00\">0</span>]    │\n",
              "├─────────────────────┼───────────────────┼────────────┼───────────────────┤\n",
              "│ batch_normalizatio… │ (<span style=\"color: #00d7ff; text-decoration-color: #00d7ff\">None</span>, <span style=\"color: #00af00; text-decoration-color: #00af00\">100</span>, <span style=\"color: #00af00; text-decoration-color: #00af00\">16</span>)   │         <span style=\"color: #00af00; text-decoration-color: #00af00\">64</span> │ conv1d_2[<span style=\"color: #00af00; text-decoration-color: #00af00\">0</span>][<span style=\"color: #00af00; text-decoration-color: #00af00\">0</span>]    │\n",
              "│ (<span style=\"color: #0087ff; text-decoration-color: #0087ff\">BatchNormalizatio…</span> │                   │            │                   │\n",
              "├─────────────────────┼───────────────────┼────────────┼───────────────────┤\n",
              "│ max_pooling1d_1     │ (<span style=\"color: #00d7ff; text-decoration-color: #00d7ff\">None</span>, <span style=\"color: #00af00; text-decoration-color: #00af00\">50</span>, <span style=\"color: #00af00; text-decoration-color: #00af00\">16</span>)    │          <span style=\"color: #00af00; text-decoration-color: #00af00\">0</span> │ batch_normalizat… │\n",
              "│ (<span style=\"color: #0087ff; text-decoration-color: #0087ff\">MaxPooling1D</span>)      │                   │            │                   │\n",
              "├─────────────────────┼───────────────────┼────────────┼───────────────────┤\n",
              "│ conv1d_3 (<span style=\"color: #0087ff; text-decoration-color: #0087ff\">Conv1D</span>)   │ (<span style=\"color: #00d7ff; text-decoration-color: #00d7ff\">None</span>, <span style=\"color: #00af00; text-decoration-color: #00af00\">50</span>, <span style=\"color: #00af00; text-decoration-color: #00af00\">16</span>)    │        <span style=\"color: #00af00; text-decoration-color: #00af00\">784</span> │ max_pooling1d_1[<span style=\"color: #00af00; text-decoration-color: #00af00\">…</span> │\n",
              "├─────────────────────┼───────────────────┼────────────┼───────────────────┤\n",
              "│ batch_normalizatio… │ (<span style=\"color: #00d7ff; text-decoration-color: #00d7ff\">None</span>, <span style=\"color: #00af00; text-decoration-color: #00af00\">50</span>, <span style=\"color: #00af00; text-decoration-color: #00af00\">16</span>)    │         <span style=\"color: #00af00; text-decoration-color: #00af00\">64</span> │ conv1d_3[<span style=\"color: #00af00; text-decoration-color: #00af00\">0</span>][<span style=\"color: #00af00; text-decoration-color: #00af00\">0</span>]    │\n",
              "│ (<span style=\"color: #0087ff; text-decoration-color: #0087ff\">BatchNormalizatio…</span> │                   │            │                   │\n",
              "├─────────────────────┼───────────────────┼────────────┼───────────────────┤\n",
              "│ re_lu (<span style=\"color: #0087ff; text-decoration-color: #0087ff\">ReLU</span>)        │ (<span style=\"color: #00d7ff; text-decoration-color: #00d7ff\">None</span>, <span style=\"color: #00af00; text-decoration-color: #00af00\">50</span>, <span style=\"color: #00af00; text-decoration-color: #00af00\">16</span>)    │          <span style=\"color: #00af00; text-decoration-color: #00af00\">0</span> │ batch_normalizat… │\n",
              "├─────────────────────┼───────────────────┼────────────┼───────────────────┤\n",
              "│ conv1d_4 (<span style=\"color: #0087ff; text-decoration-color: #0087ff\">Conv1D</span>)   │ (<span style=\"color: #00d7ff; text-decoration-color: #00d7ff\">None</span>, <span style=\"color: #00af00; text-decoration-color: #00af00\">50</span>, <span style=\"color: #00af00; text-decoration-color: #00af00\">16</span>)    │        <span style=\"color: #00af00; text-decoration-color: #00af00\">784</span> │ re_lu[<span style=\"color: #00af00; text-decoration-color: #00af00\">0</span>][<span style=\"color: #00af00; text-decoration-color: #00af00\">0</span>]       │\n",
              "├─────────────────────┼───────────────────┼────────────┼───────────────────┤\n",
              "│ batch_normalizatio… │ (<span style=\"color: #00d7ff; text-decoration-color: #00d7ff\">None</span>, <span style=\"color: #00af00; text-decoration-color: #00af00\">50</span>, <span style=\"color: #00af00; text-decoration-color: #00af00\">16</span>)    │         <span style=\"color: #00af00; text-decoration-color: #00af00\">64</span> │ conv1d_4[<span style=\"color: #00af00; text-decoration-color: #00af00\">0</span>][<span style=\"color: #00af00; text-decoration-color: #00af00\">0</span>]    │\n",
              "│ (<span style=\"color: #0087ff; text-decoration-color: #0087ff\">BatchNormalizatio…</span> │                   │            │                   │\n",
              "├─────────────────────┼───────────────────┼────────────┼───────────────────┤\n",
              "│ add (<span style=\"color: #0087ff; text-decoration-color: #0087ff\">Add</span>)           │ (<span style=\"color: #00d7ff; text-decoration-color: #00d7ff\">None</span>, <span style=\"color: #00af00; text-decoration-color: #00af00\">50</span>, <span style=\"color: #00af00; text-decoration-color: #00af00\">16</span>)    │          <span style=\"color: #00af00; text-decoration-color: #00af00\">0</span> │ max_pooling1d_1[<span style=\"color: #00af00; text-decoration-color: #00af00\">…</span> │\n",
              "│                     │                   │            │ batch_normalizat… │\n",
              "├─────────────────────┼───────────────────┼────────────┼───────────────────┤\n",
              "│ re_lu_1 (<span style=\"color: #0087ff; text-decoration-color: #0087ff\">ReLU</span>)      │ (<span style=\"color: #00d7ff; text-decoration-color: #00d7ff\">None</span>, <span style=\"color: #00af00; text-decoration-color: #00af00\">50</span>, <span style=\"color: #00af00; text-decoration-color: #00af00\">16</span>)    │          <span style=\"color: #00af00; text-decoration-color: #00af00\">0</span> │ add[<span style=\"color: #00af00; text-decoration-color: #00af00\">0</span>][<span style=\"color: #00af00; text-decoration-color: #00af00\">0</span>]         │\n",
              "├─────────────────────┼───────────────────┼────────────┼───────────────────┤\n",
              "│ max_pooling1d_2     │ (<span style=\"color: #00d7ff; text-decoration-color: #00d7ff\">None</span>, <span style=\"color: #00af00; text-decoration-color: #00af00\">25</span>, <span style=\"color: #00af00; text-decoration-color: #00af00\">16</span>)    │          <span style=\"color: #00af00; text-decoration-color: #00af00\">0</span> │ re_lu_1[<span style=\"color: #00af00; text-decoration-color: #00af00\">0</span>][<span style=\"color: #00af00; text-decoration-color: #00af00\">0</span>]     │\n",
              "│ (<span style=\"color: #0087ff; text-decoration-color: #0087ff\">MaxPooling1D</span>)      │                   │            │                   │\n",
              "├─────────────────────┼───────────────────┼────────────┼───────────────────┤\n",
              "│ flatten (<span style=\"color: #0087ff; text-decoration-color: #0087ff\">Flatten</span>)   │ (<span style=\"color: #00d7ff; text-decoration-color: #00d7ff\">None</span>, <span style=\"color: #00af00; text-decoration-color: #00af00\">400</span>)       │          <span style=\"color: #00af00; text-decoration-color: #00af00\">0</span> │ max_pooling1d_2[<span style=\"color: #00af00; text-decoration-color: #00af00\">…</span> │\n",
              "├─────────────────────┼───────────────────┼────────────┼───────────────────┤\n",
              "│ dense (<span style=\"color: #0087ff; text-decoration-color: #0087ff\">Dense</span>)       │ (<span style=\"color: #00d7ff; text-decoration-color: #00d7ff\">None</span>, <span style=\"color: #00af00; text-decoration-color: #00af00\">16</span>)        │      <span style=\"color: #00af00; text-decoration-color: #00af00\">6,416</span> │ flatten[<span style=\"color: #00af00; text-decoration-color: #00af00\">0</span>][<span style=\"color: #00af00; text-decoration-color: #00af00\">0</span>]     │\n",
              "├─────────────────────┼───────────────────┼────────────┼───────────────────┤\n",
              "│ dropout (<span style=\"color: #0087ff; text-decoration-color: #0087ff\">Dropout</span>)   │ (<span style=\"color: #00d7ff; text-decoration-color: #00d7ff\">None</span>, <span style=\"color: #00af00; text-decoration-color: #00af00\">16</span>)        │          <span style=\"color: #00af00; text-decoration-color: #00af00\">0</span> │ dense[<span style=\"color: #00af00; text-decoration-color: #00af00\">0</span>][<span style=\"color: #00af00; text-decoration-color: #00af00\">0</span>]       │\n",
              "├─────────────────────┼───────────────────┼────────────┼───────────────────┤\n",
              "│ y_pred (<span style=\"color: #0087ff; text-decoration-color: #0087ff\">Dense</span>)      │ (<span style=\"color: #00d7ff; text-decoration-color: #00d7ff\">None</span>, <span style=\"color: #00af00; text-decoration-color: #00af00\">4</span>)         │         <span style=\"color: #00af00; text-decoration-color: #00af00\">68</span> │ dropout[<span style=\"color: #00af00; text-decoration-color: #00af00\">0</span>][<span style=\"color: #00af00; text-decoration-color: #00af00\">0</span>]     │\n",
              "└─────────────────────┴───────────────────┴────────────┴───────────────────┘\n",
              "</pre>\n"
            ],
            "text/plain": [
              "┏━━━━━━━━━━━━━━━━━━━━━┳━━━━━━━━━━━━━━━━━━━┳━━━━━━━━━━━━┳━━━━━━━━━━━━━━━━━━━┓\n",
              "┃\u001b[1m \u001b[0m\u001b[1mLayer (type)       \u001b[0m\u001b[1m \u001b[0m┃\u001b[1m \u001b[0m\u001b[1mOutput Shape     \u001b[0m\u001b[1m \u001b[0m┃\u001b[1m \u001b[0m\u001b[1m   Param #\u001b[0m\u001b[1m \u001b[0m┃\u001b[1m \u001b[0m\u001b[1mConnected to     \u001b[0m\u001b[1m \u001b[0m┃\n",
              "┡━━━━━━━━━━━━━━━━━━━━━╇━━━━━━━━━━━━━━━━━━━╇━━━━━━━━━━━━╇━━━━━━━━━━━━━━━━━━━┩\n",
              "│ input_layer         │ (\u001b[38;5;45mNone\u001b[0m, \u001b[38;5;34m200\u001b[0m, \u001b[38;5;34m3\u001b[0m)    │          \u001b[38;5;34m0\u001b[0m │ -                 │\n",
              "│ (\u001b[38;5;33mInputLayer\u001b[0m)        │                   │            │                   │\n",
              "├─────────────────────┼───────────────────┼────────────┼───────────────────┤\n",
              "│ separable_conv1d    │ (\u001b[38;5;45mNone\u001b[0m, \u001b[38;5;34m200\u001b[0m, \u001b[38;5;34m8\u001b[0m)    │         \u001b[38;5;34m47\u001b[0m │ input_layer[\u001b[38;5;34m0\u001b[0m][\u001b[38;5;34m0\u001b[0m] │\n",
              "│ (\u001b[38;5;33mSeparableConv1D\u001b[0m)   │                   │            │                   │\n",
              "├─────────────────────┼───────────────────┼────────────┼───────────────────┤\n",
              "│ batch_normalization │ (\u001b[38;5;45mNone\u001b[0m, \u001b[38;5;34m200\u001b[0m, \u001b[38;5;34m8\u001b[0m)    │         \u001b[38;5;34m32\u001b[0m │ separable_conv1d… │\n",
              "│ (\u001b[38;5;33mBatchNormalizatio…\u001b[0m │                   │            │                   │\n",
              "├─────────────────────┼───────────────────┼────────────┼───────────────────┤\n",
              "│ max_pooling1d       │ (\u001b[38;5;45mNone\u001b[0m, \u001b[38;5;34m100\u001b[0m, \u001b[38;5;34m8\u001b[0m)    │          \u001b[38;5;34m0\u001b[0m │ batch_normalizat… │\n",
              "│ (\u001b[38;5;33mMaxPooling1D\u001b[0m)      │                   │            │                   │\n",
              "├─────────────────────┼───────────────────┼────────────┼───────────────────┤\n",
              "│ conv1d (\u001b[38;5;33mConv1D\u001b[0m)     │ (\u001b[38;5;45mNone\u001b[0m, \u001b[38;5;34m100\u001b[0m, \u001b[38;5;34m4\u001b[0m)    │         \u001b[38;5;34m36\u001b[0m │ max_pooling1d[\u001b[38;5;34m0\u001b[0m]… │\n",
              "├─────────────────────┼───────────────────┼────────────┼───────────────────┤\n",
              "│ conv1d_1 (\u001b[38;5;33mConv1D\u001b[0m)   │ (\u001b[38;5;45mNone\u001b[0m, \u001b[38;5;34m100\u001b[0m, \u001b[38;5;34m4\u001b[0m)    │         \u001b[38;5;34m84\u001b[0m │ conv1d[\u001b[38;5;34m0\u001b[0m][\u001b[38;5;34m0\u001b[0m]      │\n",
              "├─────────────────────┼───────────────────┼────────────┼───────────────────┤\n",
              "│ conv1d_2 (\u001b[38;5;33mConv1D\u001b[0m)   │ (\u001b[38;5;45mNone\u001b[0m, \u001b[38;5;34m100\u001b[0m, \u001b[38;5;34m16\u001b[0m)   │         \u001b[38;5;34m80\u001b[0m │ conv1d_1[\u001b[38;5;34m0\u001b[0m][\u001b[38;5;34m0\u001b[0m]    │\n",
              "├─────────────────────┼───────────────────┼────────────┼───────────────────┤\n",
              "│ batch_normalizatio… │ (\u001b[38;5;45mNone\u001b[0m, \u001b[38;5;34m100\u001b[0m, \u001b[38;5;34m16\u001b[0m)   │         \u001b[38;5;34m64\u001b[0m │ conv1d_2[\u001b[38;5;34m0\u001b[0m][\u001b[38;5;34m0\u001b[0m]    │\n",
              "│ (\u001b[38;5;33mBatchNormalizatio…\u001b[0m │                   │            │                   │\n",
              "├─────────────────────┼───────────────────┼────────────┼───────────────────┤\n",
              "│ max_pooling1d_1     │ (\u001b[38;5;45mNone\u001b[0m, \u001b[38;5;34m50\u001b[0m, \u001b[38;5;34m16\u001b[0m)    │          \u001b[38;5;34m0\u001b[0m │ batch_normalizat… │\n",
              "│ (\u001b[38;5;33mMaxPooling1D\u001b[0m)      │                   │            │                   │\n",
              "├─────────────────────┼───────────────────┼────────────┼───────────────────┤\n",
              "│ conv1d_3 (\u001b[38;5;33mConv1D\u001b[0m)   │ (\u001b[38;5;45mNone\u001b[0m, \u001b[38;5;34m50\u001b[0m, \u001b[38;5;34m16\u001b[0m)    │        \u001b[38;5;34m784\u001b[0m │ max_pooling1d_1[\u001b[38;5;34m…\u001b[0m │\n",
              "├─────────────────────┼───────────────────┼────────────┼───────────────────┤\n",
              "│ batch_normalizatio… │ (\u001b[38;5;45mNone\u001b[0m, \u001b[38;5;34m50\u001b[0m, \u001b[38;5;34m16\u001b[0m)    │         \u001b[38;5;34m64\u001b[0m │ conv1d_3[\u001b[38;5;34m0\u001b[0m][\u001b[38;5;34m0\u001b[0m]    │\n",
              "│ (\u001b[38;5;33mBatchNormalizatio…\u001b[0m │                   │            │                   │\n",
              "├─────────────────────┼───────────────────┼────────────┼───────────────────┤\n",
              "│ re_lu (\u001b[38;5;33mReLU\u001b[0m)        │ (\u001b[38;5;45mNone\u001b[0m, \u001b[38;5;34m50\u001b[0m, \u001b[38;5;34m16\u001b[0m)    │          \u001b[38;5;34m0\u001b[0m │ batch_normalizat… │\n",
              "├─────────────────────┼───────────────────┼────────────┼───────────────────┤\n",
              "│ conv1d_4 (\u001b[38;5;33mConv1D\u001b[0m)   │ (\u001b[38;5;45mNone\u001b[0m, \u001b[38;5;34m50\u001b[0m, \u001b[38;5;34m16\u001b[0m)    │        \u001b[38;5;34m784\u001b[0m │ re_lu[\u001b[38;5;34m0\u001b[0m][\u001b[38;5;34m0\u001b[0m]       │\n",
              "├─────────────────────┼───────────────────┼────────────┼───────────────────┤\n",
              "│ batch_normalizatio… │ (\u001b[38;5;45mNone\u001b[0m, \u001b[38;5;34m50\u001b[0m, \u001b[38;5;34m16\u001b[0m)    │         \u001b[38;5;34m64\u001b[0m │ conv1d_4[\u001b[38;5;34m0\u001b[0m][\u001b[38;5;34m0\u001b[0m]    │\n",
              "│ (\u001b[38;5;33mBatchNormalizatio…\u001b[0m │                   │            │                   │\n",
              "├─────────────────────┼───────────────────┼────────────┼───────────────────┤\n",
              "│ add (\u001b[38;5;33mAdd\u001b[0m)           │ (\u001b[38;5;45mNone\u001b[0m, \u001b[38;5;34m50\u001b[0m, \u001b[38;5;34m16\u001b[0m)    │          \u001b[38;5;34m0\u001b[0m │ max_pooling1d_1[\u001b[38;5;34m…\u001b[0m │\n",
              "│                     │                   │            │ batch_normalizat… │\n",
              "├─────────────────────┼───────────────────┼────────────┼───────────────────┤\n",
              "│ re_lu_1 (\u001b[38;5;33mReLU\u001b[0m)      │ (\u001b[38;5;45mNone\u001b[0m, \u001b[38;5;34m50\u001b[0m, \u001b[38;5;34m16\u001b[0m)    │          \u001b[38;5;34m0\u001b[0m │ add[\u001b[38;5;34m0\u001b[0m][\u001b[38;5;34m0\u001b[0m]         │\n",
              "├─────────────────────┼───────────────────┼────────────┼───────────────────┤\n",
              "│ max_pooling1d_2     │ (\u001b[38;5;45mNone\u001b[0m, \u001b[38;5;34m25\u001b[0m, \u001b[38;5;34m16\u001b[0m)    │          \u001b[38;5;34m0\u001b[0m │ re_lu_1[\u001b[38;5;34m0\u001b[0m][\u001b[38;5;34m0\u001b[0m]     │\n",
              "│ (\u001b[38;5;33mMaxPooling1D\u001b[0m)      │                   │            │                   │\n",
              "├─────────────────────┼───────────────────┼────────────┼───────────────────┤\n",
              "│ flatten (\u001b[38;5;33mFlatten\u001b[0m)   │ (\u001b[38;5;45mNone\u001b[0m, \u001b[38;5;34m400\u001b[0m)       │          \u001b[38;5;34m0\u001b[0m │ max_pooling1d_2[\u001b[38;5;34m…\u001b[0m │\n",
              "├─────────────────────┼───────────────────┼────────────┼───────────────────┤\n",
              "│ dense (\u001b[38;5;33mDense\u001b[0m)       │ (\u001b[38;5;45mNone\u001b[0m, \u001b[38;5;34m16\u001b[0m)        │      \u001b[38;5;34m6,416\u001b[0m │ flatten[\u001b[38;5;34m0\u001b[0m][\u001b[38;5;34m0\u001b[0m]     │\n",
              "├─────────────────────┼───────────────────┼────────────┼───────────────────┤\n",
              "│ dropout (\u001b[38;5;33mDropout\u001b[0m)   │ (\u001b[38;5;45mNone\u001b[0m, \u001b[38;5;34m16\u001b[0m)        │          \u001b[38;5;34m0\u001b[0m │ dense[\u001b[38;5;34m0\u001b[0m][\u001b[38;5;34m0\u001b[0m]       │\n",
              "├─────────────────────┼───────────────────┼────────────┼───────────────────┤\n",
              "│ y_pred (\u001b[38;5;33mDense\u001b[0m)      │ (\u001b[38;5;45mNone\u001b[0m, \u001b[38;5;34m4\u001b[0m)         │         \u001b[38;5;34m68\u001b[0m │ dropout[\u001b[38;5;34m0\u001b[0m][\u001b[38;5;34m0\u001b[0m]     │\n",
              "└─────────────────────┴───────────────────┴────────────┴───────────────────┘\n"
            ]
          },
          "metadata": {},
          "output_type": "display_data"
        },
        {
          "data": {
            "text/html": [
              "<pre style=\"white-space:pre;overflow-x:auto;line-height:normal;font-family:Menlo,'DejaVu Sans Mono',consolas,'Courier New',monospace\"><span style=\"font-weight: bold\"> Total params: </span><span style=\"color: #00af00; text-decoration-color: #00af00\">25,347</span> (99.02 KB)\n",
              "</pre>\n"
            ],
            "text/plain": [
              "\u001b[1m Total params: \u001b[0m\u001b[38;5;34m25,347\u001b[0m (99.02 KB)\n"
            ]
          },
          "metadata": {},
          "output_type": "display_data"
        },
        {
          "data": {
            "text/html": [
              "<pre style=\"white-space:pre;overflow-x:auto;line-height:normal;font-family:Menlo,'DejaVu Sans Mono',consolas,'Courier New',monospace\"><span style=\"font-weight: bold\"> Trainable params: </span><span style=\"color: #00af00; text-decoration-color: #00af00\">8,411</span> (32.86 KB)\n",
              "</pre>\n"
            ],
            "text/plain": [
              "\u001b[1m Trainable params: \u001b[0m\u001b[38;5;34m8,411\u001b[0m (32.86 KB)\n"
            ]
          },
          "metadata": {},
          "output_type": "display_data"
        },
        {
          "data": {
            "text/html": [
              "<pre style=\"white-space:pre;overflow-x:auto;line-height:normal;font-family:Menlo,'DejaVu Sans Mono',consolas,'Courier New',monospace\"><span style=\"font-weight: bold\"> Non-trainable params: </span><span style=\"color: #00af00; text-decoration-color: #00af00\">112</span> (448.00 B)\n",
              "</pre>\n"
            ],
            "text/plain": [
              "\u001b[1m Non-trainable params: \u001b[0m\u001b[38;5;34m112\u001b[0m (448.00 B)\n"
            ]
          },
          "metadata": {},
          "output_type": "display_data"
        },
        {
          "data": {
            "text/html": [
              "<pre style=\"white-space:pre;overflow-x:auto;line-height:normal;font-family:Menlo,'DejaVu Sans Mono',consolas,'Courier New',monospace\"><span style=\"font-weight: bold\"> Optimizer params: </span><span style=\"color: #00af00; text-decoration-color: #00af00\">16,824</span> (65.72 KB)\n",
              "</pre>\n"
            ],
            "text/plain": [
              "\u001b[1m Optimizer params: \u001b[0m\u001b[38;5;34m16,824\u001b[0m (65.72 KB)\n"
            ]
          },
          "metadata": {},
          "output_type": "display_data"
        },
        {
          "name": "stdout",
          "output_type": "stream",
          "text": [
            "INFO:tensorflow:Assets written to: /var/folders/t_/zj_f3xqx0h1_m2mq82vhpy_00000gn/T/tmpxrb8x83s/assets\n"
          ]
        },
        {
          "name": "stderr",
          "output_type": "stream",
          "text": [
            "INFO:tensorflow:Assets written to: /var/folders/t_/zj_f3xqx0h1_m2mq82vhpy_00000gn/T/tmpxrb8x83s/assets\n"
          ]
        },
        {
          "name": "stdout",
          "output_type": "stream",
          "text": [
            "Saved artifact at '/var/folders/t_/zj_f3xqx0h1_m2mq82vhpy_00000gn/T/tmpxrb8x83s'. The following endpoints are available:\n",
            "\n",
            "* Endpoint 'serve'\n",
            "  args_0 (POSITIONAL_ONLY): TensorSpec(shape=(None, 200, 3), dtype=tf.float32, name='input_layer')\n",
            "Output Type:\n",
            "  TensorSpec(shape=(None, 4), dtype=tf.float32, name=None)\n",
            "Captures:\n",
            "  13635366224: TensorSpec(shape=(), dtype=tf.resource, name=None)\n",
            "  13635366032: TensorSpec(shape=(), dtype=tf.resource, name=None)\n",
            "  13635361424: TensorSpec(shape=(), dtype=tf.resource, name=None)\n",
            "  13635363344: TensorSpec(shape=(), dtype=tf.resource, name=None)\n",
            "  14584235792: TensorSpec(shape=(), dtype=tf.resource, name=None)\n",
            "  13635360656: TensorSpec(shape=(), dtype=tf.resource, name=None)\n",
            "  13635362960: TensorSpec(shape=(), dtype=tf.resource, name=None)\n",
            "  14584236368: TensorSpec(shape=(), dtype=tf.resource, name=None)\n",
            "  14584235216: TensorSpec(shape=(), dtype=tf.resource, name=None)\n",
            "  14584249232: TensorSpec(shape=(), dtype=tf.resource, name=None)\n",
            "  14584240976: TensorSpec(shape=(), dtype=tf.resource, name=None)\n",
            "  14584237520: TensorSpec(shape=(), dtype=tf.resource, name=None)\n",
            "  14584247888: TensorSpec(shape=(), dtype=tf.resource, name=None)\n",
            "  14584243664: TensorSpec(shape=(), dtype=tf.resource, name=None)\n",
            "  14584239248: TensorSpec(shape=(), dtype=tf.resource, name=None)\n",
            "  14584239056: TensorSpec(shape=(), dtype=tf.resource, name=None)\n",
            "  14584237904: TensorSpec(shape=(), dtype=tf.resource, name=None)\n",
            "  14584250192: TensorSpec(shape=(), dtype=tf.resource, name=None)\n",
            "  14584243856: TensorSpec(shape=(), dtype=tf.resource, name=None)\n",
            "  14584248464: TensorSpec(shape=(), dtype=tf.resource, name=None)\n",
            "  14584247120: TensorSpec(shape=(), dtype=tf.resource, name=None)\n",
            "  14584242320: TensorSpec(shape=(), dtype=tf.resource, name=None)\n",
            "  14584246544: TensorSpec(shape=(), dtype=tf.resource, name=None)\n",
            "  14584235984: TensorSpec(shape=(), dtype=tf.resource, name=None)\n",
            "  14584235600: TensorSpec(shape=(), dtype=tf.resource, name=None)\n",
            "  14584238672: TensorSpec(shape=(), dtype=tf.resource, name=None)\n",
            "  14584240016: TensorSpec(shape=(), dtype=tf.resource, name=None)\n",
            "  14584240400: TensorSpec(shape=(), dtype=tf.resource, name=None)\n",
            "  14584247696: TensorSpec(shape=(), dtype=tf.resource, name=None)\n",
            "  14584246160: TensorSpec(shape=(), dtype=tf.resource, name=None)\n",
            "  14584242704: TensorSpec(shape=(), dtype=tf.resource, name=None)\n",
            "  14584239440: TensorSpec(shape=(), dtype=tf.resource, name=None)\n",
            "  14584246352: TensorSpec(shape=(), dtype=tf.resource, name=None)\n"
          ]
        },
        {
          "name": "stderr",
          "output_type": "stream",
          "text": [
            "W0000 00:00:1748166870.047144 1070937 tf_tfl_flatbuffer_helpers.cc:365] Ignored output_format.\n",
            "W0000 00:00:1748166870.047153 1070937 tf_tfl_flatbuffer_helpers.cc:368] Ignored drop_control_dependency.\n",
            "2025-05-25 11:54:30.047237: I tensorflow/cc/saved_model/reader.cc:83] Reading SavedModel from: /var/folders/t_/zj_f3xqx0h1_m2mq82vhpy_00000gn/T/tmpxrb8x83s\n",
            "2025-05-25 11:54:30.047964: I tensorflow/cc/saved_model/reader.cc:52] Reading meta graph with tags { serve }\n",
            "2025-05-25 11:54:30.047970: I tensorflow/cc/saved_model/reader.cc:147] Reading SavedModel debug info (if present) from: /var/folders/t_/zj_f3xqx0h1_m2mq82vhpy_00000gn/T/tmpxrb8x83s\n",
            "2025-05-25 11:54:30.056085: I tensorflow/cc/saved_model/loader.cc:236] Restoring SavedModel bundle.\n",
            "2025-05-25 11:54:30.099398: I tensorflow/cc/saved_model/loader.cc:220] Running initialization op on SavedModel bundle at path: /var/folders/t_/zj_f3xqx0h1_m2mq82vhpy_00000gn/T/tmpxrb8x83s\n",
            "2025-05-25 11:54:30.112540: I tensorflow/cc/saved_model/loader.cc:471] SavedModel load for tags { serve }; Status: success: OK. Took 65302 microseconds.\n"
          ]
        },
        {
          "name": "stdout",
          "output_type": "stream",
          "text": [
            "INFO:tensorflow:Assets written to: /var/folders/t_/zj_f3xqx0h1_m2mq82vhpy_00000gn/T/tmpgiq72kqk/assets\n"
          ]
        },
        {
          "name": "stderr",
          "output_type": "stream",
          "text": [
            "INFO:tensorflow:Assets written to: /var/folders/t_/zj_f3xqx0h1_m2mq82vhpy_00000gn/T/tmpgiq72kqk/assets\n"
          ]
        },
        {
          "name": "stdout",
          "output_type": "stream",
          "text": [
            "Saved artifact at '/var/folders/t_/zj_f3xqx0h1_m2mq82vhpy_00000gn/T/tmpgiq72kqk'. The following endpoints are available:\n",
            "\n",
            "* Endpoint 'serve'\n",
            "  args_0 (POSITIONAL_ONLY): TensorSpec(shape=(None, 200, 3), dtype=tf.float32, name='input_layer')\n",
            "Output Type:\n",
            "  TensorSpec(shape=(None, 4), dtype=tf.float32, name=None)\n",
            "Captures:\n",
            "  13635366224: TensorSpec(shape=(), dtype=tf.resource, name=None)\n",
            "  13635366032: TensorSpec(shape=(), dtype=tf.resource, name=None)\n",
            "  13635361424: TensorSpec(shape=(), dtype=tf.resource, name=None)\n",
            "  13635363344: TensorSpec(shape=(), dtype=tf.resource, name=None)\n",
            "  14584235792: TensorSpec(shape=(), dtype=tf.resource, name=None)\n",
            "  13635360656: TensorSpec(shape=(), dtype=tf.resource, name=None)\n",
            "  13635362960: TensorSpec(shape=(), dtype=tf.resource, name=None)\n",
            "  14584236368: TensorSpec(shape=(), dtype=tf.resource, name=None)\n",
            "  14584235216: TensorSpec(shape=(), dtype=tf.resource, name=None)\n",
            "  14584249232: TensorSpec(shape=(), dtype=tf.resource, name=None)\n",
            "  14584240976: TensorSpec(shape=(), dtype=tf.resource, name=None)\n",
            "  14584237520: TensorSpec(shape=(), dtype=tf.resource, name=None)\n",
            "  14584247888: TensorSpec(shape=(), dtype=tf.resource, name=None)\n",
            "  14584243664: TensorSpec(shape=(), dtype=tf.resource, name=None)\n",
            "  14584239248: TensorSpec(shape=(), dtype=tf.resource, name=None)\n",
            "  14584239056: TensorSpec(shape=(), dtype=tf.resource, name=None)\n",
            "  14584237904: TensorSpec(shape=(), dtype=tf.resource, name=None)\n",
            "  14584250192: TensorSpec(shape=(), dtype=tf.resource, name=None)\n",
            "  14584243856: TensorSpec(shape=(), dtype=tf.resource, name=None)\n",
            "  14584248464: TensorSpec(shape=(), dtype=tf.resource, name=None)\n",
            "  14584247120: TensorSpec(shape=(), dtype=tf.resource, name=None)\n",
            "  14584242320: TensorSpec(shape=(), dtype=tf.resource, name=None)\n",
            "  14584246544: TensorSpec(shape=(), dtype=tf.resource, name=None)\n",
            "  14584235984: TensorSpec(shape=(), dtype=tf.resource, name=None)\n",
            "  14584235600: TensorSpec(shape=(), dtype=tf.resource, name=None)\n",
            "  14584238672: TensorSpec(shape=(), dtype=tf.resource, name=None)\n",
            "  14584240016: TensorSpec(shape=(), dtype=tf.resource, name=None)\n",
            "  14584240400: TensorSpec(shape=(), dtype=tf.resource, name=None)\n",
            "  14584247696: TensorSpec(shape=(), dtype=tf.resource, name=None)\n",
            "  14584246160: TensorSpec(shape=(), dtype=tf.resource, name=None)\n",
            "  14584242704: TensorSpec(shape=(), dtype=tf.resource, name=None)\n",
            "  14584239440: TensorSpec(shape=(), dtype=tf.resource, name=None)\n",
            "  14584246352: TensorSpec(shape=(), dtype=tf.resource, name=None)\n"
          ]
        },
        {
          "name": "stderr",
          "output_type": "stream",
          "text": [
            "W0000 00:00:1748166870.546238 1070937 tf_tfl_flatbuffer_helpers.cc:365] Ignored output_format.\n",
            "W0000 00:00:1748166870.546248 1070937 tf_tfl_flatbuffer_helpers.cc:368] Ignored drop_control_dependency.\n",
            "2025-05-25 11:54:30.546345: I tensorflow/cc/saved_model/reader.cc:83] Reading SavedModel from: /var/folders/t_/zj_f3xqx0h1_m2mq82vhpy_00000gn/T/tmpgiq72kqk\n",
            "2025-05-25 11:54:30.546971: I tensorflow/cc/saved_model/reader.cc:52] Reading meta graph with tags { serve }\n",
            "2025-05-25 11:54:30.546976: I tensorflow/cc/saved_model/reader.cc:147] Reading SavedModel debug info (if present) from: /var/folders/t_/zj_f3xqx0h1_m2mq82vhpy_00000gn/T/tmpgiq72kqk\n",
            "2025-05-25 11:54:30.555281: I tensorflow/cc/saved_model/loader.cc:236] Restoring SavedModel bundle.\n",
            "2025-05-25 11:54:30.600611: I tensorflow/cc/saved_model/loader.cc:220] Running initialization op on SavedModel bundle at path: /var/folders/t_/zj_f3xqx0h1_m2mq82vhpy_00000gn/T/tmpgiq72kqk\n",
            "2025-05-25 11:54:30.614765: I tensorflow/cc/saved_model/loader.cc:471] SavedModel load for tags { serve }; Status: success: OK. Took 68419 microseconds.\n"
          ]
        },
        {
          "name": "stdout",
          "output_type": "stream",
          "text": [
            "INFO:tensorflow:Assets written to: /var/folders/t_/zj_f3xqx0h1_m2mq82vhpy_00000gn/T/tmp4_l_coc7/assets\n"
          ]
        },
        {
          "name": "stderr",
          "output_type": "stream",
          "text": [
            "INFO:tensorflow:Assets written to: /var/folders/t_/zj_f3xqx0h1_m2mq82vhpy_00000gn/T/tmp4_l_coc7/assets\n"
          ]
        },
        {
          "name": "stdout",
          "output_type": "stream",
          "text": [
            "Saved artifact at '/var/folders/t_/zj_f3xqx0h1_m2mq82vhpy_00000gn/T/tmp4_l_coc7'. The following endpoints are available:\n",
            "\n",
            "* Endpoint 'serve'\n",
            "  args_0 (POSITIONAL_ONLY): TensorSpec(shape=(None, 200, 3), dtype=tf.float32, name='input_layer')\n",
            "Output Type:\n",
            "  TensorSpec(shape=(None, 4), dtype=tf.float32, name=None)\n",
            "Captures:\n",
            "  13635366224: TensorSpec(shape=(), dtype=tf.resource, name=None)\n",
            "  13635366032: TensorSpec(shape=(), dtype=tf.resource, name=None)\n",
            "  13635361424: TensorSpec(shape=(), dtype=tf.resource, name=None)\n",
            "  13635363344: TensorSpec(shape=(), dtype=tf.resource, name=None)\n",
            "  14584235792: TensorSpec(shape=(), dtype=tf.resource, name=None)\n",
            "  13635360656: TensorSpec(shape=(), dtype=tf.resource, name=None)\n",
            "  13635362960: TensorSpec(shape=(), dtype=tf.resource, name=None)\n",
            "  14584236368: TensorSpec(shape=(), dtype=tf.resource, name=None)\n",
            "  14584235216: TensorSpec(shape=(), dtype=tf.resource, name=None)\n",
            "  14584249232: TensorSpec(shape=(), dtype=tf.resource, name=None)\n",
            "  14584240976: TensorSpec(shape=(), dtype=tf.resource, name=None)\n",
            "  14584237520: TensorSpec(shape=(), dtype=tf.resource, name=None)\n",
            "  14584247888: TensorSpec(shape=(), dtype=tf.resource, name=None)\n",
            "  14584243664: TensorSpec(shape=(), dtype=tf.resource, name=None)\n",
            "  14584239248: TensorSpec(shape=(), dtype=tf.resource, name=None)\n",
            "  14584239056: TensorSpec(shape=(), dtype=tf.resource, name=None)\n",
            "  14584237904: TensorSpec(shape=(), dtype=tf.resource, name=None)\n",
            "  14584250192: TensorSpec(shape=(), dtype=tf.resource, name=None)\n",
            "  14584243856: TensorSpec(shape=(), dtype=tf.resource, name=None)\n",
            "  14584248464: TensorSpec(shape=(), dtype=tf.resource, name=None)\n",
            "  14584247120: TensorSpec(shape=(), dtype=tf.resource, name=None)\n",
            "  14584242320: TensorSpec(shape=(), dtype=tf.resource, name=None)\n",
            "  14584246544: TensorSpec(shape=(), dtype=tf.resource, name=None)\n",
            "  14584235984: TensorSpec(shape=(), dtype=tf.resource, name=None)\n",
            "  14584235600: TensorSpec(shape=(), dtype=tf.resource, name=None)\n",
            "  14584238672: TensorSpec(shape=(), dtype=tf.resource, name=None)\n",
            "  14584240016: TensorSpec(shape=(), dtype=tf.resource, name=None)\n",
            "  14584240400: TensorSpec(shape=(), dtype=tf.resource, name=None)\n",
            "  14584247696: TensorSpec(shape=(), dtype=tf.resource, name=None)\n",
            "  14584246160: TensorSpec(shape=(), dtype=tf.resource, name=None)\n",
            "  14584242704: TensorSpec(shape=(), dtype=tf.resource, name=None)\n",
            "  14584239440: TensorSpec(shape=(), dtype=tf.resource, name=None)\n",
            "  14584246352: TensorSpec(shape=(), dtype=tf.resource, name=None)\n"
          ]
        },
        {
          "name": "stderr",
          "output_type": "stream",
          "text": [
            "/Users/ture/projects/tiny-ml/env/lib/python3.12/site-packages/tensorflow/lite/python/convert.py:854: UserWarning: Statistics for quantized inputs were expected, but not specified; continuing anyway.\n",
            "  warnings.warn(\n",
            "W0000 00:00:1748166871.036440 1070937 tf_tfl_flatbuffer_helpers.cc:365] Ignored output_format.\n",
            "W0000 00:00:1748166871.036448 1070937 tf_tfl_flatbuffer_helpers.cc:368] Ignored drop_control_dependency.\n",
            "2025-05-25 11:54:31.036533: I tensorflow/cc/saved_model/reader.cc:83] Reading SavedModel from: /var/folders/t_/zj_f3xqx0h1_m2mq82vhpy_00000gn/T/tmp4_l_coc7\n",
            "2025-05-25 11:54:31.037173: I tensorflow/cc/saved_model/reader.cc:52] Reading meta graph with tags { serve }\n",
            "2025-05-25 11:54:31.037180: I tensorflow/cc/saved_model/reader.cc:147] Reading SavedModel debug info (if present) from: /var/folders/t_/zj_f3xqx0h1_m2mq82vhpy_00000gn/T/tmp4_l_coc7\n",
            "2025-05-25 11:54:31.045202: I tensorflow/cc/saved_model/loader.cc:236] Restoring SavedModel bundle.\n",
            "2025-05-25 11:54:31.087331: I tensorflow/cc/saved_model/loader.cc:220] Running initialization op on SavedModel bundle at path: /var/folders/t_/zj_f3xqx0h1_m2mq82vhpy_00000gn/T/tmp4_l_coc7\n",
            "2025-05-25 11:54:31.100599: I tensorflow/cc/saved_model/loader.cc:471] SavedModel load for tags { serve }; Status: success: OK. Took 64065 microseconds.\n",
            "fully_quantize: 0, inference_type: 6, input_inference_type: INT8, output_inference_type: INT8\n"
          ]
        }
      ],
      "source": [
        "from tensorflow.lite.python import convert\n",
        "     \n",
        "\n",
        "\n",
        "# optional: reload model\n",
        "model = tf.keras.models.load_model('./models/2025-05-25_11-52-23_advanced_small.keras.keras')\n",
        "model.summary()\n",
        "\n",
        "basic_converter = tf.lite.TFLiteConverter.from_keras_model(model)\n",
        "basic_tflite_model = basic_converter.convert()\n",
        "\n",
        "\n",
        "optimized_converter = tf.lite.TFLiteConverter.from_keras_model(model)\n",
        "optimized_converter.optimizations = [tf.lite.Optimize.DEFAULT]\n",
        "optimized_tflite_model = optimized_converter.convert()\n",
        "\n",
        "def representative_dataset_gen():\n",
        "    for i in range(len(x_train)):\n",
        "        yield [np.expand_dims(x_train[i].astype(np.float32), axis=0)]\n",
        "\n",
        "optimized_converter.representative_dataset = representative_dataset_gen\n",
        "optimized_converter.target_spec.supported_ops = [tf.lite.OpsSet.TFLITE_BUILTINS_INT8]\n",
        "optimized_converter.inference_input_type = tf.int8\n",
        "optimized_converter.inference_output_type = tf.int8\n",
        "# optimized_converter._experimental_calibrate_only = True\n",
        "# calibrated_model = optimized_converter.convert()\n",
        "\n",
        "# quantized_tflite_model = convert.mlir_quantize(\n",
        "#     calibrated_model,\n",
        "#     enable_numeric_verify=True,\n",
        "#     enable_whole_model_verify=True,\n",
        "#     input_data_type=tf.int8,\n",
        "#     output_data_type=tf.int8,\n",
        "#     fully_quantize=True,\n",
        "# )\n",
        "# debugger = tf.lite.experimental.QuantizationDebugger(\n",
        "#     quant_debug_model_content=quantized_tflite_model,\n",
        "#     debug_dataset=representative_dataset_gen)\n",
        "\n",
        "quantized_tflite_model = optimized_converter.convert()\n"
      ]
    },
    {
      "cell_type": "code",
      "execution_count": 85,
      "metadata": {
        "id": "adJu3wwNhUJr"
      },
      "outputs": [],
      "source": [
        "# Save the converted model\n",
        "\n",
        "with open(f\"{export_base_path}-basic.tflite\", 'wb') as f:\n",
        "    f.write(basic_tflite_model)\n",
        "\n",
        "# with open(f\"{export_base_path}-optimized.tflite\", 'wb') as f:\n",
        "#     f.write(optimized_tflite_model)\n",
        "\n",
        "with open(f\"{export_base_path}-quantized.tflite\", 'wb') as f:\n",
        "    f.write(quantized_tflite_model)\n"
      ]
    },
    {
      "cell_type": "code",
      "execution_count": 77,
      "metadata": {},
      "outputs": [
        {
          "name": "stdout",
          "output_type": "stream",
          "text": [
            "=== ORIGINAL MODEL ===\n",
            "\u001b[1m1292/1292\u001b[0m \u001b[32m━━━━━━━━━━━━━━━━━━━━\u001b[0m\u001b[37m\u001b[0m \u001b[1m4s\u001b[0m 3ms/step\n",
            "Model accuracy: 0.9690\n",
            "Estimated RAM usage: N/A for Keras model\n",
            "\n",
            "=== BASIC MODEL ===\n",
            "Model accuracy: 0.9667\n",
            "Estimated RAM usage (tensor buffers only): 159.64 KB\n",
            "\n",
            "=== OPTIMIZED MODEL ===\n",
            "Model accuracy: 0.9667\n",
            "Estimated RAM usage (tensor buffers only): 140.89 KB\n",
            "\n",
            "=== QUANTIZED MODEL ===\n",
            "Model accuracy: 0.7167\n",
            "Estimated RAM usage (tensor buffers only): 40.25 KB\n"
          ]
        },
        {
          "name": "stderr",
          "output_type": "stream",
          "text": [
            "/Users/ture/projects/tiny-ml/env/lib/python3.12/site-packages/tensorflow/lite/python/interpreter.py:457: UserWarning:     Warning: tf.lite.Interpreter is deprecated and is scheduled for deletion in\n",
            "    TF 2.20. Please use the LiteRT interpreter from the ai_edge_litert package.\n",
            "    See the [migration guide](https://ai.google.dev/edge/litert/migration)\n",
            "    for details.\n",
            "    \n",
            "  warnings.warn(_INTERPRETER_DELETION_WARNING)\n"
          ]
        }
      ],
      "source": [
        "def convert_input(x, dtype, input_details):\n",
        "    if dtype == np.int8:\n",
        "        scale, zp = input_details[0][\"quantization\"]\n",
        "        q = np.round(x/scale + zp) \\\n",
        "              .clip(-128, 127) \\\n",
        "              .astype(np.int8)\n",
        "        return q.reshape((1, 200, 3))\n",
        "    else:\n",
        "        return np.expand_dims(x.astype(dtype), axis=0)\n",
        "\n",
        "def evaluate_model(model, dtype=None):\n",
        "    if isinstance(model, tf.keras.Model):\n",
        "        predictions = model.predict(x_test, batch_size=1)\n",
        "        pred_labels = np.argmax(predictions, axis=1)\n",
        "        true_labels = np.argmax(y_test, axis=1)\n",
        "        accuracy = np.mean(pred_labels == true_labels)\n",
        "        print(f\"Model accuracy: {accuracy:.4f}\")\n",
        "        # RAM usage estimation doesn't apply to Keras\n",
        "        print(\"Estimated RAM usage: N/A for Keras model\")\n",
        "    else:\n",
        "        # Load TFLite model and allocate tensors.\n",
        "        interpreter = tf.lite.Interpreter(model_content=model)\n",
        "        interpreter.allocate_tensors()\n",
        "\n",
        "\n",
        "        # Get input/output tensor details\n",
        "        input_details = interpreter.get_input_details()\n",
        "        output_details = interpreter.get_output_details()\n",
        "\n",
        "        # Evaluate on test data\n",
        "        correct = 0\n",
        "        total = len(x_test)\n",
        "        for i in range(total):\n",
        "            input_data = convert_input(x_test[i], dtype, input_details)\n",
        "            interpreter.set_tensor(input_details[0]['index'], input_data)\n",
        "            interpreter.invoke()\n",
        "            output = interpreter.get_tensor(output_details[0]['index'])\n",
        "            pred_label = np.argmax(output)\n",
        "            true_label = np.argmax(y_test[i])\n",
        "            if pred_label == true_label:\n",
        "                correct += 1\n",
        "\n",
        "        accuracy = correct / total\n",
        "        print(f\"Model accuracy: {accuracy:.4f}\")\n",
        "\n",
        "        tensor_details = interpreter.get_tensor_details()\n",
        "        total_tensor_bytes = 0\n",
        "        for tensor in tensor_details:\n",
        "            shape = tensor['shape']\n",
        "            dtype = np.dtype(tensor['dtype'])\n",
        "            size = np.prod(shape) * dtype.itemsize\n",
        "            total_tensor_bytes += size\n",
        "\n",
        "        print(f\"Estimated RAM usage (tensor buffers only): {total_tensor_bytes / 1024:.2f} KB\")\n",
        "\n",
        "print(\"=== ORIGINAL MODEL ===\")\n",
        "evaluate_model(model)\n",
        "print(\"\")\n",
        "print(\"=== BASIC MODEL ===\")\n",
        "evaluate_model(basic_tflite_model, np.float32)\n",
        "print(\"\")\n",
        "print(\"=== OPTIMIZED MODEL ===\")\n",
        "evaluate_model(optimized_tflite_model, np.float32)\n",
        "print(\"\")\n",
        "print(\"=== QUANTIZED MODEL ===\")\n",
        "evaluate_model(quantized_tflite_model, np.int8)"
      ]
    },
    {
      "cell_type": "code",
      "execution_count": 78,
      "metadata": {},
      "outputs": [
        {
          "name": "stdout",
          "output_type": "stream",
          "text": [
            "=== basic ===\n",
            "[[9.9753579e-22 1.3762234e-16 1.0000000e+00 3.1315726e-14]]\n",
            "['idle', 'circle', 'left-right', 'up-down']\n",
            "pred: left-right\n",
            "=== optimized ===\n",
            "[[1.0361777e-21 1.3861339e-16 1.0000000e+00 3.1073570e-14]]\n",
            "['idle', 'circle', 'left-right', 'up-down']\n",
            "pred: left-right\n",
            "=== quantized ===\n",
            "[[-128 -128  127 -128]]\n",
            "['idle', 'circle', 'left-right', 'up-down']\n",
            "pred: left-right\n"
          ]
        }
      ],
      "source": [
        "def evaluate_model_static(model, dtype):\n",
        "    # Load TFLite model and allocate tensors.\n",
        "    interpreter = tf.lite.Interpreter(model_content=model)\n",
        "    interpreter.allocate_tensors()\n",
        "\n",
        "\n",
        "    # Get input/output tensor details\n",
        "    input_details = interpreter.get_input_details()\n",
        "    output_details = interpreter.get_output_details()\n",
        "\n",
        "    # Evaluate on test data\n",
        "    x = np.array([-6.1866,    -10.3525,    5.5348,    -8.9178,    -10.5560,    5.8149,    -9.5367,    -10.2292,    6.0226,    -10.7290,    -9.8108,    6.4404,    -10.8607,    -9.4326,    6.7127,    -11.2958,    -9.3607,    7.1347,    -11.6909,    -9.1267,    7.5854,    -13.7930,    -9.3948,    7.9954,    -15.0278,    -9.3140,    8.0864,    -16.1698,    -9.5780,    7.9966,    -17.1712,    -10.0940,    8.0631,    -17.6764,    -10.4932,    8.2534,    -17.5004,    -10.3741,    8.3348,    -16.9294,    -8.5874,    7.8386,    -15.7119,    -8.0068,    7.3053,    -15.2966,    -7.5501,    6.6020,    -14.8488,    -7.0276,    5.8772,    -14.3473,    -6.7145,    5.2092,    -13.7685,    -6.4943,    4.6459,    -13.1238,    -6.4218,    4.1982,    -11.6256,    -7.2377,    3.7846,    -11.0899,    -7.7476,    3.8906,    -10.7278,    -8.3181,    4.0636,    -10.3489,    -8.6957,    4.4317,    -9.8049,    -8.9980,    4.8441,    -9.2518,    -9.0315,    5.1715,    -8.2001,    -8.8867,    4.9464,    -7.5537,    -8.7706,    4.6172,    -6.8540,    -8.5557,    4.2868,    -6.3075,    -8.4228,    4.1252,    -5.6467,    -8.1960,    4.2593,    -4.8117,    -8.1337,    4.3467,    -3.8702,    -8.5856,    4.3084,    -3.2388,    -10.5339,    4.3161,    -3.0490,    -11.6023,    4.2581,    -3.1196,    -12.1494,    4.2599,    -2.8778,    -12.1045,    4.3305,    -2.1679,    -11.6418,    4.6370,    -1.4174,    -10.6470,    4.8572,    -0.1808,    -9.1997,    4.0025,    0.3944,    -9.1459,    3.1603,    1.3461,    -9.3871,    2.5714,    3.2807,    -9.5511,    2.4948,    5.4959,    -9.7115,    2.8030,    7.4795,    -9.8701,    3.6129,    9.1453,    -10.4549,    4.7190,    10.2155,    -12.5732,    6.3063,    10.3615,    -12.9640,    6.2393,    10.4076,    -12.8168,    5.6419,    10.4459,    -12.1548,    5.0955,    10.9589,    -11.6681,    4.3437,    11.8004,    -11.3707,    3.6769,    12.3828,    -10.5052,    3.1831,    12.2996,    -9.8426,    3.1466,    12.3942,    -9.3954,    3.1741,    12.8778,    -9.3099,    3.4668,    13.6469,    -9.1022,    3.8277,    14.3072,    -8.8424,    4.0809,    14.8476,    -8.5491,    4.2066,    14.8010,    -8.3109,    4.1210,    14.2730,    -8.0373,    3.8355,    13.4794,    -7.7512,    3.5560,    12.4301,    -7.7901,    3.1951,    11.2881,    -8.1612,    2.7336,    9.6768,    -8.4108,    2.4648,    6.6260,    -10.1167,    2.4696,    5.4133,    -11.0433,    2.7689,    4.5957,    -11.7495,    3.1292,    4.2072,    -11.9950,    3.3770,    4.3473,    -11.8112,    3.6428,    4.4281,    -11.6496,    3.9834,    5.0141,    -10.8972,    4.2120,    4.9177,    -10.6344,    4.2725,    4.4299,    -10.5489,    4.4586,    3.4740,    -10.3681,    4.4975,    2.5672,    -10.1191,    4.4329,    2.0871,    -9.7923,    4.3485,    1.5706,    -9.9617,    4.4478,    1.1995,    -9.7193,    4.7776,    1.3318,    -9.6115,    4.7692,    1.4257,    -9.3128,    4.8417,    1.5191,    -9.1931,    5.0093,    1.2617,    -9.5636,    5.0494,    0.3394,    -10.1382,    5.1128,    -2.0979,    -11.1576,    5.3469,    -3.1951,    -11.0893,    5.3780,    -3.9666,    -10.6434,    5.2247,    -4.2234,    -9.9647,    5.2068,    -4.3910,    -8.9884,    4.9674,    -3.9971,    -8.3103,    4.7040,    -4.3922,    -8.0918,    4.7226,    -5.7874,    -9.1081,    5.1864,    -6.8989,    -10.1550,    5.6545,    -7.9511,    -10.7769,    6.1764,    -9.2494,    -11.3174,    6.6834,    -10.5040,    -11.2348,    7.2359,    -11.3593,    -10.4627,    7.6285,    -12.3625,    -8.8603,    7.2574,    -12.7635,    -8.0325,    7.2927,    -13.3237,    -7.4717,    7.2443,    -13.6110,    -7.1180,    7.3747,    -13.6847,    -6.6194,    7.2544,    -14.2431,    -6.3686,    6.9180,    -15.0116,    -6.5966,    7.0785,    -16.1261,    -7.5304,    7.5890,    -16.0998,    -8.2265,    7.9966,    -15.6832,    -8.6910,    8.1026,    -14.9536,    -8.6898,    7.9835,    -14.1180,    -8.5192,    7.3089,    -13.4422,    -7.7889,    6.8187,    -12.1901,    -6.5823,    5.3768,    -11.7819,    -6.2602,    4.9291,    -11.5562,    -6.0974,    4.7836,    -11.3569,    -6.3171,    4.6627,    -11.0055,    -6.8097,    4.4347,    -10.7015,    -7.3939,    4.2072,    -9.9222,    -9.7360,    4.1952,    -8.9370,    -10.6955,    4.3862,    -8.0014,    -11.0672,    4.6453,    -6.9989,    -11.1737,    4.3850,    -6.3363,    -10.4489,    4.1599,    -6.0466,    -9.6959,    3.8050,    -5.9245,    -9.1506,    3.3303,    -4.9949,    -8.4952,    2.5331,    -4.0348,    -8.4922,    2.6252,    -2.7438,    -8.8597,    3.0406,    -1.8130,    -9.5702,    3.6847,    -1.1851,    -10.4872,    4.3592,    -0.5746,    -11.1755,    4.9668,    0.6949,    -11.0289,    5.4271,    0.7697,    -10.6081,    5.0697,    0.5620,    -10.0191,    4.7477,    0.3771,    -9.4344,    4.2940,    0.3627,    -8.9914,    4.1180,    0.3639,    -9.0088,    4.2473,    0.6081,    -9.4523,    4.5616,    0.9834,    -10.6321,    5.0589,    1.4880,    -11.2306,    5.3876,    2.3966,    -11.7932,    5.7437,    4.1204,    -11.9225,    6.2698,    5.9777,    -11.7124,    6.6104,    7.6692,    -11.3347,    6.2926,    9.5038,    -10.7428,    4.6729,    9.7264,    -10.8781,    4.4095,    10.9032,    -11.5418,    4.7028,    12.0889,    -12.2356,    5.2768,    12.9454,    -12.7437,    5.9256,    13.5027,    -12.9772,    6.1148,    13.8175,    -13.1932,    5.6048,    14.4328,    -12.8712,    5.3917,    14.2856,    -12.2116,    5.1200,    13.8882,    -11.4539,    4.6849,    13.5416,    -10.7703,    4.1312,    13.1436,    -10.4094,    3.6218,    12.5911,    -10.1640,    3.2417,    11.0642,    -10.6811,    2.7001,    9.7654,    -11.4592,    2.7264,    8.3432,    -12.2900,    2.7827,    7.2000,    -13.0682,    2.8557,    6.8109,    -13.3842,    3.1340,    6.9581,    -13.4219,    3.5560,    7.2024,    -12.6575,    3.9720,    6.8941,    -11.9423,    3.9325,    6.4572,    -10.9846,    4.0396,    5.7640,    -10.1813,    4.0360,    5.4432,    -9.5289,    4.0097,    5.2565,    -8.9328,    4.0079,    4.8584,    -8.4048,    4.0276,    3.9510,    -7.7075,    3.9456,    3.3573,    -7.4292,    3.8409,    2.3709,    -7.7357,    3.8253,    1.5640,    -8.0816,    4.0576,    1.1492,    -8.2893,    4.1916,    0.6243,    -8.4593,    4.4831,    0.3232,    -8.5551,    4.6705,    0.0407,    -8.6939,    4.8650,    0.3813,    -8.5341,    4.8219,    0.6764,    -8.4647,    4.5424,    0.6656,    -7.9954,    4.1240,    0.3172,    -7.6369,    3.4878,    -0.5950,    -7.6680,    2.9329,    -4.1611,    -8.8059,    2.7240,    -6.2309,    -10.2610,    2.8258,    -8.4455,    -11.4706,    2.7270,    -10.0413,    -11.8298,    3.0107,    -11.0887,    -11.9932,    3.4656,    -11.3084,    -11.6532,    3.8020,    -10.8158,    -10.0311,    3.8373,    -10.0503,    -9.2129,    3.9313,    -11.4802,    -9.0890,    4.1599,    -12.7366,    -9.1195,    4.4640,    -14.6322,    -9.2680,    4.8028,    -16.6852,    -9.6977,    5.4396,    -18.3264,    -10.5159,    7.3843,    -19.1213,    -11.7543,    8.1774,    -18.4479,    -11.3796,    8.4809,    -17.2466,    -10.1879,    8.3719,    -16.2979,    -8.7376,    7.8817,    -15.9747,    -7.8362,    6.9174,    -15.9298,    -7.1168,    6.2938]).astype(np.float32)\n",
        "    q_x = convert_input(x, dtype, input_details).reshape((1, 200, 3))\n",
        "    # input_data = np.zeros(600).astype(dtype).reshape((1, 200, 3))\n",
        "    interpreter.set_tensor(input_details[0]['index'], q_x)\n",
        "    interpreter.invoke()\n",
        "    output = interpreter.get_tensor(output_details[0]['index'])\n",
        "    print(output)\n",
        "    print(labels)\n",
        "    pred_label = labels[np.argmax(output)]\n",
        "\n",
        "    print(f\"pred: {pred_label}\")\n",
        "\n",
        "\n",
        "print(\"=== basic ===\")\n",
        "evaluate_model_static(basic_tflite_model, np.float32)\n",
        "print(\"=== optimized ===\")\n",
        "evaluate_model_static(optimized_tflite_model, np.float32)\n",
        "print(\"=== quantized ===\")\n",
        "evaluate_model_static(quantized_tflite_model, np.int8)"
      ]
    },
    {
      "cell_type": "code",
      "execution_count": 79,
      "metadata": {},
      "outputs": [
        {
          "name": "stdout",
          "output_type": "stream",
          "text": [
            "=== TFLite ModelAnalyzer ===\n",
            "\n",
            "Your TFLite model has '1' subgraph(s). In the subgraph description below,\n",
            "T# represents the Tensor numbers. For example, in Subgraph#0, the EXPAND_DIMS op takes\n",
            "tensor #0 and tensor #1 as input and produces tensor #36 as output.\n",
            "\n",
            "Subgraph#0 main(T#0) -> [T#74]\n",
            "  Op#0 EXPAND_DIMS(T#0, T#1[1]) -> [T#36]\n",
            "  Op#1 DEPTHWISE_CONV_2D(T#36, T#35, T#34[0, 0, 0]) -> [T#37]\n",
            "  Op#2 CONV_2D(T#37, T#33, T#32[527, 256, 572, -50, 0, ...]) -> [T#38]\n",
            "  Op#3 MUL(T#38, T#31) -> [T#39]\n",
            "  Op#4 ADD(T#39, T#30) -> [T#40]\n",
            "  Op#5 RESHAPE(T#40, T#2[-1, 200, 8]) -> [T#41]\n",
            "  Op#6 EXPAND_DIMS(T#41, T#1[1]) -> [T#42]\n",
            "  Op#7 MAX_POOL_2D(T#42) -> [T#43]\n",
            "  Op#8 RESHAPE(T#43, T#3[-1, 100, 8]) -> [T#44]\n",
            "  Op#9 EXPAND_DIMS(T#44, T#4[-3]) -> [T#45]\n",
            "  Op#10 CONV_2D(T#45, T#29, T#28[127, -312, -59, 460]) -> [T#46]\n",
            "  Op#11 RESHAPE(T#46, T#5[-1, 100, 4]) -> [T#47]\n",
            "  Op#12 SPACE_TO_BATCH_ND(T#47, T#6[2], T#7[4, 4]) -> [T#48]\n",
            "  Op#13 EXPAND_DIMS(T#48, T#4[-3]) -> [T#49]\n",
            "  Op#14 CONV_2D(T#49, T#27, T#26[0, 0, 0, 0]) -> [T#50]\n",
            "  Op#15 RESHAPE(T#50, T#8[-1, 50, 4]) -> [T#51]\n",
            "  Op#16 BATCH_TO_SPACE_ND(T#51, T#6[2], T#9[0, 0]) -> [T#52]\n",
            "  Op#17 ADD(T#52, T#25) -> [T#53]\n",
            "  Op#18 EXPAND_DIMS(T#53, T#4[-3]) -> [T#54]\n",
            "  Op#19 CONV_2D(T#54, T#24, T#23[-1034, -990, 868, 536, -151, ...]) -> [T#55]\n",
            "  Op#20 MUL(T#55, T#22) -> [T#56]\n",
            "  Op#21 ADD(T#56, T#21) -> [T#57]\n",
            "  Op#22 RESHAPE(T#57, T#10[-1, 100, 16]) -> [T#58]\n",
            "  Op#23 EXPAND_DIMS(T#58, T#1[1]) -> [T#59]\n",
            "  Op#24 MAX_POOL_2D(T#59) -> [T#60]\n",
            "  Op#25 RESHAPE(T#60, T#11[-1, 50, 16]) -> [T#61]\n",
            "  Op#26 EXPAND_DIMS(T#61, T#4[-3]) -> [T#62]\n",
            "  Op#27 CONV_2D(T#62, T#20, T#19[-343, 1217, -1884, 1042, 610, ...]) -> [T#63]\n",
            "  Op#28 RESHAPE(T#63, T#11[-1, 50, 16]) -> [T#64]\n",
            "  Op#29 EXPAND_DIMS(T#64, T#4[-3]) -> [T#65]\n",
            "  Op#30 CONV_2D(T#65, T#18, T#17[7468, 4147, -8163, -348, 499, ...]) -> [T#66]\n",
            "  Op#31 RESHAPE(T#66, T#11[-1, 50, 16]) -> [T#67]\n",
            "  Op#32 ADD(T#61, T#67) -> [T#68]\n",
            "  Op#33 EXPAND_DIMS(T#68, T#1[1]) -> [T#69]\n",
            "  Op#34 MAX_POOL_2D(T#69) -> [T#70]\n",
            "  Op#35 RESHAPE(T#70, T#12[-1, 400]) -> [T#71]\n",
            "  Op#36 FULLY_CONNECTED(T#71, T#16, T#15[-242, -190, -18, 186, -268, ...]) -> [T#72]\n",
            "  Op#37 FULLY_CONNECTED(T#72, T#14, T#13[320, -350, -8, -235]) -> [T#73]\n",
            "  Op#38 SOFTMAX(T#73) -> [T#74]\n",
            "\n",
            "Tensors of Subgraph#0\n",
            "  T#0(serving_default_input_layer:0) shape_signature:[-1, 200, 3], type:INT8\n",
            "  T#1(arith.constant) shape:[], type:INT32 RO 4 bytes, buffer: 2, data:[1]\n",
            "  T#2(arith.constant1) shape:[3], type:INT32 RO 12 bytes, buffer: 3, data:[-1, 200, 8]\n",
            "  T#3(arith.constant2) shape:[3], type:INT32 RO 12 bytes, buffer: 4, data:[-1, 100, 8]\n",
            "  T#4(arith.constant3) shape:[], type:INT32 RO 4 bytes, buffer: 5, data:[-3]\n",
            "  T#5(arith.constant4) shape:[3], type:INT32 RO 12 bytes, buffer: 6, data:[-1, 100, 4]\n",
            "  T#6(arith.constant5) shape:[1], type:INT32 RO 4 bytes, buffer: 7, data:[2]\n",
            "  T#7(arith.constant6) shape:[1, 2], type:INT32 RO 8 bytes, buffer: 8, data:[4, 4]\n",
            "  T#8(arith.constant7) shape:[3], type:INT32 RO 12 bytes, buffer: 9, data:[-1, 50, 4]\n",
            "  T#9(arith.constant8) shape:[1, 2], type:INT32 RO 8 bytes, buffer: 10, data:[0, 0]\n",
            "  T#10(arith.constant9) shape:[3], type:INT32 RO 12 bytes, buffer: 11, data:[-1, 100, 16]\n",
            "  T#11(arith.constant10) shape:[3], type:INT32 RO 12 bytes, buffer: 12, data:[-1, 50, 16]\n",
            "  T#12(arith.constant11) shape:[2], type:INT32 RO 8 bytes, buffer: 13, data:[-1, 400]\n",
            "  T#13(tfl.pseudo_qconst) shape:[4], type:INT32 RO 16 bytes, buffer: 14, data:[320, -350, -8, -235]\n",
            "  T#14(tfl.pseudo_qconst1) shape:[4, 16], type:INT8 RO 64 bytes, buffer: 15, data:[., ., ., C, ., ...]\n",
            "  T#15(tfl.pseudo_qconst2) shape:[16], type:INT32 RO 64 bytes, buffer: 16, data:[-242, -190, -18, 186, -268, ...]\n",
            "  T#16(tfl.pseudo_qconst3) shape:[16, 400], type:INT8 RO 6400 bytes, buffer: 17, data:[., ., ., ., ., ...]\n",
            "  T#17(tfl.pseudo_qconst4) shape:[16], type:INT32 RO 64 bytes, buffer: 18, data:[7468, 4147, -8163, -348, 499, ...]\n",
            "  T#18(tfl.pseudo_qconst5) shape:[16, 1, 3, 16], type:INT8 RO 768 bytes, buffer: 19, data:[., ., h, V, ., ...]\n",
            "  T#19(tfl.pseudo_qconst6) shape:[16], type:INT32 RO 64 bytes, buffer: 20, data:[-343, 1217, -1884, 1042, 610, ...]\n",
            "  T#20(tfl.pseudo_qconst7) shape:[16, 1, 3, 16], type:INT8 RO 768 bytes, buffer: 21, data:[H, ., ., ., ., ...]\n",
            "  T#21(tfl.pseudo_qconst8) shape:[16], type:INT8 RO 16 bytes, buffer: 22, data:[-, |, ., ., V, ...]\n",
            "  T#22(tfl.pseudo_qconst9) shape:[16], type:INT8 RO 16 bytes, buffer: 23, data:[., ., ., ., ., ...]\n",
            "  T#23(tfl.pseudo_qconst10) shape:[16], type:INT32 RO 64 bytes, buffer: 24, data:[-1034, -990, 868, 536, -151, ...]\n",
            "  T#24(tfl.pseudo_qconst11) shape:[16, 1, 1, 4], type:INT8 RO 64 bytes, buffer: 25, data:[., ., $, ., ., ...]\n",
            "  T#25(tfl.pseudo_qconst12) shape:[4], type:INT8 RO 4 bytes, buffer: 26, data:[., ., ., .]\n",
            "  T#26(tfl.pseudo_qconst13) shape:[4], type:INT32 RO 16 bytes, buffer: 27, data:[0, 0, 0, 0]\n",
            "  T#27(tfl.pseudo_qconst14) shape:[4, 1, 5, 4], type:INT8 RO 80 bytes, buffer: 28, data:[., l, ., M, ., ...]\n",
            "  T#28(tfl.pseudo_qconst15) shape:[4], type:INT32 RO 16 bytes, buffer: 29, data:[127, -312, -59, 460]\n",
            "  T#29(tfl.pseudo_qconst16) shape:[4, 1, 1, 8], type:INT8 RO 32 bytes, buffer: 30, data:[., ., ., $, ., ...]\n",
            "  T#30(tfl.pseudo_qconst17) shape:[8], type:INT8 RO 8 bytes, buffer: 31, data:[', ., !, *, ., ...]\n",
            "  T#31(tfl.pseudo_qconst18) shape:[8], type:INT8 RO 8 bytes, buffer: 32, data:[., ., ., ., ., ...]\n",
            "  T#32(tfl.pseudo_qconst19) shape:[8], type:INT32 RO 32 bytes, buffer: 33, data:[527, 256, 572, -50, 0, ...]\n",
            "  T#33(tfl.pseudo_qconst20) shape:[8, 1, 1, 3], type:INT8 RO 24 bytes, buffer: 34, data:[., ., ., ., T, ...]\n",
            "  T#34(tfl.pseudo_qconst21) shape:[3], type:INT32 RO 12 bytes, buffer: 35, data:[0, 0, 0]\n",
            "  T#35(tfl.pseudo_qconst22) shape:[1, 1, 5, 3], type:INT8 RO 15 bytes, buffer: 36, data:[., ., ., ., U, ...]\n",
            "  T#36(functional_1/separable_conv1d_1/ExpandDims) shape_signature:[-1, 1, 200, 3], type:INT8\n",
            "  T#37(functional_1/separable_conv1d_1/separable_conv2d/depthwise) shape_signature:[-1, 1, 200, 3], type:INT8\n",
            "  T#38(functional_1/separable_conv1d_1/Relu;functional_1/separable_conv1d_1/BiasAdd;functional_1/separable_conv1d_1/Squeeze;functional_1/separable_conv1d_1/Squeeze_1;functional_1/separable_conv1d_1/separable_conv2d) shape_signature:[-1, 1, 200, 8], type:INT8\n",
            "  T#39(functional_1/batch_normalization_1/batchnorm/mul_1;functional_1/separable_conv1d_1/Squeeze;functional_1/separable_conv1d_1/Relu;functional_1/separable_conv1d_1/BiasAdd;functional_1/separable_conv1d_1/Squeeze_1;functional_1/batch_normalization_1/batchnorm/mul) shape_signature:[-1, 1, 200, 8], type:INT8\n",
            "  T#40(functional_1/batch_normalization_1/batchnorm/add_1;functional_1/separable_conv1d_1/Squeeze;functional_1/batch_normalization_1/batchnorm/mul_1;functional_1/separable_conv1d_1/Relu;functional_1/separable_conv1d_1/BiasAdd;functional_1/separable_conv1d_1/Squeeze_1;functional_1/batch_normalization_1/batchnorm/mul;functional_1/batch_normalization_1/batchnorm/sub) shape_signature:[-1, 1, 200, 8], type:INT8\n",
            "  T#41(functional_1/batch_normalization_1/batchnorm/add_1;functional_1/separable_conv1d_1/Squeeze;functional_1/batch_normalization_1/batchnorm/mul_1;functional_1/separable_conv1d_1/Relu;functional_1/separable_conv1d_1/BiasAdd;functional_1/separable_conv1d_1/Squeeze_1;functional_1/batch_normalization_1/batchnorm/mul;functional_1/batch_normalization_1/batchnorm/sub1) shape_signature:[-1, 200, 8], type:INT8\n",
            "  T#42(functional_1/max_pooling1d_1/MaxPool1d/ExpandDims) shape_signature:[-1, 1, 200, 8], type:INT8\n",
            "  T#43(functional_1/max_pooling1d_1/MaxPool1d) shape_signature:[-1, 1, 100, 8], type:INT8\n",
            "  T#44(functional_1/max_pooling1d_1/MaxPool1d/Squeeze) shape_signature:[-1, 100, 8], type:INT8\n",
            "  T#45(functional_1/conv1d_1/convolution/ExpandDims) shape_signature:[-1, 1, 100, 8], type:INT8\n",
            "  T#46(functional_1/conv1d_1/Relu;functional_1/conv1d_1/BiasAdd;functional_1/conv1d_1/convolution/Squeeze;functional_1/conv1d_1/Squeeze;functional_1/conv1d_1/convolution) shape_signature:[-1, 1, 100, 4], type:INT8\n",
            "  T#47(functional_1/conv1d_1/Relu;functional_1/conv1d_1/BiasAdd;functional_1/conv1d_1/convolution/Squeeze;functional_1/conv1d_1/Squeeze) shape_signature:[-1, 100, 4], type:INT8\n",
            "  T#48(functional_1/conv1d_1_2/convolution/SpaceToBatchND) shape_signature:[-1, 54, 4], type:INT8\n",
            "  T#49(functional_1/conv1d_1_2/convolution/ExpandDims) shape_signature:[-1, 1, 54, 4], type:INT8\n",
            "  T#50(functional_1/conv1d_1_2/convolution) shape_signature:[-1, 1, 50, 4], type:INT8\n",
            "  T#51(functional_1/conv1d_1_2/convolution/Squeeze) shape_signature:[-1, 50, 4], type:INT8\n",
            "  T#52(functional_1/conv1d_1_2/convolution/BatchToSpaceND) shape_signature:[-1, 100, 4], type:INT8\n",
            "  T#53(functional_1/conv1d_1_2/Relu;functional_1/conv1d_1_2/BiasAdd) shape_signature:[-1, 100, 4], type:INT8\n",
            "  T#54(functional_1/conv1d_2_1/convolution/ExpandDims) shape_signature:[-1, 1, 100, 4], type:INT8\n",
            "  T#55(functional_1/conv1d_2_1/Relu;functional_1/conv1d_2_1/BiasAdd;functional_1/conv1d_2_1/convolution/Squeeze;functional_1/conv1d_2_1/Squeeze;functional_1/conv1d_2_1/convolution) shape_signature:[-1, 1, 100, 16], type:INT8\n",
            "  T#56(functional_1/batch_normalization_1_2/batchnorm/mul_1;functional_1/conv1d_2_1/convolution/Squeeze;functional_1/conv1d_2_1/Relu;functional_1/conv1d_2_1/BiasAdd;functional_1/conv1d_2_1/Squeeze;functional_1/batch_normalization_1_2/batchnorm/mul) shape_signature:[-1, 1, 100, 16], type:INT8\n",
            "  T#57(functional_1/batch_normalization_1_2/batchnorm/add_1;functional_1/conv1d_2_1/convolution/Squeeze;functional_1/batch_normalization_1_2/batchnorm/mul_1;functional_1/conv1d_2_1/Relu;functional_1/conv1d_2_1/BiasAdd;functional_1/conv1d_2_1/Squeeze;functional_1/batch_normalization_1_2/batchnorm/mul;functional_1/batch_normalization_1_2/batchnorm/sub) shape_signature:[-1, 1, 100, 16], type:INT8\n",
            "  T#58(functional_1/batch_normalization_1_2/batchnorm/add_1;functional_1/conv1d_2_1/convolution/Squeeze;functional_1/batch_normalization_1_2/batchnorm/mul_1;functional_1/conv1d_2_1/Relu;functional_1/conv1d_2_1/BiasAdd;functional_1/conv1d_2_1/Squeeze;functional_1/batch_normalization_1_2/batchnorm/mul;functional_1/batch_normalization_1_2/batchnorm/sub1) shape_signature:[-1, 100, 16], type:INT8\n",
            "  T#59(functional_1/max_pooling1d_1_2/MaxPool1d/ExpandDims) shape_signature:[-1, 1, 100, 16], type:INT8\n",
            "  T#60(functional_1/max_pooling1d_1_2/MaxPool1d) shape_signature:[-1, 1, 50, 16], type:INT8\n",
            "  T#61(functional_1/max_pooling1d_1_2/MaxPool1d/Squeeze) shape_signature:[-1, 50, 16], type:INT8\n",
            "  T#62(functional_1/conv1d_3_1/convolution/ExpandDims) shape_signature:[-1, 1, 50, 16], type:INT8\n",
            "  T#63(functional_1/re_lu_1/Relu;functional_1/batch_normalization_2_1/batchnorm/add_1;functional_1/conv1d_3_1/convolution/Squeeze;functional_1/batch_normalization_2_1/batchnorm/mul_1;functional_1/conv1d_3_1/BiasAdd;functional_1/conv1d_3_1/Squeeze;functional_1/batch_normalization_2_1/batchnorm/mul;functional_1/batch_normalization_2_1/batchnorm/sub;functional_1/conv1d_3_1/convolution) shape_signature:[-1, 1, 50, 16], type:INT8\n",
            "  T#64(functional_1/re_lu_1/Relu;functional_1/batch_normalization_2_1/batchnorm/add_1;functional_1/conv1d_3_1/convolution/Squeeze;functional_1/batch_normalization_2_1/batchnorm/mul_1;functional_1/conv1d_3_1/BiasAdd;functional_1/conv1d_3_1/Squeeze;functional_1/batch_normalization_2_1/batchnorm/mul;functional_1/batch_normalization_2_1/batchnorm/sub) shape_signature:[-1, 50, 16], type:INT8\n",
            "  T#65(functional_1/conv1d_4_1/convolution/ExpandDims) shape_signature:[-1, 1, 50, 16], type:INT8\n",
            "  T#66(functional_1/batch_normalization_3_1/batchnorm/add_1;functional_1/conv1d_4_1/convolution/Squeeze;functional_1/batch_normalization_3_1/batchnorm/mul_1;functional_1/conv1d_4_1/BiasAdd;functional_1/conv1d_4_1/Squeeze;functional_1/batch_normalization_3_1/batchnorm/mul;functional_1/batch_normalization_3_1/batchnorm/sub;functional_1/conv1d_4_1/convolution) shape_signature:[-1, 1, 50, 16], type:INT8\n",
            "  T#67(functional_1/batch_normalization_3_1/batchnorm/add_1;functional_1/conv1d_4_1/convolution/Squeeze;functional_1/batch_normalization_3_1/batchnorm/mul_1;functional_1/conv1d_4_1/BiasAdd;functional_1/conv1d_4_1/Squeeze;functional_1/batch_normalization_3_1/batchnorm/mul;functional_1/batch_normalization_3_1/batchnorm/sub) shape_signature:[-1, 50, 16], type:INT8\n",
            "  T#68(functional_1/re_lu_1_2/Relu;functional_1/add_1/Add) shape_signature:[-1, 50, 16], type:INT8\n",
            "  T#69(functional_1/max_pooling1d_2_1/MaxPool1d/ExpandDims) shape_signature:[-1, 1, 50, 16], type:INT8\n",
            "  T#70(functional_1/max_pooling1d_2_1/MaxPool1d) shape_signature:[-1, 1, 25, 16], type:INT8\n",
            "  T#71(functional_1/flatten_1/Reshape) shape_signature:[-1, 400], type:INT8\n",
            "  T#72(functional_1/dense_1/MatMul;functional_1/dense_1/Relu;functional_1/dense_1/BiasAdd) shape_signature:[-1, 16], type:INT8\n",
            "  T#73(functional_1/y_pred_1/MatMul;functional_1/y_pred_1/BiasAdd) shape_signature:[-1, 4], type:INT8\n",
            "  T#74(StatefulPartitionedCall_1:0) shape_signature:[-1, 4], type:INT8\n",
            "\n",
            "---------------------------------------------------------------\n",
            "Your TFLite model has '1' signature_def(s).\n",
            "\n",
            "Signature#0 key: 'serving_default'\n",
            "- Subgraph: Subgraph#0\n",
            "- Inputs: \n",
            "    'input_layer' : T#0\n",
            "- Outputs: \n",
            "    'output_0' : T#74\n",
            "\n",
            "---------------------------------------------------------------\n",
            "              Model size:      27368 bytes\n",
            "    Non-data buffer size:      18517 bytes (67.66 %)\n",
            "  Total data buffer size:       8851 bytes (32.34 %)\n",
            "    (Zero value buffers):         52 bytes (00.19 %)\n",
            "\n",
            "* Buffers of TFLite model are mostly used for constant tensors.\n",
            "  And zero value buffers are buffers filled with zeros.\n",
            "  Non-data buffers area are used to store operators, subgraphs and etc.\n",
            "  You can find more details from https://github.com/tensorflow/tensorflow/blob/master/tensorflow/lite/schema/schema.fbs\n",
            "\n"
          ]
        }
      ],
      "source": [
        "tf.lite.experimental.Analyzer.analyze(model_content=quantized_tflite_model)"
      ]
    },
    {
      "cell_type": "markdown",
      "metadata": {
        "id": "qTKZxJ3rhUJt"
      },
      "source": [
        "# Lab 3: Deployment\n",
        "\n",
        "Now, that you have designed and trained a quantized model, it is time to deploy it.\n",
        "\n",
        "### Model Export - Library Creation\n",
        "\n",
        "Up until now we created different models that we can test and evaluate using Python. However, most microcontrollers don't speak Python. Instead they work with C/C++ and thus we need a C(++) library of the models to execute it. Here you explore different ways to export your models to a C(++) library."
      ]
    },
    {
      "cell_type": "markdown",
      "metadata": {
        "id": "H1g9ML1lhUJt"
      },
      "source": [
        "#### Manual conversion of the model\n",
        "\n",
        "---\n",
        "**Task 21:** Convert your best performing quantized model to a C++ library with the code below and explain the content of the two resulting files.\n",
        "\n",
        "**Answer:** ...\n",
        "\n",
        "---"
      ]
    },
    {
      "cell_type": "code",
      "execution_count": null,
      "metadata": {
        "id": "vMOsoVzQhUJt"
      },
      "outputs": [],
      "source": [
        "!apt-get update && apt-get -qq install xxd"
      ]
    },
    {
      "cell_type": "code",
      "execution_count": 86,
      "metadata": {
        "id": "ET_vBchFhUJt"
      },
      "outputs": [],
      "source": [
        "# MODEL_TFLITE = f'{export_base_path}-quantized.tflite' #enter the name of your TFlite file uploaded to the folders section\n",
        "# MODEL_TFLITE_MICRO = f'{export_base_path}-quantized.cc' #update the name of your .cc file (This can be anything)\n",
        "MODEL_TFLITE = f'{export_base_path}-basic.tflite' #enter the name of your TFlite file uploaded to the folders section\n",
        "MODEL_TFLITE_MICRO = f'{export_base_path}-basic.cc' #update the name of your .cc file (This can be anything)\n",
        "!xxd -i {MODEL_TFLITE} > {MODEL_TFLITE_MICRO}\n",
        "REPLACE_TEXT = MODEL_TFLITE.replace('/', '_').replace('.', '_')\n",
        "!sed -i '' \"s|{REPLACE_TEXT}|g_model|g\" \"{MODEL_TFLITE_MICRO}\""
      ]
    },
    {
      "cell_type": "code",
      "execution_count": 87,
      "metadata": {
        "id": "t4Y36iCBhUJt"
      },
      "outputs": [],
      "source": [
        "LIBRARY_NAME = 'gesture_model'\n",
        "max_label_str_length = max([len(lbl) for lbl in labels]) + 1\n",
        "\n",
        "model_str = f\"alignas(16) const unsigned char {LIBRARY_NAME}[] = \"\n",
        "with open(MODEL_TFLITE_MICRO, 'r') as file:\n",
        "    data = file.read();\n",
        "    model_str += data[data.index(\"{\"): len(data)].replace(\"unsigned\", \"const\")\n",
        "\n",
        "labels_str = f\"const char available_classes[][{max_label_str_length}] = {{\"\n",
        "for i in range(0, len(labels)):\n",
        "    if i != 0:\n",
        "        labels_str += \", \"\n",
        "    labels_str += \"\\\"\"+labels[i]+\"\\\"\"\n",
        "labels_str += \"};\"\n",
        "\n",
        "output_str = f\"#include \\\"{LIBRARY_NAME}.h\\\"\\n\"\n",
        "output_str += labels_str + \"\\n\"\n",
        "output_str += \"const int available_classes_num = \"+str(len(labels)) +\";\\n\"\n",
        "output_str += model_str\n",
        "\n",
        "with open(f\"project/src/{LIBRARY_NAME}.cc\", \"w\") as file:\n",
        "    file.write(output_str)\n",
        "\n",
        "header_str = \"#ifndef TENSORFLOW_LITE_MODEL_H_\\n#define TENSORFLOW_LITE_MODEL_H_\\n\\n\"\n",
        "header_str += \"// Classes that can be detected by the neural network\\n\"\n",
        "header_str += f\"extern const char available_classes[][{max_label_str_length}];\\n\"\n",
        "header_str += \"extern const int available_classes_num;\\n\\n\"\n",
        "header_str += \"// Pre-trained netural network\\n\"\n",
        "header_str += f\"extern const unsigned char {LIBRARY_NAME}[];\\n\"\n",
        "header_str += f\"extern const int {LIBRARY_NAME}_len;\\n\\n\"\n",
        "header_str += \"#endif /* TENSORFLOW_LITE_MODEL_H_ */\"\n",
        "\n",
        "with open(f\"project/src/{LIBRARY_NAME}.h\", \"w\") as file:\n",
        "    file.write(header_str)\n"
      ]
    },
    {
      "cell_type": "markdown",
      "metadata": {
        "id": "9W2nbZFdhUJt"
      },
      "source": [
        "Next you will use your library in an Arduino program to (or if you prefer, in a Zephyr program) and execute the [inference on a microcontroller](https://ai.google.dev/edge/litert/microcontrollers/get_started). I strongly recommend you to use [this](https://docs.arduino.cc/tutorials/nano-33-ble-sense/get-started-with-machine-learning) Arduino example as a starting point to write the code. (If you prefer to use Zephyr, have a look at [this](https://docs.zephyrproject.org/latest/samples/modules/tflite-micro/hello_world/README.html#tflite-hello-world) repository.)\n",
        "\n",
        "---\n",
        "**Task 22:** Write an Arduino (or Zephyr) program that records and uses a movement as input, classifies the gesture and reports the result back to you through the serial interface. For this, please do not forget to spend some time in the tutorials linked in the text block above.\n",
        "\n",
        "**Task 23:** Upload the program to the Arduino and compare the real memory usage with the Edge Impulse estimate. Was the estimate correct? How much does it differ?\n",
        "\n",
        "**Answer:** ...\n",
        "\n",
        "**Task 24:** Extend your Arduino program and measure the inference time on the Arduino. Was the estimate correct?\n",
        "\n",
        "**Answer:** ...\n",
        "\n",
        "**Task 25:** Perform inference for at least 20 gestures and plot statistics (e.g., bar plot (mean) with error bar (standard deviation)) for the inference time. Does it vary? Why or why not?\n",
        "\n",
        "**Answer:** ...\n",
        "\n",
        "\n",
        "\n",
        "---"
      ]
    },
    {
      "cell_type": "markdown",
      "metadata": {
        "id": "Bb4Izz25hUJu"
      },
      "source": [
        "### Model conversion and library creation with Edge Impulse\n",
        "\n",
        "In the last lab, you trained a model with Edge Impulse. Now we want to continue with that model and compare its on-device performance with your locally trained model.\n",
        "\n",
        "---\n",
        "**Task 26:** Head to your dashboard of the project of lab 1 and download the quantized models of your classifiers. Head to [https://netron.app/](https://netron.app/) and open your models with it. Click on the input or output layer and take a look at the quantization equations. Are the quantization equations the same for each of your classifiers? Why (not)?\n",
        "\n",
        "**Answer:** ...\n",
        "\n",
        "**Task 27:** Build two Arduino Libraries for your best performing model – one with enabling the EON Compiler and one without. (You might have to create an impulse containing only a single model.) For both libraries, use the quantized version. What is the EON Compiler, and why is the memory usage so different between the two libraries? Compare the models included in the two libraries (in `src > tflite-model`). How do they differ? What makes one of them smaller?\n",
        "\n",
        "**Answer:** ...\n",
        "\n",
        "**Task 28:** Include the libraries into your Arduino IDE (`Add .ZIP Library...`). Open the accelerometer example that comes with your library and flash it to your board. Open a serial monitor. Explain the Arduino program and the output of the serial monitor. Also, why is there a reference to numpy in the Arduino program? How is that possible in C++? Evaluate how well and how fast the classification works for each of your motions. Is there a difference in performance between the two Arduino libraries?\n",
        "\n",
        "**Answer:** ...\n",
        "\n",
        "**Task 29:** Compare the memory usage and performance of the two Edge Impulse models with your locally trained model. How do they compare? Please create plots.\n",
        "\n",
        "**Answer:** ...\n",
        "\n",
        "**Task 30 (optional):** You can also create an Arduino library with your locally trained model. Explore how to use Edge Impulse to [create a library](https://docs.edgeimpulse.com/docs/tools/edge-impulse-python-sdk) to deploy your local model. First, check the available target devices for deployment (`ei.model.list_deployment_targets()`) and find the correct Arduino corresponding to your hardware. Create an Arduino Library with Edge Impulse and compare its performance with the libraries above.\n",
        "\n",
        "---"
      ]
    }
  ],
  "metadata": {
    "accelerator": "GPU",
    "colab": {
      "gpuType": "T4",
      "provenance": []
    },
    "kernelspec": {
      "display_name": "env",
      "language": "python",
      "name": "python3"
    },
    "language_info": {
      "codemirror_mode": {
        "name": "ipython",
        "version": 3
      },
      "file_extension": ".py",
      "mimetype": "text/x-python",
      "name": "python",
      "nbconvert_exporter": "python",
      "pygments_lexer": "ipython3",
      "version": "3.12.10"
    }
  },
  "nbformat": 4,
  "nbformat_minor": 0
}
