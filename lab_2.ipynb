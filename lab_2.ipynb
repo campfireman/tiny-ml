{
  "cells": [
    {
      "cell_type": "markdown",
      "metadata": {
        "id": "MzHYKcWEHTGu"
      },
      "source": [
        "<table class=\"tfo-notebook-buttons\" align=\"left\">\n",
        "  <td>\n",
        "    <a target=\"_blank\" href=\"https://colab.research.google.com/github/ds-kiel/TinyML-Labs/blob/WS24-25/Lab2.ipynb\"><img src=\"https://www.tensorflow.org/images/colab_logo_32px.png\" />Run in Google Colab</a>\n",
        "  </td>\n",
        "  <td>\n",
        "    <a target=\"_blank\" href=\"https://github.com/ds-kiel/TinyML-Labs/blob/WS24-25/Lab2.ipynb\"><img src=\"https://www.tensorflow.org/images/GitHub-Mark-32px.png\" />View source on GitHub</a>\n",
        "  </td>\n",
        "  <td>\n",
        "    <a href=\"https://raw.githubusercontent.com/ds-kiel/TinyML-Labs/WS24-25/Lab2.ipynb\" download><img src=\"https://www.tensorflow.org/images/download_logo_32px.png\" />Download notebook</a>\n",
        "  </td>\n",
        "</table>"
      ]
    },
    {
      "cell_type": "markdown",
      "metadata": {
        "id": "OvrMU-DIHePo"
      },
      "source": [
        "# Quantization and On-Device Execution (Lab 2 & 3)\n",
        "\n",
        "In the first lab you looked at the first part of the pipeline from data to executing models on low-power devices. You explored how to preprocess data and train neural networks with Edge Impulse. In this lab we continue the pipeline and you will explore how to [convert](https://ai.google.dev/edge/litert/models/convert_tf) a model to a [LiteRT](https://ai.google.dev/edge/litert) model, how to [quantize](https://ai.google.dev/edge/litert/models/post_training_integer_quant) [a model](https://www.tensorflow.org/model_optimization/guide/quantization/post_training), how to use [quantization-aware training](https://www.tensorflow.org/model_optimization/guide/quantization/training) and finally how to deploy the model and use the model with a microcontroller. **Come back to these documents in case you get stuck**.\n",
        "\n",
        "You will explore the full pipeline from data to device using Tensorflow. You will train a model and convert, deploy, and execute it on a microcontroller, specifically the [Arduino Nano 33 BLE Sense](https://store.arduino.cc/products/arduino-tiny-machine-learning-kit).\n",
        "\n",
        "This file is for both labs 2 and 3. Lab 2 is about generating a model in TF and quanizizing it. Lab 3 is then about the deployment.\n",
        "\n",
        "## Environment\n",
        "\n",
        "The instructions for this lab come as a [Jupyter Notebook](https://jupyter.org/). You can run it locally in your own Python environment, but we recommend you to use [Google Colab](https://colab.research.google.com) to save your compute ressources, have an instantly working python environment, and allow for easy collaboration. If your decide to use your local computer, take a look at Python virtual environments to avoid messing with your usual Python environment.\n",
        "\n",
        "## What do you need to hand in?\n",
        "\n",
        "Please complete the tasks by (a) completing the coding tasks and (b) answer the questions (please write a few lines directly in the notebook after the **Answer:** element). Thus, this Jupyter Notebook is intended as a document that you use both for working on the lab as well as for answering the questions. Once completed with lab 2 (or lab 3) let the teacher know. Be ready to demonstrate your results and show your code & answers to the tasks."
      ]
    },
    {
      "cell_type": "markdown",
      "metadata": {
        "id": "AA7veEy6jbjE"
      },
      "source": [
        "# Lab 2: Quantization"
      ]
    },
    {
      "cell_type": "markdown",
      "metadata": {
        "id": "p2d8yFY1GUX1"
      },
      "source": [
        "## Setup"
      ]
    },
    {
      "cell_type": "code",
      "execution_count": 65,
      "metadata": {
        "id": "fOJvKcsUGWH1"
      },
      "outputs": [
        {
          "name": "stdout",
          "output_type": "stream",
          "text": [
            "zsh:1: 2.3 not found\n"
          ]
        }
      ],
      "source": [
        "# If you have not done so already, install the following dependencies (if you are in a local envoronment, you might need to install some more)\n",
        "!python -m pip install tensorflow>=2.3 matplotlib seaborn cbor2"
      ]
    },
    {
      "cell_type": "markdown",
      "metadata": {
        "id": "eTICd15rGZGx"
      },
      "source": [
        "### Imports"
      ]
    },
    {
      "cell_type": "code",
      "execution_count": 3,
      "metadata": {
        "colab": {
          "base_uri": "https://localhost:8080/"
        },
        "id": "y7yRUuJUGaq-",
        "outputId": "0c0aa9f6-a481-4355-fb8c-08786e3db057"
      },
      "outputs": [],
      "source": [
        "import numpy as np\n",
        "import pandas as pd\n",
        "import os\n",
        "import cbor2\n",
        "\n",
        "import tensorflow as tf\n",
        "from tensorflow import keras\n",
        "from keras.models import Sequential, Model\n",
        "from keras.layers import Conv1D, MaxPooling1D, Dense, Flatten, Dropout, BatchNormalization, ReLU, Add, Input, SeparableConv1D\n",
        "from keras.callbacks import EarlyStopping\n",
        "\n",
        "from sklearn.model_selection import train_test_split\n",
        "from sklearn.metrics import confusion_matrix\n",
        "#import edgeimpulse as ei\n",
        "\n",
        "import matplotlib.pyplot as plt\n",
        "import seaborn as sns\n",
        "\n",
        "#disable this if you are not using Google Colab\n",
        "#from google.colab import drive\n",
        "#drive.mount('/content/drive')"
      ]
    },
    {
      "cell_type": "markdown",
      "metadata": {
        "id": "yhIKkymAGfqu"
      },
      "source": [
        "### Helper Functions"
      ]
    },
    {
      "cell_type": "code",
      "execution_count": 4,
      "metadata": {
        "id": "WRxTHnJcGk0a"
      },
      "outputs": [],
      "source": [
        "def plot_training_history(history, model_name):\n",
        "    fig, (ax1, ax2) = plt.subplots(1, 2)\n",
        "    fig.suptitle(f'Model {model_name}')\n",
        "    fig.set_figwidth(15)\n",
        "\n",
        "    ax1.plot(range(1, len(history.history['accuracy'])+1), history.history['accuracy'])\n",
        "    ax1.plot(range(1, len(history.history['val_accuracy'])+1), history.history['val_accuracy'])\n",
        "    ax1.set_title('Model accuracy')\n",
        "    ax1.set(xlabel='epoch', ylabel='accuracy')\n",
        "    ax1.legend(['training', 'validation'], loc='best')\n",
        "\n",
        "    ax2.plot(range(1, len(history.history['loss'])+1), history.history['loss'])\n",
        "    ax2.plot(range(1, len(history.history['val_loss'])+1), history.history['val_loss'])\n",
        "    ax2.set_title('Model loss')\n",
        "    ax2.set(xlabel='epoch', ylabel='loss')\n",
        "    ax2.legend(['training', 'validation'], loc='best')\n",
        "    plt.show()"
      ]
    },
    {
      "cell_type": "markdown",
      "metadata": {
        "id": "mp9j7urCG-6E"
      },
      "source": [
        "## Edge Impulse Dataset"
      ]
    },
    {
      "cell_type": "markdown",
      "metadata": {
        "id": "jZUVTQ2TIA10"
      },
      "source": [
        "### Prepare the data\n",
        "\n",
        "---\n",
        "**Task 1:** Navigate to the *Data acquisition* page in your Edge Impulse project of lab 1 and export the data.\n",
        "\n",
        "**Task 2:** Import the data with the code below.\n",
        "\n",
        "---"
      ]
    },
    {
      "cell_type": "code",
      "execution_count": 5,
      "metadata": {
        "colab": {
          "base_uri": "https://localhost:8080/",
          "height": 326
        },
        "id": "xz7Y0_obhUJp",
        "outputId": "925f0a61-c4dc-4f6e-89fc-36c86c70e5e9"
      },
      "outputs": [],
      "source": [
        "labels = ['idle', 'circle', 'left-right', 'up-down'] # Change this to your labels if needed\n",
        "num_classes = len(labels)\n",
        "\n",
        "data_path = './data/' # Change this to the path of your downloaded folder\n",
        "\n",
        "# Select the window size and stride you used in Edge Impulse\n",
        "window_size_ms = 2000\n",
        "window_stride_ms = 100\n",
        "\n",
        "\n",
        "# Function to create windows from the data\n",
        "def create_windows(df, window_size_ms, window_stride_ms, label):\n",
        "    window_size = int(window_size_ms / 10)\n",
        "    window_stride = int(window_stride_ms / 10)\n",
        "    windows = []\n",
        "    windows_labels = []\n",
        "    for i in range(0, len(df) - window_size, window_stride):\n",
        "        windows.append(df.iloc[i:i+window_size].values)\n",
        "        windows_labels.append(label)\n",
        "    return np.array(windows),windows_labels\n",
        "\n",
        "# Load the data from the files\n",
        "def load_data(data_path, folder):\n",
        "    data = np.zeros((1, int(window_size_ms / 10), 3))\n",
        "    data_labels = []\n",
        "    for file in os.listdir(data_path+folder):\n",
        "        if file.endswith('.cbor'):\n",
        "            label = file.split('.')[0].strip()\n",
        "            with open(data_path+folder+'/'+file, 'rb') as f_obj:\n",
        "                data_file = cbor2.load(f_obj)\n",
        "                df = pd.DataFrame(data_file['payload']['values'], columns=[item['name'] for item in data_file['payload']['sensors']])\n",
        "                df = df.drop(columns=['gyrX', 'gyrY', 'gyrZ', 'magX', 'magY', 'magZ'])\n",
        "\n",
        "                window_data, window_labels = create_windows(df, window_size_ms, window_stride_ms, labels.index(label))\n",
        "                data = np.concatenate((data, window_data), axis=0)\n",
        "                data_labels += window_labels\n",
        "\n",
        "    data = np.delete(data, 0, axis=0)\n",
        "    return data, data_labels\n",
        "\n",
        "\n",
        "x_train, y_train = load_data(data_path, 'training')\n",
        "x_test, y_test = load_data(data_path, 'testing')\n",
        "\n",
        "y_train = keras.utils.to_categorical(y_train, num_classes)\n",
        "y_test = keras.utils.to_categorical(y_test, num_classes)"
      ]
    },
    {
      "cell_type": "markdown",
      "metadata": {
        "id": "BNDgID5nhUJp"
      },
      "source": [
        "---\n",
        "**Task 3 (optional):** Perform scaling on your data if you like to. *Please note: You have to do the same scaling later in your Arduino program.*\n",
        "\n",
        "---"
      ]
    },
    {
      "cell_type": "code",
      "execution_count": 69,
      "metadata": {
        "id": "702a_0RZhUJp"
      },
      "outputs": [],
      "source": [
        "# perform your scaling here"
      ]
    },
    {
      "cell_type": "markdown",
      "metadata": {
        "id": "yt8W5N0UIHtY"
      },
      "source": [
        "### Build the model\n",
        "\n",
        "---\n",
        "**Task 4:** Add your best model from lab 1, that uses a raw data preprocessing block.\n",
        "\n",
        "---"
      ]
    },
    {
      "cell_type": "code",
      "execution_count": null,
      "metadata": {
        "id": "eWq43Tx6HxN1"
      },
      "outputs": [],
      "source": [
        "# Build model\n",
        "\n",
        "def bottleneck_block(x, filters, dilation_rate):\n",
        "    # 1×1 “pointwise” compression\n",
        "    y = Conv1D(filters//4, kernel_size=1, activation='relu')(x)\n",
        "    # Dilated convolution\n",
        "    y = Conv1D(filters//4, kernel_size=5, dilation_rate=dilation_rate,\n",
        "               padding='same', activation='relu')(y)\n",
        "    # Restore channels\n",
        "    y = Conv1D(filters, kernel_size=1, activation='relu')(y)\n",
        "    return y\n",
        "\n",
        "def residual_block(x, filters):\n",
        "    shortcut = x\n",
        "    y = Conv1D(filters,  kernel_size=3, padding='same')(x)\n",
        "    y = BatchNormalization()(y)\n",
        "    y = ReLU()(y)\n",
        "    y = Conv1D(filters, kernel_size=3, padding='same')(y)\n",
        "    y = BatchNormalization()(y)\n",
        "    # Add skip connection\n",
        "    out = Add()([shortcut, y])\n",
        "    return ReLU()(out)\n",
        "\n",
        "def build_model(summary=True):\n",
        "    inp = Input(shape=(200,3))\n",
        "\n",
        "    # Initial separable conv\n",
        "    x = SeparableConv1D(16, 5, activation='relu', padding='same')(inp)\n",
        "    x = BatchNormalization()(x)\n",
        "    x = MaxPooling1D(2)(x)\n",
        "\n",
        "    # Bottleneck + dilated conv\n",
        "    x = bottleneck_block(x, filters=32, dilation_rate=2)\n",
        "    x = BatchNormalization()(x)\n",
        "    x = MaxPooling1D(2)(x)\n",
        "\n",
        "    # Residual refinement\n",
        "    x = residual_block(x, filters=32)\n",
        "    x = MaxPooling1D(2)(x)\n",
        "\n",
        "    # Classifier head\n",
        "    x = Flatten()(x)\n",
        "    x = Dense(32, activation='relu', \n",
        "            kernel_regularizer=tf.keras.regularizers.l2(1e-4))(x)\n",
        "    x = Dropout(0.3)(x)\n",
        "    out = Dense(num_classes, activation='softmax', name='y_pred')(x)\n",
        "\n",
        "    model = Model(inputs=inp, outputs=out)\n",
        "\n",
        "    # model = Sequential([\n",
        "    #     Conv1D(16, kernel_size=5, activation='relu', input_shape=(200,3)),\n",
        "    #     BatchNormalization(),\n",
        "    #     MaxPooling1D(pool_size=2),\n",
        "\n",
        "    #     Conv1D(32, kernel_size=5, activation='relu'),\n",
        "    #     BatchNormalization(),\n",
        "    #     MaxPooling1D(pool_size=2),\n",
        "\n",
        "    #     Flatten(),\n",
        "\n",
        "    #     Dense(32, activation='relu', kernel_regularizer=tf.keras.regularizers.l2(1e-4)),\n",
        "    #     Dropout(0.3),\n",
        "\n",
        "    #     Dense(num_classes, activation='softmax', name='y_pred')\n",
        "    # ])\n",
        "\n",
        "\n",
        "    # Compile model\n",
        "    model.compile(\n",
        "        optimizer='adam',\n",
        "        loss='categorical_crossentropy',\n",
        "        metrics=['accuracy']\n",
        "    )\n",
        "\n",
        "    if summary:\n",
        "        model.summary()\n",
        "\n",
        "    return model"
      ]
    },
    {
      "cell_type": "code",
      "execution_count": 52,
      "metadata": {
        "id": "sSs127krIdEc"
      },
      "outputs": [
        {
          "data": {
            "text/html": [
              "<pre style=\"white-space:pre;overflow-x:auto;line-height:normal;font-family:Menlo,'DejaVu Sans Mono',consolas,'Courier New',monospace\"><span style=\"font-weight: bold\">Model: \"functional_8\"</span>\n",
              "</pre>\n"
            ],
            "text/plain": [
              "\u001b[1mModel: \"functional_8\"\u001b[0m\n"
            ]
          },
          "metadata": {},
          "output_type": "display_data"
        },
        {
          "data": {
            "text/html": [
              "<pre style=\"white-space:pre;overflow-x:auto;line-height:normal;font-family:Menlo,'DejaVu Sans Mono',consolas,'Courier New',monospace\">┏━━━━━━━━━━━━━━━━━━━━━┳━━━━━━━━━━━━━━━━━━━┳━━━━━━━━━━━━┳━━━━━━━━━━━━━━━━━━━┓\n",
              "┃<span style=\"font-weight: bold\"> Layer (type)        </span>┃<span style=\"font-weight: bold\"> Output Shape      </span>┃<span style=\"font-weight: bold\">    Param # </span>┃<span style=\"font-weight: bold\"> Connected to      </span>┃\n",
              "┡━━━━━━━━━━━━━━━━━━━━━╇━━━━━━━━━━━━━━━━━━━╇━━━━━━━━━━━━╇━━━━━━━━━━━━━━━━━━━┩\n",
              "│ input_layer_10      │ (<span style=\"color: #00d7ff; text-decoration-color: #00d7ff\">None</span>, <span style=\"color: #00af00; text-decoration-color: #00af00\">200</span>, <span style=\"color: #00af00; text-decoration-color: #00af00\">3</span>)    │          <span style=\"color: #00af00; text-decoration-color: #00af00\">0</span> │ -                 │\n",
              "│ (<span style=\"color: #0087ff; text-decoration-color: #0087ff\">InputLayer</span>)        │                   │            │                   │\n",
              "├─────────────────────┼───────────────────┼────────────┼───────────────────┤\n",
              "│ separable_conv1d_3  │ (<span style=\"color: #00d7ff; text-decoration-color: #00d7ff\">None</span>, <span style=\"color: #00af00; text-decoration-color: #00af00\">200</span>, <span style=\"color: #00af00; text-decoration-color: #00af00\">16</span>)   │         <span style=\"color: #00af00; text-decoration-color: #00af00\">79</span> │ input_layer_10[<span style=\"color: #00af00; text-decoration-color: #00af00\">0</span>… │\n",
              "│ (<span style=\"color: #0087ff; text-decoration-color: #0087ff\">SeparableConv1D</span>)   │                   │            │                   │\n",
              "├─────────────────────┼───────────────────┼────────────┼───────────────────┤\n",
              "│ batch_normalizatio… │ (<span style=\"color: #00d7ff; text-decoration-color: #00d7ff\">None</span>, <span style=\"color: #00af00; text-decoration-color: #00af00\">200</span>, <span style=\"color: #00af00; text-decoration-color: #00af00\">16</span>)   │         <span style=\"color: #00af00; text-decoration-color: #00af00\">64</span> │ separable_conv1d… │\n",
              "│ (<span style=\"color: #0087ff; text-decoration-color: #0087ff\">BatchNormalizatio…</span> │                   │            │                   │\n",
              "├─────────────────────┼───────────────────┼────────────┼───────────────────┤\n",
              "│ max_pooling1d_16    │ (<span style=\"color: #00d7ff; text-decoration-color: #00d7ff\">None</span>, <span style=\"color: #00af00; text-decoration-color: #00af00\">100</span>, <span style=\"color: #00af00; text-decoration-color: #00af00\">16</span>)   │          <span style=\"color: #00af00; text-decoration-color: #00af00\">0</span> │ batch_normalizat… │\n",
              "│ (<span style=\"color: #0087ff; text-decoration-color: #0087ff\">MaxPooling1D</span>)      │                   │            │                   │\n",
              "├─────────────────────┼───────────────────┼────────────┼───────────────────┤\n",
              "│ conv1d_22 (<span style=\"color: #0087ff; text-decoration-color: #0087ff\">Conv1D</span>)  │ (<span style=\"color: #00d7ff; text-decoration-color: #00d7ff\">None</span>, <span style=\"color: #00af00; text-decoration-color: #00af00\">100</span>, <span style=\"color: #00af00; text-decoration-color: #00af00\">8</span>)    │        <span style=\"color: #00af00; text-decoration-color: #00af00\">136</span> │ max_pooling1d_16… │\n",
              "├─────────────────────┼───────────────────┼────────────┼───────────────────┤\n",
              "│ conv1d_23 (<span style=\"color: #0087ff; text-decoration-color: #0087ff\">Conv1D</span>)  │ (<span style=\"color: #00d7ff; text-decoration-color: #00d7ff\">None</span>, <span style=\"color: #00af00; text-decoration-color: #00af00\">100</span>, <span style=\"color: #00af00; text-decoration-color: #00af00\">8</span>)    │        <span style=\"color: #00af00; text-decoration-color: #00af00\">328</span> │ conv1d_22[<span style=\"color: #00af00; text-decoration-color: #00af00\">0</span>][<span style=\"color: #00af00; text-decoration-color: #00af00\">0</span>]   │\n",
              "├─────────────────────┼───────────────────┼────────────┼───────────────────┤\n",
              "│ conv1d_24 (<span style=\"color: #0087ff; text-decoration-color: #0087ff\">Conv1D</span>)  │ (<span style=\"color: #00d7ff; text-decoration-color: #00d7ff\">None</span>, <span style=\"color: #00af00; text-decoration-color: #00af00\">100</span>, <span style=\"color: #00af00; text-decoration-color: #00af00\">32</span>)   │        <span style=\"color: #00af00; text-decoration-color: #00af00\">288</span> │ conv1d_23[<span style=\"color: #00af00; text-decoration-color: #00af00\">0</span>][<span style=\"color: #00af00; text-decoration-color: #00af00\">0</span>]   │\n",
              "├─────────────────────┼───────────────────┼────────────┼───────────────────┤\n",
              "│ batch_normalizatio… │ (<span style=\"color: #00d7ff; text-decoration-color: #00d7ff\">None</span>, <span style=\"color: #00af00; text-decoration-color: #00af00\">100</span>, <span style=\"color: #00af00; text-decoration-color: #00af00\">32</span>)   │        <span style=\"color: #00af00; text-decoration-color: #00af00\">128</span> │ conv1d_24[<span style=\"color: #00af00; text-decoration-color: #00af00\">0</span>][<span style=\"color: #00af00; text-decoration-color: #00af00\">0</span>]   │\n",
              "│ (<span style=\"color: #0087ff; text-decoration-color: #0087ff\">BatchNormalizatio…</span> │                   │            │                   │\n",
              "├─────────────────────┼───────────────────┼────────────┼───────────────────┤\n",
              "│ max_pooling1d_17    │ (<span style=\"color: #00d7ff; text-decoration-color: #00d7ff\">None</span>, <span style=\"color: #00af00; text-decoration-color: #00af00\">50</span>, <span style=\"color: #00af00; text-decoration-color: #00af00\">32</span>)    │          <span style=\"color: #00af00; text-decoration-color: #00af00\">0</span> │ batch_normalizat… │\n",
              "│ (<span style=\"color: #0087ff; text-decoration-color: #0087ff\">MaxPooling1D</span>)      │                   │            │                   │\n",
              "├─────────────────────┼───────────────────┼────────────┼───────────────────┤\n",
              "│ conv1d_25 (<span style=\"color: #0087ff; text-decoration-color: #0087ff\">Conv1D</span>)  │ (<span style=\"color: #00d7ff; text-decoration-color: #00d7ff\">None</span>, <span style=\"color: #00af00; text-decoration-color: #00af00\">50</span>, <span style=\"color: #00af00; text-decoration-color: #00af00\">32</span>)    │      <span style=\"color: #00af00; text-decoration-color: #00af00\">3,104</span> │ max_pooling1d_17… │\n",
              "├─────────────────────┼───────────────────┼────────────┼───────────────────┤\n",
              "│ batch_normalizatio… │ (<span style=\"color: #00d7ff; text-decoration-color: #00d7ff\">None</span>, <span style=\"color: #00af00; text-decoration-color: #00af00\">50</span>, <span style=\"color: #00af00; text-decoration-color: #00af00\">32</span>)    │        <span style=\"color: #00af00; text-decoration-color: #00af00\">128</span> │ conv1d_25[<span style=\"color: #00af00; text-decoration-color: #00af00\">0</span>][<span style=\"color: #00af00; text-decoration-color: #00af00\">0</span>]   │\n",
              "│ (<span style=\"color: #0087ff; text-decoration-color: #0087ff\">BatchNormalizatio…</span> │                   │            │                   │\n",
              "├─────────────────────┼───────────────────┼────────────┼───────────────────┤\n",
              "│ re_lu_15 (<span style=\"color: #0087ff; text-decoration-color: #0087ff\">ReLU</span>)     │ (<span style=\"color: #00d7ff; text-decoration-color: #00d7ff\">None</span>, <span style=\"color: #00af00; text-decoration-color: #00af00\">50</span>, <span style=\"color: #00af00; text-decoration-color: #00af00\">32</span>)    │          <span style=\"color: #00af00; text-decoration-color: #00af00\">0</span> │ batch_normalizat… │\n",
              "├─────────────────────┼───────────────────┼────────────┼───────────────────┤\n",
              "│ conv1d_26 (<span style=\"color: #0087ff; text-decoration-color: #0087ff\">Conv1D</span>)  │ (<span style=\"color: #00d7ff; text-decoration-color: #00d7ff\">None</span>, <span style=\"color: #00af00; text-decoration-color: #00af00\">50</span>, <span style=\"color: #00af00; text-decoration-color: #00af00\">32</span>)    │      <span style=\"color: #00af00; text-decoration-color: #00af00\">3,104</span> │ re_lu_15[<span style=\"color: #00af00; text-decoration-color: #00af00\">0</span>][<span style=\"color: #00af00; text-decoration-color: #00af00\">0</span>]    │\n",
              "├─────────────────────┼───────────────────┼────────────┼───────────────────┤\n",
              "│ batch_normalizatio… │ (<span style=\"color: #00d7ff; text-decoration-color: #00d7ff\">None</span>, <span style=\"color: #00af00; text-decoration-color: #00af00\">50</span>, <span style=\"color: #00af00; text-decoration-color: #00af00\">32</span>)    │        <span style=\"color: #00af00; text-decoration-color: #00af00\">128</span> │ conv1d_26[<span style=\"color: #00af00; text-decoration-color: #00af00\">0</span>][<span style=\"color: #00af00; text-decoration-color: #00af00\">0</span>]   │\n",
              "│ (<span style=\"color: #0087ff; text-decoration-color: #0087ff\">BatchNormalizatio…</span> │                   │            │                   │\n",
              "├─────────────────────┼───────────────────┼────────────┼───────────────────┤\n",
              "│ add_4 (<span style=\"color: #0087ff; text-decoration-color: #0087ff\">Add</span>)         │ (<span style=\"color: #00d7ff; text-decoration-color: #00d7ff\">None</span>, <span style=\"color: #00af00; text-decoration-color: #00af00\">50</span>, <span style=\"color: #00af00; text-decoration-color: #00af00\">32</span>)    │          <span style=\"color: #00af00; text-decoration-color: #00af00\">0</span> │ max_pooling1d_17… │\n",
              "│                     │                   │            │ batch_normalizat… │\n",
              "├─────────────────────┼───────────────────┼────────────┼───────────────────┤\n",
              "│ re_lu_16 (<span style=\"color: #0087ff; text-decoration-color: #0087ff\">ReLU</span>)     │ (<span style=\"color: #00d7ff; text-decoration-color: #00d7ff\">None</span>, <span style=\"color: #00af00; text-decoration-color: #00af00\">50</span>, <span style=\"color: #00af00; text-decoration-color: #00af00\">32</span>)    │          <span style=\"color: #00af00; text-decoration-color: #00af00\">0</span> │ add_4[<span style=\"color: #00af00; text-decoration-color: #00af00\">0</span>][<span style=\"color: #00af00; text-decoration-color: #00af00\">0</span>]       │\n",
              "├─────────────────────┼───────────────────┼────────────┼───────────────────┤\n",
              "│ max_pooling1d_18    │ (<span style=\"color: #00d7ff; text-decoration-color: #00d7ff\">None</span>, <span style=\"color: #00af00; text-decoration-color: #00af00\">25</span>, <span style=\"color: #00af00; text-decoration-color: #00af00\">32</span>)    │          <span style=\"color: #00af00; text-decoration-color: #00af00\">0</span> │ re_lu_16[<span style=\"color: #00af00; text-decoration-color: #00af00\">0</span>][<span style=\"color: #00af00; text-decoration-color: #00af00\">0</span>]    │\n",
              "│ (<span style=\"color: #0087ff; text-decoration-color: #0087ff\">MaxPooling1D</span>)      │                   │            │                   │\n",
              "├─────────────────────┼───────────────────┼────────────┼───────────────────┤\n",
              "│ flatten_8 (<span style=\"color: #0087ff; text-decoration-color: #0087ff\">Flatten</span>) │ (<span style=\"color: #00d7ff; text-decoration-color: #00d7ff\">None</span>, <span style=\"color: #00af00; text-decoration-color: #00af00\">800</span>)       │          <span style=\"color: #00af00; text-decoration-color: #00af00\">0</span> │ max_pooling1d_18… │\n",
              "├─────────────────────┼───────────────────┼────────────┼───────────────────┤\n",
              "│ dense_8 (<span style=\"color: #0087ff; text-decoration-color: #0087ff\">Dense</span>)     │ (<span style=\"color: #00d7ff; text-decoration-color: #00d7ff\">None</span>, <span style=\"color: #00af00; text-decoration-color: #00af00\">32</span>)        │     <span style=\"color: #00af00; text-decoration-color: #00af00\">25,632</span> │ flatten_8[<span style=\"color: #00af00; text-decoration-color: #00af00\">0</span>][<span style=\"color: #00af00; text-decoration-color: #00af00\">0</span>]   │\n",
              "├─────────────────────┼───────────────────┼────────────┼───────────────────┤\n",
              "│ dropout_8 (<span style=\"color: #0087ff; text-decoration-color: #0087ff\">Dropout</span>) │ (<span style=\"color: #00d7ff; text-decoration-color: #00d7ff\">None</span>, <span style=\"color: #00af00; text-decoration-color: #00af00\">32</span>)        │          <span style=\"color: #00af00; text-decoration-color: #00af00\">0</span> │ dense_8[<span style=\"color: #00af00; text-decoration-color: #00af00\">0</span>][<span style=\"color: #00af00; text-decoration-color: #00af00\">0</span>]     │\n",
              "├─────────────────────┼───────────────────┼────────────┼───────────────────┤\n",
              "│ y_pred (<span style=\"color: #0087ff; text-decoration-color: #0087ff\">Dense</span>)      │ (<span style=\"color: #00d7ff; text-decoration-color: #00d7ff\">None</span>, <span style=\"color: #00af00; text-decoration-color: #00af00\">4</span>)         │        <span style=\"color: #00af00; text-decoration-color: #00af00\">132</span> │ dropout_8[<span style=\"color: #00af00; text-decoration-color: #00af00\">0</span>][<span style=\"color: #00af00; text-decoration-color: #00af00\">0</span>]   │\n",
              "└─────────────────────┴───────────────────┴────────────┴───────────────────┘\n",
              "</pre>\n"
            ],
            "text/plain": [
              "┏━━━━━━━━━━━━━━━━━━━━━┳━━━━━━━━━━━━━━━━━━━┳━━━━━━━━━━━━┳━━━━━━━━━━━━━━━━━━━┓\n",
              "┃\u001b[1m \u001b[0m\u001b[1mLayer (type)       \u001b[0m\u001b[1m \u001b[0m┃\u001b[1m \u001b[0m\u001b[1mOutput Shape     \u001b[0m\u001b[1m \u001b[0m┃\u001b[1m \u001b[0m\u001b[1m   Param #\u001b[0m\u001b[1m \u001b[0m┃\u001b[1m \u001b[0m\u001b[1mConnected to     \u001b[0m\u001b[1m \u001b[0m┃\n",
              "┡━━━━━━━━━━━━━━━━━━━━━╇━━━━━━━━━━━━━━━━━━━╇━━━━━━━━━━━━╇━━━━━━━━━━━━━━━━━━━┩\n",
              "│ input_layer_10      │ (\u001b[38;5;45mNone\u001b[0m, \u001b[38;5;34m200\u001b[0m, \u001b[38;5;34m3\u001b[0m)    │          \u001b[38;5;34m0\u001b[0m │ -                 │\n",
              "│ (\u001b[38;5;33mInputLayer\u001b[0m)        │                   │            │                   │\n",
              "├─────────────────────┼───────────────────┼────────────┼───────────────────┤\n",
              "│ separable_conv1d_3  │ (\u001b[38;5;45mNone\u001b[0m, \u001b[38;5;34m200\u001b[0m, \u001b[38;5;34m16\u001b[0m)   │         \u001b[38;5;34m79\u001b[0m │ input_layer_10[\u001b[38;5;34m0\u001b[0m… │\n",
              "│ (\u001b[38;5;33mSeparableConv1D\u001b[0m)   │                   │            │                   │\n",
              "├─────────────────────┼───────────────────┼────────────┼───────────────────┤\n",
              "│ batch_normalizatio… │ (\u001b[38;5;45mNone\u001b[0m, \u001b[38;5;34m200\u001b[0m, \u001b[38;5;34m16\u001b[0m)   │         \u001b[38;5;34m64\u001b[0m │ separable_conv1d… │\n",
              "│ (\u001b[38;5;33mBatchNormalizatio…\u001b[0m │                   │            │                   │\n",
              "├─────────────────────┼───────────────────┼────────────┼───────────────────┤\n",
              "│ max_pooling1d_16    │ (\u001b[38;5;45mNone\u001b[0m, \u001b[38;5;34m100\u001b[0m, \u001b[38;5;34m16\u001b[0m)   │          \u001b[38;5;34m0\u001b[0m │ batch_normalizat… │\n",
              "│ (\u001b[38;5;33mMaxPooling1D\u001b[0m)      │                   │            │                   │\n",
              "├─────────────────────┼───────────────────┼────────────┼───────────────────┤\n",
              "│ conv1d_22 (\u001b[38;5;33mConv1D\u001b[0m)  │ (\u001b[38;5;45mNone\u001b[0m, \u001b[38;5;34m100\u001b[0m, \u001b[38;5;34m8\u001b[0m)    │        \u001b[38;5;34m136\u001b[0m │ max_pooling1d_16… │\n",
              "├─────────────────────┼───────────────────┼────────────┼───────────────────┤\n",
              "│ conv1d_23 (\u001b[38;5;33mConv1D\u001b[0m)  │ (\u001b[38;5;45mNone\u001b[0m, \u001b[38;5;34m100\u001b[0m, \u001b[38;5;34m8\u001b[0m)    │        \u001b[38;5;34m328\u001b[0m │ conv1d_22[\u001b[38;5;34m0\u001b[0m][\u001b[38;5;34m0\u001b[0m]   │\n",
              "├─────────────────────┼───────────────────┼────────────┼───────────────────┤\n",
              "│ conv1d_24 (\u001b[38;5;33mConv1D\u001b[0m)  │ (\u001b[38;5;45mNone\u001b[0m, \u001b[38;5;34m100\u001b[0m, \u001b[38;5;34m32\u001b[0m)   │        \u001b[38;5;34m288\u001b[0m │ conv1d_23[\u001b[38;5;34m0\u001b[0m][\u001b[38;5;34m0\u001b[0m]   │\n",
              "├─────────────────────┼───────────────────┼────────────┼───────────────────┤\n",
              "│ batch_normalizatio… │ (\u001b[38;5;45mNone\u001b[0m, \u001b[38;5;34m100\u001b[0m, \u001b[38;5;34m32\u001b[0m)   │        \u001b[38;5;34m128\u001b[0m │ conv1d_24[\u001b[38;5;34m0\u001b[0m][\u001b[38;5;34m0\u001b[0m]   │\n",
              "│ (\u001b[38;5;33mBatchNormalizatio…\u001b[0m │                   │            │                   │\n",
              "├─────────────────────┼───────────────────┼────────────┼───────────────────┤\n",
              "│ max_pooling1d_17    │ (\u001b[38;5;45mNone\u001b[0m, \u001b[38;5;34m50\u001b[0m, \u001b[38;5;34m32\u001b[0m)    │          \u001b[38;5;34m0\u001b[0m │ batch_normalizat… │\n",
              "│ (\u001b[38;5;33mMaxPooling1D\u001b[0m)      │                   │            │                   │\n",
              "├─────────────────────┼───────────────────┼────────────┼───────────────────┤\n",
              "│ conv1d_25 (\u001b[38;5;33mConv1D\u001b[0m)  │ (\u001b[38;5;45mNone\u001b[0m, \u001b[38;5;34m50\u001b[0m, \u001b[38;5;34m32\u001b[0m)    │      \u001b[38;5;34m3,104\u001b[0m │ max_pooling1d_17… │\n",
              "├─────────────────────┼───────────────────┼────────────┼───────────────────┤\n",
              "│ batch_normalizatio… │ (\u001b[38;5;45mNone\u001b[0m, \u001b[38;5;34m50\u001b[0m, \u001b[38;5;34m32\u001b[0m)    │        \u001b[38;5;34m128\u001b[0m │ conv1d_25[\u001b[38;5;34m0\u001b[0m][\u001b[38;5;34m0\u001b[0m]   │\n",
              "│ (\u001b[38;5;33mBatchNormalizatio…\u001b[0m │                   │            │                   │\n",
              "├─────────────────────┼───────────────────┼────────────┼───────────────────┤\n",
              "│ re_lu_15 (\u001b[38;5;33mReLU\u001b[0m)     │ (\u001b[38;5;45mNone\u001b[0m, \u001b[38;5;34m50\u001b[0m, \u001b[38;5;34m32\u001b[0m)    │          \u001b[38;5;34m0\u001b[0m │ batch_normalizat… │\n",
              "├─────────────────────┼───────────────────┼────────────┼───────────────────┤\n",
              "│ conv1d_26 (\u001b[38;5;33mConv1D\u001b[0m)  │ (\u001b[38;5;45mNone\u001b[0m, \u001b[38;5;34m50\u001b[0m, \u001b[38;5;34m32\u001b[0m)    │      \u001b[38;5;34m3,104\u001b[0m │ re_lu_15[\u001b[38;5;34m0\u001b[0m][\u001b[38;5;34m0\u001b[0m]    │\n",
              "├─────────────────────┼───────────────────┼────────────┼───────────────────┤\n",
              "│ batch_normalizatio… │ (\u001b[38;5;45mNone\u001b[0m, \u001b[38;5;34m50\u001b[0m, \u001b[38;5;34m32\u001b[0m)    │        \u001b[38;5;34m128\u001b[0m │ conv1d_26[\u001b[38;5;34m0\u001b[0m][\u001b[38;5;34m0\u001b[0m]   │\n",
              "│ (\u001b[38;5;33mBatchNormalizatio…\u001b[0m │                   │            │                   │\n",
              "├─────────────────────┼───────────────────┼────────────┼───────────────────┤\n",
              "│ add_4 (\u001b[38;5;33mAdd\u001b[0m)         │ (\u001b[38;5;45mNone\u001b[0m, \u001b[38;5;34m50\u001b[0m, \u001b[38;5;34m32\u001b[0m)    │          \u001b[38;5;34m0\u001b[0m │ max_pooling1d_17… │\n",
              "│                     │                   │            │ batch_normalizat… │\n",
              "├─────────────────────┼───────────────────┼────────────┼───────────────────┤\n",
              "│ re_lu_16 (\u001b[38;5;33mReLU\u001b[0m)     │ (\u001b[38;5;45mNone\u001b[0m, \u001b[38;5;34m50\u001b[0m, \u001b[38;5;34m32\u001b[0m)    │          \u001b[38;5;34m0\u001b[0m │ add_4[\u001b[38;5;34m0\u001b[0m][\u001b[38;5;34m0\u001b[0m]       │\n",
              "├─────────────────────┼───────────────────┼────────────┼───────────────────┤\n",
              "│ max_pooling1d_18    │ (\u001b[38;5;45mNone\u001b[0m, \u001b[38;5;34m25\u001b[0m, \u001b[38;5;34m32\u001b[0m)    │          \u001b[38;5;34m0\u001b[0m │ re_lu_16[\u001b[38;5;34m0\u001b[0m][\u001b[38;5;34m0\u001b[0m]    │\n",
              "│ (\u001b[38;5;33mMaxPooling1D\u001b[0m)      │                   │            │                   │\n",
              "├─────────────────────┼───────────────────┼────────────┼───────────────────┤\n",
              "│ flatten_8 (\u001b[38;5;33mFlatten\u001b[0m) │ (\u001b[38;5;45mNone\u001b[0m, \u001b[38;5;34m800\u001b[0m)       │          \u001b[38;5;34m0\u001b[0m │ max_pooling1d_18… │\n",
              "├─────────────────────┼───────────────────┼────────────┼───────────────────┤\n",
              "│ dense_8 (\u001b[38;5;33mDense\u001b[0m)     │ (\u001b[38;5;45mNone\u001b[0m, \u001b[38;5;34m32\u001b[0m)        │     \u001b[38;5;34m25,632\u001b[0m │ flatten_8[\u001b[38;5;34m0\u001b[0m][\u001b[38;5;34m0\u001b[0m]   │\n",
              "├─────────────────────┼───────────────────┼────────────┼───────────────────┤\n",
              "│ dropout_8 (\u001b[38;5;33mDropout\u001b[0m) │ (\u001b[38;5;45mNone\u001b[0m, \u001b[38;5;34m32\u001b[0m)        │          \u001b[38;5;34m0\u001b[0m │ dense_8[\u001b[38;5;34m0\u001b[0m][\u001b[38;5;34m0\u001b[0m]     │\n",
              "├─────────────────────┼───────────────────┼────────────┼───────────────────┤\n",
              "│ y_pred (\u001b[38;5;33mDense\u001b[0m)      │ (\u001b[38;5;45mNone\u001b[0m, \u001b[38;5;34m4\u001b[0m)         │        \u001b[38;5;34m132\u001b[0m │ dropout_8[\u001b[38;5;34m0\u001b[0m][\u001b[38;5;34m0\u001b[0m]   │\n",
              "└─────────────────────┴───────────────────┴────────────┴───────────────────┘\n"
            ]
          },
          "metadata": {},
          "output_type": "display_data"
        },
        {
          "data": {
            "text/html": [
              "<pre style=\"white-space:pre;overflow-x:auto;line-height:normal;font-family:Menlo,'DejaVu Sans Mono',consolas,'Courier New',monospace\"><span style=\"font-weight: bold\"> Total params: </span><span style=\"color: #00af00; text-decoration-color: #00af00\">33,251</span> (129.89 KB)\n",
              "</pre>\n"
            ],
            "text/plain": [
              "\u001b[1m Total params: \u001b[0m\u001b[38;5;34m33,251\u001b[0m (129.89 KB)\n"
            ]
          },
          "metadata": {},
          "output_type": "display_data"
        },
        {
          "data": {
            "text/html": [
              "<pre style=\"white-space:pre;overflow-x:auto;line-height:normal;font-family:Menlo,'DejaVu Sans Mono',consolas,'Courier New',monospace\"><span style=\"font-weight: bold\"> Trainable params: </span><span style=\"color: #00af00; text-decoration-color: #00af00\">33,027</span> (129.01 KB)\n",
              "</pre>\n"
            ],
            "text/plain": [
              "\u001b[1m Trainable params: \u001b[0m\u001b[38;5;34m33,027\u001b[0m (129.01 KB)\n"
            ]
          },
          "metadata": {},
          "output_type": "display_data"
        },
        {
          "data": {
            "text/html": [
              "<pre style=\"white-space:pre;overflow-x:auto;line-height:normal;font-family:Menlo,'DejaVu Sans Mono',consolas,'Courier New',monospace\"><span style=\"font-weight: bold\"> Non-trainable params: </span><span style=\"color: #00af00; text-decoration-color: #00af00\">224</span> (896.00 B)\n",
              "</pre>\n"
            ],
            "text/plain": [
              "\u001b[1m Non-trainable params: \u001b[0m\u001b[38;5;34m224\u001b[0m (896.00 B)\n"
            ]
          },
          "metadata": {},
          "output_type": "display_data"
        }
      ],
      "source": [
        "model = build_model()"
      ]
    },
    {
      "cell_type": "markdown",
      "metadata": {
        "id": "t1n_O2a6I0ee"
      },
      "source": [
        "### Train the model\n",
        "\n",
        "So far, you manually explored how many epochs are necessary to successfully train the model. However, Tensorflow gives you an option to automate this called [early stopping](https://keras.io/api/callbacks/early_stopping/). See also [here](https://machinelearningmastery.com/how-to-stop-training-deep-neural-networks-at-the-right-time-using-early-stopping/) and [here](https://towardsdatascience.com/a-practical-introduction-to-early-stopping-in-machine-learning-550ac88bc8fd).\n",
        "\n",
        "---\n",
        "**Task 7:** Use an early stopping callback in your fitting function to find the optimal number of epochs. Use reasonable configurations. How many epochs does it train for?\n",
        "\n",
        "**Answer:**\n",
        "\n",
        "\n",
        "- monitor=\"val_loss\" -> \"val_loss is the value of cost function for your cross-validation data and loss is the value of cost function for your training data\" [source](https://datascience.stackexchange.com/a/25269)\n",
        "- patience=10 -> jiggles some times up and down, want to continue after that to use the given training epochs more\n",
        "- min_delta=0.01 -> force some minimum improvment\n",
        "- mode='min' -> val_loss needs to be minimized\n",
        "- restore_best_weights=True -> want to restore the weights that gave the best val_loss\n",
        "\n",
        "\n",
        "\n",
        "---"
      ]
    },
    {
      "cell_type": "code",
      "execution_count": null,
      "metadata": {
        "id": "aCrSiGBcI2ot"
      },
      "outputs": [
        {
          "name": "stdout",
          "output_type": "stream",
          "text": [
            "Epoch 1/50\n",
            "\u001b[1m37/37\u001b[0m \u001b[32m━━━━━━━━━━━━━━━━━━━━\u001b[0m\u001b[37m\u001b[0m \u001b[1m4s\u001b[0m 47ms/step - accuracy: 0.4209 - loss: 2.1549 - val_accuracy: 0.3153 - val_loss: 1.5526\n",
            "Epoch 2/50\n",
            "\u001b[1m37/37\u001b[0m \u001b[32m━━━━━━━━━━━━━━━━━━━━\u001b[0m\u001b[37m\u001b[0m \u001b[1m1s\u001b[0m 32ms/step - accuracy: 0.7513 - loss: 0.8562 - val_accuracy: 0.3578 - val_loss: 1.5070\n",
            "Epoch 3/50\n",
            "\u001b[1m37/37\u001b[0m \u001b[32m━━━━━━━━━━━━━━━━━━━━\u001b[0m\u001b[37m\u001b[0m \u001b[1m1s\u001b[0m 31ms/step - accuracy: 0.9058 - loss: 0.3493 - val_accuracy: 0.4236 - val_loss: 1.3661\n",
            "Epoch 4/50\n",
            "\u001b[1m37/37\u001b[0m \u001b[32m━━━━━━━━━━━━━━━━━━━━\u001b[0m\u001b[37m\u001b[0m \u001b[1m1s\u001b[0m 31ms/step - accuracy: 0.9558 - loss: 0.1637 - val_accuracy: 0.4700 - val_loss: 1.3576\n",
            "Epoch 5/50\n",
            "\u001b[1m37/37\u001b[0m \u001b[32m━━━━━━━━━━━━━━━━━━━━\u001b[0m\u001b[37m\u001b[0m \u001b[1m1s\u001b[0m 31ms/step - accuracy: 0.9805 - loss: 0.0701 - val_accuracy: 0.6867 - val_loss: 1.4239\n",
            "Epoch 6/50\n",
            "\u001b[1m37/37\u001b[0m \u001b[32m━━━━━━━━━━━━━━━━━━━━\u001b[0m\u001b[37m\u001b[0m \u001b[1m1s\u001b[0m 32ms/step - accuracy: 0.9920 - loss: 0.0313 - val_accuracy: 0.7253 - val_loss: 1.1665\n",
            "Epoch 7/50\n",
            "\u001b[1m37/37\u001b[0m \u001b[32m━━━━━━━━━━━━━━━━━━━━\u001b[0m\u001b[37m\u001b[0m \u001b[1m1s\u001b[0m 31ms/step - accuracy: 0.9903 - loss: 0.0420 - val_accuracy: 0.7776 - val_loss: 0.9955\n",
            "Epoch 8/50\n",
            "\u001b[1m37/37\u001b[0m \u001b[32m━━━━━━━━━━━━━━━━━━━━\u001b[0m\u001b[37m\u001b[0m \u001b[1m1s\u001b[0m 32ms/step - accuracy: 0.9944 - loss: 0.0227 - val_accuracy: 0.8162 - val_loss: 0.8611\n",
            "Epoch 9/50\n",
            "\u001b[1m37/37\u001b[0m \u001b[32m━━━━━━━━━━━━━━━━━━━━\u001b[0m\u001b[37m\u001b[0m \u001b[1m1s\u001b[0m 31ms/step - accuracy: 0.9952 - loss: 0.0194 - val_accuracy: 0.7737 - val_loss: 0.8176\n",
            "Epoch 10/50\n",
            "\u001b[1m37/37\u001b[0m \u001b[32m━━━━━━━━━━━━━━━━━━━━\u001b[0m\u001b[37m\u001b[0m \u001b[1m1s\u001b[0m 31ms/step - accuracy: 0.9940 - loss: 0.0324 - val_accuracy: 0.8588 - val_loss: 0.4968\n",
            "Epoch 11/50\n",
            "\u001b[1m37/37\u001b[0m \u001b[32m━━━━━━━━━━━━━━━━━━━━\u001b[0m\u001b[37m\u001b[0m \u001b[1m1s\u001b[0m 32ms/step - accuracy: 0.9968 - loss: 0.0250 - val_accuracy: 0.7834 - val_loss: 0.7999\n",
            "Epoch 12/50\n",
            "\u001b[1m37/37\u001b[0m \u001b[32m━━━━━━━━━━━━━━━━━━━━\u001b[0m\u001b[37m\u001b[0m \u001b[1m1s\u001b[0m 31ms/step - accuracy: 0.9951 - loss: 0.0283 - val_accuracy: 0.7331 - val_loss: 1.0680\n",
            "Epoch 13/50\n",
            "\u001b[1m37/37\u001b[0m \u001b[32m━━━━━━━━━━━━━━━━━━━━\u001b[0m\u001b[37m\u001b[0m \u001b[1m1s\u001b[0m 31ms/step - accuracy: 0.9930 - loss: 0.0228 - val_accuracy: 0.9130 - val_loss: 0.1872\n",
            "Epoch 14/50\n",
            "\u001b[1m37/37\u001b[0m \u001b[32m━━━━━━━━━━━━━━━━━━━━\u001b[0m\u001b[37m\u001b[0m \u001b[1m1s\u001b[0m 32ms/step - accuracy: 0.9987 - loss: 0.0111 - val_accuracy: 0.9536 - val_loss: 0.1283\n",
            "Epoch 15/50\n",
            "\u001b[1m37/37\u001b[0m \u001b[32m━━━━━━━━━━━━━━━━━━━━\u001b[0m\u001b[37m\u001b[0m \u001b[1m1s\u001b[0m 32ms/step - accuracy: 0.9990 - loss: 0.0121 - val_accuracy: 0.9942 - val_loss: 0.0430\n",
            "Epoch 16/50\n",
            "\u001b[1m37/37\u001b[0m \u001b[32m━━━━━━━━━━━━━━━━━━━━\u001b[0m\u001b[37m\u001b[0m \u001b[1m1s\u001b[0m 31ms/step - accuracy: 0.9990 - loss: 0.0093 - val_accuracy: 0.9826 - val_loss: 0.0462\n",
            "Epoch 17/50\n",
            "\u001b[1m37/37\u001b[0m \u001b[32m━━━━━━━━━━━━━━━━━━━━\u001b[0m\u001b[37m\u001b[0m \u001b[1m1s\u001b[0m 32ms/step - accuracy: 0.9984 - loss: 0.0132 - val_accuracy: 0.9884 - val_loss: 0.0592\n",
            "Epoch 18/50\n",
            "\u001b[1m37/37\u001b[0m \u001b[32m━━━━━━━━━━━━━━━━━━━━\u001b[0m\u001b[37m\u001b[0m \u001b[1m1s\u001b[0m 31ms/step - accuracy: 0.9987 - loss: 0.0114 - val_accuracy: 0.9555 - val_loss: 0.1205\n",
            "Epoch 19/50\n",
            "\u001b[1m37/37\u001b[0m \u001b[32m━━━━━━━━━━━━━━━━━━━━\u001b[0m\u001b[37m\u001b[0m \u001b[1m1s\u001b[0m 32ms/step - accuracy: 0.9998 - loss: 0.0082 - val_accuracy: 0.9555 - val_loss: 0.1188\n",
            "Epoch 20/50\n",
            "\u001b[1m37/37\u001b[0m \u001b[32m━━━━━━━━━━━━━━━━━━━━\u001b[0m\u001b[37m\u001b[0m \u001b[1m1s\u001b[0m 32ms/step - accuracy: 0.9998 - loss: 0.0087 - val_accuracy: 0.9923 - val_loss: 0.0363\n",
            "Epoch 21/50\n",
            "\u001b[1m37/37\u001b[0m \u001b[32m━━━━━━━━━━━━━━━━━━━━\u001b[0m\u001b[37m\u001b[0m \u001b[1m1s\u001b[0m 32ms/step - accuracy: 0.9980 - loss: 0.0123 - val_accuracy: 1.0000 - val_loss: 0.0073\n",
            "Epoch 22/50\n",
            "\u001b[1m37/37\u001b[0m \u001b[32m━━━━━━━━━━━━━━━━━━━━\u001b[0m\u001b[37m\u001b[0m \u001b[1m1s\u001b[0m 32ms/step - accuracy: 0.9981 - loss: 0.0117 - val_accuracy: 0.8859 - val_loss: 0.6009\n",
            "Epoch 23/50\n",
            "\u001b[1m37/37\u001b[0m \u001b[32m━━━━━━━━━━━━━━━━━━━━\u001b[0m\u001b[37m\u001b[0m \u001b[1m1s\u001b[0m 32ms/step - accuracy: 0.9968 - loss: 0.0161 - val_accuracy: 0.9323 - val_loss: 0.1573\n",
            "Epoch 24/50\n",
            "\u001b[1m37/37\u001b[0m \u001b[32m━━━━━━━━━━━━━━━━━━━━\u001b[0m\u001b[37m\u001b[0m \u001b[1m1s\u001b[0m 32ms/step - accuracy: 0.9998 - loss: 0.0081 - val_accuracy: 0.9923 - val_loss: 0.0288\n",
            "Epoch 25/50\n",
            "\u001b[1m37/37\u001b[0m \u001b[32m━━━━━━━━━━━━━━━━━━━━\u001b[0m\u001b[37m\u001b[0m \u001b[1m1s\u001b[0m 31ms/step - accuracy: 0.9996 - loss: 0.0079 - val_accuracy: 0.9923 - val_loss: 0.0355\n",
            "Epoch 26/50\n",
            "\u001b[1m37/37\u001b[0m \u001b[32m━━━━━━━━━━━━━━━━━━━━\u001b[0m\u001b[37m\u001b[0m \u001b[1m1s\u001b[0m 31ms/step - accuracy: 0.9999 - loss: 0.0075 - val_accuracy: 0.9749 - val_loss: 0.0714\n",
            "Epoch 27/50\n",
            "\u001b[1m37/37\u001b[0m \u001b[32m━━━━━━━━━━━━━━━━━━━━\u001b[0m\u001b[37m\u001b[0m \u001b[1m1s\u001b[0m 31ms/step - accuracy: 0.9994 - loss: 0.0084 - val_accuracy: 0.9845 - val_loss: 0.0619\n",
            "Epoch 28/50\n",
            "\u001b[1m37/37\u001b[0m \u001b[32m━━━━━━━━━━━━━━━━━━━━\u001b[0m\u001b[37m\u001b[0m \u001b[1m1s\u001b[0m 32ms/step - accuracy: 0.9997 - loss: 0.0079 - val_accuracy: 1.0000 - val_loss: 0.0153\n",
            "Epoch 29/50\n",
            "\u001b[1m37/37\u001b[0m \u001b[32m━━━━━━━━━━━━━━━━━━━━\u001b[0m\u001b[37m\u001b[0m \u001b[1m1s\u001b[0m 31ms/step - accuracy: 0.9998 - loss: 0.0087 - val_accuracy: 1.0000 - val_loss: 0.0106\n",
            "Epoch 30/50\n",
            "\u001b[1m37/37\u001b[0m \u001b[32m━━━━━━━━━━━━━━━━━━━━\u001b[0m\u001b[37m\u001b[0m \u001b[1m1s\u001b[0m 31ms/step - accuracy: 0.9998 - loss: 0.0076 - val_accuracy: 0.9961 - val_loss: 0.0132\n",
            "Epoch 31/50\n",
            "\u001b[1m37/37\u001b[0m \u001b[32m━━━━━━━━━━━━━━━━━━━━\u001b[0m\u001b[37m\u001b[0m \u001b[1m1s\u001b[0m 31ms/step - accuracy: 0.9996 - loss: 0.0086 - val_accuracy: 0.9981 - val_loss: 0.0146\n"
          ]
        },
        {
          "data": {
            "image/png": "[encoded data removed]",
            "text/plain": [
              "<Figure size 1500x480 with 2 Axes>"
            ]
          },
          "metadata": {},
          "output_type": "display_data"
        }
      ],
      "source": [
        "\n",
        "early_stopping_cb = EarlyStopping(\n",
        "    monitor=\"val_loss\",\n",
        "    patience=10,\n",
        "    min_delta=0.01,\n",
        "    mode='min',\n",
        "    restore_best_weights=True\n",
        ")\n",
        "callbacks=[early_stopping_cb, ]\n",
        "# callbacks=[]\n",
        "\n",
        "history = model.fit(x_train, y_train, batch_size=128, epochs=num_epochs, validation_split=0.1, callbacks=callbacks)\n",
        "plot_training_history(history, 1)"
      ]
    },
    {
      "cell_type": "markdown",
      "metadata": {
        "id": "mUTfe6NthUJq"
      },
      "source": [
        "### Evaluate the Model\n",
        "\n"
      ]
    },
    {
      "cell_type": "code",
      "execution_count": 57,
      "metadata": {
        "id": "BkPvoY5UhUJq"
      },
      "outputs": [
        {
          "name": "stdout",
          "output_type": "stream",
          "text": [
            "\u001b[1m41/41\u001b[0m \u001b[32m━━━━━━━━━━━━━━━━━━━━\u001b[0m\u001b[37m\u001b[0m \u001b[1m0s\u001b[0m 10ms/step - accuracy: 0.9977 - loss: 0.0129\n",
            "Test loss: 0.024012582376599312\n",
            "Test accuracy: 0.9930340647697449\n",
            "\u001b[1m41/41\u001b[0m \u001b[32m━━━━━━━━━━━━━━━━━━━━\u001b[0m\u001b[37m\u001b[0m \u001b[1m0s\u001b[0m 3ms/step\n"
          ]
        },
        {
          "data": {
            "image/png": "[encoded data removed]",
            "text/plain": [
              "<Figure size 400x400 with 1 Axes>"
            ]
          },
          "metadata": {},
          "output_type": "display_data"
        }
      ],
      "source": [
        "score_model = model.evaluate(x_test, y_test) #, verbose=0)\n",
        "print(\"Test loss:\", score_model[0])\n",
        "print(\"Test accuracy:\", score_model[1])\n",
        "\n",
        "cm = confusion_matrix(np.argmax(y_test,axis=1), np.argmax(model.predict(x_test),axis=1))\n",
        "# print(cm)\n",
        "\n",
        "cm = cm.astype('float') / cm.sum(axis=1)[:, np.newaxis]\n",
        "\n",
        "cm = pd.DataFrame(cm, index = labels,\n",
        "                  columns = labels)\n",
        "\n",
        "plt.figure(figsize = (4,4))\n",
        "ax = sns.heatmap(cm*100,\n",
        "           annot=True,\n",
        "           fmt='.1f',\n",
        "           cmap=\"Blues\",\n",
        "           cbar=False,\n",
        "              )\n",
        "ax.set_ylabel(\"True Class\", fontdict= {'fontweight':'bold'})\n",
        "ax.set_xlabel(\"Predicted Class\", fontdict= {'fontweight':'bold'})\n",
        "\n",
        "plt.show()"
      ]
    },
    {
      "cell_type": "markdown",
      "metadata": {
        "id": "iYEf43GMhUJq"
      },
      "source": [
        "---\n",
        "**Task 8:** How does the accuracy of your model compare to the accuracy you achieved with Edge Impulse?\n",
        "\n",
        "There seem to be some issues with the random initialization. The same model performed much better on EdgeImpulse. Started multiple runs to achieve similar result.\n",
        "\n",
        "![CNN+Dense Large Validation](./lab2_validation_cnn_dense_large_2.png)\n",
        "\n",
        "![CNN+Dense Large Validation](./edge_impulse_cnn_dense_large.png)\n",
        "\n",
        "Therefore, we introduced a more advanced architecture.\n",
        "\n",
        "![Advanced Architecture Validation](./lab2_validation_advanced_large.png)\n",
        "\n",
        "![Advanced Architecture Edge Impulse](./edge_impulse_advanced_architecture_large.png)\n",
        "\n",
        "---"
      ]
    },
    {
      "cell_type": "markdown",
      "metadata": {
        "id": "4RWXZSAPhUJr"
      },
      "source": [
        "### Save Model\n",
        "\n",
        "To come back to a model to continue working on it, it might be useful to save it. We can use the `model.save()` [Function](https://www.tensorflow.org/guide/keras/serialization_and_saving) that exports a TensorFlow model object to SavedModel format.\n",
        "\n",
        "If you use Google Colab, you can find the saved model as a `.keras`-file on the left under `Files/`."
      ]
    },
    {
      "cell_type": "code",
      "execution_count": 58,
      "metadata": {
        "id": "9x-PrlqqhUJr"
      },
      "outputs": [],
      "source": [
        "from datetime import datetime\n",
        "\n",
        "export_base_path = f'./models/{datetime.now().strftime('%Y-%m-%d_%H-%M-%S')}_advanced_large_retrained'\n",
        "model.save(f\"{export_base_path}.keras\")"
      ]
    },
    {
      "cell_type": "markdown",
      "metadata": {
        "id": "aBFHbzyDhUJr"
      },
      "source": [
        "### Model Quantization\n",
        "\n",
        "Your microcontroller cannot use the Tensoflow model directly. Instead there is [LiteRT](https://ai.google.dev/edge/litert) for deploying models on mobile and edge devices.\n",
        "\n",
        "---\n",
        "**Task 9:** Load your model and convert it with LiteRT and save the model to a `.tflite`-file. (HINT: Check out [this](https://github.com/tensorflow/tflite-micro/tree/main/tensorflow/lite/micro/examples/hello_world) *Hello World* example and [these instructions](https://ai.google.dev/edge/litert/models/convert_tf).)\n",
        "\n",
        "**Task 10:** Create a second LiteRT conversion that uses [optimizations](https://ai.google.dev/edge/api/tflite/python/tf/lite/Optimize) and enforce integer-only weights.\n",
        "(Maybe a helpful [resource](https://ai.google.dev/edge/litert/models/post_training_quantization).)\n",
        "\n",
        "**Task 11:** Evaluate all converted models and compare them to the Tensorflow model they are based on regarding profiled memory usage and accuracy. Use plots.\n",
        "\n",
        "```[bash]\n",
        "ls -lh models/\n",
        "-rw-r--r--@ 1 ture  staff   485K Apr 27 17:39 2025-04-27_17-39-12_advanced_architecture.keras\n",
        "-rw-r--r--@ 1 ture  staff   143K May  6 22:21 2025-05-06_21-16-36_advanced_architecture-basic.tflite\n",
        "-rw-r--r--@ 1 ture  staff    51K May  6 22:21 2025-05-06_21-16-36_advanced_architecture-optimized.tflite\n",
        "-rw-r--r--@ 1 ture  staff    51K May  6 22:21 2025-05-06_21-16-36_advanced_architecture-quantized.tflite\n",
        "```\n",
        "\n",
        "Therefore, the quantized and optimized model has ~60% reduction in size compared to the base tflite model and a 89% size reduction to the orignial model.\n",
        "\n",
        "```\n",
        "=== ORIGINAL MODEL ===\n",
        "1292/1292 ━━━━━━━━━━━━━━━━━━━━ 3s 3ms/step\n",
        "Model accuracy: 0.9729\n",
        "Estimated RAM usage: N/A for Keras model\n",
        "\n",
        "=== BASIC MODEL ===\n",
        "Model accuracy: 0.9837\n",
        "Estimated RAM usage (tensor buffers only): 375.41 KB\n",
        "\n",
        "=== OPTIMIZED MODEL ===\n",
        "Model accuracy: 0.9837\n",
        "Estimated RAM usage (tensor buffers only): 282.41 KB\n",
        "\n",
        "=== QUANTIZED MODEL ===\n",
        "Model accuracy: 0.9226\n",
        "Estimated RAM usage (tensor buffers only): 96.78 KB\n",
        "```\n",
        "\n",
        "Quite curiosly this accuracy drop disappeared after retraining the model:\n",
        "\n",
        "```\n",
        "=== ORIGINAL MODEL ===\n",
        "1292/1292 ━━━━━━━━━━━━━━━━━━━━ 4s 3ms/step\n",
        "Model accuracy: 0.9930\n",
        "Estimated RAM usage: N/A for Keras model\n",
        "\n",
        "=== BASIC MODEL ===\n",
        "Model accuracy: 0.9837\n",
        "Estimated RAM usage (tensor buffers only): 375.41 KB\n",
        "\n",
        "=== OPTIMIZED MODEL ===\n",
        "Model accuracy: 0.9837\n",
        "Estimated RAM usage (tensor buffers only): 282.41 KB\n",
        "\n",
        "=== QUANTIZED MODEL ===\n",
        "Model accuracy: 0.9861\n",
        "Estimated RAM usage (tensor buffers only): 96.78 KB\n",
        "```\n",
        "\n",
        "**Task 12:** Explain your findings from the previous task. Why is there such a difference in performance and in memory usage?\n",
        "\n",
        "**Answer:**\n",
        "\n",
        "\n",
        "---"
      ]
    },
    {
      "cell_type": "code",
      "execution_count": 55,
      "metadata": {
        "id": "9l09V3-HhUJr"
      },
      "outputs": [
        {
          "name": "stdout",
          "output_type": "stream",
          "text": [
            "INFO:tensorflow:Assets written to: /var/folders/t_/zj_f3xqx0h1_m2mq82vhpy_00000gn/T/tmp5oq4b98m/assets\n"
          ]
        },
        {
          "name": "stderr",
          "output_type": "stream",
          "text": [
            "INFO:tensorflow:Assets written to: /var/folders/t_/zj_f3xqx0h1_m2mq82vhpy_00000gn/T/tmp5oq4b98m/assets\n"
          ]
        },
        {
          "name": "stdout",
          "output_type": "stream",
          "text": [
            "Saved artifact at '/var/folders/t_/zj_f3xqx0h1_m2mq82vhpy_00000gn/T/tmp5oq4b98m'. The following endpoints are available:\n",
            "\n",
            "* Endpoint 'serve'\n",
            "  args_0 (POSITIONAL_ONLY): TensorSpec(shape=(None, 200, 3), dtype=tf.float32, name='keras_tensor_124')\n",
            "Output Type:\n",
            "  TensorSpec(shape=(None, 4), dtype=tf.float32, name=None)\n",
            "Captures:\n",
            "  16870682896: TensorSpec(shape=(), dtype=tf.resource, name=None)\n",
            "  16870686352: TensorSpec(shape=(), dtype=tf.resource, name=None)\n",
            "  16870684816: TensorSpec(shape=(), dtype=tf.resource, name=None)\n",
            "  16870684624: TensorSpec(shape=(), dtype=tf.resource, name=None)\n",
            "  16870685200: TensorSpec(shape=(), dtype=tf.resource, name=None)\n",
            "  16870685776: TensorSpec(shape=(), dtype=tf.resource, name=None)\n",
            "  16870685584: TensorSpec(shape=(), dtype=tf.resource, name=None)\n",
            "  16870686160: TensorSpec(shape=(), dtype=tf.resource, name=None)\n",
            "  16870684240: TensorSpec(shape=(), dtype=tf.resource, name=None)\n",
            "  16870683664: TensorSpec(shape=(), dtype=tf.resource, name=None)\n",
            "  16314363216: TensorSpec(shape=(), dtype=tf.resource, name=None)\n",
            "  16314362640: TensorSpec(shape=(), dtype=tf.resource, name=None)\n",
            "  16314365520: TensorSpec(shape=(), dtype=tf.resource, name=None)\n",
            "  16314364752: TensorSpec(shape=(), dtype=tf.resource, name=None)\n",
            "  16314356304: TensorSpec(shape=(), dtype=tf.resource, name=None)\n",
            "  16314365904: TensorSpec(shape=(), dtype=tf.resource, name=None)\n",
            "  16314364944: TensorSpec(shape=(), dtype=tf.resource, name=None)\n",
            "  16314366096: TensorSpec(shape=(), dtype=tf.resource, name=None)\n",
            "  16314359376: TensorSpec(shape=(), dtype=tf.resource, name=None)\n",
            "  16314360912: TensorSpec(shape=(), dtype=tf.resource, name=None)\n",
            "  16314365328: TensorSpec(shape=(), dtype=tf.resource, name=None)\n",
            "  16314363024: TensorSpec(shape=(), dtype=tf.resource, name=None)\n",
            "  16314353616: TensorSpec(shape=(), dtype=tf.resource, name=None)\n",
            "  16314366864: TensorSpec(shape=(), dtype=tf.resource, name=None)\n",
            "  16314364368: TensorSpec(shape=(), dtype=tf.resource, name=None)\n",
            "  16314358608: TensorSpec(shape=(), dtype=tf.resource, name=None)\n",
            "  16871244240: TensorSpec(shape=(), dtype=tf.resource, name=None)\n",
            "  16314361872: TensorSpec(shape=(), dtype=tf.resource, name=None)\n",
            "  16314367056: TensorSpec(shape=(), dtype=tf.resource, name=None)\n",
            "  16871244624: TensorSpec(shape=(), dtype=tf.resource, name=None)\n",
            "  16871246160: TensorSpec(shape=(), dtype=tf.resource, name=None)\n",
            "  16871243856: TensorSpec(shape=(), dtype=tf.resource, name=None)\n",
            "  16871247504: TensorSpec(shape=(), dtype=tf.resource, name=None)\n"
          ]
        },
        {
          "name": "stderr",
          "output_type": "stream",
          "text": [
            "W0000 00:00:1746646496.906065 7765540 tf_tfl_flatbuffer_helpers.cc:365] Ignored output_format.\n",
            "W0000 00:00:1746646496.906074 7765540 tf_tfl_flatbuffer_helpers.cc:368] Ignored drop_control_dependency.\n",
            "2025-05-07 21:34:56.906158: I tensorflow/cc/saved_model/reader.cc:83] Reading SavedModel from: /var/folders/t_/zj_f3xqx0h1_m2mq82vhpy_00000gn/T/tmp5oq4b98m\n",
            "2025-05-07 21:34:56.906798: I tensorflow/cc/saved_model/reader.cc:52] Reading meta graph with tags { serve }\n",
            "2025-05-07 21:34:56.906802: I tensorflow/cc/saved_model/reader.cc:147] Reading SavedModel debug info (if present) from: /var/folders/t_/zj_f3xqx0h1_m2mq82vhpy_00000gn/T/tmp5oq4b98m\n",
            "2025-05-07 21:34:56.915672: I tensorflow/cc/saved_model/loader.cc:236] Restoring SavedModel bundle.\n",
            "2025-05-07 21:34:56.959529: I tensorflow/cc/saved_model/loader.cc:220] Running initialization op on SavedModel bundle at path: /var/folders/t_/zj_f3xqx0h1_m2mq82vhpy_00000gn/T/tmp5oq4b98m\n",
            "2025-05-07 21:34:56.973523: I tensorflow/cc/saved_model/loader.cc:471] SavedModel load for tags { serve }; Status: success: OK. Took 67364 microseconds.\n"
          ]
        },
        {
          "name": "stdout",
          "output_type": "stream",
          "text": [
            "INFO:tensorflow:Assets written to: /var/folders/t_/zj_f3xqx0h1_m2mq82vhpy_00000gn/T/tmpkwmi923b/assets\n"
          ]
        },
        {
          "name": "stderr",
          "output_type": "stream",
          "text": [
            "INFO:tensorflow:Assets written to: /var/folders/t_/zj_f3xqx0h1_m2mq82vhpy_00000gn/T/tmpkwmi923b/assets\n"
          ]
        },
        {
          "name": "stdout",
          "output_type": "stream",
          "text": [
            "Saved artifact at '/var/folders/t_/zj_f3xqx0h1_m2mq82vhpy_00000gn/T/tmpkwmi923b'. The following endpoints are available:\n",
            "\n",
            "* Endpoint 'serve'\n",
            "  args_0 (POSITIONAL_ONLY): TensorSpec(shape=(None, 200, 3), dtype=tf.float32, name='keras_tensor_124')\n",
            "Output Type:\n",
            "  TensorSpec(shape=(None, 4), dtype=tf.float32, name=None)\n",
            "Captures:\n",
            "  16870682896: TensorSpec(shape=(), dtype=tf.resource, name=None)\n",
            "  16870686352: TensorSpec(shape=(), dtype=tf.resource, name=None)\n",
            "  16870684816: TensorSpec(shape=(), dtype=tf.resource, name=None)\n",
            "  16870684624: TensorSpec(shape=(), dtype=tf.resource, name=None)\n",
            "  16870685200: TensorSpec(shape=(), dtype=tf.resource, name=None)\n",
            "  16870685776: TensorSpec(shape=(), dtype=tf.resource, name=None)\n",
            "  16870685584: TensorSpec(shape=(), dtype=tf.resource, name=None)\n",
            "  16870686160: TensorSpec(shape=(), dtype=tf.resource, name=None)\n",
            "  16870684240: TensorSpec(shape=(), dtype=tf.resource, name=None)\n",
            "  16870683664: TensorSpec(shape=(), dtype=tf.resource, name=None)\n",
            "  16314363216: TensorSpec(shape=(), dtype=tf.resource, name=None)\n",
            "  16314362640: TensorSpec(shape=(), dtype=tf.resource, name=None)\n",
            "  16314365520: TensorSpec(shape=(), dtype=tf.resource, name=None)\n",
            "  16314364752: TensorSpec(shape=(), dtype=tf.resource, name=None)\n",
            "  16314356304: TensorSpec(shape=(), dtype=tf.resource, name=None)\n",
            "  16314365904: TensorSpec(shape=(), dtype=tf.resource, name=None)\n",
            "  16314364944: TensorSpec(shape=(), dtype=tf.resource, name=None)\n",
            "  16314366096: TensorSpec(shape=(), dtype=tf.resource, name=None)\n",
            "  16314359376: TensorSpec(shape=(), dtype=tf.resource, name=None)\n",
            "  16314360912: TensorSpec(shape=(), dtype=tf.resource, name=None)\n",
            "  16314365328: TensorSpec(shape=(), dtype=tf.resource, name=None)\n",
            "  16314363024: TensorSpec(shape=(), dtype=tf.resource, name=None)\n",
            "  16314353616: TensorSpec(shape=(), dtype=tf.resource, name=None)\n",
            "  16314366864: TensorSpec(shape=(), dtype=tf.resource, name=None)\n",
            "  16314364368: TensorSpec(shape=(), dtype=tf.resource, name=None)\n",
            "  16314358608: TensorSpec(shape=(), dtype=tf.resource, name=None)\n",
            "  16871244240: TensorSpec(shape=(), dtype=tf.resource, name=None)\n",
            "  16314361872: TensorSpec(shape=(), dtype=tf.resource, name=None)\n",
            "  16314367056: TensorSpec(shape=(), dtype=tf.resource, name=None)\n",
            "  16871244624: TensorSpec(shape=(), dtype=tf.resource, name=None)\n",
            "  16871246160: TensorSpec(shape=(), dtype=tf.resource, name=None)\n",
            "  16871243856: TensorSpec(shape=(), dtype=tf.resource, name=None)\n",
            "  16871247504: TensorSpec(shape=(), dtype=tf.resource, name=None)\n"
          ]
        },
        {
          "name": "stderr",
          "output_type": "stream",
          "text": [
            "W0000 00:00:1746646497.394078 7765540 tf_tfl_flatbuffer_helpers.cc:365] Ignored output_format.\n",
            "W0000 00:00:1746646497.394087 7765540 tf_tfl_flatbuffer_helpers.cc:368] Ignored drop_control_dependency.\n",
            "2025-05-07 21:34:57.394172: I tensorflow/cc/saved_model/reader.cc:83] Reading SavedModel from: /var/folders/t_/zj_f3xqx0h1_m2mq82vhpy_00000gn/T/tmpkwmi923b\n",
            "2025-05-07 21:34:57.394757: I tensorflow/cc/saved_model/reader.cc:52] Reading meta graph with tags { serve }\n",
            "2025-05-07 21:34:57.394761: I tensorflow/cc/saved_model/reader.cc:147] Reading SavedModel debug info (if present) from: /var/folders/t_/zj_f3xqx0h1_m2mq82vhpy_00000gn/T/tmpkwmi923b\n",
            "2025-05-07 21:34:57.402604: I tensorflow/cc/saved_model/loader.cc:236] Restoring SavedModel bundle.\n",
            "2025-05-07 21:34:57.445170: I tensorflow/cc/saved_model/loader.cc:220] Running initialization op on SavedModel bundle at path: /var/folders/t_/zj_f3xqx0h1_m2mq82vhpy_00000gn/T/tmpkwmi923b\n",
            "2025-05-07 21:34:57.458469: I tensorflow/cc/saved_model/loader.cc:471] SavedModel load for tags { serve }; Status: success: OK. Took 64297 microseconds.\n"
          ]
        },
        {
          "name": "stdout",
          "output_type": "stream",
          "text": [
            "INFO:tensorflow:Assets written to: /var/folders/t_/zj_f3xqx0h1_m2mq82vhpy_00000gn/T/tmpculd9mgu/assets\n"
          ]
        },
        {
          "name": "stderr",
          "output_type": "stream",
          "text": [
            "INFO:tensorflow:Assets written to: /var/folders/t_/zj_f3xqx0h1_m2mq82vhpy_00000gn/T/tmpculd9mgu/assets\n"
          ]
        },
        {
          "name": "stdout",
          "output_type": "stream",
          "text": [
            "Saved artifact at '/var/folders/t_/zj_f3xqx0h1_m2mq82vhpy_00000gn/T/tmpculd9mgu'. The following endpoints are available:\n",
            "\n",
            "* Endpoint 'serve'\n",
            "  args_0 (POSITIONAL_ONLY): TensorSpec(shape=(None, 200, 3), dtype=tf.float32, name='keras_tensor_124')\n",
            "Output Type:\n",
            "  TensorSpec(shape=(None, 4), dtype=tf.float32, name=None)\n",
            "Captures:\n",
            "  16870682896: TensorSpec(shape=(), dtype=tf.resource, name=None)\n",
            "  16870686352: TensorSpec(shape=(), dtype=tf.resource, name=None)\n",
            "  16870684816: TensorSpec(shape=(), dtype=tf.resource, name=None)\n",
            "  16870684624: TensorSpec(shape=(), dtype=tf.resource, name=None)\n",
            "  16870685200: TensorSpec(shape=(), dtype=tf.resource, name=None)\n",
            "  16870685776: TensorSpec(shape=(), dtype=tf.resource, name=None)\n",
            "  16870685584: TensorSpec(shape=(), dtype=tf.resource, name=None)\n",
            "  16870686160: TensorSpec(shape=(), dtype=tf.resource, name=None)\n",
            "  16870684240: TensorSpec(shape=(), dtype=tf.resource, name=None)\n",
            "  16870683664: TensorSpec(shape=(), dtype=tf.resource, name=None)\n",
            "  16314363216: TensorSpec(shape=(), dtype=tf.resource, name=None)\n",
            "  16314362640: TensorSpec(shape=(), dtype=tf.resource, name=None)\n",
            "  16314365520: TensorSpec(shape=(), dtype=tf.resource, name=None)\n",
            "  16314364752: TensorSpec(shape=(), dtype=tf.resource, name=None)\n",
            "  16314356304: TensorSpec(shape=(), dtype=tf.resource, name=None)\n",
            "  16314365904: TensorSpec(shape=(), dtype=tf.resource, name=None)\n",
            "  16314364944: TensorSpec(shape=(), dtype=tf.resource, name=None)\n",
            "  16314366096: TensorSpec(shape=(), dtype=tf.resource, name=None)\n",
            "  16314359376: TensorSpec(shape=(), dtype=tf.resource, name=None)\n",
            "  16314360912: TensorSpec(shape=(), dtype=tf.resource, name=None)\n",
            "  16314365328: TensorSpec(shape=(), dtype=tf.resource, name=None)\n",
            "  16314363024: TensorSpec(shape=(), dtype=tf.resource, name=None)\n",
            "  16314353616: TensorSpec(shape=(), dtype=tf.resource, name=None)\n",
            "  16314366864: TensorSpec(shape=(), dtype=tf.resource, name=None)\n",
            "  16314364368: TensorSpec(shape=(), dtype=tf.resource, name=None)\n",
            "  16314358608: TensorSpec(shape=(), dtype=tf.resource, name=None)\n",
            "  16871244240: TensorSpec(shape=(), dtype=tf.resource, name=None)\n",
            "  16314361872: TensorSpec(shape=(), dtype=tf.resource, name=None)\n",
            "  16314367056: TensorSpec(shape=(), dtype=tf.resource, name=None)\n",
            "  16871244624: TensorSpec(shape=(), dtype=tf.resource, name=None)\n",
            "  16871246160: TensorSpec(shape=(), dtype=tf.resource, name=None)\n",
            "  16871243856: TensorSpec(shape=(), dtype=tf.resource, name=None)\n",
            "  16871247504: TensorSpec(shape=(), dtype=tf.resource, name=None)\n"
          ]
        },
        {
          "name": "stderr",
          "output_type": "stream",
          "text": [
            "/Users/ture/projects/tiny-ml/env/lib/python3.12/site-packages/tensorflow/lite/python/convert.py:854: UserWarning: Statistics for quantized inputs were expected, but not specified; continuing anyway.\n",
            "  warnings.warn(\n",
            "W0000 00:00:1746646497.887759 7765540 tf_tfl_flatbuffer_helpers.cc:365] Ignored output_format.\n",
            "W0000 00:00:1746646497.887768 7765540 tf_tfl_flatbuffer_helpers.cc:368] Ignored drop_control_dependency.\n",
            "2025-05-07 21:34:57.887861: I tensorflow/cc/saved_model/reader.cc:83] Reading SavedModel from: /var/folders/t_/zj_f3xqx0h1_m2mq82vhpy_00000gn/T/tmpculd9mgu\n",
            "2025-05-07 21:34:57.888533: I tensorflow/cc/saved_model/reader.cc:52] Reading meta graph with tags { serve }\n",
            "2025-05-07 21:34:57.888537: I tensorflow/cc/saved_model/reader.cc:147] Reading SavedModel debug info (if present) from: /var/folders/t_/zj_f3xqx0h1_m2mq82vhpy_00000gn/T/tmpculd9mgu\n",
            "2025-05-07 21:34:57.896452: I tensorflow/cc/saved_model/loader.cc:236] Restoring SavedModel bundle.\n",
            "2025-05-07 21:34:57.939053: I tensorflow/cc/saved_model/loader.cc:220] Running initialization op on SavedModel bundle at path: /var/folders/t_/zj_f3xqx0h1_m2mq82vhpy_00000gn/T/tmpculd9mgu\n",
            "2025-05-07 21:34:57.952140: I tensorflow/cc/saved_model/loader.cc:471] SavedModel load for tags { serve }; Status: success: OK. Took 64279 microseconds.\n",
            "fully_quantize: 0, inference_type: 6, input_inference_type: FLOAT32, output_inference_type: FLOAT32\n"
          ]
        }
      ],
      "source": [
        "# optional: reload model\n",
        "# model = tf.keras.models.load_model('./models/2025-04-24_12-30-14_cnn_large.keras')\n",
        "# model.summary()\n",
        "\n",
        "basic_converter = tf.lite.TFLiteConverter.from_keras_model(model)\n",
        "basic_tflite_model = basic_converter.convert()\n",
        "\n",
        "\n",
        "optimized_converter = tf.lite.TFLiteConverter.from_keras_model(model)\n",
        "optimized_converter.optimizations = [tf.lite.Optimize.DEFAULT]\n",
        "optimized_tflite_model = optimized_converter.convert()\n",
        "\n",
        "def representative_dataset_gen():\n",
        "    for i in range(len(x_train)):\n",
        "        yield [np.expand_dims(x_train[i].astype(np.float32), axis=0)]\n",
        "\n",
        "optimized_converter.representative_dataset = representative_dataset_gen\n",
        "optimized_converter.target_spec.supported_ops = [tf.lite.OpsSet.TFLITE_BUILTINS_INT8]\n",
        "optimized_converter.inference_input_type = tf.float32\n",
        "optimized_converter.inference_output_type = tf.float32\n",
        "\n",
        "quantized_tflite_model = optimized_converter.convert()\n"
      ]
    },
    {
      "cell_type": "code",
      "execution_count": 59,
      "metadata": {
        "id": "adJu3wwNhUJr"
      },
      "outputs": [],
      "source": [
        "# Save the converted model\n",
        "\n",
        "with open(f\"{export_base_path}-basic.tflite\", 'wb') as f:\n",
        "    f.write(basic_tflite_model)\n",
        "\n",
        "with open(f\"{export_base_path}-optimized.tflite\", 'wb') as f:\n",
        "    f.write(optimized_tflite_model)\n",
        "\n",
        "with open(f\"{export_base_path}-quantized.tflite\", 'wb') as f:\n",
        "    f.write(optimized_tflite_model)"
      ]
    },
    {
      "cell_type": "code",
      "execution_count": 60,
      "metadata": {},
      "outputs": [
        {
          "name": "stdout",
          "output_type": "stream",
          "text": [
            "=== ORIGINAL MODEL ===\n",
            "\u001b[1m1292/1292\u001b[0m \u001b[32m━━━━━━━━━━━━━━━━━━━━\u001b[0m\u001b[37m\u001b[0m \u001b[1m4s\u001b[0m 3ms/step\n",
            "Model accuracy: 0.9930\n",
            "Estimated RAM usage: N/A for Keras model\n",
            "\n",
            "=== BASIC MODEL ===\n",
            "Model accuracy: 0.9837\n",
            "Estimated RAM usage (tensor buffers only): 375.41 KB\n",
            "\n",
            "=== OPTIMIZED MODEL ===\n",
            "Model accuracy: 0.9837\n",
            "Estimated RAM usage (tensor buffers only): 282.41 KB\n",
            "\n",
            "=== QUANTIZED MODEL ===\n",
            "Model accuracy: 0.9861\n",
            "Estimated RAM usage (tensor buffers only): 96.78 KB\n"
          ]
        },
        {
          "name": "stderr",
          "output_type": "stream",
          "text": [
            "/Users/ture/projects/tiny-ml/env/lib/python3.12/site-packages/tensorflow/lite/python/interpreter.py:457: UserWarning:     Warning: tf.lite.Interpreter is deprecated and is scheduled for deletion in\n",
            "    TF 2.20. Please use the LiteRT interpreter from the ai_edge_litert package.\n",
            "    See the [migration guide](https://ai.google.dev/edge/litert/migration)\n",
            "    for details.\n",
            "    \n",
            "  warnings.warn(_INTERPRETER_DELETION_WARNING)\n"
          ]
        }
      ],
      "source": [
        "def evaluate_model(model, dtype=None):\n",
        "    if isinstance(model, tf.keras.Model):\n",
        "        predictions = model.predict(x_test, batch_size=1)\n",
        "        pred_labels = np.argmax(predictions, axis=1)\n",
        "        true_labels = np.argmax(y_test, axis=1)\n",
        "        accuracy = np.mean(pred_labels == true_labels)\n",
        "        print(f\"Model accuracy: {accuracy:.4f}\")\n",
        "        # RAM usage estimation doesn't apply to Keras\n",
        "        print(\"Estimated RAM usage: N/A for Keras model\")\n",
        "    else:\n",
        "        # Load TFLite model and allocate tensors.\n",
        "        interpreter = tf.lite.Interpreter(model_content=model)\n",
        "        interpreter.allocate_tensors()\n",
        "\n",
        "\n",
        "        # Get input/output tensor details\n",
        "        input_details = interpreter.get_input_details()\n",
        "        output_details = interpreter.get_output_details()\n",
        "\n",
        "        # Evaluate on test data\n",
        "        correct = 0\n",
        "        total = len(x_test)\n",
        "        for i in range(total):\n",
        "            input_data = np.expand_dims(x_test[i].astype(dtype), axis=0)\n",
        "            interpreter.set_tensor(input_details[0]['index'], input_data)\n",
        "            interpreter.invoke()\n",
        "            output = interpreter.get_tensor(output_details[0]['index'])\n",
        "            pred_label = np.argmax(output)\n",
        "            true_label = np.argmax(y_test[i])\n",
        "            if pred_label == true_label:\n",
        "                correct += 1\n",
        "\n",
        "        accuracy = correct / total\n",
        "        print(f\"Model accuracy: {accuracy:.4f}\")\n",
        "\n",
        "        tensor_details = interpreter.get_tensor_details()\n",
        "        total_tensor_bytes = 0\n",
        "        for tensor in tensor_details:\n",
        "            shape = tensor['shape']\n",
        "            dtype = np.dtype(tensor['dtype'])\n",
        "            size = np.prod(shape) * dtype.itemsize\n",
        "            total_tensor_bytes += size\n",
        "\n",
        "        print(f\"Estimated RAM usage (tensor buffers only): {total_tensor_bytes / 1024:.2f} KB\")\n",
        "\n",
        "print(\"=== ORIGINAL MODEL ===\")\n",
        "evaluate_model(model)\n",
        "print(\"\")\n",
        "print(\"=== BASIC MODEL ===\")\n",
        "evaluate_model(basic_tflite_model, np.float32)\n",
        "print(\"\")\n",
        "print(\"=== OPTIMIZED MODEL ===\")\n",
        "evaluate_model(optimized_tflite_model, np.float32)\n",
        "print(\"\")\n",
        "print(\"=== QUANTIZED MODEL ===\")\n",
        "evaluate_model(quantized_tflite_model, np.float32)"
      ]
    },
    {
      "cell_type": "markdown",
      "metadata": {
        "id": "qTKZxJ3rhUJt"
      },
      "source": [
        "# Lab 3: Deployment\n",
        "\n",
        "Now, that you have designed and trained a quantized model, it is time to deploy it.\n",
        "\n",
        "### Model Export - Library Creation\n",
        "\n",
        "Up until now we created different models that we can test and evaluate using Python. However, most microcontrollers don't speak Python. Instead they work with C/C++ and thus we need a C(++) library of the models to execute it. Here you explore different ways to export your models to a C(++) library."
      ]
    },
    {
      "cell_type": "markdown",
      "metadata": {
        "id": "H1g9ML1lhUJt"
      },
      "source": [
        "#### Manual conversion of the model\n",
        "\n",
        "---\n",
        "**Task 21:** Convert your best performing quantized model to a C++ library with the code below and explain the content of the two resulting files.\n",
        "\n",
        "**Answer:** ...\n",
        "\n",
        "---"
      ]
    },
    {
      "cell_type": "code",
      "execution_count": null,
      "metadata": {
        "id": "vMOsoVzQhUJt"
      },
      "outputs": [],
      "source": [
        "!apt-get update && apt-get -qq install xxd"
      ]
    },
    {
      "cell_type": "code",
      "execution_count": null,
      "metadata": {
        "id": "ET_vBchFhUJt"
      },
      "outputs": [],
      "source": [
        "MODEL_TFLITE = 'model.tflite' #enter the name of your TFlite file uploaded to the folders section\n",
        "MODEL_TFLITE_MICRO = 'model.cc' #update the name of your .cc file (This can be anything)\n",
        "!xxd -i {MODEL_TFLITE} > {MODEL_TFLITE_MICRO}\n",
        "REPLACE_TEXT = MODEL_TFLITE.replace('/', '_').replace('.', '_')\n",
        "!sed -i 's/'{REPLACE_TEXT}'/g_model/g' {MODEL_TFLITE_MICRO}"
      ]
    },
    {
      "cell_type": "code",
      "execution_count": null,
      "metadata": {
        "id": "t4Y36iCBhUJt"
      },
      "outputs": [],
      "source": [
        "LIBRARY_NAME = 'gesture_model'\n",
        "max_label_str_length = max([len(lbl) for lbl in labels]) + 1\n",
        "\n",
        "model_str = f\"alignas(16) const unsigned char {LIBRARY_NAME}[] = \"\n",
        "with open(MODEL_TFLITE_MICRO, 'r') as file:\n",
        "    data = file.read();\n",
        "    model_str += data[data.index(\"{\"): len(data)].replace(\"unsigned\", \"const\")\n",
        "\n",
        "labels_str = f\"const char available_classes[][{max_label_str_length}] = {{\"\n",
        "for i in range(0, len(labels)):\n",
        "    if i != 0:\n",
        "        labels_str += \", \"\n",
        "    labels_str += \"\\\"\"+labels[i]+\"\\\"\"\n",
        "labels_str += \"};\"\n",
        "\n",
        "output_str = f\"#include \\\"{LIBRARY_NAME}.h\\\"\\n\"\n",
        "output_str += labels_str + \"\\n\"\n",
        "output_str += \"const int available_classes_num = \"+str(len(labels)) +\";\\n\"\n",
        "output_str += model_str\n",
        "\n",
        "with open(f\"{LIBRARY_NAME}.cpp\", \"w\") as file:\n",
        "    file.write(output_str)\n",
        "\n",
        "header_str = \"#ifndef TENSORFLOW_LITE_MODEL_H_\\n#define TENSORFLOW_LITE_MODEL_H_\\n\\n\"\n",
        "header_str += \"// Classes that can be detected by the neural network\\n\"\n",
        "header_str += f\"extern const char available_classes[][{max_label_str_length}];\\n\"\n",
        "header_str += \"extern const int available_classes_num;\\n\\n\"\n",
        "header_str += \"// Pre-trained netural network\\n\"\n",
        "header_str += f\"extern const unsigned char {LIBRARY_NAME}[];\\n\"\n",
        "header_str += f\"extern const int {LIBRARY_NAME}_len;\\n\\n\"\n",
        "header_str += \"#endif /* TENSORFLOW_LITE_MODEL_H_ */\"\n",
        "\n",
        "with open(f\"{LIBRARY_NAME}.h\", \"w\") as file:\n",
        "    file.write(header_str)\n"
      ]
    },
    {
      "cell_type": "markdown",
      "metadata": {
        "id": "9W2nbZFdhUJt"
      },
      "source": [
        "Next you will use your library in an Arduino program to (or if you prefer, in a Zephyr program) and execute the [inference on a microcontroller](https://ai.google.dev/edge/litert/microcontrollers/get_started). I strongly recommend you to use [this](https://docs.arduino.cc/tutorials/nano-33-ble-sense/get-started-with-machine-learning) Arduino example as a starting point to write the code. (If you prefer to use Zephyr, have a look at [this](https://docs.zephyrproject.org/latest/samples/modules/tflite-micro/hello_world/README.html#tflite-hello-world) repository.)\n",
        "\n",
        "---\n",
        "**Task 22:** Write an Arduino (or Zephyr) program that records and uses a movement as input, classifies the gesture and reports the result back to you through the serial interface. For this, please do not forget to spend some time in the tutorials linked in the text block above.\n",
        "\n",
        "**Task 23:** Upload the program to the Arduino and compare the real memory usage with the Edge Impulse estimate. Was the estimate correct? How much does it differ?\n",
        "\n",
        "**Answer:** ...\n",
        "\n",
        "**Task 24:** Extend your Arduino program and measure the inference time on the Arduino. Was the estimate correct?\n",
        "\n",
        "**Answer:** ...\n",
        "\n",
        "**Task 25:** Perform inference for at least 20 gestures and plot statistics (e.g., bar plot (mean) with error bar (standard deviation)) for the inference time. Does it vary? Why or why not?\n",
        "\n",
        "**Answer:** ...\n",
        "\n",
        "\n",
        "\n",
        "---"
      ]
    },
    {
      "cell_type": "markdown",
      "metadata": {
        "id": "Bb4Izz25hUJu"
      },
      "source": [
        "### Model conversion and library creation with Edge Impulse\n",
        "\n",
        "In the last lab, you trained a model with Edge Impulse. Now we want to continue with that model and compare its on-device performance with your locally trained model.\n",
        "\n",
        "---\n",
        "**Task 26:** Head to your dashboard of the project of lab 1 and download the quantized models of your classifiers. Head to [https://netron.app/](https://netron.app/) and open your models with it. Click on the input or output layer and take a look at the quantization equations. Are the quantization equations the same for each of your classifiers? Why (not)?\n",
        "\n",
        "**Answer:** ...\n",
        "\n",
        "**Task 27:** Build two Arduino Libraries for your best performing model – one with enabling the EON Compiler and one without. (You might have to create an impulse containing only a single model.) For both libraries, use the quantized version. What is the EON Compiler, and why is the memory usage so different between the two libraries? Compare the models included in the two libraries (in `src > tflite-model`). How do they differ? What makes one of them smaller?\n",
        "\n",
        "**Answer:** ...\n",
        "\n",
        "**Task 28:** Include the libraries into your Arduino IDE (`Add .ZIP Library...`). Open the accelerometer example that comes with your library and flash it to your board. Open a serial monitor. Explain the Arduino program and the output of the serial monitor. Also, why is there a reference to numpy in the Arduino program? How is that possible in C++? Evaluate how well and how fast the classification works for each of your motions. Is there a difference in performance between the two Arduino libraries?\n",
        "\n",
        "**Answer:** ...\n",
        "\n",
        "**Task 29:** Compare the memory usage and performance of the two Edge Impulse models with your locally trained model. How do they compare? Please create plots.\n",
        "\n",
        "**Answer:** ...\n",
        "\n",
        "**Task 30 (optional):** You can also create an Arduino library with your locally trained model. Explore how to use Edge Impulse to [create a library](https://docs.edgeimpulse.com/docs/tools/edge-impulse-python-sdk) to deploy your local model. First, check the available target devices for deployment (`ei.model.list_deployment_targets()`) and find the correct Arduino corresponding to your hardware. Create an Arduino Library with Edge Impulse and compare its performance with the libraries above.\n",
        "\n",
        "---"
      ]
    }
  ],
  "metadata": {
    "accelerator": "GPU",
    "colab": {
      "gpuType": "T4",
      "provenance": []
    },
    "kernelspec": {
      "display_name": "env",
      "language": "python",
      "name": "python3"
    },
    "language_info": {
      "codemirror_mode": {
        "name": "ipython",
        "version": 3
      },
      "file_extension": ".py",
      "mimetype": "text/x-python",
      "name": "python",
      "nbconvert_exporter": "python",
      "pygments_lexer": "ipython3",
      "version": "3.12.10"
    }
  },
  "nbformat": 4,
  "nbformat_minor": 0
}
