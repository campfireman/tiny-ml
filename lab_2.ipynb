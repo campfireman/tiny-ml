{
  "cells": [
    {
      "cell_type": "markdown",
      "metadata": {
        "id": "MzHYKcWEHTGu"
      },
      "source": [
        "<table class=\"tfo-notebook-buttons\" align=\"left\">\n",
        "  <td>\n",
        "    <a target=\"_blank\" href=\"https://colab.research.google.com/github/ds-kiel/TinyML-Labs/blob/WS24-25/Lab2.ipynb\"><img src=\"https://www.tensorflow.org/images/colab_logo_32px.png\" />Run in Google Colab</a>\n",
        "  </td>\n",
        "  <td>\n",
        "    <a target=\"_blank\" href=\"https://github.com/ds-kiel/TinyML-Labs/blob/WS24-25/Lab2.ipynb\"><img src=\"https://www.tensorflow.org/images/GitHub-Mark-32px.png\" />View source on GitHub</a>\n",
        "  </td>\n",
        "  <td>\n",
        "    <a href=\"https://raw.githubusercontent.com/ds-kiel/TinyML-Labs/WS24-25/Lab2.ipynb\" download><img src=\"https://www.tensorflow.org/images/download_logo_32px.png\" />Download notebook</a>\n",
        "  </td>\n",
        "</table>"
      ]
    },
    {
      "cell_type": "markdown",
      "metadata": {
        "id": "OvrMU-DIHePo"
      },
      "source": [
        "# Quantization and On-Device Execution (Lab 2 & 3)\n",
        "\n",
        "In the first lab you looked at the first part of the pipeline from data to executing models on low-power devices. You explored how to preprocess data and train neural networks with Edge Impulse. In this lab we continue the pipeline and you will explore how to [convert](https://ai.google.dev/edge/litert/models/convert_tf) a model to a [LiteRT](https://ai.google.dev/edge/litert) model, how to [quantize](https://ai.google.dev/edge/litert/models/post_training_integer_quant) [a model](https://www.tensorflow.org/model_optimization/guide/quantization/post_training), how to use [quantization-aware training](https://www.tensorflow.org/model_optimization/guide/quantization/training) and finally how to deploy the model and use the model with a microcontroller. **Come back to these documents in case you get stuck**.\n",
        "\n",
        "You will explore the full pipeline from data to device using Tensorflow. You will train a model and convert, deploy, and execute it on a microcontroller, specifically the [Arduino Nano 33 BLE Sense](https://store.arduino.cc/products/arduino-tiny-machine-learning-kit).\n",
        "\n",
        "This file is for both labs 2 and 3. Lab 2 is about generating a model in TF and quanizizing it. Lab 3 is then about the deployment.\n",
        "\n",
        "## Environment\n",
        "\n",
        "The instructions for this lab come as a [Jupyter Notebook](https://jupyter.org/). You can run it locally in your own Python environment, but we recommend you to use [Google Colab](https://colab.research.google.com) to save your compute ressources, have an instantly working python environment, and allow for easy collaboration. If your decide to use your local computer, take a look at Python virtual environments to avoid messing with your usual Python environment.\n",
        "\n",
        "## What do you need to hand in?\n",
        "\n",
        "Please complete the tasks by (a) completing the coding tasks and (b) answer the questions (please write a few lines directly in the notebook after the **Answer:** element). Thus, this Jupyter Notebook is intended as a document that you use both for working on the lab as well as for answering the questions. Once completed with lab 2 (or lab 3) let the teacher know. Be ready to demonstrate your results and show your code & answers to the tasks."
      ]
    },
    {
      "cell_type": "markdown",
      "metadata": {
        "id": "AA7veEy6jbjE"
      },
      "source": [
        "# Lab 2: Quantization"
      ]
    },
    {
      "cell_type": "markdown",
      "metadata": {
        "id": "p2d8yFY1GUX1"
      },
      "source": [
        "## Setup"
      ]
    },
    {
      "cell_type": "code",
      "execution_count": 65,
      "metadata": {
        "id": "fOJvKcsUGWH1"
      },
      "outputs": [
        {
          "name": "stdout",
          "output_type": "stream",
          "text": [
            "zsh:1: 2.3 not found\n"
          ]
        }
      ],
      "source": [
        "# If you have not done so already, install the following dependencies (if you are in a local envoronment, you might need to install some more)\n",
        "!python -m pip install tensorflow>=2.3 matplotlib seaborn cbor2"
      ]
    },
    {
      "cell_type": "markdown",
      "metadata": {
        "id": "eTICd15rGZGx"
      },
      "source": [
        "### Imports"
      ]
    },
    {
      "cell_type": "code",
      "execution_count": 1,
      "metadata": {
        "colab": {
          "base_uri": "https://localhost:8080/"
        },
        "id": "y7yRUuJUGaq-",
        "outputId": "0c0aa9f6-a481-4355-fb8c-08786e3db057"
      },
      "outputs": [],
      "source": [
        "import numpy as np\n",
        "import pandas as pd\n",
        "import os\n",
        "import cbor2\n",
        "\n",
        "import tensorflow as tf\n",
        "from tensorflow import keras\n",
        "from keras.models import Sequential, Model\n",
        "from keras.layers import Conv1D, MaxPooling1D, Dense, Flatten, Dropout, BatchNormalization, ReLU, Add, Input, SeparableConv1D\n",
        "from keras.callbacks import EarlyStopping\n",
        "\n",
        "from sklearn.model_selection import train_test_split\n",
        "from sklearn.metrics import confusion_matrix\n",
        "#import edgeimpulse as ei\n",
        "\n",
        "import matplotlib.pyplot as plt\n",
        "import seaborn as sns\n",
        "\n",
        "#disable this if you are not using Google Colab\n",
        "#from google.colab import drive\n",
        "#drive.mount('/content/drive')"
      ]
    },
    {
      "cell_type": "markdown",
      "metadata": {
        "id": "yhIKkymAGfqu"
      },
      "source": [
        "### Helper Functions"
      ]
    },
    {
      "cell_type": "code",
      "execution_count": 2,
      "metadata": {
        "id": "WRxTHnJcGk0a"
      },
      "outputs": [],
      "source": [
        "def plot_training_history(history, model_name):\n",
        "    fig, (ax1, ax2) = plt.subplots(1, 2)\n",
        "    fig.suptitle(f'Model {model_name}')\n",
        "    fig.set_figwidth(15)\n",
        "\n",
        "    ax1.plot(range(1, len(history.history['accuracy'])+1), history.history['accuracy'])\n",
        "    ax1.plot(range(1, len(history.history['val_accuracy'])+1), history.history['val_accuracy'])\n",
        "    ax1.set_title('Model accuracy')\n",
        "    ax1.set(xlabel='epoch', ylabel='accuracy')\n",
        "    ax1.legend(['training', 'validation'], loc='best')\n",
        "\n",
        "    ax2.plot(range(1, len(history.history['loss'])+1), history.history['loss'])\n",
        "    ax2.plot(range(1, len(history.history['val_loss'])+1), history.history['val_loss'])\n",
        "    ax2.set_title('Model loss')\n",
        "    ax2.set(xlabel='epoch', ylabel='loss')\n",
        "    ax2.legend(['training', 'validation'], loc='best')\n",
        "    plt.show()"
      ]
    },
    {
      "cell_type": "markdown",
      "metadata": {
        "id": "mp9j7urCG-6E"
      },
      "source": [
        "## Edge Impulse Dataset"
      ]
    },
    {
      "cell_type": "markdown",
      "metadata": {
        "id": "jZUVTQ2TIA10"
      },
      "source": [
        "### Prepare the data\n",
        "\n",
        "---\n",
        "**Task 1:** Navigate to the *Data acquisition* page in your Edge Impulse project of lab 1 and export the data.\n",
        "\n",
        "**Task 2:** Import the data with the code below.\n",
        "\n",
        "---"
      ]
    },
    {
      "cell_type": "code",
      "execution_count": 33,
      "metadata": {
        "colab": {
          "base_uri": "https://localhost:8080/",
          "height": 326
        },
        "id": "xz7Y0_obhUJp",
        "outputId": "925f0a61-c4dc-4f6e-89fc-36c86c70e5e9"
      },
      "outputs": [],
      "source": [
        "labels = ['idle', 'circle', 'left-right', 'up-down']\n",
        "num_classes = len(labels)\n",
        "\n",
        "data_path = './data/'\n",
        "\n",
        "# Window parameters (as before)\n",
        "window_size_ms = 2000\n",
        "window_stride_ms = 100\n",
        "\n",
        "def create_windows(df, window_size_ms, window_stride_ms, label):\n",
        "    window_size   = int(window_size_ms   / 10)  # 200 samples\n",
        "    window_stride = int(window_stride_ms / 10)  # 10 samples\n",
        "\n",
        "    windows = []\n",
        "    windows_labels = []\n",
        "\n",
        "    for start in range(0, len(df) - window_size, window_stride):\n",
        "        block = df.iloc[start : start + window_size].values   # shape: (200, 3)\n",
        "        flat  = block.reshape(-1, 1)                          # shape: (600, 1)\n",
        "        windows.append(flat)\n",
        "        windows_labels.append(label)\n",
        "\n",
        "    return np.array(windows), windows_labels   # shape: (n_windows, 600, 1)\n",
        "\n",
        "def load_data(data_path, folder):\n",
        "    window_size = int(window_size_ms / 10)            # 200\n",
        "    vector_len  = window_size * 3                     # 600\n",
        "\n",
        "    # Initialize with a dummy zero‐vector of shape (1, 600, 1)\n",
        "    data = np.zeros((1, vector_len, 1))\n",
        "    data_labels = []\n",
        "\n",
        "    folder_path = os.path.join(data_path, folder)\n",
        "    for file in os.listdir(folder_path):\n",
        "        if not file.endswith('.cbor'):\n",
        "            continue\n",
        "\n",
        "        label_index = labels.index(file.split('.')[0].strip())\n",
        "        with open(os.path.join(folder_path, file), 'rb') as f_obj:\n",
        "            payload = cbor2.load(f_obj)['payload']\n",
        "            df = pd.DataFrame(\n",
        "                payload['values'],\n",
        "                columns=[s['name'] for s in payload['sensors']]\n",
        "            )\n",
        "            # Drop gyroscope and magnetometer columns, leaving accX/accY/accZ\n",
        "            df = df.drop(columns=['gyrX', 'gyrY', 'gyrZ', 'magX', 'magY', 'magZ'])\n",
        "\n",
        "            window_data, window_labels = create_windows(df, window_size_ms, window_stride_ms, label_index)\n",
        "            # window_data has shape (n_windows, 600, 1)\n",
        "            data = np.concatenate((data, window_data), axis=0)\n",
        "            data_labels += window_labels\n",
        "\n",
        "    # Remove the dummy first row\n",
        "    data = data[1:]\n",
        "    return data, data_labels\n",
        "\n",
        "x_train, y_train = load_data(data_path, 'training')\n",
        "x_test,  y_test  = load_data(data_path, 'testing')\n",
        "\n",
        "y_train = keras.utils.to_categorical(y_train, num_classes)\n",
        "y_test  = keras.utils.to_categorical(y_test,  num_classes)"
      ]
    },
    {
      "cell_type": "markdown",
      "metadata": {
        "id": "BNDgID5nhUJp"
      },
      "source": [
        "---\n",
        "**Task 3 (optional):** Perform scaling on your data if you like to. *Please note: You have to do the same scaling later in your Arduino program.*\n",
        "\n",
        "---"
      ]
    },
    {
      "cell_type": "code",
      "execution_count": 69,
      "metadata": {
        "id": "702a_0RZhUJp"
      },
      "outputs": [],
      "source": [
        "# perform your scaling here"
      ]
    },
    {
      "cell_type": "markdown",
      "metadata": {
        "id": "yt8W5N0UIHtY"
      },
      "source": [
        "### Build the model\n",
        "\n",
        "---\n",
        "**Task 4:** Add your best model from lab 1, that uses a raw data preprocessing block.\n",
        "\n",
        "---"
      ]
    },
    {
      "cell_type": "code",
      "execution_count": 178,
      "metadata": {
        "id": "eWq43Tx6HxN1"
      },
      "outputs": [],
      "source": [
        "# Build model\n",
        "\n",
        "def bottleneck_block(x, filters, dilation_rate):\n",
        "    # 1×1 “pointwise” compression\n",
        "    y = Conv1D(filters//4, kernel_size=1, activation='relu')(x)\n",
        "    # Dilated convolution\n",
        "    y = Conv1D(filters//4, kernel_size=5, dilation_rate=dilation_rate,\n",
        "               padding='same', activation='relu')(y)\n",
        "    # Restore channels\n",
        "    y = Conv1D(filters, kernel_size=1, activation='relu')(y)\n",
        "    return y\n",
        "\n",
        "def residual_block(x, filters):\n",
        "    shortcut = x\n",
        "    y = Conv1D(filters,  kernel_size=3, padding='same')(x)\n",
        "    y = BatchNormalization()(y)\n",
        "    y = ReLU()(y)\n",
        "    y = Conv1D(filters, kernel_size=3, padding='same')(y)\n",
        "    y = BatchNormalization()(y)\n",
        "    # Add skip connection\n",
        "    out = Add()([shortcut, y])\n",
        "    return ReLU()(out)\n",
        "\n",
        "def build_model(summary=True):\n",
        "    # inp = Input(shape=(600,1))\n",
        "\n",
        "    # # Initial separable conv\n",
        "    # x = SeparableConv1D(8, 5, activation='relu', padding='same')(inp)\n",
        "    # x = BatchNormalization()(x)\n",
        "    # x = MaxPooling1D(2)(x)\n",
        "\n",
        "    # # Bottleneck + dilated conv\n",
        "    # x = bottleneck_block(x, filters=16, dilation_rate=2)\n",
        "    # x = BatchNormalization()(x)\n",
        "    # x = MaxPooling1D(2)(x)\n",
        "\n",
        "    # # Residual refinement\n",
        "    # x = residual_block(x, filters=16)\n",
        "    # x = MaxPooling1D(2)(x)\n",
        "\n",
        "    # # Classifier head\n",
        "    # x = Flatten()(x)\n",
        "    # x = Dense(16, activation='relu', \n",
        "    #         kernel_regularizer=tf.keras.regularizers.l2(1e-4))(x)\n",
        "    # x = Dropout(0.3)(x)\n",
        "    # out = Dense(num_classes, activation='softmax', name='y_pred')(x)\n",
        "\n",
        "    # model = Model(inputs=inp, outputs=out)\n",
        "\n",
        "    model = Sequential([\n",
        "        # Replace first Conv1D with depthwise-separable conv\n",
        "        SeparableConv1D(32, kernel_size=5, activation='relu', input_shape=(600, 1)),\n",
        "        BatchNormalization(),\n",
        "        MaxPooling1D(pool_size=2),\n",
        "\n",
        "        # Replace second Conv1D\n",
        "        SeparableConv1D(16, kernel_size=5, activation='relu'),\n",
        "        BatchNormalization(),\n",
        "        MaxPooling1D(pool_size=2),\n",
        "\n",
        "        # Replace third Conv1D\n",
        "        SeparableConv1D(16, kernel_size=1, activation='relu'),\n",
        "        BatchNormalization(),\n",
        "        MaxPooling1D(pool_size=2),\n",
        "\n",
        "        Flatten(),\n",
        "\n",
        "        Dense(\n",
        "            32,\n",
        "            activation='relu',\n",
        "            kernel_regularizer=tf.keras.regularizers.l2(1e-4)\n",
        "        ),\n",
        "        Dropout(0.5),\n",
        "\n",
        "        Dense(num_classes, activation='softmax', name='y_pred')\n",
        "    ])\n",
        "\n",
        "    # model = Sequential([\n",
        "    #     Input(shape=(200, 3)),\n",
        "    #     Dense(64, activation='relu', kernel_regularizer=tf.keras.regularizers.l2(1e-4)),\n",
        "    #     BatchNormalization(),\n",
        "    #     MaxPooling1D(pool_size=2),\n",
        "    #     Dense(16, activation='relu', kernel_regularizer=tf.keras.regularizers.l2(1e-4)),\n",
        "    #     BatchNormalization(),\n",
        "    #     Dropout(0.3),\n",
        "    #     Flatten(),\n",
        "    #     Dense(num_classes, activation='softmax', name='y_pred')\n",
        "    # ])\n",
        "\n",
        "\n",
        "    # Compile model\n",
        "    model.compile(\n",
        "        optimizer='adam',\n",
        "        loss='categorical_crossentropy',\n",
        "        metrics=['accuracy']\n",
        "    )\n",
        "\n",
        "    if summary:\n",
        "        model.summary()\n",
        "\n",
        "    return model"
      ]
    },
    {
      "cell_type": "code",
      "execution_count": 182,
      "metadata": {
        "id": "sSs127krIdEc"
      },
      "outputs": [
        {
          "name": "stderr",
          "output_type": "stream",
          "text": [
            "/Users/ture/projects/tiny-ml/env/lib/python3.11/site-packages/keras/src/layers/convolutional/base_separable_conv.py:104: UserWarning: Do not pass an `input_shape`/`input_dim` argument to a layer. When using Sequential models, prefer using an `Input(shape)` object as the first layer in the model instead.\n",
            "  super().__init__(\n"
          ]
        },
        {
          "data": {
            "text/html": [
              "<pre style=\"white-space:pre;overflow-x:auto;line-height:normal;font-family:Menlo,'DejaVu Sans Mono',consolas,'Courier New',monospace\"><span style=\"font-weight: bold\">Model: \"sequential_11\"</span>\n",
              "</pre>\n"
            ],
            "text/plain": [
              "\u001b[1mModel: \"sequential_11\"\u001b[0m\n"
            ]
          },
          "metadata": {},
          "output_type": "display_data"
        },
        {
          "data": {
            "text/html": [
              "<pre style=\"white-space:pre;overflow-x:auto;line-height:normal;font-family:Menlo,'DejaVu Sans Mono',consolas,'Courier New',monospace\">┏━━━━━━━━━━━━━━━━━━━━━━━━━━━━━━━━━┳━━━━━━━━━━━━━━━━━━━━━━━━┳━━━━━━━━━━━━━━━┓\n",
              "┃<span style=\"font-weight: bold\"> Layer (type)                    </span>┃<span style=\"font-weight: bold\"> Output Shape           </span>┃<span style=\"font-weight: bold\">       Param # </span>┃\n",
              "┡━━━━━━━━━━━━━━━━━━━━━━━━━━━━━━━━━╇━━━━━━━━━━━━━━━━━━━━━━━━╇━━━━━━━━━━━━━━━┩\n",
              "│ separable_conv1d_23             │ (<span style=\"color: #00d7ff; text-decoration-color: #00d7ff\">None</span>, <span style=\"color: #00af00; text-decoration-color: #00af00\">596</span>, <span style=\"color: #00af00; text-decoration-color: #00af00\">32</span>)        │            <span style=\"color: #00af00; text-decoration-color: #00af00\">69</span> │\n",
              "│ (<span style=\"color: #0087ff; text-decoration-color: #0087ff\">SeparableConv1D</span>)               │                        │               │\n",
              "├─────────────────────────────────┼────────────────────────┼───────────────┤\n",
              "│ batch_normalization_49          │ (<span style=\"color: #00d7ff; text-decoration-color: #00d7ff\">None</span>, <span style=\"color: #00af00; text-decoration-color: #00af00\">596</span>, <span style=\"color: #00af00; text-decoration-color: #00af00\">32</span>)        │           <span style=\"color: #00af00; text-decoration-color: #00af00\">128</span> │\n",
              "│ (<span style=\"color: #0087ff; text-decoration-color: #0087ff\">BatchNormalization</span>)            │                        │               │\n",
              "├─────────────────────────────────┼────────────────────────┼───────────────┤\n",
              "│ max_pooling1d_44 (<span style=\"color: #0087ff; text-decoration-color: #0087ff\">MaxPooling1D</span>) │ (<span style=\"color: #00d7ff; text-decoration-color: #00d7ff\">None</span>, <span style=\"color: #00af00; text-decoration-color: #00af00\">298</span>, <span style=\"color: #00af00; text-decoration-color: #00af00\">32</span>)        │             <span style=\"color: #00af00; text-decoration-color: #00af00\">0</span> │\n",
              "├─────────────────────────────────┼────────────────────────┼───────────────┤\n",
              "│ separable_conv1d_24             │ (<span style=\"color: #00d7ff; text-decoration-color: #00d7ff\">None</span>, <span style=\"color: #00af00; text-decoration-color: #00af00\">294</span>, <span style=\"color: #00af00; text-decoration-color: #00af00\">16</span>)        │           <span style=\"color: #00af00; text-decoration-color: #00af00\">688</span> │\n",
              "│ (<span style=\"color: #0087ff; text-decoration-color: #0087ff\">SeparableConv1D</span>)               │                        │               │\n",
              "├─────────────────────────────────┼────────────────────────┼───────────────┤\n",
              "│ batch_normalization_50          │ (<span style=\"color: #00d7ff; text-decoration-color: #00d7ff\">None</span>, <span style=\"color: #00af00; text-decoration-color: #00af00\">294</span>, <span style=\"color: #00af00; text-decoration-color: #00af00\">16</span>)        │            <span style=\"color: #00af00; text-decoration-color: #00af00\">64</span> │\n",
              "│ (<span style=\"color: #0087ff; text-decoration-color: #0087ff\">BatchNormalization</span>)            │                        │               │\n",
              "├─────────────────────────────────┼────────────────────────┼───────────────┤\n",
              "│ max_pooling1d_45 (<span style=\"color: #0087ff; text-decoration-color: #0087ff\">MaxPooling1D</span>) │ (<span style=\"color: #00d7ff; text-decoration-color: #00d7ff\">None</span>, <span style=\"color: #00af00; text-decoration-color: #00af00\">147</span>, <span style=\"color: #00af00; text-decoration-color: #00af00\">16</span>)        │             <span style=\"color: #00af00; text-decoration-color: #00af00\">0</span> │\n",
              "├─────────────────────────────────┼────────────────────────┼───────────────┤\n",
              "│ separable_conv1d_25             │ (<span style=\"color: #00d7ff; text-decoration-color: #00d7ff\">None</span>, <span style=\"color: #00af00; text-decoration-color: #00af00\">147</span>, <span style=\"color: #00af00; text-decoration-color: #00af00\">16</span>)        │           <span style=\"color: #00af00; text-decoration-color: #00af00\">288</span> │\n",
              "│ (<span style=\"color: #0087ff; text-decoration-color: #0087ff\">SeparableConv1D</span>)               │                        │               │\n",
              "├─────────────────────────────────┼────────────────────────┼───────────────┤\n",
              "│ batch_normalization_51          │ (<span style=\"color: #00d7ff; text-decoration-color: #00d7ff\">None</span>, <span style=\"color: #00af00; text-decoration-color: #00af00\">147</span>, <span style=\"color: #00af00; text-decoration-color: #00af00\">16</span>)        │            <span style=\"color: #00af00; text-decoration-color: #00af00\">64</span> │\n",
              "│ (<span style=\"color: #0087ff; text-decoration-color: #0087ff\">BatchNormalization</span>)            │                        │               │\n",
              "├─────────────────────────────────┼────────────────────────┼───────────────┤\n",
              "│ max_pooling1d_46 (<span style=\"color: #0087ff; text-decoration-color: #0087ff\">MaxPooling1D</span>) │ (<span style=\"color: #00d7ff; text-decoration-color: #00d7ff\">None</span>, <span style=\"color: #00af00; text-decoration-color: #00af00\">73</span>, <span style=\"color: #00af00; text-decoration-color: #00af00\">16</span>)         │             <span style=\"color: #00af00; text-decoration-color: #00af00\">0</span> │\n",
              "├─────────────────────────────────┼────────────────────────┼───────────────┤\n",
              "│ flatten_16 (<span style=\"color: #0087ff; text-decoration-color: #0087ff\">Flatten</span>)            │ (<span style=\"color: #00d7ff; text-decoration-color: #00d7ff\">None</span>, <span style=\"color: #00af00; text-decoration-color: #00af00\">1168</span>)           │             <span style=\"color: #00af00; text-decoration-color: #00af00\">0</span> │\n",
              "├─────────────────────────────────┼────────────────────────┼───────────────┤\n",
              "│ dense_17 (<span style=\"color: #0087ff; text-decoration-color: #0087ff\">Dense</span>)                │ (<span style=\"color: #00d7ff; text-decoration-color: #00d7ff\">None</span>, <span style=\"color: #00af00; text-decoration-color: #00af00\">32</span>)             │        <span style=\"color: #00af00; text-decoration-color: #00af00\">37,408</span> │\n",
              "├─────────────────────────────────┼────────────────────────┼───────────────┤\n",
              "│ dropout_16 (<span style=\"color: #0087ff; text-decoration-color: #0087ff\">Dropout</span>)            │ (<span style=\"color: #00d7ff; text-decoration-color: #00d7ff\">None</span>, <span style=\"color: #00af00; text-decoration-color: #00af00\">32</span>)             │             <span style=\"color: #00af00; text-decoration-color: #00af00\">0</span> │\n",
              "├─────────────────────────────────┼────────────────────────┼───────────────┤\n",
              "│ y_pred (<span style=\"color: #0087ff; text-decoration-color: #0087ff\">Dense</span>)                  │ (<span style=\"color: #00d7ff; text-decoration-color: #00d7ff\">None</span>, <span style=\"color: #00af00; text-decoration-color: #00af00\">4</span>)              │           <span style=\"color: #00af00; text-decoration-color: #00af00\">132</span> │\n",
              "└─────────────────────────────────┴────────────────────────┴───────────────┘\n",
              "</pre>\n"
            ],
            "text/plain": [
              "┏━━━━━━━━━━━━━━━━━━━━━━━━━━━━━━━━━┳━━━━━━━━━━━━━━━━━━━━━━━━┳━━━━━━━━━━━━━━━┓\n",
              "┃\u001b[1m \u001b[0m\u001b[1mLayer (type)                   \u001b[0m\u001b[1m \u001b[0m┃\u001b[1m \u001b[0m\u001b[1mOutput Shape          \u001b[0m\u001b[1m \u001b[0m┃\u001b[1m \u001b[0m\u001b[1m      Param #\u001b[0m\u001b[1m \u001b[0m┃\n",
              "┡━━━━━━━━━━━━━━━━━━━━━━━━━━━━━━━━━╇━━━━━━━━━━━━━━━━━━━━━━━━╇━━━━━━━━━━━━━━━┩\n",
              "│ separable_conv1d_23             │ (\u001b[38;5;45mNone\u001b[0m, \u001b[38;5;34m596\u001b[0m, \u001b[38;5;34m32\u001b[0m)        │            \u001b[38;5;34m69\u001b[0m │\n",
              "│ (\u001b[38;5;33mSeparableConv1D\u001b[0m)               │                        │               │\n",
              "├─────────────────────────────────┼────────────────────────┼───────────────┤\n",
              "│ batch_normalization_49          │ (\u001b[38;5;45mNone\u001b[0m, \u001b[38;5;34m596\u001b[0m, \u001b[38;5;34m32\u001b[0m)        │           \u001b[38;5;34m128\u001b[0m │\n",
              "│ (\u001b[38;5;33mBatchNormalization\u001b[0m)            │                        │               │\n",
              "├─────────────────────────────────┼────────────────────────┼───────────────┤\n",
              "│ max_pooling1d_44 (\u001b[38;5;33mMaxPooling1D\u001b[0m) │ (\u001b[38;5;45mNone\u001b[0m, \u001b[38;5;34m298\u001b[0m, \u001b[38;5;34m32\u001b[0m)        │             \u001b[38;5;34m0\u001b[0m │\n",
              "├─────────────────────────────────┼────────────────────────┼───────────────┤\n",
              "│ separable_conv1d_24             │ (\u001b[38;5;45mNone\u001b[0m, \u001b[38;5;34m294\u001b[0m, \u001b[38;5;34m16\u001b[0m)        │           \u001b[38;5;34m688\u001b[0m │\n",
              "│ (\u001b[38;5;33mSeparableConv1D\u001b[0m)               │                        │               │\n",
              "├─────────────────────────────────┼────────────────────────┼───────────────┤\n",
              "│ batch_normalization_50          │ (\u001b[38;5;45mNone\u001b[0m, \u001b[38;5;34m294\u001b[0m, \u001b[38;5;34m16\u001b[0m)        │            \u001b[38;5;34m64\u001b[0m │\n",
              "│ (\u001b[38;5;33mBatchNormalization\u001b[0m)            │                        │               │\n",
              "├─────────────────────────────────┼────────────────────────┼───────────────┤\n",
              "│ max_pooling1d_45 (\u001b[38;5;33mMaxPooling1D\u001b[0m) │ (\u001b[38;5;45mNone\u001b[0m, \u001b[38;5;34m147\u001b[0m, \u001b[38;5;34m16\u001b[0m)        │             \u001b[38;5;34m0\u001b[0m │\n",
              "├─────────────────────────────────┼────────────────────────┼───────────────┤\n",
              "│ separable_conv1d_25             │ (\u001b[38;5;45mNone\u001b[0m, \u001b[38;5;34m147\u001b[0m, \u001b[38;5;34m16\u001b[0m)        │           \u001b[38;5;34m288\u001b[0m │\n",
              "│ (\u001b[38;5;33mSeparableConv1D\u001b[0m)               │                        │               │\n",
              "├─────────────────────────────────┼────────────────────────┼───────────────┤\n",
              "│ batch_normalization_51          │ (\u001b[38;5;45mNone\u001b[0m, \u001b[38;5;34m147\u001b[0m, \u001b[38;5;34m16\u001b[0m)        │            \u001b[38;5;34m64\u001b[0m │\n",
              "│ (\u001b[38;5;33mBatchNormalization\u001b[0m)            │                        │               │\n",
              "├─────────────────────────────────┼────────────────────────┼───────────────┤\n",
              "│ max_pooling1d_46 (\u001b[38;5;33mMaxPooling1D\u001b[0m) │ (\u001b[38;5;45mNone\u001b[0m, \u001b[38;5;34m73\u001b[0m, \u001b[38;5;34m16\u001b[0m)         │             \u001b[38;5;34m0\u001b[0m │\n",
              "├─────────────────────────────────┼────────────────────────┼───────────────┤\n",
              "│ flatten_16 (\u001b[38;5;33mFlatten\u001b[0m)            │ (\u001b[38;5;45mNone\u001b[0m, \u001b[38;5;34m1168\u001b[0m)           │             \u001b[38;5;34m0\u001b[0m │\n",
              "├─────────────────────────────────┼────────────────────────┼───────────────┤\n",
              "│ dense_17 (\u001b[38;5;33mDense\u001b[0m)                │ (\u001b[38;5;45mNone\u001b[0m, \u001b[38;5;34m32\u001b[0m)             │        \u001b[38;5;34m37,408\u001b[0m │\n",
              "├─────────────────────────────────┼────────────────────────┼───────────────┤\n",
              "│ dropout_16 (\u001b[38;5;33mDropout\u001b[0m)            │ (\u001b[38;5;45mNone\u001b[0m, \u001b[38;5;34m32\u001b[0m)             │             \u001b[38;5;34m0\u001b[0m │\n",
              "├─────────────────────────────────┼────────────────────────┼───────────────┤\n",
              "│ y_pred (\u001b[38;5;33mDense\u001b[0m)                  │ (\u001b[38;5;45mNone\u001b[0m, \u001b[38;5;34m4\u001b[0m)              │           \u001b[38;5;34m132\u001b[0m │\n",
              "└─────────────────────────────────┴────────────────────────┴───────────────┘\n"
            ]
          },
          "metadata": {},
          "output_type": "display_data"
        },
        {
          "data": {
            "text/html": [
              "<pre style=\"white-space:pre;overflow-x:auto;line-height:normal;font-family:Menlo,'DejaVu Sans Mono',consolas,'Courier New',monospace\"><span style=\"font-weight: bold\"> Total params: </span><span style=\"color: #00af00; text-decoration-color: #00af00\">38,841</span> (151.72 KB)\n",
              "</pre>\n"
            ],
            "text/plain": [
              "\u001b[1m Total params: \u001b[0m\u001b[38;5;34m38,841\u001b[0m (151.72 KB)\n"
            ]
          },
          "metadata": {},
          "output_type": "display_data"
        },
        {
          "data": {
            "text/html": [
              "<pre style=\"white-space:pre;overflow-x:auto;line-height:normal;font-family:Menlo,'DejaVu Sans Mono',consolas,'Courier New',monospace\"><span style=\"font-weight: bold\"> Trainable params: </span><span style=\"color: #00af00; text-decoration-color: #00af00\">38,713</span> (151.22 KB)\n",
              "</pre>\n"
            ],
            "text/plain": [
              "\u001b[1m Trainable params: \u001b[0m\u001b[38;5;34m38,713\u001b[0m (151.22 KB)\n"
            ]
          },
          "metadata": {},
          "output_type": "display_data"
        },
        {
          "data": {
            "text/html": [
              "<pre style=\"white-space:pre;overflow-x:auto;line-height:normal;font-family:Menlo,'DejaVu Sans Mono',consolas,'Courier New',monospace\"><span style=\"font-weight: bold\"> Non-trainable params: </span><span style=\"color: #00af00; text-decoration-color: #00af00\">128</span> (512.00 B)\n",
              "</pre>\n"
            ],
            "text/plain": [
              "\u001b[1m Non-trainable params: \u001b[0m\u001b[38;5;34m128\u001b[0m (512.00 B)\n"
            ]
          },
          "metadata": {},
          "output_type": "display_data"
        }
      ],
      "source": [
        "model = build_model()"
      ]
    },
    {
      "cell_type": "markdown",
      "metadata": {
        "id": "t1n_O2a6I0ee"
      },
      "source": [
        "### Train the model\n",
        "\n",
        "So far, you manually explored how many epochs are necessary to successfully train the model. However, Tensorflow gives you an option to automate this called [early stopping](https://keras.io/api/callbacks/early_stopping/). See also [here](https://machinelearningmastery.com/how-to-stop-training-deep-neural-networks-at-the-right-time-using-early-stopping/) and [here](https://towardsdatascience.com/a-practical-introduction-to-early-stopping-in-machine-learning-550ac88bc8fd).\n",
        "\n",
        "---\n",
        "**Task 7:** Use an early stopping callback in your fitting function to find the optimal number of epochs. Use reasonable configurations. How many epochs does it train for?\n",
        "\n",
        "**Answer:**\n",
        "\n",
        "\n",
        "- monitor=\"val_loss\" -> \"val_loss is the value of cost function for your cross-validation data and loss is the value of cost function for your training data\" [source](https://datascience.stackexchange.com/a/25269)\n",
        "- patience=10 -> jiggles some times up and down, want to continue after that to use the given training epochs more\n",
        "- min_delta=0.01 -> force some minimum improvment\n",
        "- mode='min' -> val_loss needs to be minimized\n",
        "- restore_best_weights=True -> want to restore the weights that gave the best val_loss\n",
        "\n",
        "\n",
        "\n",
        "---"
      ]
    },
    {
      "cell_type": "code",
      "execution_count": 183,
      "metadata": {
        "id": "aCrSiGBcI2ot"
      },
      "outputs": [
        {
          "name": "stdout",
          "output_type": "stream",
          "text": [
            "Epoch 1/50\n",
            "\u001b[1m37/37\u001b[0m \u001b[32m━━━━━━━━━━━━━━━━━━━━\u001b[0m\u001b[37m\u001b[0m \u001b[1m3s\u001b[0m 42ms/step - accuracy: 0.5318 - loss: 1.7033 - val_accuracy: 0.1567 - val_loss: 1.6016\n",
            "Epoch 2/50\n",
            "\u001b[1m37/37\u001b[0m \u001b[32m━━━━━━━━━━━━━━━━━━━━\u001b[0m\u001b[37m\u001b[0m \u001b[1m1s\u001b[0m 27ms/step - accuracy: 0.8281 - loss: 0.5921 - val_accuracy: 0.1992 - val_loss: 1.4126\n",
            "Epoch 3/50\n",
            "\u001b[1m37/37\u001b[0m \u001b[32m━━━━━━━━━━━━━━━━━━━━\u001b[0m\u001b[37m\u001b[0m \u001b[1m1s\u001b[0m 26ms/step - accuracy: 0.8835 - loss: 0.4348 - val_accuracy: 0.6886 - val_loss: 1.4174\n",
            "Epoch 4/50\n",
            "\u001b[1m37/37\u001b[0m \u001b[32m━━━━━━━━━━━━━━━━━━━━\u001b[0m\u001b[37m\u001b[0m \u001b[1m1s\u001b[0m 25ms/step - accuracy: 0.9052 - loss: 0.3971 - val_accuracy: 0.6886 - val_loss: 1.6470\n",
            "Epoch 5/50\n",
            "\u001b[1m37/37\u001b[0m \u001b[32m━━━━━━━━━━━━━━━━━━━━\u001b[0m\u001b[37m\u001b[0m \u001b[1m1s\u001b[0m 26ms/step - accuracy: 0.9185 - loss: 0.3777 - val_accuracy: 0.6886 - val_loss: 2.1250\n",
            "Epoch 6/50\n",
            "\u001b[1m37/37\u001b[0m \u001b[32m━━━━━━━━━━━━━━━━━━━━\u001b[0m\u001b[37m\u001b[0m \u001b[1m1s\u001b[0m 26ms/step - accuracy: 0.9236 - loss: 0.3421 - val_accuracy: 0.6886 - val_loss: 2.5369\n",
            "Epoch 7/50\n",
            "\u001b[1m37/37\u001b[0m \u001b[32m━━━━━━━━━━━━━━━━━━━━\u001b[0m\u001b[37m\u001b[0m \u001b[1m1s\u001b[0m 26ms/step - accuracy: 0.9390 - loss: 0.3028 - val_accuracy: 0.6886 - val_loss: 2.2810\n",
            "Epoch 8/50\n",
            "\u001b[1m37/37\u001b[0m \u001b[32m━━━━━━━━━━━━━━━━━━━━\u001b[0m\u001b[37m\u001b[0m \u001b[1m1s\u001b[0m 25ms/step - accuracy: 0.9453 - loss: 0.2766 - val_accuracy: 0.6983 - val_loss: 1.8102\n",
            "Epoch 9/50\n",
            "\u001b[1m37/37\u001b[0m \u001b[32m━━━━━━━━━━━━━━━━━━━━\u001b[0m\u001b[37m\u001b[0m \u001b[1m1s\u001b[0m 26ms/step - accuracy: 0.9453 - loss: 0.2630 - val_accuracy: 0.8414 - val_loss: 1.1163\n",
            "Epoch 10/50\n",
            "\u001b[1m37/37\u001b[0m \u001b[32m━━━━━━━━━━━━━━━━━━━━\u001b[0m\u001b[37m\u001b[0m \u001b[1m1s\u001b[0m 26ms/step - accuracy: 0.9463 - loss: 0.2880 - val_accuracy: 0.8433 - val_loss: 0.9767\n",
            "Epoch 11/50\n",
            "\u001b[1m37/37\u001b[0m \u001b[32m━━━━━━━━━━━━━━━━━━━━\u001b[0m\u001b[37m\u001b[0m \u001b[1m1s\u001b[0m 26ms/step - accuracy: 0.9502 - loss: 0.2722 - val_accuracy: 0.9149 - val_loss: 0.2060\n",
            "Epoch 12/50\n",
            "\u001b[1m37/37\u001b[0m \u001b[32m━━━━━━━━━━━━━━━━━━━━\u001b[0m\u001b[37m\u001b[0m \u001b[1m1s\u001b[0m 26ms/step - accuracy: 0.9515 - loss: 0.2993 - val_accuracy: 0.9207 - val_loss: 0.2219\n",
            "Epoch 13/50\n",
            "\u001b[1m37/37\u001b[0m \u001b[32m━━━━━━━━━━━━━━━━━━━━\u001b[0m\u001b[37m\u001b[0m \u001b[1m1s\u001b[0m 26ms/step - accuracy: 0.9597 - loss: 0.2438 - val_accuracy: 0.9903 - val_loss: 0.0339\n",
            "Epoch 14/50\n",
            "\u001b[1m37/37\u001b[0m \u001b[32m━━━━━━━━━━━━━━━━━━━━\u001b[0m\u001b[37m\u001b[0m \u001b[1m1s\u001b[0m 27ms/step - accuracy: 0.9620 - loss: 0.2352 - val_accuracy: 0.9981 - val_loss: 0.0165\n",
            "Epoch 15/50\n",
            "\u001b[1m37/37\u001b[0m \u001b[32m━━━━━━━━━━━━━━━━━━━━\u001b[0m\u001b[37m\u001b[0m \u001b[1m1s\u001b[0m 26ms/step - accuracy: 0.9665 - loss: 0.2052 - val_accuracy: 0.9304 - val_loss: 0.3647\n",
            "Epoch 16/50\n",
            "\u001b[1m37/37\u001b[0m \u001b[32m━━━━━━━━━━━━━━━━━━━━\u001b[0m\u001b[37m\u001b[0m \u001b[1m1s\u001b[0m 26ms/step - accuracy: 0.9702 - loss: 0.1615 - val_accuracy: 0.9555 - val_loss: 0.1645\n",
            "Epoch 17/50\n",
            "\u001b[1m37/37\u001b[0m \u001b[32m━━━━━━━━━━━━━━━━━━━━\u001b[0m\u001b[37m\u001b[0m \u001b[1m1s\u001b[0m 25ms/step - accuracy: 0.9684 - loss: 0.1422 - val_accuracy: 0.8221 - val_loss: 2.9334\n",
            "Epoch 18/50\n",
            "\u001b[1m37/37\u001b[0m \u001b[32m━━━━━━━━━━━━━━━━━━━━\u001b[0m\u001b[37m\u001b[0m \u001b[1m1s\u001b[0m 26ms/step - accuracy: 0.9689 - loss: 0.1662 - val_accuracy: 0.9536 - val_loss: 0.1963\n",
            "Epoch 19/50\n",
            "\u001b[1m37/37\u001b[0m \u001b[32m━━━━━━━━━━━━━━━━━━━━\u001b[0m\u001b[37m\u001b[0m \u001b[1m1s\u001b[0m 26ms/step - accuracy: 0.9771 - loss: 0.1049 - val_accuracy: 0.9768 - val_loss: 0.0978\n",
            "Epoch 20/50\n",
            "\u001b[1m37/37\u001b[0m \u001b[32m━━━━━━━━━━━━━━━━━━━━\u001b[0m\u001b[37m\u001b[0m \u001b[1m1s\u001b[0m 26ms/step - accuracy: 0.9763 - loss: 0.1100 - val_accuracy: 1.0000 - val_loss: 0.0115\n",
            "Epoch 21/50\n",
            "\u001b[1m37/37\u001b[0m \u001b[32m━━━━━━━━━━━━━━━━━━━━\u001b[0m\u001b[37m\u001b[0m \u001b[1m1s\u001b[0m 26ms/step - accuracy: 0.9732 - loss: 0.1734 - val_accuracy: 1.0000 - val_loss: 0.0120\n",
            "Epoch 22/50\n",
            "\u001b[1m37/37\u001b[0m \u001b[32m━━━━━━━━━━━━━━━━━━━━\u001b[0m\u001b[37m\u001b[0m \u001b[1m1s\u001b[0m 26ms/step - accuracy: 0.9734 - loss: 0.1378 - val_accuracy: 1.0000 - val_loss: 0.0148\n",
            "Epoch 23/50\n",
            "\u001b[1m37/37\u001b[0m \u001b[32m━━━━━━━━━━━━━━━━━━━━\u001b[0m\u001b[37m\u001b[0m \u001b[1m1s\u001b[0m 26ms/step - accuracy: 0.9763 - loss: 0.1095 - val_accuracy: 0.8433 - val_loss: 1.3899\n",
            "Epoch 24/50\n",
            "\u001b[1m37/37\u001b[0m \u001b[32m━━━━━━━━━━━━━━━━━━━━\u001b[0m\u001b[37m\u001b[0m \u001b[1m1s\u001b[0m 27ms/step - accuracy: 0.9722 - loss: 0.1129 - val_accuracy: 1.0000 - val_loss: 0.0187\n",
            "Epoch 25/50\n",
            "\u001b[1m37/37\u001b[0m \u001b[32m━━━━━━━━━━━━━━━━━━━━\u001b[0m\u001b[37m\u001b[0m \u001b[1m1s\u001b[0m 26ms/step - accuracy: 0.9792 - loss: 0.1282 - val_accuracy: 0.9961 - val_loss: 0.0293\n",
            "Epoch 26/50\n",
            "\u001b[1m37/37\u001b[0m \u001b[32m━━━━━━━━━━━━━━━━━━━━\u001b[0m\u001b[37m\u001b[0m \u001b[1m1s\u001b[0m 26ms/step - accuracy: 0.9815 - loss: 0.0706 - val_accuracy: 0.8356 - val_loss: 0.1990\n",
            "Epoch 27/50\n",
            "\u001b[1m37/37\u001b[0m \u001b[32m━━━━━━━━━━━━━━━━━━━━\u001b[0m\u001b[37m\u001b[0m \u001b[1m1s\u001b[0m 26ms/step - accuracy: 0.9834 - loss: 0.0756 - val_accuracy: 0.9903 - val_loss: 0.0596\n",
            "Epoch 28/50\n",
            "\u001b[1m37/37\u001b[0m \u001b[32m━━━━━━━━━━━━━━━━━━━━\u001b[0m\u001b[37m\u001b[0m \u001b[1m1s\u001b[0m 25ms/step - accuracy: 0.9834 - loss: 0.0756 - val_accuracy: 0.9981 - val_loss: 0.0194\n",
            "Epoch 29/50\n",
            "\u001b[1m37/37\u001b[0m \u001b[32m━━━━━━━━━━━━━━━━━━━━\u001b[0m\u001b[37m\u001b[0m \u001b[1m1s\u001b[0m 26ms/step - accuracy: 0.9880 - loss: 0.0614 - val_accuracy: 0.9845 - val_loss: 0.0629\n",
            "Epoch 30/50\n",
            "\u001b[1m37/37\u001b[0m \u001b[32m━━━━━━━━━━━━━━━━━━━━\u001b[0m\u001b[37m\u001b[0m \u001b[1m1s\u001b[0m 26ms/step - accuracy: 0.9874 - loss: 0.0598 - val_accuracy: 0.9981 - val_loss: 0.0161\n"
          ]
        },
        {
          "data": {
            "image/png": "[encoded data removed]",
            "text/plain": [
              "<Figure size 1500x480 with 2 Axes>"
            ]
          },
          "metadata": {},
          "output_type": "display_data"
        }
      ],
      "source": [
        "\n",
        "early_stopping_cb = EarlyStopping(\n",
        "    monitor=\"val_loss\",\n",
        "    patience=10,\n",
        "    # min_delta=0.01,\n",
        "    mode='min',\n",
        "    restore_best_weights=True\n",
        ")\n",
        "callbacks=[early_stopping_cb, ]\n",
        "# callbacks=[]\n",
        "\n",
        "num_epochs = 50\n",
        "history = model.fit(x_train, y_train, batch_size=128, epochs=num_epochs, validation_split=0.1, callbacks=callbacks)\n",
        "plot_training_history(history, 1)"
      ]
    },
    {
      "cell_type": "markdown",
      "metadata": {
        "id": "mUTfe6NthUJq"
      },
      "source": [
        "### Evaluate the Model\n",
        "\n"
      ]
    },
    {
      "cell_type": "code",
      "execution_count": 184,
      "metadata": {
        "id": "BkPvoY5UhUJq"
      },
      "outputs": [
        {
          "name": "stdout",
          "output_type": "stream",
          "text": [
            "\u001b[1m41/41\u001b[0m \u001b[32m━━━━━━━━━━━━━━━━━━━━\u001b[0m\u001b[37m\u001b[0m \u001b[1m0s\u001b[0m 9ms/step - accuracy: 0.9705 - loss: 0.1248\n",
            "Test loss: 0.10834626853466034\n",
            "Test accuracy: 0.9729102253913879\n",
            "\u001b[1m41/41\u001b[0m \u001b[32m━━━━━━━━━━━━━━━━━━━━\u001b[0m\u001b[37m\u001b[0m \u001b[1m0s\u001b[0m 5ms/step\n"
          ]
        },
        {
          "data": {
            "image/png": "[encoded data removed]",
            "text/plain": [
              "<Figure size 400x400 with 1 Axes>"
            ]
          },
          "metadata": {},
          "output_type": "display_data"
        }
      ],
      "source": [
        "score_model = model.evaluate(x_test, y_test) #, verbose=0)\n",
        "print(\"Test loss:\", score_model[0])\n",
        "print(\"Test accuracy:\", score_model[1])\n",
        "\n",
        "cm = confusion_matrix(np.argmax(y_test,axis=1), np.argmax(model.predict(x_test),axis=1))\n",
        "# print(cm)\n",
        "\n",
        "cm = cm.astype('float') / cm.sum(axis=1)[:, np.newaxis]\n",
        "\n",
        "cm = pd.DataFrame(cm, index = labels,\n",
        "                  columns = labels)\n",
        "\n",
        "plt.figure(figsize = (4,4))\n",
        "ax = sns.heatmap(cm*100,\n",
        "           annot=True,\n",
        "           fmt='.1f',\n",
        "           cmap=\"Blues\",\n",
        "           cbar=False,\n",
        "              )\n",
        "ax.set_ylabel(\"True Class\", fontdict= {'fontweight':'bold'})\n",
        "ax.set_xlabel(\"Predicted Class\", fontdict= {'fontweight':'bold'})\n",
        "\n",
        "plt.show()"
      ]
    },
    {
      "cell_type": "markdown",
      "metadata": {
        "id": "iYEf43GMhUJq"
      },
      "source": [
        "---\n",
        "**Task 8:** How does the accuracy of your model compare to the accuracy you achieved with Edge Impulse?\n",
        "\n",
        "There seem to be some issues with the random initialization. The same model performed much better on EdgeImpulse. Started multiple runs to achieve similar result.\n",
        "\n",
        "![CNN+Dense Large Validation](./lab2_validation_cnn_dense_large_2.png)\n",
        "\n",
        "![CNN+Dense Large Validation](./edge_impulse_cnn_dense_large.png)\n",
        "\n",
        "Therefore, we introduced a more advanced architecture.\n",
        "\n",
        "![Advanced Architecture Validation](./lab2_validation_advanced_large.png)\n",
        "\n",
        "![Advanced Architecture Edge Impulse](./edge_impulse_advanced_architecture_large.png)\n",
        "\n",
        "---"
      ]
    },
    {
      "cell_type": "markdown",
      "metadata": {
        "id": "4RWXZSAPhUJr"
      },
      "source": [
        "### Save Model\n",
        "\n",
        "To come back to a model to continue working on it, it might be useful to save it. We can use the `model.save()` [Function](https://www.tensorflow.org/guide/keras/serialization_and_saving) that exports a TensorFlow model object to SavedModel format.\n",
        "\n",
        "If you use Google Colab, you can find the saved model as a `.keras`-file on the left under `Files/`."
      ]
    },
    {
      "cell_type": "code",
      "execution_count": 185,
      "metadata": {
        "id": "9x-PrlqqhUJr"
      },
      "outputs": [],
      "source": [
        "from datetime import datetime\n",
        "\n",
        "export_base_path = f\"./models/{datetime.now().strftime('%Y-%m-%d_%H-%M-%S')}_test2\"\n",
        "model.save(f\"{export_base_path}.keras\")"
      ]
    },
    {
      "cell_type": "markdown",
      "metadata": {
        "id": "aBFHbzyDhUJr"
      },
      "source": [
        "### Model Quantization\n",
        "\n",
        "Your microcontroller cannot use the Tensoflow model directly. Instead there is [LiteRT](https://ai.google.dev/edge/litert) for deploying models on mobile and edge devices.\n",
        "\n",
        "---\n",
        "**Task 9:** Load your model and convert it with LiteRT and save the model to a `.tflite`-file. (HINT: Check out [this](https://github.com/tensorflow/tflite-micro/tree/main/tensorflow/lite/micro/examples/hello_world) *Hello World* example and [these instructions](https://ai.google.dev/edge/litert/models/convert_tf).)\n",
        "\n",
        "**Task 10:** Create a second LiteRT conversion that uses [optimizations](https://ai.google.dev/edge/api/tflite/python/tf/lite/Optimize) and enforce integer-only weights.\n",
        "(Maybe a helpful [resource](https://ai.google.dev/edge/litert/models/post_training_quantization).)\n",
        "\n",
        "**Task 11:** Evaluate all converted models and compare them to the Tensorflow model they are based on regarding profiled memory usage and accuracy. Use plots.\n",
        "\n",
        "```[bash]\n",
        "ls -lh models/\n",
        "-rw-r--r--@ 1 ture  staff   485K Apr 27 17:39 2025-04-27_17-39-12_advanced_architecture.keras\n",
        "-rw-r--r--@ 1 ture  staff   143K May  6 22:21 2025-05-06_21-16-36_advanced_architecture-basic.tflite\n",
        "-rw-r--r--@ 1 ture  staff    51K May  6 22:21 2025-05-06_21-16-36_advanced_architecture-optimized.tflite\n",
        "-rw-r--r--@ 1 ture  staff    51K May  6 22:21 2025-05-06_21-16-36_advanced_architecture-quantized.tflite\n",
        "```\n",
        "\n",
        "Therefore, the quantized and optimized model has ~60% reduction in size compared to the base tflite model and a 89% size reduction to the orignial model.\n",
        "\n",
        "```\n",
        "=== ORIGINAL MODEL ===\n",
        "1292/1292 ━━━━━━━━━━━━━━━━━━━━ 3s 3ms/step\n",
        "Model accuracy: 0.9729\n",
        "Estimated RAM usage: N/A for Keras model\n",
        "\n",
        "=== BASIC MODEL ===\n",
        "Model accuracy: 0.9837\n",
        "Estimated RAM usage (tensor buffers only): 375.41 KB\n",
        "\n",
        "=== OPTIMIZED MODEL ===\n",
        "Model accuracy: 0.9837\n",
        "Estimated RAM usage (tensor buffers only): 282.41 KB\n",
        "\n",
        "=== QUANTIZED MODEL ===\n",
        "Model accuracy: 0.9226\n",
        "Estimated RAM usage (tensor buffers only): 96.78 KB\n",
        "```\n",
        "\n",
        "Quite curiosly this accuracy drop disappeared after retraining the model:\n",
        "\n",
        "```\n",
        "=== ORIGINAL MODEL ===\n",
        "1292/1292 ━━━━━━━━━━━━━━━━━━━━ 4s 3ms/step\n",
        "Model accuracy: 0.9930\n",
        "Estimated RAM usage: N/A for Keras model\n",
        "\n",
        "=== BASIC MODEL ===\n",
        "Model accuracy: 0.9837\n",
        "Estimated RAM usage (tensor buffers only): 375.41 KB\n",
        "\n",
        "=== OPTIMIZED MODEL ===\n",
        "Model accuracy: 0.9837\n",
        "Estimated RAM usage (tensor buffers only): 282.41 KB\n",
        "\n",
        "=== QUANTIZED MODEL ===\n",
        "Model accuracy: 0.9861\n",
        "Estimated RAM usage (tensor buffers only): 96.78 KB\n",
        "```\n",
        "\n",
        "**Task 12:** Explain your findings from the previous task. Why is there such a difference in performance and in memory usage?\n",
        "\n",
        "**Answer:**\n",
        "\n",
        "\n",
        "---"
      ]
    },
    {
      "cell_type": "code",
      "execution_count": 186,
      "metadata": {
        "id": "9l09V3-HhUJr"
      },
      "outputs": [
        {
          "name": "stdout",
          "output_type": "stream",
          "text": [
            "INFO:tensorflow:Assets written to: /var/folders/t_/zj_f3xqx0h1_m2mq82vhpy_00000gn/T/tmpimz0cf1v/assets\n"
          ]
        },
        {
          "name": "stderr",
          "output_type": "stream",
          "text": [
            "INFO:tensorflow:Assets written to: /var/folders/t_/zj_f3xqx0h1_m2mq82vhpy_00000gn/T/tmpimz0cf1v/assets\n"
          ]
        },
        {
          "name": "stdout",
          "output_type": "stream",
          "text": [
            "Saved artifact at '/var/folders/t_/zj_f3xqx0h1_m2mq82vhpy_00000gn/T/tmpimz0cf1v'. The following endpoints are available:\n",
            "\n",
            "* Endpoint 'serve'\n",
            "  args_0 (POSITIONAL_ONLY): TensorSpec(shape=(None, 600, 1), dtype=tf.float32, name='keras_tensor_289')\n",
            "Output Type:\n",
            "  TensorSpec(shape=(None, 4), dtype=tf.float32, name=None)\n",
            "Captures:\n",
            "  13628022160: TensorSpec(shape=(), dtype=tf.resource, name=None)\n",
            "  13628027920: TensorSpec(shape=(), dtype=tf.resource, name=None)\n",
            "  16658279568: TensorSpec(shape=(), dtype=tf.resource, name=None)\n",
            "  19079988624: TensorSpec(shape=(), dtype=tf.resource, name=None)\n",
            "  13628015248: TensorSpec(shape=(), dtype=tf.resource, name=None)\n",
            "  19147344592: TensorSpec(shape=(), dtype=tf.resource, name=None)\n",
            "  16658273424: TensorSpec(shape=(), dtype=tf.resource, name=None)\n",
            "  19079990928: TensorSpec(shape=(), dtype=tf.resource, name=None)\n",
            "  16658275920: TensorSpec(shape=(), dtype=tf.resource, name=None)\n",
            "  19079992272: TensorSpec(shape=(), dtype=tf.resource, name=None)\n",
            "  6165663568: TensorSpec(shape=(), dtype=tf.resource, name=None)\n",
            "  14836984784: TensorSpec(shape=(), dtype=tf.resource, name=None)\n",
            "  14836985936: TensorSpec(shape=(), dtype=tf.resource, name=None)\n",
            "  14836985552: TensorSpec(shape=(), dtype=tf.resource, name=None)\n",
            "  14836986896: TensorSpec(shape=(), dtype=tf.resource, name=None)\n",
            "  14836987280: TensorSpec(shape=(), dtype=tf.resource, name=None)\n",
            "  6165661072: TensorSpec(shape=(), dtype=tf.resource, name=None)\n",
            "  6165665104: TensorSpec(shape=(), dtype=tf.resource, name=None)\n",
            "  6165665296: TensorSpec(shape=(), dtype=tf.resource, name=None)\n",
            "  14836986704: TensorSpec(shape=(), dtype=tf.resource, name=None)\n",
            "  14836987664: TensorSpec(shape=(), dtype=tf.resource, name=None)\n",
            "  15039360144: TensorSpec(shape=(), dtype=tf.resource, name=None)\n",
            "  15039360912: TensorSpec(shape=(), dtype=tf.resource, name=None)\n",
            "  15039360336: TensorSpec(shape=(), dtype=tf.resource, name=None)\n",
            "  15039358608: TensorSpec(shape=(), dtype=tf.resource, name=None)\n"
          ]
        },
        {
          "name": "stderr",
          "output_type": "stream",
          "text": [
            "W0000 00:00:1749120250.685671 7203269 tf_tfl_flatbuffer_helpers.cc:365] Ignored output_format.\n",
            "W0000 00:00:1749120250.685683 7203269 tf_tfl_flatbuffer_helpers.cc:368] Ignored drop_control_dependency.\n",
            "2025-06-05 12:44:10.685775: I tensorflow/cc/saved_model/reader.cc:83] Reading SavedModel from: /var/folders/t_/zj_f3xqx0h1_m2mq82vhpy_00000gn/T/tmpimz0cf1v\n",
            "2025-06-05 12:44:10.686282: I tensorflow/cc/saved_model/reader.cc:52] Reading meta graph with tags { serve }\n",
            "2025-06-05 12:44:10.686289: I tensorflow/cc/saved_model/reader.cc:147] Reading SavedModel debug info (if present) from: /var/folders/t_/zj_f3xqx0h1_m2mq82vhpy_00000gn/T/tmpimz0cf1v\n",
            "2025-06-05 12:44:10.693364: I tensorflow/cc/saved_model/loader.cc:236] Restoring SavedModel bundle.\n",
            "2025-06-05 12:44:10.731252: I tensorflow/cc/saved_model/loader.cc:220] Running initialization op on SavedModel bundle at path: /var/folders/t_/zj_f3xqx0h1_m2mq82vhpy_00000gn/T/tmpimz0cf1v\n",
            "2025-06-05 12:44:10.742999: I tensorflow/cc/saved_model/loader.cc:471] SavedModel load for tags { serve }; Status: success: OK. Took 57225 microseconds.\n"
          ]
        },
        {
          "name": "stdout",
          "output_type": "stream",
          "text": [
            "INFO:tensorflow:Assets written to: /var/folders/t_/zj_f3xqx0h1_m2mq82vhpy_00000gn/T/tmpy2j2ssms/assets\n"
          ]
        },
        {
          "name": "stderr",
          "output_type": "stream",
          "text": [
            "INFO:tensorflow:Assets written to: /var/folders/t_/zj_f3xqx0h1_m2mq82vhpy_00000gn/T/tmpy2j2ssms/assets\n"
          ]
        },
        {
          "name": "stdout",
          "output_type": "stream",
          "text": [
            "Saved artifact at '/var/folders/t_/zj_f3xqx0h1_m2mq82vhpy_00000gn/T/tmpy2j2ssms'. The following endpoints are available:\n",
            "\n",
            "* Endpoint 'serve'\n",
            "  args_0 (POSITIONAL_ONLY): TensorSpec(shape=(None, 600, 1), dtype=tf.float32, name='keras_tensor_289')\n",
            "Output Type:\n",
            "  TensorSpec(shape=(None, 4), dtype=tf.float32, name=None)\n",
            "Captures:\n",
            "  13628022160: TensorSpec(shape=(), dtype=tf.resource, name=None)\n",
            "  13628027920: TensorSpec(shape=(), dtype=tf.resource, name=None)\n",
            "  16658279568: TensorSpec(shape=(), dtype=tf.resource, name=None)\n",
            "  19079988624: TensorSpec(shape=(), dtype=tf.resource, name=None)\n",
            "  13628015248: TensorSpec(shape=(), dtype=tf.resource, name=None)\n",
            "  19147344592: TensorSpec(shape=(), dtype=tf.resource, name=None)\n",
            "  16658273424: TensorSpec(shape=(), dtype=tf.resource, name=None)\n",
            "  19079990928: TensorSpec(shape=(), dtype=tf.resource, name=None)\n",
            "  16658275920: TensorSpec(shape=(), dtype=tf.resource, name=None)\n",
            "  19079992272: TensorSpec(shape=(), dtype=tf.resource, name=None)\n",
            "  6165663568: TensorSpec(shape=(), dtype=tf.resource, name=None)\n",
            "  14836984784: TensorSpec(shape=(), dtype=tf.resource, name=None)\n",
            "  14836985936: TensorSpec(shape=(), dtype=tf.resource, name=None)\n",
            "  14836985552: TensorSpec(shape=(), dtype=tf.resource, name=None)\n",
            "  14836986896: TensorSpec(shape=(), dtype=tf.resource, name=None)\n",
            "  14836987280: TensorSpec(shape=(), dtype=tf.resource, name=None)\n",
            "  6165661072: TensorSpec(shape=(), dtype=tf.resource, name=None)\n",
            "  6165665104: TensorSpec(shape=(), dtype=tf.resource, name=None)\n",
            "  6165665296: TensorSpec(shape=(), dtype=tf.resource, name=None)\n",
            "  14836986704: TensorSpec(shape=(), dtype=tf.resource, name=None)\n",
            "  14836987664: TensorSpec(shape=(), dtype=tf.resource, name=None)\n",
            "  15039360144: TensorSpec(shape=(), dtype=tf.resource, name=None)\n",
            "  15039360912: TensorSpec(shape=(), dtype=tf.resource, name=None)\n",
            "  15039360336: TensorSpec(shape=(), dtype=tf.resource, name=None)\n",
            "  15039358608: TensorSpec(shape=(), dtype=tf.resource, name=None)\n"
          ]
        },
        {
          "name": "stderr",
          "output_type": "stream",
          "text": [
            "W0000 00:00:1749120251.087938 7203269 tf_tfl_flatbuffer_helpers.cc:365] Ignored output_format.\n",
            "W0000 00:00:1749120251.087948 7203269 tf_tfl_flatbuffer_helpers.cc:368] Ignored drop_control_dependency.\n",
            "2025-06-05 12:44:11.088035: I tensorflow/cc/saved_model/reader.cc:83] Reading SavedModel from: /var/folders/t_/zj_f3xqx0h1_m2mq82vhpy_00000gn/T/tmpy2j2ssms\n",
            "2025-06-05 12:44:11.088561: I tensorflow/cc/saved_model/reader.cc:52] Reading meta graph with tags { serve }\n",
            "2025-06-05 12:44:11.088566: I tensorflow/cc/saved_model/reader.cc:147] Reading SavedModel debug info (if present) from: /var/folders/t_/zj_f3xqx0h1_m2mq82vhpy_00000gn/T/tmpy2j2ssms\n",
            "2025-06-05 12:44:11.095314: I tensorflow/cc/saved_model/loader.cc:236] Restoring SavedModel bundle.\n",
            "2025-06-05 12:44:11.133152: I tensorflow/cc/saved_model/loader.cc:220] Running initialization op on SavedModel bundle at path: /var/folders/t_/zj_f3xqx0h1_m2mq82vhpy_00000gn/T/tmpy2j2ssms\n",
            "2025-06-05 12:44:11.145652: I tensorflow/cc/saved_model/loader.cc:471] SavedModel load for tags { serve }; Status: success: OK. Took 57613 microseconds.\n"
          ]
        },
        {
          "name": "stdout",
          "output_type": "stream",
          "text": [
            "INFO:tensorflow:Assets written to: /var/folders/t_/zj_f3xqx0h1_m2mq82vhpy_00000gn/T/tmphiib0ik8/assets\n"
          ]
        },
        {
          "name": "stderr",
          "output_type": "stream",
          "text": [
            "INFO:tensorflow:Assets written to: /var/folders/t_/zj_f3xqx0h1_m2mq82vhpy_00000gn/T/tmphiib0ik8/assets\n"
          ]
        },
        {
          "name": "stdout",
          "output_type": "stream",
          "text": [
            "Saved artifact at '/var/folders/t_/zj_f3xqx0h1_m2mq82vhpy_00000gn/T/tmphiib0ik8'. The following endpoints are available:\n",
            "\n",
            "* Endpoint 'serve'\n",
            "  args_0 (POSITIONAL_ONLY): TensorSpec(shape=(None, 600, 1), dtype=tf.float32, name='keras_tensor_289')\n",
            "Output Type:\n",
            "  TensorSpec(shape=(None, 4), dtype=tf.float32, name=None)\n",
            "Captures:\n",
            "  13628022160: TensorSpec(shape=(), dtype=tf.resource, name=None)\n",
            "  13628027920: TensorSpec(shape=(), dtype=tf.resource, name=None)\n",
            "  16658279568: TensorSpec(shape=(), dtype=tf.resource, name=None)\n",
            "  19079988624: TensorSpec(shape=(), dtype=tf.resource, name=None)\n",
            "  13628015248: TensorSpec(shape=(), dtype=tf.resource, name=None)\n",
            "  19147344592: TensorSpec(shape=(), dtype=tf.resource, name=None)\n",
            "  16658273424: TensorSpec(shape=(), dtype=tf.resource, name=None)\n",
            "  19079990928: TensorSpec(shape=(), dtype=tf.resource, name=None)\n",
            "  16658275920: TensorSpec(shape=(), dtype=tf.resource, name=None)\n",
            "  19079992272: TensorSpec(shape=(), dtype=tf.resource, name=None)\n",
            "  6165663568: TensorSpec(shape=(), dtype=tf.resource, name=None)\n",
            "  14836984784: TensorSpec(shape=(), dtype=tf.resource, name=None)\n",
            "  14836985936: TensorSpec(shape=(), dtype=tf.resource, name=None)\n",
            "  14836985552: TensorSpec(shape=(), dtype=tf.resource, name=None)\n",
            "  14836986896: TensorSpec(shape=(), dtype=tf.resource, name=None)\n",
            "  14836987280: TensorSpec(shape=(), dtype=tf.resource, name=None)\n",
            "  6165661072: TensorSpec(shape=(), dtype=tf.resource, name=None)\n",
            "  6165665104: TensorSpec(shape=(), dtype=tf.resource, name=None)\n",
            "  6165665296: TensorSpec(shape=(), dtype=tf.resource, name=None)\n",
            "  14836986704: TensorSpec(shape=(), dtype=tf.resource, name=None)\n",
            "  14836987664: TensorSpec(shape=(), dtype=tf.resource, name=None)\n",
            "  15039360144: TensorSpec(shape=(), dtype=tf.resource, name=None)\n",
            "  15039360912: TensorSpec(shape=(), dtype=tf.resource, name=None)\n",
            "  15039360336: TensorSpec(shape=(), dtype=tf.resource, name=None)\n",
            "  15039358608: TensorSpec(shape=(), dtype=tf.resource, name=None)\n"
          ]
        },
        {
          "name": "stderr",
          "output_type": "stream",
          "text": [
            "/Users/ture/projects/tiny-ml/env/lib/python3.11/site-packages/tensorflow/lite/python/convert.py:854: UserWarning: Statistics for quantized inputs were expected, but not specified; continuing anyway.\n",
            "  warnings.warn(\n",
            "W0000 00:00:1749120251.489244 7203269 tf_tfl_flatbuffer_helpers.cc:365] Ignored output_format.\n",
            "W0000 00:00:1749120251.489252 7203269 tf_tfl_flatbuffer_helpers.cc:368] Ignored drop_control_dependency.\n",
            "2025-06-05 12:44:11.489344: I tensorflow/cc/saved_model/reader.cc:83] Reading SavedModel from: /var/folders/t_/zj_f3xqx0h1_m2mq82vhpy_00000gn/T/tmphiib0ik8\n",
            "2025-06-05 12:44:11.489871: I tensorflow/cc/saved_model/reader.cc:52] Reading meta graph with tags { serve }\n",
            "2025-06-05 12:44:11.489875: I tensorflow/cc/saved_model/reader.cc:147] Reading SavedModel debug info (if present) from: /var/folders/t_/zj_f3xqx0h1_m2mq82vhpy_00000gn/T/tmphiib0ik8\n",
            "2025-06-05 12:44:11.496716: I tensorflow/cc/saved_model/loader.cc:236] Restoring SavedModel bundle.\n",
            "2025-06-05 12:44:11.532813: I tensorflow/cc/saved_model/loader.cc:220] Running initialization op on SavedModel bundle at path: /var/folders/t_/zj_f3xqx0h1_m2mq82vhpy_00000gn/T/tmphiib0ik8\n",
            "2025-06-05 12:44:11.544294: I tensorflow/cc/saved_model/loader.cc:471] SavedModel load for tags { serve }; Status: success: OK. Took 54950 microseconds.\n",
            "fully_quantize: 0, inference_type: 6, input_inference_type: INT8, output_inference_type: INT8\n"
          ]
        }
      ],
      "source": [
        "from tensorflow.lite.python import convert\n",
        "     \n",
        "\n",
        "\n",
        "# optional: reload model\n",
        "# model = tf.keras.models.load_model('./models/2025-05-25_11-52-23_advanced_small.keras.keras')\n",
        "# model = tf.keras.models.load_model('./models/ei-model.lite')\n",
        "# model.summary()\n",
        "\n",
        "basic_converter = tf.lite.TFLiteConverter.from_keras_model(model)\n",
        "basic_tflite_model = basic_converter.convert()\n",
        "\n",
        "\n",
        "optimized_converter = tf.lite.TFLiteConverter.from_keras_model(model)\n",
        "optimized_converter.optimizations = [tf.lite.Optimize.DEFAULT]\n",
        "optimized_tflite_model = optimized_converter.convert()\n",
        "\n",
        "def representative_dataset_gen():\n",
        "    for i in range(len(x_train)):\n",
        "        yield [np.expand_dims(x_train[i].astype(np.float32), axis=0)]\n",
        "\n",
        "optimized_converter.representative_dataset = representative_dataset_gen\n",
        "optimized_converter.target_spec.supported_ops = [tf.lite.OpsSet.TFLITE_BUILTINS_INT8]\n",
        "optimized_converter.inference_input_type = tf.int8\n",
        "optimized_converter.inference_output_type = tf.int8\n",
        "# optimized_converter._experimental_calibrate_only = True\n",
        "# calibrated_model = optimized_converter.convert()\n",
        "\n",
        "# quantized_tflite_model = convert.mlir_quantize(\n",
        "#     calibrated_model,\n",
        "#     enable_numeric_verify=True,\n",
        "#     enable_whole_model_verify=True,\n",
        "#     input_data_type=tf.int8,\n",
        "#     output_data_type=tf.int8,\n",
        "#     fully_quantize=True,\n",
        "# )\n",
        "# debugger = tf.lite.experimental.QuantizationDebugger(\n",
        "#     quant_debug_model_content=quantized_tflite_model,\n",
        "#     debug_dataset=representative_dataset_gen)\n",
        "\n",
        "quantized_tflite_model = optimized_converter.convert()\n"
      ]
    },
    {
      "cell_type": "code",
      "execution_count": 188,
      "metadata": {
        "id": "adJu3wwNhUJr"
      },
      "outputs": [],
      "source": [
        "# Save the converted model\n",
        "\n",
        "# with open(f\"{export_base_path}-basic.tflite\", 'wb') as f:\n",
        "#     f.write(basic_tflite_model)\n",
        "\n",
        "# with open(f\"{export_base_path}-optimized.tflite\", 'wb') as f:\n",
        "#     f.write(optimized_tflite_model)\n",
        "\n",
        "with open(f\"{export_base_path}-quantized.tflite\", 'wb') as f:\n",
        "    f.write(quantized_tflite_model)\n",
        "\n",
        "# with open(f\"./models/ei-uploaded-pretrained.tflite\", 'rb') as f:\n",
        "#     quantized_tflite_model = f.read()\n"
      ]
    },
    {
      "cell_type": "code",
      "execution_count": 187,
      "metadata": {},
      "outputs": [
        {
          "name": "stdout",
          "output_type": "stream",
          "text": [
            "=== ORIGINAL MODEL ===\n",
            "\u001b[1m1292/1292\u001b[0m \u001b[32m━━━━━━━━━━━━━━━━━━━━\u001b[0m\u001b[37m\u001b[0m \u001b[1m2s\u001b[0m 2ms/step\n",
            "Model accuracy: 0.9729\n",
            "Estimated RAM usage: N/A for Keras model\n",
            "\n",
            "=== BASIC MODEL ===\n",
            "TFLite expects: [  1 600   1]  dtype= <class 'numpy.float32'>\n",
            "Model accuracy: 0.9915\n",
            "Estimated RAM usage (tensor buffers only): 863.33 KB\n",
            "\n",
            "=== OPTIMIZED MODEL ===\n",
            "TFLite expects: [  1 600   1]  dtype= <class 'numpy.float32'>\n",
            "Model accuracy: 0.9915\n",
            "Estimated RAM usage (tensor buffers only): 753.83 KB\n",
            "\n",
            "=== QUANTIZED MODEL ===\n",
            "TFLite expects: [  1 600   1]  dtype= <class 'numpy.int8'>\n",
            "Model accuracy: 0.9427\n",
            "Estimated RAM usage (tensor buffers only): 216.31 KB\n"
          ]
        },
        {
          "name": "stderr",
          "output_type": "stream",
          "text": [
            "/Users/ture/projects/tiny-ml/env/lib/python3.11/site-packages/tensorflow/lite/python/interpreter.py:457: UserWarning:     Warning: tf.lite.Interpreter is deprecated and is scheduled for deletion in\n",
            "    TF 2.20. Please use the LiteRT interpreter from the ai_edge_litert package.\n",
            "    See the [migration guide](https://ai.google.dev/edge/litert/migration)\n",
            "    for details.\n",
            "    \n",
            "  warnings.warn(_INTERPRETER_DELETION_WARNING)\n"
          ]
        }
      ],
      "source": [
        "def convert_input(x, dtype, input_details):\n",
        "    if dtype == np.int8:\n",
        "        scale, zp = input_details[0][\"quantization\"]\n",
        "        q = np.round(x/scale + zp) \\\n",
        "              .clip(-128, 127) \\\n",
        "              .astype(np.int8)\n",
        "        return q.reshape((1, 600, 1))\n",
        "    else:\n",
        "        return np.expand_dims(x.astype(dtype), axis=0)\n",
        "\n",
        "def evaluate_model(model, dtype=None):\n",
        "    if isinstance(model, tf.keras.Model):\n",
        "        predictions = model.predict(x_test, batch_size=1)\n",
        "        pred_labels = np.argmax(predictions, axis=1)\n",
        "        true_labels = np.argmax(y_test, axis=1)\n",
        "        accuracy = np.mean(pred_labels == true_labels)\n",
        "        print(f\"Model accuracy: {accuracy:.4f}\")\n",
        "        # RAM usage estimation doesn't apply to Keras\n",
        "        print(\"Estimated RAM usage: N/A for Keras model\")\n",
        "    else:\n",
        "        # Load TFLite model and allocate tensors.\n",
        "        interpreter = tf.lite.Interpreter(model_content=model)\n",
        "        interpreter.allocate_tensors()\n",
        "\n",
        "\n",
        "        # Get input/output tensor details\n",
        "        input_details = interpreter.get_input_details()\n",
        "        output_details = interpreter.get_output_details()\n",
        "        print(\"TFLite expects:\", input_details[0][\"shape\"], \" dtype=\", input_details[0][\"dtype\"])\n",
        "\n",
        "        # Evaluate on test data\n",
        "        correct = 0\n",
        "        total = len(x_test)\n",
        "        for i in range(total):\n",
        "            input_data = convert_input(x_test[i], dtype, input_details)\n",
        "            interpreter.set_tensor(input_details[0]['index'], input_data)\n",
        "            interpreter.invoke()\n",
        "            output = interpreter.get_tensor(output_details[0]['index'])\n",
        "            pred_label = np.argmax(output)\n",
        "            true_label = np.argmax(y_test[i])\n",
        "            if pred_label == true_label:\n",
        "                correct += 1\n",
        "\n",
        "        accuracy = correct / total\n",
        "        print(f\"Model accuracy: {accuracy:.4f}\")\n",
        "\n",
        "        tensor_details = interpreter.get_tensor_details()\n",
        "        total_tensor_bytes = 0\n",
        "        for tensor in tensor_details:\n",
        "            shape = tensor['shape']\n",
        "            dtype = np.dtype(tensor['dtype'])\n",
        "            size = np.prod(shape) * dtype.itemsize\n",
        "            total_tensor_bytes += size\n",
        "\n",
        "        print(f\"Estimated RAM usage (tensor buffers only): {total_tensor_bytes / 1024:.2f} KB\")\n",
        "\n",
        "print(\"=== ORIGINAL MODEL ===\")\n",
        "evaluate_model(model)\n",
        "print(\"\")\n",
        "print(\"=== BASIC MODEL ===\")\n",
        "evaluate_model(basic_tflite_model, np.float32)\n",
        "print(\"\")\n",
        "print(\"=== OPTIMIZED MODEL ===\")\n",
        "evaluate_model(optimized_tflite_model, np.float32)\n",
        "print(\"\")\n",
        "print(\"=== QUANTIZED MODEL ===\")\n",
        "evaluate_model(quantized_tflite_model, np.int8)"
      ]
    },
    {
      "cell_type": "code",
      "execution_count": 189,
      "metadata": {},
      "outputs": [
        {
          "name": "stdout",
          "output_type": "stream",
          "text": [
            "=== basic ===\n",
            "(1, 600, 1)\n",
            "[[9.9970645e-01 3.5032219e-06 3.1874649e-07 2.8974455e-04]]\n",
            "['idle', 'circle', 'left-right', 'up-down']\n",
            "pred: idle\n",
            "=== optimized ===\n",
            "(1, 600, 1)\n",
            "[[9.9966824e-01 3.7854047e-06 3.3463490e-07 3.2766105e-04]]\n",
            "['idle', 'circle', 'left-right', 'up-down']\n",
            "pred: idle\n",
            "=== quantized ===\n",
            "(1, 600, 1)\n",
            "[[ 127 -128 -128 -128]]\n",
            "['idle', 'circle', 'left-right', 'up-down']\n",
            "pred: idle\n"
          ]
        }
      ],
      "source": [
        "def evaluate_model_static(model, dtype):\n",
        "    # Load TFLite model and allocate tensors.\n",
        "    interpreter = tf.lite.Interpreter(model_content=model)\n",
        "    interpreter.allocate_tensors()\n",
        "\n",
        "\n",
        "    # Get input/output tensor details\n",
        "    input_details = interpreter.get_input_details()\n",
        "    output_details = interpreter.get_output_details()\n",
        "\n",
        "    # Evaluate on test data\n",
        "    # left-right\n",
        "    # x = np.array([-6.1866,    -10.3525,    5.5348,    -8.9178,    -10.5560,    5.8149,    -9.5367,    -10.2292,    6.0226,    -10.7290,    -9.8108,    6.4404,    -10.8607,    -9.4326,    6.7127,    -11.2958,    -9.3607,    7.1347,    -11.6909,    -9.1267,    7.5854,    -13.7930,    -9.3948,    7.9954,    -15.0278,    -9.3140,    8.0864,    -16.1698,    -9.5780,    7.9966,    -17.1712,    -10.0940,    8.0631,    -17.6764,    -10.4932,    8.2534,    -17.5004,    -10.3741,    8.3348,    -16.9294,    -8.5874,    7.8386,    -15.7119,    -8.0068,    7.3053,    -15.2966,    -7.5501,    6.6020,    -14.8488,    -7.0276,    5.8772,    -14.3473,    -6.7145,    5.2092,    -13.7685,    -6.4943,    4.6459,    -13.1238,    -6.4218,    4.1982,    -11.6256,    -7.2377,    3.7846,    -11.0899,    -7.7476,    3.8906,    -10.7278,    -8.3181,    4.0636,    -10.3489,    -8.6957,    4.4317,    -9.8049,    -8.9980,    4.8441,    -9.2518,    -9.0315,    5.1715,    -8.2001,    -8.8867,    4.9464,    -7.5537,    -8.7706,    4.6172,    -6.8540,    -8.5557,    4.2868,    -6.3075,    -8.4228,    4.1252,    -5.6467,    -8.1960,    4.2593,    -4.8117,    -8.1337,    4.3467,    -3.8702,    -8.5856,    4.3084,    -3.2388,    -10.5339,    4.3161,    -3.0490,    -11.6023,    4.2581,    -3.1196,    -12.1494,    4.2599,    -2.8778,    -12.1045,    4.3305,    -2.1679,    -11.6418,    4.6370,    -1.4174,    -10.6470,    4.8572,    -0.1808,    -9.1997,    4.0025,    0.3944,    -9.1459,    3.1603,    1.3461,    -9.3871,    2.5714,    3.2807,    -9.5511,    2.4948,    5.4959,    -9.7115,    2.8030,    7.4795,    -9.8701,    3.6129,    9.1453,    -10.4549,    4.7190,    10.2155,    -12.5732,    6.3063,    10.3615,    -12.9640,    6.2393,    10.4076,    -12.8168,    5.6419,    10.4459,    -12.1548,    5.0955,    10.9589,    -11.6681,    4.3437,    11.8004,    -11.3707,    3.6769,    12.3828,    -10.5052,    3.1831,    12.2996,    -9.8426,    3.1466,    12.3942,    -9.3954,    3.1741,    12.8778,    -9.3099,    3.4668,    13.6469,    -9.1022,    3.8277,    14.3072,    -8.8424,    4.0809,    14.8476,    -8.5491,    4.2066,    14.8010,    -8.3109,    4.1210,    14.2730,    -8.0373,    3.8355,    13.4794,    -7.7512,    3.5560,    12.4301,    -7.7901,    3.1951,    11.2881,    -8.1612,    2.7336,    9.6768,    -8.4108,    2.4648,    6.6260,    -10.1167,    2.4696,    5.4133,    -11.0433,    2.7689,    4.5957,    -11.7495,    3.1292,    4.2072,    -11.9950,    3.3770,    4.3473,    -11.8112,    3.6428,    4.4281,    -11.6496,    3.9834,    5.0141,    -10.8972,    4.2120,    4.9177,    -10.6344,    4.2725,    4.4299,    -10.5489,    4.4586,    3.4740,    -10.3681,    4.4975,    2.5672,    -10.1191,    4.4329,    2.0871,    -9.7923,    4.3485,    1.5706,    -9.9617,    4.4478,    1.1995,    -9.7193,    4.7776,    1.3318,    -9.6115,    4.7692,    1.4257,    -9.3128,    4.8417,    1.5191,    -9.1931,    5.0093,    1.2617,    -9.5636,    5.0494,    0.3394,    -10.1382,    5.1128,    -2.0979,    -11.1576,    5.3469,    -3.1951,    -11.0893,    5.3780,    -3.9666,    -10.6434,    5.2247,    -4.2234,    -9.9647,    5.2068,    -4.3910,    -8.9884,    4.9674,    -3.9971,    -8.3103,    4.7040,    -4.3922,    -8.0918,    4.7226,    -5.7874,    -9.1081,    5.1864,    -6.8989,    -10.1550,    5.6545,    -7.9511,    -10.7769,    6.1764,    -9.2494,    -11.3174,    6.6834,    -10.5040,    -11.2348,    7.2359,    -11.3593,    -10.4627,    7.6285,    -12.3625,    -8.8603,    7.2574,    -12.7635,    -8.0325,    7.2927,    -13.3237,    -7.4717,    7.2443,    -13.6110,    -7.1180,    7.3747,    -13.6847,    -6.6194,    7.2544,    -14.2431,    -6.3686,    6.9180,    -15.0116,    -6.5966,    7.0785,    -16.1261,    -7.5304,    7.5890,    -16.0998,    -8.2265,    7.9966,    -15.6832,    -8.6910,    8.1026,    -14.9536,    -8.6898,    7.9835,    -14.1180,    -8.5192,    7.3089,    -13.4422,    -7.7889,    6.8187,    -12.1901,    -6.5823,    5.3768,    -11.7819,    -6.2602,    4.9291,    -11.5562,    -6.0974,    4.7836,    -11.3569,    -6.3171,    4.6627,    -11.0055,    -6.8097,    4.4347,    -10.7015,    -7.3939,    4.2072,    -9.9222,    -9.7360,    4.1952,    -8.9370,    -10.6955,    4.3862,    -8.0014,    -11.0672,    4.6453,    -6.9989,    -11.1737,    4.3850,    -6.3363,    -10.4489,    4.1599,    -6.0466,    -9.6959,    3.8050,    -5.9245,    -9.1506,    3.3303,    -4.9949,    -8.4952,    2.5331,    -4.0348,    -8.4922,    2.6252,    -2.7438,    -8.8597,    3.0406,    -1.8130,    -9.5702,    3.6847,    -1.1851,    -10.4872,    4.3592,    -0.5746,    -11.1755,    4.9668,    0.6949,    -11.0289,    5.4271,    0.7697,    -10.6081,    5.0697,    0.5620,    -10.0191,    4.7477,    0.3771,    -9.4344,    4.2940,    0.3627,    -8.9914,    4.1180,    0.3639,    -9.0088,    4.2473,    0.6081,    -9.4523,    4.5616,    0.9834,    -10.6321,    5.0589,    1.4880,    -11.2306,    5.3876,    2.3966,    -11.7932,    5.7437,    4.1204,    -11.9225,    6.2698,    5.9777,    -11.7124,    6.6104,    7.6692,    -11.3347,    6.2926,    9.5038,    -10.7428,    4.6729,    9.7264,    -10.8781,    4.4095,    10.9032,    -11.5418,    4.7028,    12.0889,    -12.2356,    5.2768,    12.9454,    -12.7437,    5.9256,    13.5027,    -12.9772,    6.1148,    13.8175,    -13.1932,    5.6048,    14.4328,    -12.8712,    5.3917,    14.2856,    -12.2116,    5.1200,    13.8882,    -11.4539,    4.6849,    13.5416,    -10.7703,    4.1312,    13.1436,    -10.4094,    3.6218,    12.5911,    -10.1640,    3.2417,    11.0642,    -10.6811,    2.7001,    9.7654,    -11.4592,    2.7264,    8.3432,    -12.2900,    2.7827,    7.2000,    -13.0682,    2.8557,    6.8109,    -13.3842,    3.1340,    6.9581,    -13.4219,    3.5560,    7.2024,    -12.6575,    3.9720,    6.8941,    -11.9423,    3.9325,    6.4572,    -10.9846,    4.0396,    5.7640,    -10.1813,    4.0360,    5.4432,    -9.5289,    4.0097,    5.2565,    -8.9328,    4.0079,    4.8584,    -8.4048,    4.0276,    3.9510,    -7.7075,    3.9456,    3.3573,    -7.4292,    3.8409,    2.3709,    -7.7357,    3.8253,    1.5640,    -8.0816,    4.0576,    1.1492,    -8.2893,    4.1916,    0.6243,    -8.4593,    4.4831,    0.3232,    -8.5551,    4.6705,    0.0407,    -8.6939,    4.8650,    0.3813,    -8.5341,    4.8219,    0.6764,    -8.4647,    4.5424,    0.6656,    -7.9954,    4.1240,    0.3172,    -7.6369,    3.4878,    -0.5950,    -7.6680,    2.9329,    -4.1611,    -8.8059,    2.7240,    -6.2309,    -10.2610,    2.8258,    -8.4455,    -11.4706,    2.7270,    -10.0413,    -11.8298,    3.0107,    -11.0887,    -11.9932,    3.4656,    -11.3084,    -11.6532,    3.8020,    -10.8158,    -10.0311,    3.8373,    -10.0503,    -9.2129,    3.9313,    -11.4802,    -9.0890,    4.1599,    -12.7366,    -9.1195,    4.4640,    -14.6322,    -9.2680,    4.8028,    -16.6852,    -9.6977,    5.4396,    -18.3264,    -10.5159,    7.3843,    -19.1213,    -11.7543,    8.1774,    -18.4479,    -11.3796,    8.4809,    -17.2466,    -10.1879,    8.3719,    -16.2979,    -8.7376,    7.8817,    -15.9747,    -7.8362,    6.9174,    -15.9298,    -7.1168,    6.2938]).astype(np.float32).reshape(600, 1)\n",
        "    # idle\n",
        "    x = np.array([9.8336, 0.2155, -0.0832, 9.8043, 0.2424, -0.1035, 9.8019, 0.2837, 0.0407, 9.8138, 0.4064, 0.2616, 9.8114, 0.3460, 0.2095, 9.8222, 0.2568, 0.0760, 9.8102, 0.2334, -0.1053, 9.8150, 0.2472, -0.0132, 9.8102, 0.2789, -0.0036, 9.8007, 0.2035, -0.0036, 9.8408, 0.3142, 0.1377, 9.8348, 0.2310, -0.0491, 9.8234, 0.2280, -0.1047, 9.8144, 0.2358, 0.0096, 9.8240, 0.2759, -0.0108, 9.8264, 0.2975, 0.0407, 9.8084, 0.3202, 0.0060, 9.8108, 0.1484, -0.1299, 9.8689, 0.6410, 0.2221, 9.7917, -0.0162, -0.1401, 9.8162, 0.2831, -0.0383, 9.8396, 0.1784, 0.0299, 9.8168, 0.2921, -0.0802, 9.8198, 0.3148, 0.0988, 9.8007, 0.3496, 0.0431, 9.8402, 0.3454, 0.2227, 9.7426, 0.4854, 0.3238, 9.8234, 0.3005, 0.0437, 9.8342, 0.2059, -0.2101, 9.8318, 0.3053, 0.2526, 9.8138, 0.2095, -0.1490, 9.8276, 0.3466, 0.1035, 9.8037, 0.2759, 0.0204, 9.8043, 0.2406, -0.0006, 9.8360, 0.2628, -0.1059, 9.7989, 0.1861, -0.0712, 9.8342, 0.2544, -0.1903, 9.8186, 0.2789, -0.0694, 9.8216, 0.2861, -0.0174, 9.8222, 0.2460, -0.1778, 9.8132, 0.1879, -0.1694, 9.8186, 0.2430, 0.0006, 9.8013, 0.2699, -0.0209, 9.8126, 0.2622, 0.0587, 9.8402, 0.2179, 0.0030, 9.8108, 0.2233, 0.0581, 9.8138, 0.2167, 0.0575, 9.8390, 0.2801, 0.1670, 9.8078, 0.2191, -0.0622, 9.8019, 0.2352, -0.1514, 9.8438, 0.2203, -0.1544, 9.8432, 0.2298, -0.1191, 9.8090, 0.2687, 0.0383, 9.7917, 0.3717, 0.1143, 9.7875, 0.3274, 0.0670, 9.8114, 0.3077, 0.0096, 9.8031, 0.2556, 0.1383, 9.9683, 0.1353, -0.1323, 9.7713, 0.7326, 0.2969, 9.8306, -0.1018, -0.1293, 9.8378, 0.1915, -0.2221, 9.8348, 0.0413, -0.0329, 9.8061, 0.3232, 0.1628, 9.8156, 0.2783, -0.0605, 9.8408, 0.3005, 0.0114, 9.7971, 0.3639, 0.0168, 9.7570, 0.3747, -0.0575, 9.8013, 0.2951, 0.2035, 9.8120, 0.3196, -0.0431, 9.8132, 0.2047, -0.0485, 9.8366, 0.1772, -0.1149, 9.8150, 0.1676, -0.1556, 9.8120, 0.1993, -0.1239, 9.8114, 0.1897, -0.0748, 9.8216, 0.1472, -0.0910, 9.8354, 0.2676, -0.0407, 9.8043, 0.2855, 0.0132, 9.7851, 0.2771, 0.0012, 9.8252, 0.2813, -0.0628, 9.8108, 0.2418, -0.1299, 9.8300, 0.2993, -0.0724, 9.8150, 0.1221, -0.3023, 9.8228, 0.1556, -0.2400, 9.8150, 0.2077, -0.0227, 9.7989, 0.2221, -0.0814, 9.8168, 0.2682, 0.1269, 9.8222, 0.3232, 0.1490, 9.8192, 0.2699, 0.0144, 9.8102, 0.3029, 0.1053, 9.8120, 0.2364, -0.0257, 9.8198, 0.2376, -0.1389, 9.8312, 0.2179, -0.1574, 9.8300, 0.1975, -0.1604, 9.8468, 0.2424, -0.0820, 9.8186, 0.2358, -0.1443, 9.8150, 0.2520, -0.0940, 9.8240, 0.1879, -0.1604, 9.8114, 0.2484, -0.0515, 9.8090, 0.2598, -0.0563, 9.8090, 0.3352, 0.1377, 9.8067, 0.2831, -0.0557, 9.8144, 0.2963, -0.1335, 9.8174, 0.1700, -0.1897, 9.8300, 0.1873, -0.0611, 9.8264, 0.3089, 0.0198, 9.8156, 0.2634, 0.0281, 9.8174, 0.2574, -0.0281, 9.8168, 0.2885, 0.0838, 9.8019, 0.0868, -0.2263, 9.8186, 0.2460, 0.0545, 9.8102, 0.2334, -0.1963, 9.7983, 0.3053, 0.0024, 9.8090, 0.2927, -0.0706, 9.8162, 0.2705, -0.0898, 9.8132, 0.2795, -0.0652, 9.8438, 0.2855, 0.0736, 9.7965, 0.1999, -0.1652, 9.7905, 0.2179, -0.0676, 9.8342, 0.1867, -0.1909, 9.8414, 0.1448, -0.0910, 9.8270, 0.2508, -0.0198, 9.8144, 0.2550, 0.0694, 9.8228, 0.2197, -0.0940, 9.8090, 0.2418, -0.0192, 9.8078, 0.2520, -0.0545, 9.8156, 0.2987, -0.0383, 9.8126, 0.2436, -0.0437, 9.8061, 0.2915, 0.0054, 9.8204, 0.2370, -0.1646, 9.8096, 0.3095, 0.1185, 9.7905, 0.2921, -0.1850, 9.8049, 0.2729, -0.0461, 9.8276, 0.2699, -0.0778, 9.8479, 0.2269, -0.0826, 9.8288, 0.2119, -0.1688, 9.8270, 0.3071, 0.0868, 9.8090, 0.2646, -0.0760, 9.7743, 0.1460, -0.1724, 9.8031, 0.2867, 0.1550, 9.8234, 0.3454, -0.0515, 9.7683, 0.2532, -0.2298, 9.8192, 0.2598, -0.0778, 9.8306, 0.3274, -0.0090, 9.8240, 0.2484, -0.0898, 9.8509, 0.2053, -0.2089, 9.8258, 0.1778, -0.2346, 9.8108, 0.1766, 0.1425, 9.8114, 0.2777, 0.0826, 9.7929, 0.2526, -0.1299, 9.8294, 0.0712, -0.1472, 9.8402, 0.2837, -0.0048, 9.8186, 0.2059, -0.0748, 9.8222, 0.1909, -0.1652, 9.8096, 0.2364, 0.0275, 9.8294, 0.2286, -0.1185, 9.8114, 0.2586, -0.1221, 9.8186, 0.2867, 0.0431, 9.8114, 0.2945, 0.0012, 9.8114, 0.2227, -0.0724, 9.8360, 0.1335, -0.1897, 9.8072, 0.2448, -0.1448, 9.8174, 0.2280, -0.0215, 9.8228, 0.2610, -0.1544, 9.8192, 0.2873, 0.0880, 9.8102, 0.3089, -0.0168, 9.8138, 0.2592, -0.0293, 9.8162, 0.2316, -0.0982, 9.8174, 0.1682, -0.1275, 9.8270, 0.2430, -0.1059, 9.8150, 0.2346, -0.0736, 9.8252, 0.2963, -0.0832, 9.8096, 0.2640, 0.0162, 9.8108, 0.2598, -0.0856, 9.8228, 0.2274, -0.1161, 9.8108, 0.3256, 0.0311, 9.8078, 0.2867, 0.0784, 9.8102, 0.2430, -0.1353, 9.8402, 0.2454, 0.0024, 9.8192, 0.2083, -0.0467, 9.8168, 0.1939, -0.0628, 9.8300, 0.1832, -0.1676, 9.8306, 0.1658, -0.1143, 9.8096, 0.2598, -0.1119, 9.8084, 0.2759, -0.0742, 9.8144, 0.3370, -0.0275, 9.8192, 0.2891, -0.0359, 9.8102, 0.3035, -0.0257, 9.8096, 0.2909, 0.0048, 9.8120, 0.1909, -0.0928, 9.8180, 0.1586, -0.1317, 9.8126, 0.2370, -0.0299, 9.7893, 0.1616, -0.0120, 9.8186, 0.2310, -0.1700, 9.8150, 0.3160, -0.0096, 9.9012, 0.2670, -0.0928, 9.7941, 0.4004, 0.0323, 9.7899, 0.3430, 0.0000, 9.7965, 0.3657, 0.0413, 9.8084, 0.2269, -0.2269, 9.8252, 0.2017, -0.1353]).astype(np.float32).reshape(600, 1)\n",
        "    # zeros\n",
        "    # x = np.zeros(600)\n",
        "    q_x = convert_input(x, dtype, input_details)\n",
        "    print(q_x.shape)\n",
        "    interpreter.set_tensor(input_details[0]['index'], q_x)\n",
        "    interpreter.invoke()\n",
        "    output = interpreter.get_tensor(output_details[0]['index'])\n",
        "    print(output)\n",
        "    print(labels)\n",
        "    pred_label = labels[np.argmax(output)]\n",
        "\n",
        "    print(f\"pred: {pred_label}\")\n",
        "\n",
        "\n",
        "print(\"=== basic ===\")\n",
        "evaluate_model_static(basic_tflite_model, np.float32)\n",
        "print(\"=== optimized ===\")\n",
        "evaluate_model_static(optimized_tflite_model, np.float32)\n",
        "print(\"=== quantized ===\")\n",
        "evaluate_model_static(quantized_tflite_model, np.int8)"
      ]
    },
    {
      "cell_type": "code",
      "execution_count": 65,
      "metadata": {},
      "outputs": [
        {
          "name": "stdout",
          "output_type": "stream",
          "text": [
            "=== TFLite ModelAnalyzer ===\n",
            "\n",
            "Your TFLite model has '1' subgraph(s). In the subgraph description below,\n",
            "T# represents the Tensor numbers. For example, in Subgraph#0, the EXPAND_DIMS op takes\n",
            "tensor #0 and tensor #1 as input and produces tensor #36 as output.\n",
            "\n",
            "Subgraph#0 main(T#0) -> [T#74]\n",
            "  Op#0 EXPAND_DIMS(T#0, T#1[1]) -> [T#36]\n",
            "  Op#1 DEPTHWISE_CONV_2D(T#36, T#35, T#34[0]) -> [T#37]\n",
            "  Op#2 CONV_2D(T#37, T#33, T#32[139, -126, -38, -21, 194, ...]) -> [T#38]\n",
            "  Op#3 MUL(T#38, T#31) -> [T#39]\n",
            "  Op#4 ADD(T#39, T#30) -> [T#40]\n",
            "  Op#5 RESHAPE(T#40, T#2[-1, 600, 8]) -> [T#41]\n",
            "  Op#6 EXPAND_DIMS(T#41, T#1[1]) -> [T#42]\n",
            "  Op#7 MAX_POOL_2D(T#42) -> [T#43]\n",
            "  Op#8 RESHAPE(T#43, T#3[-1, 300, 8]) -> [T#44]\n",
            "  Op#9 EXPAND_DIMS(T#44, T#4[-3]) -> [T#45]\n",
            "  Op#10 CONV_2D(T#45, T#29, T#28[-66, 78, -50, 265]) -> [T#46]\n",
            "  Op#11 RESHAPE(T#46, T#5[-1, 300, 4]) -> [T#47]\n",
            "  Op#12 SPACE_TO_BATCH_ND(T#47, T#6[2], T#7[4, 4]) -> [T#48]\n",
            "  Op#13 EXPAND_DIMS(T#48, T#4[-3]) -> [T#49]\n",
            "  Op#14 CONV_2D(T#49, T#27, T#26[0, 0, 0, 0]) -> [T#50]\n",
            "  Op#15 RESHAPE(T#50, T#8[-1, 150, 4]) -> [T#51]\n",
            "  Op#16 BATCH_TO_SPACE_ND(T#51, T#6[2], T#9[0, 0]) -> [T#52]\n",
            "  Op#17 ADD(T#52, T#25) -> [T#53]\n",
            "  Op#18 EXPAND_DIMS(T#53, T#4[-3]) -> [T#54]\n",
            "  Op#19 CONV_2D(T#54, T#24, T#23[540, -1139, -2009, 104, -1141, ...]) -> [T#55]\n",
            "  Op#20 MUL(T#55, T#22) -> [T#56]\n",
            "  Op#21 ADD(T#56, T#21) -> [T#57]\n",
            "  Op#22 RESHAPE(T#57, T#10[-1, 300, 16]) -> [T#58]\n",
            "  Op#23 EXPAND_DIMS(T#58, T#1[1]) -> [T#59]\n",
            "  Op#24 MAX_POOL_2D(T#59) -> [T#60]\n",
            "  Op#25 RESHAPE(T#60, T#11[-1, 150, 16]) -> [T#61]\n",
            "  Op#26 EXPAND_DIMS(T#61, T#4[-3]) -> [T#62]\n",
            "  Op#27 CONV_2D(T#62, T#20, T#19[6330, 2362, 6114, 785, 3962, ...]) -> [T#63]\n",
            "  Op#28 RESHAPE(T#63, T#11[-1, 150, 16]) -> [T#64]\n",
            "  Op#29 EXPAND_DIMS(T#64, T#4[-3]) -> [T#65]\n",
            "  Op#30 CONV_2D(T#65, T#18, T#17[1135, 5669, 1028, 3144, -636, ...]) -> [T#66]\n",
            "  Op#31 RESHAPE(T#66, T#11[-1, 150, 16]) -> [T#67]\n",
            "  Op#32 ADD(T#61, T#67) -> [T#68]\n",
            "  Op#33 EXPAND_DIMS(T#68, T#1[1]) -> [T#69]\n",
            "  Op#34 MAX_POOL_2D(T#69) -> [T#70]\n",
            "  Op#35 RESHAPE(T#70, T#12[-1, 1200]) -> [T#71]\n",
            "  Op#36 FULLY_CONNECTED(T#71, T#16, T#15[151, 341, -31, -229, -253, ...]) -> [T#72]\n",
            "  Op#37 FULLY_CONNECTED(T#72, T#14, T#13[16, -29, 13, 0]) -> [T#73]\n",
            "  Op#38 SOFTMAX(T#73) -> [T#74]\n",
            "\n",
            "Tensors of Subgraph#0\n",
            "  T#0(serving_default_keras_tensor_41:0) shape_signature:[-1, 600, 1], type:INT8\n",
            "  T#1(arith.constant) shape:[], type:INT32 RO 4 bytes, buffer: 2, data:[1]\n",
            "  T#2(arith.constant1) shape:[3], type:INT32 RO 12 bytes, buffer: 3, data:[-1, 600, 8]\n",
            "  T#3(arith.constant2) shape:[3], type:INT32 RO 12 bytes, buffer: 4, data:[-1, 300, 8]\n",
            "  T#4(arith.constant3) shape:[], type:INT32 RO 4 bytes, buffer: 5, data:[-3]\n",
            "  T#5(arith.constant4) shape:[3], type:INT32 RO 12 bytes, buffer: 6, data:[-1, 300, 4]\n",
            "  T#6(arith.constant5) shape:[1], type:INT32 RO 4 bytes, buffer: 7, data:[2]\n",
            "  T#7(arith.constant6) shape:[1, 2], type:INT32 RO 8 bytes, buffer: 8, data:[4, 4]\n",
            "  T#8(arith.constant7) shape:[3], type:INT32 RO 12 bytes, buffer: 9, data:[-1, 150, 4]\n",
            "  T#9(arith.constant8) shape:[1, 2], type:INT32 RO 8 bytes, buffer: 10, data:[0, 0]\n",
            "  T#10(arith.constant9) shape:[3], type:INT32 RO 12 bytes, buffer: 11, data:[-1, 300, 16]\n",
            "  T#11(arith.constant10) shape:[3], type:INT32 RO 12 bytes, buffer: 12, data:[-1, 150, 16]\n",
            "  T#12(arith.constant11) shape:[2], type:INT32 RO 8 bytes, buffer: 13, data:[-1, 1200]\n",
            "  T#13(tfl.pseudo_qconst) shape:[4], type:INT32 RO 16 bytes, buffer: 14, data:[16, -29, 13, 0]\n",
            "  T#14(tfl.pseudo_qconst1) shape:[4, 16], type:INT8 RO 64 bytes, buffer: 15, data:[., ., ,, ., ., ...]\n",
            "  T#15(tfl.pseudo_qconst2) shape:[16], type:INT32 RO 64 bytes, buffer: 16, data:[151, 341, -31, -229, -253, ...]\n",
            "  T#16(tfl.pseudo_qconst3) shape:[16, 1200], type:INT8 RO 19200 bytes, buffer: 17, data:[., ., ., ., ., ...]\n",
            "  T#17(tfl.pseudo_qconst4) shape:[16], type:INT32 RO 64 bytes, buffer: 18, data:[1135, 5669, 1028, 3144, -636, ...]\n",
            "  T#18(tfl.pseudo_qconst5) shape:[16, 1, 3, 16], type:INT8 RO 768 bytes, buffer: 19, data:[., ., ., ., >, ...]\n",
            "  T#19(tfl.pseudo_qconst6) shape:[16], type:INT32 RO 64 bytes, buffer: 20, data:[6330, 2362, 6114, 785, 3962, ...]\n",
            "  T#20(tfl.pseudo_qconst7) shape:[16, 1, 3, 16], type:INT8 RO 768 bytes, buffer: 21, data:[., 5, ., @, ., ...]\n",
            "  T#21(tfl.pseudo_qconst8) shape:[16], type:INT8 RO 16 bytes, buffer: 22, data:[., ., ., ., R, ...]\n",
            "  T#22(tfl.pseudo_qconst9) shape:[16], type:INT8 RO 16 bytes, buffer: 23, data:[., ., ., ., ., ...]\n",
            "  T#23(tfl.pseudo_qconst10) shape:[16], type:INT32 RO 64 bytes, buffer: 24, data:[540, -1139, -2009, 104, -1141, ...]\n",
            "  T#24(tfl.pseudo_qconst11) shape:[16, 1, 1, 4], type:INT8 RO 64 bytes, buffer: 25, data:[_, ., ., <, M, ...]\n",
            "  T#25(tfl.pseudo_qconst12) shape:[4], type:INT8 RO 4 bytes, buffer: 26, data:[., ., ., .]\n",
            "  T#26(tfl.pseudo_qconst13) shape:[4], type:INT32 RO 16 bytes, buffer: 27, data:[0, 0, 0, 0]\n",
            "  T#27(tfl.pseudo_qconst14) shape:[4, 1, 5, 4], type:INT8 RO 80 bytes, buffer: 28, data:[., A, \", ., k, ...]\n",
            "  T#28(tfl.pseudo_qconst15) shape:[4], type:INT32 RO 16 bytes, buffer: 29, data:[-66, 78, -50, 265]\n",
            "  T#29(tfl.pseudo_qconst16) shape:[4, 1, 1, 8], type:INT8 RO 32 bytes, buffer: 30, data:[., ., ., ., ., ...]\n",
            "  T#30(tfl.pseudo_qconst17) shape:[8], type:INT8 RO 8 bytes, buffer: 31, data:[., ., ., ., ., ...]\n",
            "  T#31(tfl.pseudo_qconst18) shape:[8], type:INT8 RO 8 bytes, buffer: 32, data:[., ., ., ., ., ...]\n",
            "  T#32(tfl.pseudo_qconst19) shape:[8], type:INT32 RO 32 bytes, buffer: 33, data:[139, -126, -38, -21, 194, ...]\n",
            "  T#33(tfl.pseudo_qconst20) shape:[8, 1, 1, 1], type:INT8 RO 8 bytes, buffer: 34, data:[., ., ., ., ., ...]\n",
            "  T#34(tfl.pseudo_qconst21) shape:[1], type:INT32 RO 4 bytes, buffer: 35, data:[0]\n",
            "  T#35(tfl.pseudo_qconst22) shape:[1, 1, 5, 1], type:INT8 RO 5 bytes, buffer: 36, data:[M, ., ., ., .]\n",
            "  T#36(functional_1/separable_conv1d_1/ExpandDims) shape_signature:[-1, 1, 600, 1], type:INT8\n",
            "  T#37(functional_1/separable_conv1d_1/separable_conv2d/depthwise) shape_signature:[-1, 1, 600, 1], type:INT8\n",
            "  T#38(functional_1/separable_conv1d_1/Relu;functional_1/separable_conv1d_1/BiasAdd;functional_1/separable_conv1d_1/Squeeze;functional_1/separable_conv1d_1/Squeeze_1;functional_1/separable_conv1d_1/separable_conv2d) shape_signature:[-1, 1, 600, 8], type:INT8\n",
            "  T#39(functional_1/batch_normalization_1/batchnorm/mul_1;functional_1/separable_conv1d_1/Squeeze;functional_1/separable_conv1d_1/Relu;functional_1/separable_conv1d_1/BiasAdd;functional_1/separable_conv1d_1/Squeeze_1;functional_1/batch_normalization_1/batchnorm/mul) shape_signature:[-1, 1, 600, 8], type:INT8\n",
            "  T#40(functional_1/batch_normalization_1/batchnorm/add_1;functional_1/separable_conv1d_1/Squeeze;functional_1/batch_normalization_1/batchnorm/mul_1;functional_1/separable_conv1d_1/Relu;functional_1/separable_conv1d_1/BiasAdd;functional_1/separable_conv1d_1/Squeeze_1;functional_1/batch_normalization_1/batchnorm/mul;functional_1/batch_normalization_1/batchnorm/sub) shape_signature:[-1, 1, 600, 8], type:INT8\n",
            "  T#41(functional_1/batch_normalization_1/batchnorm/add_1;functional_1/separable_conv1d_1/Squeeze;functional_1/batch_normalization_1/batchnorm/mul_1;functional_1/separable_conv1d_1/Relu;functional_1/separable_conv1d_1/BiasAdd;functional_1/separable_conv1d_1/Squeeze_1;functional_1/batch_normalization_1/batchnorm/mul;functional_1/batch_normalization_1/batchnorm/sub1) shape_signature:[-1, 600, 8], type:INT8\n",
            "  T#42(functional_1/max_pooling1d_1/MaxPool1d/ExpandDims) shape_signature:[-1, 1, 600, 8], type:INT8\n",
            "  T#43(functional_1/max_pooling1d_1/MaxPool1d) shape_signature:[-1, 1, 300, 8], type:INT8\n",
            "  T#44(functional_1/max_pooling1d_1/MaxPool1d/Squeeze) shape_signature:[-1, 300, 8], type:INT8\n",
            "  T#45(functional_1/conv1d_1/convolution/ExpandDims) shape_signature:[-1, 1, 300, 8], type:INT8\n",
            "  T#46(functional_1/conv1d_1/Relu;functional_1/conv1d_1/BiasAdd;functional_1/conv1d_1/convolution/Squeeze;functional_1/conv1d_1/Squeeze;functional_1/conv1d_1/convolution) shape_signature:[-1, 1, 300, 4], type:INT8\n",
            "  T#47(functional_1/conv1d_1/Relu;functional_1/conv1d_1/BiasAdd;functional_1/conv1d_1/convolution/Squeeze;functional_1/conv1d_1/Squeeze) shape_signature:[-1, 300, 4], type:INT8\n",
            "  T#48(functional_1/conv1d_1_2/convolution/SpaceToBatchND) shape_signature:[-1, 154, 4], type:INT8\n",
            "  T#49(functional_1/conv1d_1_2/convolution/ExpandDims) shape_signature:[-1, 1, 154, 4], type:INT8\n",
            "  T#50(functional_1/conv1d_1_2/convolution) shape_signature:[-1, 1, 150, 4], type:INT8\n",
            "  T#51(functional_1/conv1d_1_2/convolution/Squeeze) shape_signature:[-1, 150, 4], type:INT8\n",
            "  T#52(functional_1/conv1d_1_2/convolution/BatchToSpaceND) shape_signature:[-1, 300, 4], type:INT8\n",
            "  T#53(functional_1/conv1d_1_2/Relu;functional_1/conv1d_1_2/BiasAdd) shape_signature:[-1, 300, 4], type:INT8\n",
            "  T#54(functional_1/conv1d_2_1/convolution/ExpandDims) shape_signature:[-1, 1, 300, 4], type:INT8\n",
            "  T#55(functional_1/conv1d_2_1/Relu;functional_1/conv1d_2_1/BiasAdd;functional_1/conv1d_2_1/convolution/Squeeze;functional_1/conv1d_2_1/Squeeze;functional_1/conv1d_2_1/convolution) shape_signature:[-1, 1, 300, 16], type:INT8\n",
            "  T#56(functional_1/batch_normalization_1_2/batchnorm/mul_1;functional_1/conv1d_2_1/convolution/Squeeze;functional_1/conv1d_2_1/Relu;functional_1/conv1d_2_1/BiasAdd;functional_1/conv1d_2_1/Squeeze;functional_1/batch_normalization_1_2/batchnorm/mul) shape_signature:[-1, 1, 300, 16], type:INT8\n",
            "  T#57(functional_1/batch_normalization_1_2/batchnorm/add_1;functional_1/conv1d_2_1/convolution/Squeeze;functional_1/batch_normalization_1_2/batchnorm/mul_1;functional_1/conv1d_2_1/Relu;functional_1/conv1d_2_1/BiasAdd;functional_1/conv1d_2_1/Squeeze;functional_1/batch_normalization_1_2/batchnorm/mul;functional_1/batch_normalization_1_2/batchnorm/sub) shape_signature:[-1, 1, 300, 16], type:INT8\n",
            "  T#58(functional_1/batch_normalization_1_2/batchnorm/add_1;functional_1/conv1d_2_1/convolution/Squeeze;functional_1/batch_normalization_1_2/batchnorm/mul_1;functional_1/conv1d_2_1/Relu;functional_1/conv1d_2_1/BiasAdd;functional_1/conv1d_2_1/Squeeze;functional_1/batch_normalization_1_2/batchnorm/mul;functional_1/batch_normalization_1_2/batchnorm/sub1) shape_signature:[-1, 300, 16], type:INT8\n",
            "  T#59(functional_1/max_pooling1d_1_2/MaxPool1d/ExpandDims) shape_signature:[-1, 1, 300, 16], type:INT8\n",
            "  T#60(functional_1/max_pooling1d_1_2/MaxPool1d) shape_signature:[-1, 1, 150, 16], type:INT8\n",
            "  T#61(functional_1/max_pooling1d_1_2/MaxPool1d/Squeeze) shape_signature:[-1, 150, 16], type:INT8\n",
            "  T#62(functional_1/conv1d_3_1/convolution/ExpandDims) shape_signature:[-1, 1, 150, 16], type:INT8\n",
            "  T#63(functional_1/re_lu_1/Relu;functional_1/batch_normalization_2_1/batchnorm/add_1;functional_1/conv1d_3_1/convolution/Squeeze;functional_1/batch_normalization_2_1/batchnorm/mul_1;functional_1/conv1d_3_1/BiasAdd;functional_1/conv1d_3_1/Squeeze;functional_1/batch_normalization_2_1/batchnorm/mul;functional_1/batch_normalization_2_1/batchnorm/sub;functional_1/conv1d_3_1/convolution) shape_signature:[-1, 1, 150, 16], type:INT8\n",
            "  T#64(functional_1/re_lu_1/Relu;functional_1/batch_normalization_2_1/batchnorm/add_1;functional_1/conv1d_3_1/convolution/Squeeze;functional_1/batch_normalization_2_1/batchnorm/mul_1;functional_1/conv1d_3_1/BiasAdd;functional_1/conv1d_3_1/Squeeze;functional_1/batch_normalization_2_1/batchnorm/mul;functional_1/batch_normalization_2_1/batchnorm/sub) shape_signature:[-1, 150, 16], type:INT8\n",
            "  T#65(functional_1/conv1d_4_1/convolution/ExpandDims) shape_signature:[-1, 1, 150, 16], type:INT8\n",
            "  T#66(functional_1/batch_normalization_3_1/batchnorm/add_1;functional_1/conv1d_4_1/convolution/Squeeze;functional_1/batch_normalization_3_1/batchnorm/mul_1;functional_1/conv1d_4_1/BiasAdd;functional_1/conv1d_4_1/Squeeze;functional_1/batch_normalization_3_1/batchnorm/mul;functional_1/batch_normalization_3_1/batchnorm/sub;functional_1/conv1d_4_1/convolution) shape_signature:[-1, 1, 150, 16], type:INT8\n",
            "  T#67(functional_1/batch_normalization_3_1/batchnorm/add_1;functional_1/conv1d_4_1/convolution/Squeeze;functional_1/batch_normalization_3_1/batchnorm/mul_1;functional_1/conv1d_4_1/BiasAdd;functional_1/conv1d_4_1/Squeeze;functional_1/batch_normalization_3_1/batchnorm/mul;functional_1/batch_normalization_3_1/batchnorm/sub) shape_signature:[-1, 150, 16], type:INT8\n",
            "  T#68(functional_1/re_lu_1_2/Relu;functional_1/add_1/Add) shape_signature:[-1, 150, 16], type:INT8\n",
            "  T#69(functional_1/max_pooling1d_2_1/MaxPool1d/ExpandDims) shape_signature:[-1, 1, 150, 16], type:INT8\n",
            "  T#70(functional_1/max_pooling1d_2_1/MaxPool1d) shape_signature:[-1, 1, 75, 16], type:INT8\n",
            "  T#71(functional_1/flatten_1/Reshape) shape_signature:[-1, 1200], type:INT8\n",
            "  T#72(functional_1/dense_1/MatMul;functional_1/dense_1/Relu;functional_1/dense_1/BiasAdd) shape_signature:[-1, 16], type:INT8\n",
            "  T#73(functional_1/y_pred_1/MatMul;functional_1/y_pred_1/BiasAdd) shape_signature:[-1, 4], type:INT8\n",
            "  T#74(StatefulPartitionedCall_1:0) shape_signature:[-1, 4], type:INT8\n",
            "\n",
            "---------------------------------------------------------------\n",
            "Your TFLite model has '1' signature_def(s).\n",
            "\n",
            "Signature#0 key: 'serving_default'\n",
            "- Subgraph: Subgraph#0\n",
            "- Inputs: \n",
            "    'keras_tensor_41' : T#0\n",
            "- Outputs: \n",
            "    'output_0' : T#74\n",
            "\n",
            "---------------------------------------------------------------\n",
            "              Model size:      40104 bytes\n",
            "    Non-data buffer size:      18487 bytes (46.10 %)\n",
            "  Total data buffer size:      21617 bytes (53.90 %)\n",
            "    (Zero value buffers):         44 bytes (00.11 %)\n",
            "\n",
            "* Buffers of TFLite model are mostly used for constant tensors.\n",
            "  And zero value buffers are buffers filled with zeros.\n",
            "  Non-data buffers area are used to store operators, subgraphs and etc.\n",
            "  You can find more details from https://github.com/tensorflow/tensorflow/blob/master/tensorflow/lite/schema/schema.fbs\n",
            "\n"
          ]
        }
      ],
      "source": [
        "tf.lite.experimental.Analyzer.analyze(model_content=quantized_tflite_model)"
      ]
    },
    {
      "cell_type": "markdown",
      "metadata": {
        "id": "qTKZxJ3rhUJt"
      },
      "source": [
        "# Lab 3: Deployment\n",
        "\n",
        "Now, that you have designed and trained a quantized model, it is time to deploy it.\n",
        "\n",
        "### Model Export - Library Creation\n",
        "\n",
        "Up until now we created different models that we can test and evaluate using Python. However, most microcontrollers don't speak Python. Instead they work with C/C++ and thus we need a C(++) library of the models to execute it. Here you explore different ways to export your models to a C(++) library."
      ]
    },
    {
      "cell_type": "markdown",
      "metadata": {
        "id": "H1g9ML1lhUJt"
      },
      "source": [
        "#### Manual conversion of the model\n",
        "\n",
        "---\n",
        "**Task 21:** Convert your best performing quantized model to a C++ library with the code below and explain the content of the two resulting files.\n",
        "\n",
        "**Answer:** ...\n",
        "\n",
        "---"
      ]
    },
    {
      "cell_type": "code",
      "execution_count": null,
      "metadata": {
        "id": "vMOsoVzQhUJt"
      },
      "outputs": [],
      "source": [
        "!apt-get update && apt-get -qq install xxd"
      ]
    },
    {
      "cell_type": "code",
      "execution_count": 190,
      "metadata": {
        "id": "ET_vBchFhUJt"
      },
      "outputs": [],
      "source": [
        "MODEL_TFLITE = f'{export_base_path}-quantized.tflite' #enter the name of your TFlite file uploaded to the folders section\n",
        "MODEL_TFLITE_MICRO = f'{export_base_path}-quantized.cc' #update the name of your .cc file (This can be anything)\n",
        "# MODEL_TFLITE = f'./models/ei-model.lite' #enter the name of your TFlite file uploaded to the folders section\n",
        "# MODEL_TFLITE_MICRO = f'./models/ei-model.cc' #update the name of your .cc file (This can be anything)\n",
        "!xxd -i {MODEL_TFLITE} > {MODEL_TFLITE_MICRO}\n",
        "REPLACE_TEXT = MODEL_TFLITE.replace('/', '_').replace('.', '_')\n",
        "!sed -i '' \"s|{REPLACE_TEXT}|g_model|g\" \"{MODEL_TFLITE_MICRO}\""
      ]
    },
    {
      "cell_type": "code",
      "execution_count": 191,
      "metadata": {
        "id": "t4Y36iCBhUJt"
      },
      "outputs": [],
      "source": [
        "LIBRARY_NAME = 'gesture_model'\n",
        "max_label_str_length = max([len(lbl) for lbl in labels]) + 1\n",
        "\n",
        "model_str = f\"alignas(16) const unsigned char {LIBRARY_NAME}[] = \"\n",
        "with open(MODEL_TFLITE_MICRO, 'r') as file:\n",
        "    data = file.read();\n",
        "    model_str += data[data.index(\"{\"): len(data)].replace(\"unsigned\", \"const\")\n",
        "\n",
        "labels_str = f\"const char available_classes[][{max_label_str_length}] = {{\"\n",
        "for i in range(0, len(labels)):\n",
        "    if i != 0:\n",
        "        labels_str += \", \"\n",
        "    labels_str += \"\\\"\"+labels[i]+\"\\\"\"\n",
        "labels_str += \"};\"\n",
        "\n",
        "output_str = f\"#include \\\"{LIBRARY_NAME}.h\\\"\\n\"\n",
        "output_str += labels_str + \"\\n\"\n",
        "output_str += \"const int available_classes_num = \"+str(len(labels)) +\";\\n\"\n",
        "output_str += model_str\n",
        "\n",
        "with open(f\"lab_3/inference/{LIBRARY_NAME}.cc\", \"w\") as file:\n",
        "    file.write(output_str)\n",
        "\n",
        "header_str = \"#ifndef TENSORFLOW_LITE_MODEL_H_\\n#define TENSORFLOW_LITE_MODEL_H_\\n\\n\"\n",
        "header_str += \"// Classes that can be detected by the neural network\\n\"\n",
        "header_str += f\"extern const char available_classes[][{max_label_str_length}];\\n\"\n",
        "header_str += \"extern const int available_classes_num;\\n\\n\"\n",
        "header_str += \"// Pre-trained netural network\\n\"\n",
        "header_str += f\"extern const unsigned char {LIBRARY_NAME}[];\\n\"\n",
        "header_str += f\"extern const int {LIBRARY_NAME}_len;\\n\\n\"\n",
        "header_str += \"#endif /* TENSORFLOW_LITE_MODEL_H_ */\"\n",
        "\n",
        "with open(f\"lab_3/inference/{LIBRARY_NAME}.h\", \"w\") as file:\n",
        "    file.write(header_str)\n"
      ]
    },
    {
      "cell_type": "markdown",
      "metadata": {
        "id": "9W2nbZFdhUJt"
      },
      "source": [
        "Next you will use your library in an Arduino program to (or if you prefer, in a Zephyr program) and execute the [inference on a microcontroller](https://ai.google.dev/edge/litert/microcontrollers/get_started). I strongly recommend you to use [this](https://docs.arduino.cc/tutorials/nano-33-ble-sense/get-started-with-machine-learning) Arduino example as a starting point to write the code. (If you prefer to use Zephyr, have a look at [this](https://docs.zephyrproject.org/latest/samples/modules/tflite-micro/hello_world/README.html#tflite-hello-world) repository.)\n",
        "\n",
        "---\n",
        "**Task 22:** Write an Arduino (or Zephyr) program that records and uses a movement as input, classifies the gesture and reports the result back to you through the serial interface. For this, please do not forget to spend some time in the tutorials linked in the text block above.\n",
        "\n",
        "**Task 23:** Upload the program to the Arduino and compare the real memory usage with the Edge Impulse estimate. Was the estimate correct? How much does it differ?\n",
        "\n",
        "**Task 24:** Extend your Arduino program and measure the inference time on the Arduino. Was the estimate correct?\n",
        "\n",
        "**Answer:**\n",
        "\n",
        "![edge_impulse](./edge_impulse_resource_usage.png)\n",
        "\n",
        "\n",
        "```[bash]\n",
        "# With quantized model:\n",
        "Sketch uses 395640 bytes (40%) of program storage space. Maximum is 983040 bytes.\n",
        "# empty model\n",
        "Sketch uses 341184 bytes (34%) of program storage space. Maximum is 983040 bytes.\n",
        "\n",
        "# Arena with 16 * 1024\n",
        "Global variables use 68240 bytes (26%) of dynamic memory, leaving 193904 bytes for local variables. Maximum is 262144 bytes.\n",
        "# With empty arena\n",
        "Global variables use 51856 bytes (19%) of dynamic memory, leaving 210288 bytes for local variables. Maximum is 262144 bytes.\n",
        "```\n",
        "\n",
        "|  | flash (KB) | SRAM (KB) | inference (ms) |\n",
        "| - | - | - | - |\n",
        "| edge | 150 | 30 | 78 |\n",
        "| local | 54 | 16 | 107 |\n",
        "| delta | 96 | 14 | -29 |\n",
        "\n",
        "\n",
        "\n",
        "**Task 25:** Perform inference for at least 20 gestures and plot statistics (e.g., bar plot (mean) with error bar (standard deviation)) for the inference time. Does it vary? Why or why not?\n",
        "\n",
        "**Answer:**\n",
        "\n",
        "Only varies between 106 - 107ms\n",
        "\n",
        "---"
      ]
    },
    {
      "cell_type": "markdown",
      "metadata": {
        "id": "Bb4Izz25hUJu"
      },
      "source": [
        "### Model conversion and library creation with Edge Impulse\n",
        "\n",
        "In the last lab, you trained a model with Edge Impulse. Now we want to continue with that model and compare its on-device performance with your locally trained model.\n",
        "\n",
        "---\n",
        "**Task 26:** Head to your dashboard of the project of lab 1 and download the quantized models of your classifiers. Head to [https://netron.app/](https://netron.app/) and open your models with it. Click on the input or output layer and take a look at the quantization equations. Are the quantization equations the same for each of your classifiers? Why (not)?\n",
        "\n",
        "#### Edge Impulse Model\n",
        "\n",
        "![edge-impulse-model](./lab3_edge_impulse_model.png)\n",
        "\n",
        "#### Own model\n",
        "\n",
        "![own-model](./lab3_own_model.png)\n",
        "\n",
        "\n",
        "**Task 27:** Build two Arduino Libraries for your best performing model – one with enabling the EON Compiler and one without. (You might have to create an impulse containing only a single model.) For both libraries, use the quantized version. What is the EON Compiler, and why is the memory usage so different between the two libraries? Compare the models included in the two libraries (in `src > tflite-model`). How do they differ? What makes one of them smaller?\n",
        "\n",
        "**Answer**: The EON compiled model already includes inlined tensor definitions. Instead of a char array the tensors already have their int representation saving significant space.\n",
        "\n",
        "```\n",
        "ls -lah arduino_lib_tflite/src/tflite-model\n",
        "-rw-r--r--@ 1 ture  staff   1.7K May 25 13:32 tflite_learn_321.cpp\n",
        "-rw-r--r--@ 1 ture  staff   624K May 25 13:32 tflite_learn_321.h\n",
        "-rw-r--r--@ 1 ture  staff   1.6K May 25 13:32 tflite-resolver.h\n",
        "-rw-r--r--@ 1 ture  staff   1.2K May 25 13:32 trained_model_ops_define.h\n",
        "\n",
        "ls -lah arduino_lib_eon/src/tflite-model\n",
        "-rw-r--r--@ 1 ture  staff   421K May 25 13:35 tflite_learn_321_compiled.cpp\n",
        "-rw-r--r--@ 1 ture  staff   2.6K May 25 13:35 tflite_learn_321_compiled.h\n",
        "-rw-r--r--@ 1 ture  staff   4.8K May 25 13:35 trained_model_ops_define.h\n",
        "\n",
        "ls -lah ~/Downloads/campfireman-project-1_inferencing\\ 3/src/tflite-model \n",
        "-rw-r--r--@ 1 ture  staff   1.7K Jun  3 20:09 tflite-resolver.h\n",
        "-rw-r--r--@ 1 ture  staff   1.7K Jun  3 20:09 tflite_learn_326.cpp\n",
        "-rw-r--r--@ 1 ture  staff   331K Jun  3 20:09 tflite_learn_326.h\n",
        "-rw-r--r--@ 1 ture  staff   1.2K Jun  3 20:09 trained_model_ops_define.h\n",
        "```\n",
        "\n",
        "**Task 28:** Include the libraries into your Arduino IDE (`Add .ZIP Library...`). Open the accelerometer example that comes with your library and flash it to your board. Open a serial monitor. Explain the Arduino program and the output of the serial monitor. Also, why is there a reference to numpy in the Arduino program? How is that possible in C++? Evaluate how well and how fast the classification works for each of your motions. Is there a difference in performance between the two Arduino libraries?\n",
        "\n",
        "**Answer:** The classification for both models works as expected. In our testing routine no difference could be detected. The EON version is on average 20ms faster and consumes 3% less program memory.\n",
        "\n",
        "The numpy header is part of the EdgeImpulse SDK’s embedded-DSP support. It exposes a collection of static, NumPy-like routines for operating on raw arrays and small matrices.\n",
        "\n",
        "#### TFLite\n",
        "\n",
        "```\n",
        "Sketch uses 290744 bytes (29%) of program storage space. Maximum is 983040 bytes.\n",
        "Global variables use 47656 bytes (18%) of dynamic memory, leaving 214488 bytes for local variables. Maximum is 262144 bytes.\n",
        "\n",
        "Starting inferencing in 2 seconds...\n",
        "Sampling...\n",
        "Predictions (DSP: 0 ms., Classification: 454 ms., Anomaly: 0 ms.): \n",
        "    circle: 0.00000\n",
        "    idle: 0.96094\n",
        "    left-right: 0.03906\n",
        "    up-down: 0.00000\n",
        "```\n",
        "\n",
        "#### EON\n",
        "\n",
        "```\n",
        "Sketch uses 260496 bytes (26%) of program storage space. Maximum is 983040 bytes.\n",
        "Global variables use 50560 bytes (19%) of dynamic memory, leaving 211584 bytes for local variables. Maximum is 262144 bytes.\n",
        "\n",
        "Starting inferencing in 2 seconds...\n",
        "Sampling...\n",
        "Predictions (DSP: 0 ms., Classification: 438 ms., Anomaly: 0 ms.): \n",
        "    circle: 0.00000\n",
        "    idle: 0.96094\n",
        "    left-right: 0.03906\n",
        "    up-down: 0.00000\n",
        "```\n",
        "\n",
        "**Task 29:** Compare the memory usage and performance of the two Edge Impulse models with your locally trained model. How do they compare? Please create plots.\n",
        "\n",
        "**Answer:** \n",
        "\n",
        "|  | flash (KB) | SRAM (KB) | inference (ms) |\n",
        "| - | - | - | - |\n",
        "| edge-tf | 290744 | 47656 | 454 |\n",
        "| edge-eon | 260496 | 50560 | 438 |\n",
        "| local |  | 68240 | 107 |\n",
        "\n",
        "**Task 30 (optional):** You can also create an Arduino library with your locally trained model. Explore how to use Edge Impulse to [create a library](https://docs.edgeimpulse.com/docs/tools/edge-impulse-python-sdk) to deploy your local model. First, check the available target devices for deployment (`ei.model.list_deployment_targets()`) and find the correct Arduino corresponding to your hardware. Create an Arduino Library with Edge Impulse and compare its performance with the libraries above.\n",
        "\n",
        "---"
      ]
    }
  ],
  "metadata": {
    "accelerator": "GPU",
    "colab": {
      "gpuType": "T4",
      "provenance": []
    },
    "kernelspec": {
      "display_name": "env",
      "language": "python",
      "name": "python3"
    },
    "language_info": {
      "codemirror_mode": {
        "name": "ipython",
        "version": 3
      },
      "file_extension": ".py",
      "mimetype": "text/x-python",
      "name": "python",
      "nbconvert_exporter": "python",
      "pygments_lexer": "ipython3",
      "version": "3.11.12"
    }
  },
  "nbformat": 4,
  "nbformat_minor": 0
}
